{
 "cells": [
  {
   "cell_type": "code",
   "execution_count": 1,
   "metadata": {},
   "outputs": [],
   "source": [
    "import pandas as pd\n",
    "import numpy as np"
   ]
  },
  {
   "cell_type": "code",
   "execution_count": 2,
   "metadata": {},
   "outputs": [
    {
     "name": "stdout",
     "output_type": "stream",
     "text": [
      "/Users/mdsajidhussain/Documents/Online Sessions/Python & Tableau\r\n"
     ]
    }
   ],
   "source": [
    "!pwd"
   ]
  },
  {
   "cell_type": "code",
   "execution_count": 3,
   "metadata": {},
   "outputs": [],
   "source": [
    "df = pd.read_csv('/Users/mdsajidhussain/Downloads/covid_19_india.csv')"
   ]
  },
  {
   "cell_type": "code",
   "execution_count": 4,
   "metadata": {},
   "outputs": [
    {
     "data": {
      "text/html": [
       "<div>\n",
       "<style scoped>\n",
       "    .dataframe tbody tr th:only-of-type {\n",
       "        vertical-align: middle;\n",
       "    }\n",
       "\n",
       "    .dataframe tbody tr th {\n",
       "        vertical-align: top;\n",
       "    }\n",
       "\n",
       "    .dataframe thead th {\n",
       "        text-align: right;\n",
       "    }\n",
       "</style>\n",
       "<table border=\"1\" class=\"dataframe\">\n",
       "  <thead>\n",
       "    <tr style=\"text-align: right;\">\n",
       "      <th></th>\n",
       "      <th>Sno</th>\n",
       "      <th>Date</th>\n",
       "      <th>Time</th>\n",
       "      <th>State/UnionTerritory</th>\n",
       "      <th>ConfirmedIndianNational</th>\n",
       "      <th>ConfirmedForeignNational</th>\n",
       "      <th>Cured</th>\n",
       "      <th>Deaths</th>\n",
       "      <th>Confirmed</th>\n",
       "    </tr>\n",
       "  </thead>\n",
       "  <tbody>\n",
       "    <tr>\n",
       "      <th>3202</th>\n",
       "      <td>3203</td>\n",
       "      <td>19/06/20</td>\n",
       "      <td>8:00 AM</td>\n",
       "      <td>Tripura</td>\n",
       "      <td>-</td>\n",
       "      <td>-</td>\n",
       "      <td>639</td>\n",
       "      <td>1</td>\n",
       "      <td>1155</td>\n",
       "    </tr>\n",
       "    <tr>\n",
       "      <th>3203</th>\n",
       "      <td>3204</td>\n",
       "      <td>19/06/20</td>\n",
       "      <td>8:00 AM</td>\n",
       "      <td>Uttarakhand</td>\n",
       "      <td>-</td>\n",
       "      <td>-</td>\n",
       "      <td>1386</td>\n",
       "      <td>26</td>\n",
       "      <td>2102</td>\n",
       "    </tr>\n",
       "    <tr>\n",
       "      <th>3204</th>\n",
       "      <td>3205</td>\n",
       "      <td>19/06/20</td>\n",
       "      <td>8:00 AM</td>\n",
       "      <td>Uttar Pradesh</td>\n",
       "      <td>-</td>\n",
       "      <td>-</td>\n",
       "      <td>9239</td>\n",
       "      <td>465</td>\n",
       "      <td>15181</td>\n",
       "    </tr>\n",
       "    <tr>\n",
       "      <th>3205</th>\n",
       "      <td>3206</td>\n",
       "      <td>19/06/20</td>\n",
       "      <td>8:00 AM</td>\n",
       "      <td>West Bengal</td>\n",
       "      <td>-</td>\n",
       "      <td>-</td>\n",
       "      <td>7001</td>\n",
       "      <td>518</td>\n",
       "      <td>12735</td>\n",
       "    </tr>\n",
       "    <tr>\n",
       "      <th>3206</th>\n",
       "      <td>3207</td>\n",
       "      <td>19/06/20</td>\n",
       "      <td>8:00 AM</td>\n",
       "      <td>Cases being reassigned to states</td>\n",
       "      <td>-</td>\n",
       "      <td>-</td>\n",
       "      <td>0</td>\n",
       "      <td>0</td>\n",
       "      <td>8927</td>\n",
       "    </tr>\n",
       "  </tbody>\n",
       "</table>\n",
       "</div>"
      ],
      "text/plain": [
       "       Sno      Date     Time              State/UnionTerritory  \\\n",
       "3202  3203  19/06/20  8:00 AM                           Tripura   \n",
       "3203  3204  19/06/20  8:00 AM                       Uttarakhand   \n",
       "3204  3205  19/06/20  8:00 AM                     Uttar Pradesh   \n",
       "3205  3206  19/06/20  8:00 AM                       West Bengal   \n",
       "3206  3207  19/06/20  8:00 AM  Cases being reassigned to states   \n",
       "\n",
       "     ConfirmedIndianNational ConfirmedForeignNational  Cured  Deaths  \\\n",
       "3202                       -                        -    639       1   \n",
       "3203                       -                        -   1386      26   \n",
       "3204                       -                        -   9239     465   \n",
       "3205                       -                        -   7001     518   \n",
       "3206                       -                        -      0       0   \n",
       "\n",
       "      Confirmed  \n",
       "3202       1155  \n",
       "3203       2102  \n",
       "3204      15181  \n",
       "3205      12735  \n",
       "3206       8927  "
      ]
     },
     "execution_count": 4,
     "metadata": {},
     "output_type": "execute_result"
    }
   ],
   "source": [
    "df.tail()"
   ]
  },
  {
   "cell_type": "code",
   "execution_count": 7,
   "metadata": {},
   "outputs": [
    {
     "data": {
      "text/html": [
       "<div>\n",
       "<style scoped>\n",
       "    .dataframe tbody tr th:only-of-type {\n",
       "        vertical-align: middle;\n",
       "    }\n",
       "\n",
       "    .dataframe tbody tr th {\n",
       "        vertical-align: top;\n",
       "    }\n",
       "\n",
       "    .dataframe thead th {\n",
       "        text-align: right;\n",
       "    }\n",
       "</style>\n",
       "<table border=\"1\" class=\"dataframe\">\n",
       "  <thead>\n",
       "    <tr style=\"text-align: right;\">\n",
       "      <th></th>\n",
       "      <th>Sno</th>\n",
       "      <th>Date</th>\n",
       "      <th>Time</th>\n",
       "      <th>State/UnionTerritory</th>\n",
       "      <th>ConfirmedIndianNational</th>\n",
       "      <th>ConfirmedForeignNational</th>\n",
       "      <th>Cured</th>\n",
       "      <th>Deaths</th>\n",
       "      <th>Confirmed</th>\n",
       "    </tr>\n",
       "  </thead>\n",
       "  <tbody>\n",
       "    <tr>\n",
       "      <th>0</th>\n",
       "      <td>1</td>\n",
       "      <td>30/01/20</td>\n",
       "      <td>6:00 PM</td>\n",
       "      <td>Kerala</td>\n",
       "      <td>1</td>\n",
       "      <td>0</td>\n",
       "      <td>0</td>\n",
       "      <td>0</td>\n",
       "      <td>1</td>\n",
       "    </tr>\n",
       "    <tr>\n",
       "      <th>1</th>\n",
       "      <td>2</td>\n",
       "      <td>31/01/20</td>\n",
       "      <td>6:00 PM</td>\n",
       "      <td>Kerala</td>\n",
       "      <td>1</td>\n",
       "      <td>0</td>\n",
       "      <td>0</td>\n",
       "      <td>0</td>\n",
       "      <td>1</td>\n",
       "    </tr>\n",
       "    <tr>\n",
       "      <th>2</th>\n",
       "      <td>3</td>\n",
       "      <td>01/02/20</td>\n",
       "      <td>6:00 PM</td>\n",
       "      <td>Kerala</td>\n",
       "      <td>2</td>\n",
       "      <td>0</td>\n",
       "      <td>0</td>\n",
       "      <td>0</td>\n",
       "      <td>2</td>\n",
       "    </tr>\n",
       "    <tr>\n",
       "      <th>3</th>\n",
       "      <td>4</td>\n",
       "      <td>02/02/20</td>\n",
       "      <td>6:00 PM</td>\n",
       "      <td>Kerala</td>\n",
       "      <td>3</td>\n",
       "      <td>0</td>\n",
       "      <td>0</td>\n",
       "      <td>0</td>\n",
       "      <td>3</td>\n",
       "    </tr>\n",
       "    <tr>\n",
       "      <th>4</th>\n",
       "      <td>5</td>\n",
       "      <td>03/02/20</td>\n",
       "      <td>6:00 PM</td>\n",
       "      <td>Kerala</td>\n",
       "      <td>3</td>\n",
       "      <td>0</td>\n",
       "      <td>0</td>\n",
       "      <td>0</td>\n",
       "      <td>3</td>\n",
       "    </tr>\n",
       "  </tbody>\n",
       "</table>\n",
       "</div>"
      ],
      "text/plain": [
       "   Sno      Date     Time State/UnionTerritory ConfirmedIndianNational  \\\n",
       "0    1  30/01/20  6:00 PM               Kerala                       1   \n",
       "1    2  31/01/20  6:00 PM               Kerala                       1   \n",
       "2    3  01/02/20  6:00 PM               Kerala                       2   \n",
       "3    4  02/02/20  6:00 PM               Kerala                       3   \n",
       "4    5  03/02/20  6:00 PM               Kerala                       3   \n",
       "\n",
       "  ConfirmedForeignNational  Cured  Deaths  Confirmed  \n",
       "0                        0      0       0          1  \n",
       "1                        0      0       0          1  \n",
       "2                        0      0       0          2  \n",
       "3                        0      0       0          3  \n",
       "4                        0      0       0          3  "
      ]
     },
     "execution_count": 7,
     "metadata": {},
     "output_type": "execute_result"
    }
   ],
   "source": [
    "df.head()"
   ]
  },
  {
   "cell_type": "code",
   "execution_count": 8,
   "metadata": {},
   "outputs": [
    {
     "data": {
      "text/plain": [
       "pandas.core.frame.DataFrame"
      ]
     },
     "execution_count": 8,
     "metadata": {},
     "output_type": "execute_result"
    }
   ],
   "source": [
    "type(df)"
   ]
  },
  {
   "cell_type": "code",
   "execution_count": 9,
   "metadata": {},
   "outputs": [
    {
     "data": {
      "text/html": [
       "<div>\n",
       "<style scoped>\n",
       "    .dataframe tbody tr th:only-of-type {\n",
       "        vertical-align: middle;\n",
       "    }\n",
       "\n",
       "    .dataframe tbody tr th {\n",
       "        vertical-align: top;\n",
       "    }\n",
       "\n",
       "    .dataframe thead th {\n",
       "        text-align: right;\n",
       "    }\n",
       "</style>\n",
       "<table border=\"1\" class=\"dataframe\">\n",
       "  <thead>\n",
       "    <tr style=\"text-align: right;\">\n",
       "      <th></th>\n",
       "      <th>Sno</th>\n",
       "      <th>Date</th>\n",
       "      <th>Time</th>\n",
       "      <th>State/UnionTerritory</th>\n",
       "      <th>ConfirmedIndianNational</th>\n",
       "      <th>ConfirmedForeignNational</th>\n",
       "      <th>Cured</th>\n",
       "      <th>Deaths</th>\n",
       "      <th>Confirmed</th>\n",
       "    </tr>\n",
       "  </thead>\n",
       "  <tbody>\n",
       "    <tr>\n",
       "      <th>3197</th>\n",
       "      <td>3198</td>\n",
       "      <td>19/06/20</td>\n",
       "      <td>8:00 AM</td>\n",
       "      <td>Punjab</td>\n",
       "      <td>-</td>\n",
       "      <td>-</td>\n",
       "      <td>2570</td>\n",
       "      <td>83</td>\n",
       "      <td>3615</td>\n",
       "    </tr>\n",
       "    <tr>\n",
       "      <th>3198</th>\n",
       "      <td>3199</td>\n",
       "      <td>19/06/20</td>\n",
       "      <td>8:00 AM</td>\n",
       "      <td>Rajasthan</td>\n",
       "      <td>-</td>\n",
       "      <td>-</td>\n",
       "      <td>10742</td>\n",
       "      <td>323</td>\n",
       "      <td>13857</td>\n",
       "    </tr>\n",
       "    <tr>\n",
       "      <th>3199</th>\n",
       "      <td>3200</td>\n",
       "      <td>19/06/20</td>\n",
       "      <td>8:00 AM</td>\n",
       "      <td>Sikkim</td>\n",
       "      <td>-</td>\n",
       "      <td>-</td>\n",
       "      <td>5</td>\n",
       "      <td>0</td>\n",
       "      <td>70</td>\n",
       "    </tr>\n",
       "    <tr>\n",
       "      <th>3200</th>\n",
       "      <td>3201</td>\n",
       "      <td>19/06/20</td>\n",
       "      <td>8:00 AM</td>\n",
       "      <td>Tamil Nadu</td>\n",
       "      <td>-</td>\n",
       "      <td>-</td>\n",
       "      <td>28641</td>\n",
       "      <td>625</td>\n",
       "      <td>52334</td>\n",
       "    </tr>\n",
       "    <tr>\n",
       "      <th>3201</th>\n",
       "      <td>3202</td>\n",
       "      <td>19/06/20</td>\n",
       "      <td>8:00 AM</td>\n",
       "      <td>Telangana</td>\n",
       "      <td>-</td>\n",
       "      <td>-</td>\n",
       "      <td>3301</td>\n",
       "      <td>195</td>\n",
       "      <td>6027</td>\n",
       "    </tr>\n",
       "    <tr>\n",
       "      <th>3202</th>\n",
       "      <td>3203</td>\n",
       "      <td>19/06/20</td>\n",
       "      <td>8:00 AM</td>\n",
       "      <td>Tripura</td>\n",
       "      <td>-</td>\n",
       "      <td>-</td>\n",
       "      <td>639</td>\n",
       "      <td>1</td>\n",
       "      <td>1155</td>\n",
       "    </tr>\n",
       "    <tr>\n",
       "      <th>3203</th>\n",
       "      <td>3204</td>\n",
       "      <td>19/06/20</td>\n",
       "      <td>8:00 AM</td>\n",
       "      <td>Uttarakhand</td>\n",
       "      <td>-</td>\n",
       "      <td>-</td>\n",
       "      <td>1386</td>\n",
       "      <td>26</td>\n",
       "      <td>2102</td>\n",
       "    </tr>\n",
       "    <tr>\n",
       "      <th>3204</th>\n",
       "      <td>3205</td>\n",
       "      <td>19/06/20</td>\n",
       "      <td>8:00 AM</td>\n",
       "      <td>Uttar Pradesh</td>\n",
       "      <td>-</td>\n",
       "      <td>-</td>\n",
       "      <td>9239</td>\n",
       "      <td>465</td>\n",
       "      <td>15181</td>\n",
       "    </tr>\n",
       "    <tr>\n",
       "      <th>3205</th>\n",
       "      <td>3206</td>\n",
       "      <td>19/06/20</td>\n",
       "      <td>8:00 AM</td>\n",
       "      <td>West Bengal</td>\n",
       "      <td>-</td>\n",
       "      <td>-</td>\n",
       "      <td>7001</td>\n",
       "      <td>518</td>\n",
       "      <td>12735</td>\n",
       "    </tr>\n",
       "    <tr>\n",
       "      <th>3206</th>\n",
       "      <td>3207</td>\n",
       "      <td>19/06/20</td>\n",
       "      <td>8:00 AM</td>\n",
       "      <td>Cases being reassigned to states</td>\n",
       "      <td>-</td>\n",
       "      <td>-</td>\n",
       "      <td>0</td>\n",
       "      <td>0</td>\n",
       "      <td>8927</td>\n",
       "    </tr>\n",
       "  </tbody>\n",
       "</table>\n",
       "</div>"
      ],
      "text/plain": [
       "       Sno      Date     Time              State/UnionTerritory  \\\n",
       "3197  3198  19/06/20  8:00 AM                            Punjab   \n",
       "3198  3199  19/06/20  8:00 AM                         Rajasthan   \n",
       "3199  3200  19/06/20  8:00 AM                            Sikkim   \n",
       "3200  3201  19/06/20  8:00 AM                        Tamil Nadu   \n",
       "3201  3202  19/06/20  8:00 AM                         Telangana   \n",
       "3202  3203  19/06/20  8:00 AM                           Tripura   \n",
       "3203  3204  19/06/20  8:00 AM                       Uttarakhand   \n",
       "3204  3205  19/06/20  8:00 AM                     Uttar Pradesh   \n",
       "3205  3206  19/06/20  8:00 AM                       West Bengal   \n",
       "3206  3207  19/06/20  8:00 AM  Cases being reassigned to states   \n",
       "\n",
       "     ConfirmedIndianNational ConfirmedForeignNational  Cured  Deaths  \\\n",
       "3197                       -                        -   2570      83   \n",
       "3198                       -                        -  10742     323   \n",
       "3199                       -                        -      5       0   \n",
       "3200                       -                        -  28641     625   \n",
       "3201                       -                        -   3301     195   \n",
       "3202                       -                        -    639       1   \n",
       "3203                       -                        -   1386      26   \n",
       "3204                       -                        -   9239     465   \n",
       "3205                       -                        -   7001     518   \n",
       "3206                       -                        -      0       0   \n",
       "\n",
       "      Confirmed  \n",
       "3197       3615  \n",
       "3198      13857  \n",
       "3199         70  \n",
       "3200      52334  \n",
       "3201       6027  \n",
       "3202       1155  \n",
       "3203       2102  \n",
       "3204      15181  \n",
       "3205      12735  \n",
       "3206       8927  "
      ]
     },
     "execution_count": 9,
     "metadata": {},
     "output_type": "execute_result"
    }
   ],
   "source": [
    "df.tail(10)"
   ]
  },
  {
   "cell_type": "code",
   "execution_count": 10,
   "metadata": {},
   "outputs": [
    {
     "data": {
      "text/plain": [
       "(3207, 9)"
      ]
     },
     "execution_count": 10,
     "metadata": {},
     "output_type": "execute_result"
    }
   ],
   "source": [
    "df.shape # (2738, 9)"
   ]
  },
  {
   "cell_type": "code",
   "execution_count": 11,
   "metadata": {},
   "outputs": [],
   "source": [
    "# axis = 0 means row operations \n",
    "# = 1 means columns operations\n",
    "df.drop(['Sno'], axis=1, inplace=True)"
   ]
  },
  {
   "cell_type": "code",
   "execution_count": 12,
   "metadata": {},
   "outputs": [],
   "source": [
    "# 1VA0dq-oH5hwAOwt-1rW8j7iQoNFYFQ7o3rnmIF48P7g"
   ]
  },
  {
   "cell_type": "code",
   "execution_count": 13,
   "metadata": {},
   "outputs": [
    {
     "data": {
      "text/html": [
       "<div>\n",
       "<style scoped>\n",
       "    .dataframe tbody tr th:only-of-type {\n",
       "        vertical-align: middle;\n",
       "    }\n",
       "\n",
       "    .dataframe tbody tr th {\n",
       "        vertical-align: top;\n",
       "    }\n",
       "\n",
       "    .dataframe thead th {\n",
       "        text-align: right;\n",
       "    }\n",
       "</style>\n",
       "<table border=\"1\" class=\"dataframe\">\n",
       "  <thead>\n",
       "    <tr style=\"text-align: right;\">\n",
       "      <th></th>\n",
       "      <th>Date</th>\n",
       "      <th>Time</th>\n",
       "      <th>State/UnionTerritory</th>\n",
       "      <th>ConfirmedIndianNational</th>\n",
       "      <th>ConfirmedForeignNational</th>\n",
       "      <th>Cured</th>\n",
       "      <th>Deaths</th>\n",
       "      <th>Confirmed</th>\n",
       "    </tr>\n",
       "  </thead>\n",
       "  <tbody>\n",
       "    <tr>\n",
       "      <th>0</th>\n",
       "      <td>30/01/20</td>\n",
       "      <td>6:00 PM</td>\n",
       "      <td>Kerala</td>\n",
       "      <td>1</td>\n",
       "      <td>0</td>\n",
       "      <td>0</td>\n",
       "      <td>0</td>\n",
       "      <td>1</td>\n",
       "    </tr>\n",
       "    <tr>\n",
       "      <th>1</th>\n",
       "      <td>31/01/20</td>\n",
       "      <td>6:00 PM</td>\n",
       "      <td>Kerala</td>\n",
       "      <td>1</td>\n",
       "      <td>0</td>\n",
       "      <td>0</td>\n",
       "      <td>0</td>\n",
       "      <td>1</td>\n",
       "    </tr>\n",
       "    <tr>\n",
       "      <th>2</th>\n",
       "      <td>01/02/20</td>\n",
       "      <td>6:00 PM</td>\n",
       "      <td>Kerala</td>\n",
       "      <td>2</td>\n",
       "      <td>0</td>\n",
       "      <td>0</td>\n",
       "      <td>0</td>\n",
       "      <td>2</td>\n",
       "    </tr>\n",
       "    <tr>\n",
       "      <th>3</th>\n",
       "      <td>02/02/20</td>\n",
       "      <td>6:00 PM</td>\n",
       "      <td>Kerala</td>\n",
       "      <td>3</td>\n",
       "      <td>0</td>\n",
       "      <td>0</td>\n",
       "      <td>0</td>\n",
       "      <td>3</td>\n",
       "    </tr>\n",
       "    <tr>\n",
       "      <th>4</th>\n",
       "      <td>03/02/20</td>\n",
       "      <td>6:00 PM</td>\n",
       "      <td>Kerala</td>\n",
       "      <td>3</td>\n",
       "      <td>0</td>\n",
       "      <td>0</td>\n",
       "      <td>0</td>\n",
       "      <td>3</td>\n",
       "    </tr>\n",
       "    <tr>\n",
       "      <th>...</th>\n",
       "      <td>...</td>\n",
       "      <td>...</td>\n",
       "      <td>...</td>\n",
       "      <td>...</td>\n",
       "      <td>...</td>\n",
       "      <td>...</td>\n",
       "      <td>...</td>\n",
       "      <td>...</td>\n",
       "    </tr>\n",
       "    <tr>\n",
       "      <th>3202</th>\n",
       "      <td>19/06/20</td>\n",
       "      <td>8:00 AM</td>\n",
       "      <td>Tripura</td>\n",
       "      <td>-</td>\n",
       "      <td>-</td>\n",
       "      <td>639</td>\n",
       "      <td>1</td>\n",
       "      <td>1155</td>\n",
       "    </tr>\n",
       "    <tr>\n",
       "      <th>3203</th>\n",
       "      <td>19/06/20</td>\n",
       "      <td>8:00 AM</td>\n",
       "      <td>Uttarakhand</td>\n",
       "      <td>-</td>\n",
       "      <td>-</td>\n",
       "      <td>1386</td>\n",
       "      <td>26</td>\n",
       "      <td>2102</td>\n",
       "    </tr>\n",
       "    <tr>\n",
       "      <th>3204</th>\n",
       "      <td>19/06/20</td>\n",
       "      <td>8:00 AM</td>\n",
       "      <td>Uttar Pradesh</td>\n",
       "      <td>-</td>\n",
       "      <td>-</td>\n",
       "      <td>9239</td>\n",
       "      <td>465</td>\n",
       "      <td>15181</td>\n",
       "    </tr>\n",
       "    <tr>\n",
       "      <th>3205</th>\n",
       "      <td>19/06/20</td>\n",
       "      <td>8:00 AM</td>\n",
       "      <td>West Bengal</td>\n",
       "      <td>-</td>\n",
       "      <td>-</td>\n",
       "      <td>7001</td>\n",
       "      <td>518</td>\n",
       "      <td>12735</td>\n",
       "    </tr>\n",
       "    <tr>\n",
       "      <th>3206</th>\n",
       "      <td>19/06/20</td>\n",
       "      <td>8:00 AM</td>\n",
       "      <td>Cases being reassigned to states</td>\n",
       "      <td>-</td>\n",
       "      <td>-</td>\n",
       "      <td>0</td>\n",
       "      <td>0</td>\n",
       "      <td>8927</td>\n",
       "    </tr>\n",
       "  </tbody>\n",
       "</table>\n",
       "<p>3207 rows × 8 columns</p>\n",
       "</div>"
      ],
      "text/plain": [
       "          Date     Time              State/UnionTerritory  \\\n",
       "0     30/01/20  6:00 PM                            Kerala   \n",
       "1     31/01/20  6:00 PM                            Kerala   \n",
       "2     01/02/20  6:00 PM                            Kerala   \n",
       "3     02/02/20  6:00 PM                            Kerala   \n",
       "4     03/02/20  6:00 PM                            Kerala   \n",
       "...        ...      ...                               ...   \n",
       "3202  19/06/20  8:00 AM                           Tripura   \n",
       "3203  19/06/20  8:00 AM                       Uttarakhand   \n",
       "3204  19/06/20  8:00 AM                     Uttar Pradesh   \n",
       "3205  19/06/20  8:00 AM                       West Bengal   \n",
       "3206  19/06/20  8:00 AM  Cases being reassigned to states   \n",
       "\n",
       "     ConfirmedIndianNational ConfirmedForeignNational  Cured  Deaths  \\\n",
       "0                          1                        0      0       0   \n",
       "1                          1                        0      0       0   \n",
       "2                          2                        0      0       0   \n",
       "3                          3                        0      0       0   \n",
       "4                          3                        0      0       0   \n",
       "...                      ...                      ...    ...     ...   \n",
       "3202                       -                        -    639       1   \n",
       "3203                       -                        -   1386      26   \n",
       "3204                       -                        -   9239     465   \n",
       "3205                       -                        -   7001     518   \n",
       "3206                       -                        -      0       0   \n",
       "\n",
       "      Confirmed  \n",
       "0             1  \n",
       "1             1  \n",
       "2             2  \n",
       "3             3  \n",
       "4             3  \n",
       "...         ...  \n",
       "3202       1155  \n",
       "3203       2102  \n",
       "3204      15181  \n",
       "3205      12735  \n",
       "3206       8927  \n",
       "\n",
       "[3207 rows x 8 columns]"
      ]
     },
     "execution_count": 13,
     "metadata": {},
     "output_type": "execute_result"
    }
   ],
   "source": [
    "df"
   ]
  },
  {
   "cell_type": "code",
   "execution_count": 14,
   "metadata": {},
   "outputs": [],
   "source": [
    "df.drop('ConfirmedIndianNational', axis=1, inplace=True)"
   ]
  },
  {
   "cell_type": "code",
   "execution_count": 15,
   "metadata": {},
   "outputs": [],
   "source": [
    "df.drop('ConfirmedForeignNational', axis=1, inplace=True)"
   ]
  },
  {
   "cell_type": "code",
   "execution_count": 16,
   "metadata": {},
   "outputs": [
    {
     "data": {
      "text/plain": [
       "0           1\n",
       "1           1\n",
       "2           2\n",
       "3           3\n",
       "4           3\n",
       "        ...  \n",
       "3202     1155\n",
       "3203     2102\n",
       "3204    15181\n",
       "3205    12735\n",
       "3206     8927\n",
       "Name: Confirmed, Length: 3207, dtype: int64"
      ]
     },
     "execution_count": 16,
     "metadata": {},
     "output_type": "execute_result"
    }
   ],
   "source": [
    "df['Confirmed']"
   ]
  },
  {
   "cell_type": "code",
   "execution_count": 19,
   "metadata": {},
   "outputs": [],
   "source": [
    "df_today = df[df.Date == '19/06/20']"
   ]
  },
  {
   "cell_type": "code",
   "execution_count": 20,
   "metadata": {},
   "outputs": [
    {
     "data": {
      "text/plain": [
       "380532"
      ]
     },
     "execution_count": 20,
     "metadata": {},
     "output_type": "execute_result"
    }
   ],
   "source": [
    "df_today['Confirmed'].sum()"
   ]
  },
  {
   "cell_type": "code",
   "execution_count": 21,
   "metadata": {},
   "outputs": [
    {
     "data": {
      "text/html": [
       "<div>\n",
       "<style scoped>\n",
       "    .dataframe tbody tr th:only-of-type {\n",
       "        vertical-align: middle;\n",
       "    }\n",
       "\n",
       "    .dataframe tbody tr th {\n",
       "        vertical-align: top;\n",
       "    }\n",
       "\n",
       "    .dataframe thead th {\n",
       "        text-align: right;\n",
       "    }\n",
       "</style>\n",
       "<table border=\"1\" class=\"dataframe\">\n",
       "  <thead>\n",
       "    <tr style=\"text-align: right;\">\n",
       "      <th></th>\n",
       "      <th>Date</th>\n",
       "      <th>Time</th>\n",
       "      <th>State/UnionTerritory</th>\n",
       "      <th>Cured</th>\n",
       "      <th>Deaths</th>\n",
       "      <th>Confirmed</th>\n",
       "    </tr>\n",
       "  </thead>\n",
       "  <tbody>\n",
       "    <tr>\n",
       "      <th>3171</th>\n",
       "      <td>19/06/20</td>\n",
       "      <td>8:00 AM</td>\n",
       "      <td>Andaman and Nicobar Islands</td>\n",
       "      <td>33</td>\n",
       "      <td>0</td>\n",
       "      <td>44</td>\n",
       "    </tr>\n",
       "    <tr>\n",
       "      <th>3172</th>\n",
       "      <td>19/06/20</td>\n",
       "      <td>8:00 AM</td>\n",
       "      <td>Andhra Pradesh</td>\n",
       "      <td>3789</td>\n",
       "      <td>92</td>\n",
       "      <td>7518</td>\n",
       "    </tr>\n",
       "    <tr>\n",
       "      <th>3173</th>\n",
       "      <td>19/06/20</td>\n",
       "      <td>8:00 AM</td>\n",
       "      <td>Arunachal Pradesh</td>\n",
       "      <td>10</td>\n",
       "      <td>0</td>\n",
       "      <td>103</td>\n",
       "    </tr>\n",
       "    <tr>\n",
       "      <th>3174</th>\n",
       "      <td>19/06/20</td>\n",
       "      <td>8:00 AM</td>\n",
       "      <td>Assam</td>\n",
       "      <td>2654</td>\n",
       "      <td>9</td>\n",
       "      <td>4777</td>\n",
       "    </tr>\n",
       "    <tr>\n",
       "      <th>3175</th>\n",
       "      <td>19/06/20</td>\n",
       "      <td>8:00 AM</td>\n",
       "      <td>Bihar</td>\n",
       "      <td>5056</td>\n",
       "      <td>44</td>\n",
       "      <td>7025</td>\n",
       "    </tr>\n",
       "  </tbody>\n",
       "</table>\n",
       "</div>"
      ],
      "text/plain": [
       "          Date     Time         State/UnionTerritory  Cured  Deaths  Confirmed\n",
       "3171  19/06/20  8:00 AM  Andaman and Nicobar Islands     33       0         44\n",
       "3172  19/06/20  8:00 AM               Andhra Pradesh   3789      92       7518\n",
       "3173  19/06/20  8:00 AM            Arunachal Pradesh     10       0        103\n",
       "3174  19/06/20  8:00 AM                        Assam   2654       9       4777\n",
       "3175  19/06/20  8:00 AM                        Bihar   5056      44       7025"
      ]
     },
     "execution_count": 21,
     "metadata": {},
     "output_type": "execute_result"
    }
   ],
   "source": [
    "df_today.head()"
   ]
  },
  {
   "cell_type": "code",
   "execution_count": 22,
   "metadata": {},
   "outputs": [
    {
     "ename": "NameError",
     "evalue": "name 'Total_Active_Cases' is not defined",
     "output_type": "error",
     "traceback": [
      "\u001b[0;31m---------------------------------------------------------------------------\u001b[0m",
      "\u001b[0;31mNameError\u001b[0m                                 Traceback (most recent call last)",
      "\u001b[0;32m<ipython-input-22-1d335a4d53b2>\u001b[0m in \u001b[0;36m<module>\u001b[0;34m\u001b[0m\n\u001b[0;32m----> 1\u001b[0;31m \u001b[0mTotal_Active_Cases\u001b[0m\u001b[0;34m\u001b[0m\u001b[0;34m\u001b[0m\u001b[0m\n\u001b[0m\u001b[1;32m      2\u001b[0m \u001b[0;34m\u001b[0m\u001b[0m\n\u001b[1;32m      3\u001b[0m \u001b[0mConfirmed\u001b[0m \u001b[0;34m-\u001b[0m \u001b[0mCured\u001b[0m \u001b[0;34m-\u001b[0m \u001b[0mDeaths\u001b[0m\u001b[0;34m\u001b[0m\u001b[0;34m\u001b[0m\u001b[0m\n",
      "\u001b[0;31mNameError\u001b[0m: name 'Total_Active_Cases' is not defined"
     ]
    }
   ],
   "source": [
    "Total_Active_Cases\n",
    "\n",
    "Confirmed - Cured - Deaths"
   ]
  },
  {
   "cell_type": "code",
   "execution_count": 23,
   "metadata": {},
   "outputs": [
    {
     "name": "stderr",
     "output_type": "stream",
     "text": [
      "/Users/mdsajidhussain/anaconda/envs/py36/lib/python3.6/site-packages/ipykernel_launcher.py:1: SettingWithCopyWarning: \n",
      "A value is trying to be set on a copy of a slice from a DataFrame.\n",
      "Try using .loc[row_indexer,col_indexer] = value instead\n",
      "\n",
      "See the caveats in the documentation: https://pandas.pydata.org/pandas-docs/stable/user_guide/indexing.html#returning-a-view-versus-a-copy\n",
      "  \"\"\"Entry point for launching an IPython kernel.\n"
     ]
    }
   ],
   "source": [
    "df_today['Total_Active_Cases'] = df_today['Confirmed']-df_today['Cured'] - df_today['Deaths']"
   ]
  },
  {
   "cell_type": "code",
   "execution_count": 24,
   "metadata": {},
   "outputs": [
    {
     "data": {
      "text/html": [
       "<div>\n",
       "<style scoped>\n",
       "    .dataframe tbody tr th:only-of-type {\n",
       "        vertical-align: middle;\n",
       "    }\n",
       "\n",
       "    .dataframe tbody tr th {\n",
       "        vertical-align: top;\n",
       "    }\n",
       "\n",
       "    .dataframe thead th {\n",
       "        text-align: right;\n",
       "    }\n",
       "</style>\n",
       "<table border=\"1\" class=\"dataframe\">\n",
       "  <thead>\n",
       "    <tr style=\"text-align: right;\">\n",
       "      <th></th>\n",
       "      <th>Date</th>\n",
       "      <th>Time</th>\n",
       "      <th>State/UnionTerritory</th>\n",
       "      <th>Cured</th>\n",
       "      <th>Deaths</th>\n",
       "      <th>Confirmed</th>\n",
       "      <th>Total_Active_Cases</th>\n",
       "    </tr>\n",
       "  </thead>\n",
       "  <tbody>\n",
       "    <tr>\n",
       "      <th>3171</th>\n",
       "      <td>19/06/20</td>\n",
       "      <td>8:00 AM</td>\n",
       "      <td>Andaman and Nicobar Islands</td>\n",
       "      <td>33</td>\n",
       "      <td>0</td>\n",
       "      <td>44</td>\n",
       "      <td>11</td>\n",
       "    </tr>\n",
       "    <tr>\n",
       "      <th>3172</th>\n",
       "      <td>19/06/20</td>\n",
       "      <td>8:00 AM</td>\n",
       "      <td>Andhra Pradesh</td>\n",
       "      <td>3789</td>\n",
       "      <td>92</td>\n",
       "      <td>7518</td>\n",
       "      <td>3637</td>\n",
       "    </tr>\n",
       "    <tr>\n",
       "      <th>3173</th>\n",
       "      <td>19/06/20</td>\n",
       "      <td>8:00 AM</td>\n",
       "      <td>Arunachal Pradesh</td>\n",
       "      <td>10</td>\n",
       "      <td>0</td>\n",
       "      <td>103</td>\n",
       "      <td>93</td>\n",
       "    </tr>\n",
       "    <tr>\n",
       "      <th>3174</th>\n",
       "      <td>19/06/20</td>\n",
       "      <td>8:00 AM</td>\n",
       "      <td>Assam</td>\n",
       "      <td>2654</td>\n",
       "      <td>9</td>\n",
       "      <td>4777</td>\n",
       "      <td>2114</td>\n",
       "    </tr>\n",
       "    <tr>\n",
       "      <th>3175</th>\n",
       "      <td>19/06/20</td>\n",
       "      <td>8:00 AM</td>\n",
       "      <td>Bihar</td>\n",
       "      <td>5056</td>\n",
       "      <td>44</td>\n",
       "      <td>7025</td>\n",
       "      <td>1925</td>\n",
       "    </tr>\n",
       "  </tbody>\n",
       "</table>\n",
       "</div>"
      ],
      "text/plain": [
       "          Date     Time         State/UnionTerritory  Cured  Deaths  \\\n",
       "3171  19/06/20  8:00 AM  Andaman and Nicobar Islands     33       0   \n",
       "3172  19/06/20  8:00 AM               Andhra Pradesh   3789      92   \n",
       "3173  19/06/20  8:00 AM            Arunachal Pradesh     10       0   \n",
       "3174  19/06/20  8:00 AM                        Assam   2654       9   \n",
       "3175  19/06/20  8:00 AM                        Bihar   5056      44   \n",
       "\n",
       "      Confirmed  Total_Active_Cases  \n",
       "3171         44                  11  \n",
       "3172       7518                3637  \n",
       "3173        103                  93  \n",
       "3174       4777                2114  \n",
       "3175       7025                1925  "
      ]
     },
     "execution_count": 24,
     "metadata": {},
     "output_type": "execute_result"
    }
   ],
   "source": [
    "df_today.head()"
   ]
  },
  {
   "cell_type": "code",
   "execution_count": null,
   "metadata": {},
   "outputs": [],
   "source": [
    "!pip install plotly"
   ]
  },
  {
   "cell_type": "code",
   "execution_count": 25,
   "metadata": {},
   "outputs": [],
   "source": [
    "import matplotlib.pyplot as plt\n",
    "import plotly\n",
    "import plotly.express as px"
   ]
  },
  {
   "cell_type": "code",
   "execution_count": 26,
   "metadata": {},
   "outputs": [
    {
     "data": {
      "text/plain": [
       "<Figure size 1600x800 with 0 Axes>"
      ]
     },
     "execution_count": 26,
     "metadata": {},
     "output_type": "execute_result"
    },
    {
     "data": {
      "text/plain": [
       "<Figure size 1600x800 with 0 Axes>"
      ]
     },
     "metadata": {},
     "output_type": "display_data"
    }
   ],
   "source": [
    "from matplotlib.pyplot import figure\n",
    "figure(num=None, figsize=(20, 10), dpi=80, facecolor='w', edgecolor='k')"
   ]
  },
  {
   "cell_type": "code",
   "execution_count": 27,
   "metadata": {},
   "outputs": [
    {
     "data": {
      "text/plain": [
       "<BarContainer object of 36 artists>"
      ]
     },
     "execution_count": 27,
     "metadata": {},
     "output_type": "execute_result"
    },
    {
     "data": {
      "image/png": "[encoded data removed]",
      "text/plain": [
       "<Figure size 2160x1080 with 1 Axes>"
      ]
     },
     "metadata": {
      "needs_background": "light"
     },
     "output_type": "display_data"
    }
   ],
   "source": [
    "plt.figure(figsize=(30,15))\n",
    "plt.barh(df_today['State/UnionTerritory'], df_today['Total_Active_Cases'])"
   ]
  },
  {
   "cell_type": "code",
   "execution_count": 28,
   "metadata": {},
   "outputs": [
    {
     "data": {
      "text/html": [
       "<style  type=\"text/css\" >\n",
       "    #T_c25aee30_b2c0_11ea_83c0_48bf6be162d8row0_col3 {\n",
       "            background-color:  #fff5f0;\n",
       "            color:  #000000;\n",
       "        }    #T_c25aee30_b2c0_11ea_83c0_48bf6be162d8row0_col4 {\n",
       "            background-color:  #fff5f0;\n",
       "            color:  #000000;\n",
       "        }    #T_c25aee30_b2c0_11ea_83c0_48bf6be162d8row0_col5 {\n",
       "            background-color:  #fff5f0;\n",
       "            color:  #000000;\n",
       "        }    #T_c25aee30_b2c0_11ea_83c0_48bf6be162d8row0_col6 {\n",
       "            background-color:  #fff5f0;\n",
       "            color:  #000000;\n",
       "        }    #T_c25aee30_b2c0_11ea_83c0_48bf6be162d8row1_col3 {\n",
       "            background-color:  #ffebe2;\n",
       "            color:  #000000;\n",
       "        }    #T_c25aee30_b2c0_11ea_83c0_48bf6be162d8row1_col4 {\n",
       "            background-color:  #fff2ec;\n",
       "            color:  #000000;\n",
       "        }    #T_c25aee30_b2c0_11ea_83c0_48bf6be162d8row1_col5 {\n",
       "            background-color:  #ffebe2;\n",
       "            color:  #000000;\n",
       "        }    #T_c25aee30_b2c0_11ea_83c0_48bf6be162d8row1_col6 {\n",
       "            background-color:  #feeae0;\n",
       "            color:  #000000;\n",
       "        }    #T_c25aee30_b2c0_11ea_83c0_48bf6be162d8row2_col3 {\n",
       "            background-color:  #fff5f0;\n",
       "            color:  #000000;\n",
       "        }    #T_c25aee30_b2c0_11ea_83c0_48bf6be162d8row2_col4 {\n",
       "            background-color:  #fff5f0;\n",
       "            color:  #000000;\n",
       "        }    #T_c25aee30_b2c0_11ea_83c0_48bf6be162d8row2_col5 {\n",
       "            background-color:  #fff5f0;\n",
       "            color:  #000000;\n",
       "        }    #T_c25aee30_b2c0_11ea_83c0_48bf6be162d8row2_col6 {\n",
       "            background-color:  #fff5f0;\n",
       "            color:  #000000;\n",
       "        }    #T_c25aee30_b2c0_11ea_83c0_48bf6be162d8row3_col3 {\n",
       "            background-color:  #ffeee6;\n",
       "            color:  #000000;\n",
       "        }    #T_c25aee30_b2c0_11ea_83c0_48bf6be162d8row3_col4 {\n",
       "            background-color:  #fff5f0;\n",
       "            color:  #000000;\n",
       "        }    #T_c25aee30_b2c0_11ea_83c0_48bf6be162d8row3_col5 {\n",
       "            background-color:  #ffeee7;\n",
       "            color:  #000000;\n",
       "        }    #T_c25aee30_b2c0_11ea_83c0_48bf6be162d8row3_col6 {\n",
       "            background-color:  #ffefe8;\n",
       "            color:  #000000;\n",
       "        }    #T_c25aee30_b2c0_11ea_83c0_48bf6be162d8row4_col3 {\n",
       "            background-color:  #fee7dc;\n",
       "            color:  #000000;\n",
       "        }    #T_c25aee30_b2c0_11ea_83c0_48bf6be162d8row4_col4 {\n",
       "            background-color:  #fff4ef;\n",
       "            color:  #000000;\n",
       "        }    #T_c25aee30_b2c0_11ea_83c0_48bf6be162d8row4_col5 {\n",
       "            background-color:  #ffece3;\n",
       "            color:  #000000;\n",
       "        }    #T_c25aee30_b2c0_11ea_83c0_48bf6be162d8row4_col6 {\n",
       "            background-color:  #ffefe8;\n",
       "            color:  #000000;\n",
       "        }    #T_c25aee30_b2c0_11ea_83c0_48bf6be162d8row5_col3 {\n",
       "            background-color:  #fff4ef;\n",
       "            color:  #000000;\n",
       "        }    #T_c25aee30_b2c0_11ea_83c0_48bf6be162d8row5_col4 {\n",
       "            background-color:  #fff5f0;\n",
       "            color:  #000000;\n",
       "        }    #T_c25aee30_b2c0_11ea_83c0_48bf6be162d8row5_col5 {\n",
       "            background-color:  #fff5f0;\n",
       "            color:  #000000;\n",
       "        }    #T_c25aee30_b2c0_11ea_83c0_48bf6be162d8row5_col6 {\n",
       "            background-color:  #fff5f0;\n",
       "            color:  #000000;\n",
       "        }    #T_c25aee30_b2c0_11ea_83c0_48bf6be162d8row6_col3 {\n",
       "            background-color:  #fff2eb;\n",
       "            color:  #000000;\n",
       "        }    #T_c25aee30_b2c0_11ea_83c0_48bf6be162d8row6_col4 {\n",
       "            background-color:  #fff5f0;\n",
       "            color:  #000000;\n",
       "        }    #T_c25aee30_b2c0_11ea_83c0_48bf6be162d8row6_col5 {\n",
       "            background-color:  #fff2ec;\n",
       "            color:  #000000;\n",
       "        }    #T_c25aee30_b2c0_11ea_83c0_48bf6be162d8row6_col6 {\n",
       "            background-color:  #fff3ed;\n",
       "            color:  #000000;\n",
       "        }    #T_c25aee30_b2c0_11ea_83c0_48bf6be162d8row7_col3 {\n",
       "            background-color:  #fff5f0;\n",
       "            color:  #000000;\n",
       "        }    #T_c25aee30_b2c0_11ea_83c0_48bf6be162d8row7_col4 {\n",
       "            background-color:  #fff5f0;\n",
       "            color:  #000000;\n",
       "        }    #T_c25aee30_b2c0_11ea_83c0_48bf6be162d8row7_col5 {\n",
       "            background-color:  #fff5f0;\n",
       "            color:  #000000;\n",
       "        }    #T_c25aee30_b2c0_11ea_83c0_48bf6be162d8row7_col6 {\n",
       "            background-color:  #fff5f0;\n",
       "            color:  #000000;\n",
       "        }    #T_c25aee30_b2c0_11ea_83c0_48bf6be162d8row8_col3 {\n",
       "            background-color:  #fc9b7c;\n",
       "            color:  #000000;\n",
       "        }    #T_c25aee30_b2c0_11ea_83c0_48bf6be162d8row8_col4 {\n",
       "            background-color:  #fc9d7f;\n",
       "            color:  #000000;\n",
       "        }    #T_c25aee30_b2c0_11ea_83c0_48bf6be162d8row8_col5 {\n",
       "            background-color:  #fc8565;\n",
       "            color:  #000000;\n",
       "        }    #T_c25aee30_b2c0_11ea_83c0_48bf6be162d8row8_col6 {\n",
       "            background-color:  #fb6c4c;\n",
       "            color:  #000000;\n",
       "        }    #T_c25aee30_b2c0_11ea_83c0_48bf6be162d8row9_col3 {\n",
       "            background-color:  #fff5f0;\n",
       "            color:  #000000;\n",
       "        }    #T_c25aee30_b2c0_11ea_83c0_48bf6be162d8row9_col4 {\n",
       "            background-color:  #fff5f0;\n",
       "            color:  #000000;\n",
       "        }    #T_c25aee30_b2c0_11ea_83c0_48bf6be162d8row9_col5 {\n",
       "            background-color:  #fff4ef;\n",
       "            color:  #000000;\n",
       "        }    #T_c25aee30_b2c0_11ea_83c0_48bf6be162d8row9_col6 {\n",
       "            background-color:  #fff4ee;\n",
       "            color:  #000000;\n",
       "        }    #T_c25aee30_b2c0_11ea_83c0_48bf6be162d8row10_col3 {\n",
       "            background-color:  #fcae92;\n",
       "            color:  #000000;\n",
       "        }    #T_c25aee30_b2c0_11ea_83c0_48bf6be162d8row10_col4 {\n",
       "            background-color:  #fcb398;\n",
       "            color:  #000000;\n",
       "        }    #T_c25aee30_b2c0_11ea_83c0_48bf6be162d8row10_col5 {\n",
       "            background-color:  #fdc6b0;\n",
       "            color:  #000000;\n",
       "        }    #T_c25aee30_b2c0_11ea_83c0_48bf6be162d8row10_col6 {\n",
       "            background-color:  #fee2d5;\n",
       "            color:  #000000;\n",
       "        }    #T_c25aee30_b2c0_11ea_83c0_48bf6be162d8row11_col3 {\n",
       "            background-color:  #fee8de;\n",
       "            color:  #000000;\n",
       "        }    #T_c25aee30_b2c0_11ea_83c0_48bf6be162d8row11_col4 {\n",
       "            background-color:  #fff2eb;\n",
       "            color:  #000000;\n",
       "        }    #T_c25aee30_b2c0_11ea_83c0_48bf6be162d8row11_col5 {\n",
       "            background-color:  #fee8de;\n",
       "            color:  #000000;\n",
       "        }    #T_c25aee30_b2c0_11ea_83c0_48bf6be162d8row11_col6 {\n",
       "            background-color:  #fee7dc;\n",
       "            color:  #000000;\n",
       "        }    #T_c25aee30_b2c0_11ea_83c0_48bf6be162d8row12_col3 {\n",
       "            background-color:  #fff4ef;\n",
       "            color:  #000000;\n",
       "        }    #T_c25aee30_b2c0_11ea_83c0_48bf6be162d8row12_col4 {\n",
       "            background-color:  #fff5f0;\n",
       "            color:  #000000;\n",
       "        }    #T_c25aee30_b2c0_11ea_83c0_48bf6be162d8row12_col5 {\n",
       "            background-color:  #fff4ef;\n",
       "            color:  #000000;\n",
       "        }    #T_c25aee30_b2c0_11ea_83c0_48bf6be162d8row12_col6 {\n",
       "            background-color:  #fff5f0;\n",
       "            color:  #000000;\n",
       "        }    #T_c25aee30_b2c0_11ea_83c0_48bf6be162d8row13_col3 {\n",
       "            background-color:  #ffece4;\n",
       "            color:  #000000;\n",
       "        }    #T_c25aee30_b2c0_11ea_83c0_48bf6be162d8row13_col4 {\n",
       "            background-color:  #fff3ed;\n",
       "            color:  #000000;\n",
       "        }    #T_c25aee30_b2c0_11ea_83c0_48bf6be162d8row13_col5 {\n",
       "            background-color:  #ffeee6;\n",
       "            color:  #000000;\n",
       "        }    #T_c25aee30_b2c0_11ea_83c0_48bf6be162d8row13_col6 {\n",
       "            background-color:  #ffeee6;\n",
       "            color:  #000000;\n",
       "        }    #T_c25aee30_b2c0_11ea_83c0_48bf6be162d8row14_col3 {\n",
       "            background-color:  #fff2eb;\n",
       "            color:  #000000;\n",
       "        }    #T_c25aee30_b2c0_11ea_83c0_48bf6be162d8row14_col4 {\n",
       "            background-color:  #fff5f0;\n",
       "            color:  #000000;\n",
       "        }    #T_c25aee30_b2c0_11ea_83c0_48bf6be162d8row14_col5 {\n",
       "            background-color:  #fff3ed;\n",
       "            color:  #000000;\n",
       "        }    #T_c25aee30_b2c0_11ea_83c0_48bf6be162d8row14_col6 {\n",
       "            background-color:  #fff3ed;\n",
       "            color:  #000000;\n",
       "        }    #T_c25aee30_b2c0_11ea_83c0_48bf6be162d8row15_col3 {\n",
       "            background-color:  #fee8dd;\n",
       "            color:  #000000;\n",
       "        }    #T_c25aee30_b2c0_11ea_83c0_48bf6be162d8row15_col4 {\n",
       "            background-color:  #fff2eb;\n",
       "            color:  #000000;\n",
       "        }    #T_c25aee30_b2c0_11ea_83c0_48bf6be162d8row15_col5 {\n",
       "            background-color:  #feeae1;\n",
       "            color:  #000000;\n",
       "        }    #T_c25aee30_b2c0_11ea_83c0_48bf6be162d8row15_col6 {\n",
       "            background-color:  #ffece4;\n",
       "            color:  #000000;\n",
       "        }    #T_c25aee30_b2c0_11ea_83c0_48bf6be162d8row16_col3 {\n",
       "            background-color:  #fff2eb;\n",
       "            color:  #000000;\n",
       "        }    #T_c25aee30_b2c0_11ea_83c0_48bf6be162d8row16_col4 {\n",
       "            background-color:  #fff5f0;\n",
       "            color:  #000000;\n",
       "        }    #T_c25aee30_b2c0_11ea_83c0_48bf6be162d8row16_col5 {\n",
       "            background-color:  #fff2eb;\n",
       "            color:  #000000;\n",
       "        }    #T_c25aee30_b2c0_11ea_83c0_48bf6be162d8row16_col6 {\n",
       "            background-color:  #fff1ea;\n",
       "            color:  #000000;\n",
       "        }    #T_c25aee30_b2c0_11ea_83c0_48bf6be162d8row17_col3 {\n",
       "            background-color:  #fff5f0;\n",
       "            color:  #000000;\n",
       "        }    #T_c25aee30_b2c0_11ea_83c0_48bf6be162d8row17_col4 {\n",
       "            background-color:  #fff5f0;\n",
       "            color:  #000000;\n",
       "        }    #T_c25aee30_b2c0_11ea_83c0_48bf6be162d8row17_col5 {\n",
       "            background-color:  #fff4ef;\n",
       "            color:  #000000;\n",
       "        }    #T_c25aee30_b2c0_11ea_83c0_48bf6be162d8row17_col6 {\n",
       "            background-color:  #fff4ee;\n",
       "            color:  #000000;\n",
       "        }    #T_c25aee30_b2c0_11ea_83c0_48bf6be162d8row18_col3 {\n",
       "            background-color:  #fedbcc;\n",
       "            color:  #000000;\n",
       "        }    #T_c25aee30_b2c0_11ea_83c0_48bf6be162d8row18_col4 {\n",
       "            background-color:  #fee7dc;\n",
       "            color:  #000000;\n",
       "        }    #T_c25aee30_b2c0_11ea_83c0_48bf6be162d8row18_col5 {\n",
       "            background-color:  #fee5d9;\n",
       "            color:  #000000;\n",
       "        }    #T_c25aee30_b2c0_11ea_83c0_48bf6be162d8row18_col6 {\n",
       "            background-color:  #ffeee7;\n",
       "            color:  #000000;\n",
       "        }    #T_c25aee30_b2c0_11ea_83c0_48bf6be162d8row19_col3 {\n",
       "            background-color:  #67000d;\n",
       "            color:  #f1f1f1;\n",
       "        }    #T_c25aee30_b2c0_11ea_83c0_48bf6be162d8row19_col4 {\n",
       "            background-color:  #67000d;\n",
       "            color:  #f1f1f1;\n",
       "        }    #T_c25aee30_b2c0_11ea_83c0_48bf6be162d8row19_col5 {\n",
       "            background-color:  #67000d;\n",
       "            color:  #f1f1f1;\n",
       "        }    #T_c25aee30_b2c0_11ea_83c0_48bf6be162d8row19_col6 {\n",
       "            background-color:  #67000d;\n",
       "            color:  #f1f1f1;\n",
       "        }    #T_c25aee30_b2c0_11ea_83c0_48bf6be162d8row20_col3 {\n",
       "            background-color:  #fff5f0;\n",
       "            color:  #000000;\n",
       "        }    #T_c25aee30_b2c0_11ea_83c0_48bf6be162d8row20_col4 {\n",
       "            background-color:  #fff5f0;\n",
       "            color:  #000000;\n",
       "        }    #T_c25aee30_b2c0_11ea_83c0_48bf6be162d8row20_col5 {\n",
       "            background-color:  #fff4ef;\n",
       "            color:  #000000;\n",
       "        }    #T_c25aee30_b2c0_11ea_83c0_48bf6be162d8row20_col6 {\n",
       "            background-color:  #fff4ef;\n",
       "            color:  #000000;\n",
       "        }    #T_c25aee30_b2c0_11ea_83c0_48bf6be162d8row21_col3 {\n",
       "            background-color:  #fff5f0;\n",
       "            color:  #000000;\n",
       "        }    #T_c25aee30_b2c0_11ea_83c0_48bf6be162d8row21_col4 {\n",
       "            background-color:  #fff5f0;\n",
       "            color:  #000000;\n",
       "        }    #T_c25aee30_b2c0_11ea_83c0_48bf6be162d8row21_col5 {\n",
       "            background-color:  #fff5f0;\n",
       "            color:  #000000;\n",
       "        }    #T_c25aee30_b2c0_11ea_83c0_48bf6be162d8row21_col6 {\n",
       "            background-color:  #fff5f0;\n",
       "            color:  #000000;\n",
       "        }    #T_c25aee30_b2c0_11ea_83c0_48bf6be162d8row22_col3 {\n",
       "            background-color:  #fff5f0;\n",
       "            color:  #000000;\n",
       "        }    #T_c25aee30_b2c0_11ea_83c0_48bf6be162d8row22_col4 {\n",
       "            background-color:  #fff5f0;\n",
       "            color:  #000000;\n",
       "        }    #T_c25aee30_b2c0_11ea_83c0_48bf6be162d8row22_col5 {\n",
       "            background-color:  #fff5f0;\n",
       "            color:  #000000;\n",
       "        }    #T_c25aee30_b2c0_11ea_83c0_48bf6be162d8row22_col6 {\n",
       "            background-color:  #fff5f0;\n",
       "            color:  #000000;\n",
       "        }    #T_c25aee30_b2c0_11ea_83c0_48bf6be162d8row23_col3 {\n",
       "            background-color:  #fff5f0;\n",
       "            color:  #000000;\n",
       "        }    #T_c25aee30_b2c0_11ea_83c0_48bf6be162d8row23_col4 {\n",
       "            background-color:  #fff5f0;\n",
       "            color:  #000000;\n",
       "        }    #T_c25aee30_b2c0_11ea_83c0_48bf6be162d8row23_col5 {\n",
       "            background-color:  #fff5f0;\n",
       "            color:  #000000;\n",
       "        }    #T_c25aee30_b2c0_11ea_83c0_48bf6be162d8row23_col6 {\n",
       "            background-color:  #fff5f0;\n",
       "            color:  #000000;\n",
       "        }    #T_c25aee30_b2c0_11ea_83c0_48bf6be162d8row24_col3 {\n",
       "            background-color:  #ffece4;\n",
       "            color:  #000000;\n",
       "        }    #T_c25aee30_b2c0_11ea_83c0_48bf6be162d8row24_col4 {\n",
       "            background-color:  #fff5f0;\n",
       "            color:  #000000;\n",
       "        }    #T_c25aee30_b2c0_11ea_83c0_48bf6be162d8row24_col5 {\n",
       "            background-color:  #ffefe8;\n",
       "            color:  #000000;\n",
       "        }    #T_c25aee30_b2c0_11ea_83c0_48bf6be162d8row24_col6 {\n",
       "            background-color:  #fff1ea;\n",
       "            color:  #000000;\n",
       "        }    #T_c25aee30_b2c0_11ea_83c0_48bf6be162d8row25_col3 {\n",
       "            background-color:  #fff5f0;\n",
       "            color:  #000000;\n",
       "        }    #T_c25aee30_b2c0_11ea_83c0_48bf6be162d8row25_col4 {\n",
       "            background-color:  #fff5f0;\n",
       "            color:  #000000;\n",
       "        }    #T_c25aee30_b2c0_11ea_83c0_48bf6be162d8row25_col5 {\n",
       "            background-color:  #fff5f0;\n",
       "            color:  #000000;\n",
       "        }    #T_c25aee30_b2c0_11ea_83c0_48bf6be162d8row25_col6 {\n",
       "            background-color:  #fff5f0;\n",
       "            color:  #000000;\n",
       "        }    #T_c25aee30_b2c0_11ea_83c0_48bf6be162d8row26_col3 {\n",
       "            background-color:  #ffeee7;\n",
       "            color:  #000000;\n",
       "        }    #T_c25aee30_b2c0_11ea_83c0_48bf6be162d8row26_col4 {\n",
       "            background-color:  #fff3ed;\n",
       "            color:  #000000;\n",
       "        }    #T_c25aee30_b2c0_11ea_83c0_48bf6be162d8row26_col5 {\n",
       "            background-color:  #fff0e9;\n",
       "            color:  #000000;\n",
       "        }    #T_c25aee30_b2c0_11ea_83c0_48bf6be162d8row26_col6 {\n",
       "            background-color:  #fff2ec;\n",
       "            color:  #000000;\n",
       "        }    #T_c25aee30_b2c0_11ea_83c0_48bf6be162d8row27_col3 {\n",
       "            background-color:  #fdd1be;\n",
       "            color:  #000000;\n",
       "        }    #T_c25aee30_b2c0_11ea_83c0_48bf6be162d8row27_col4 {\n",
       "            background-color:  #ffece3;\n",
       "            color:  #000000;\n",
       "        }    #T_c25aee30_b2c0_11ea_83c0_48bf6be162d8row27_col5 {\n",
       "            background-color:  #fee2d5;\n",
       "            color:  #000000;\n",
       "        }    #T_c25aee30_b2c0_11ea_83c0_48bf6be162d8row27_col6 {\n",
       "            background-color:  #ffece4;\n",
       "            color:  #000000;\n",
       "        }    #T_c25aee30_b2c0_11ea_83c0_48bf6be162d8row28_col3 {\n",
       "            background-color:  #fff5f0;\n",
       "            color:  #000000;\n",
       "        }    #T_c25aee30_b2c0_11ea_83c0_48bf6be162d8row28_col4 {\n",
       "            background-color:  #fff5f0;\n",
       "            color:  #000000;\n",
       "        }    #T_c25aee30_b2c0_11ea_83c0_48bf6be162d8row28_col5 {\n",
       "            background-color:  #fff5f0;\n",
       "            color:  #000000;\n",
       "        }    #T_c25aee30_b2c0_11ea_83c0_48bf6be162d8row28_col6 {\n",
       "            background-color:  #fff5f0;\n",
       "            color:  #000000;\n",
       "        }    #T_c25aee30_b2c0_11ea_83c0_48bf6be162d8row29_col3 {\n",
       "            background-color:  #fb7353;\n",
       "            color:  #000000;\n",
       "        }    #T_c25aee30_b2c0_11ea_83c0_48bf6be162d8row29_col4 {\n",
       "            background-color:  #fee3d7;\n",
       "            color:  #000000;\n",
       "        }    #T_c25aee30_b2c0_11ea_83c0_48bf6be162d8row29_col5 {\n",
       "            background-color:  #fc7f5f;\n",
       "            color:  #000000;\n",
       "        }    #T_c25aee30_b2c0_11ea_83c0_48bf6be162d8row29_col6 {\n",
       "            background-color:  #fc8161;\n",
       "            color:  #000000;\n",
       "        }    #T_c25aee30_b2c0_11ea_83c0_48bf6be162d8row30_col3 {\n",
       "            background-color:  #ffece4;\n",
       "            color:  #000000;\n",
       "        }    #T_c25aee30_b2c0_11ea_83c0_48bf6be162d8row30_col4 {\n",
       "            background-color:  #fff0e8;\n",
       "            color:  #000000;\n",
       "        }    #T_c25aee30_b2c0_11ea_83c0_48bf6be162d8row30_col5 {\n",
       "            background-color:  #ffede5;\n",
       "            color:  #000000;\n",
       "        }    #T_c25aee30_b2c0_11ea_83c0_48bf6be162d8row30_col6 {\n",
       "            background-color:  #ffeee6;\n",
       "            color:  #000000;\n",
       "        }    #T_c25aee30_b2c0_11ea_83c0_48bf6be162d8row31_col3 {\n",
       "            background-color:  #fff4ee;\n",
       "            color:  #000000;\n",
       "        }    #T_c25aee30_b2c0_11ea_83c0_48bf6be162d8row31_col4 {\n",
       "            background-color:  #fff5f0;\n",
       "            color:  #000000;\n",
       "        }    #T_c25aee30_b2c0_11ea_83c0_48bf6be162d8row31_col5 {\n",
       "            background-color:  #fff4ee;\n",
       "            color:  #000000;\n",
       "        }    #T_c25aee30_b2c0_11ea_83c0_48bf6be162d8row31_col6 {\n",
       "            background-color:  #fff4ee;\n",
       "            color:  #000000;\n",
       "        }    #T_c25aee30_b2c0_11ea_83c0_48bf6be162d8row32_col3 {\n",
       "            background-color:  #fff2eb;\n",
       "            color:  #000000;\n",
       "        }    #T_c25aee30_b2c0_11ea_83c0_48bf6be162d8row32_col4 {\n",
       "            background-color:  #fff4ef;\n",
       "            color:  #000000;\n",
       "        }    #T_c25aee30_b2c0_11ea_83c0_48bf6be162d8row32_col5 {\n",
       "            background-color:  #fff2ec;\n",
       "            color:  #000000;\n",
       "        }    #T_c25aee30_b2c0_11ea_83c0_48bf6be162d8row32_col6 {\n",
       "            background-color:  #fff3ed;\n",
       "            color:  #000000;\n",
       "        }    #T_c25aee30_b2c0_11ea_83c0_48bf6be162d8row33_col3 {\n",
       "            background-color:  #fed9c9;\n",
       "            color:  #000000;\n",
       "        }    #T_c25aee30_b2c0_11ea_83c0_48bf6be162d8row33_col4 {\n",
       "            background-color:  #fee8dd;\n",
       "            color:  #000000;\n",
       "        }    #T_c25aee30_b2c0_11ea_83c0_48bf6be162d8row33_col5 {\n",
       "            background-color:  #fee0d2;\n",
       "            color:  #000000;\n",
       "        }    #T_c25aee30_b2c0_11ea_83c0_48bf6be162d8row33_col6 {\n",
       "            background-color:  #fee5d8;\n",
       "            color:  #000000;\n",
       "        }    #T_c25aee30_b2c0_11ea_83c0_48bf6be162d8row34_col3 {\n",
       "            background-color:  #fee2d5;\n",
       "            color:  #000000;\n",
       "        }    #T_c25aee30_b2c0_11ea_83c0_48bf6be162d8row34_col4 {\n",
       "            background-color:  #fee6da;\n",
       "            color:  #000000;\n",
       "        }    #T_c25aee30_b2c0_11ea_83c0_48bf6be162d8row34_col5 {\n",
       "            background-color:  #fee4d8;\n",
       "            color:  #000000;\n",
       "        }    #T_c25aee30_b2c0_11ea_83c0_48bf6be162d8row34_col6 {\n",
       "            background-color:  #fee5d9;\n",
       "            color:  #000000;\n",
       "        }    #T_c25aee30_b2c0_11ea_83c0_48bf6be162d8row35_col3 {\n",
       "            background-color:  #fff5f0;\n",
       "            color:  #000000;\n",
       "        }    #T_c25aee30_b2c0_11ea_83c0_48bf6be162d8row35_col4 {\n",
       "            background-color:  #fff5f0;\n",
       "            color:  #000000;\n",
       "        }    #T_c25aee30_b2c0_11ea_83c0_48bf6be162d8row35_col5 {\n",
       "            background-color:  #fee9df;\n",
       "            color:  #000000;\n",
       "        }    #T_c25aee30_b2c0_11ea_83c0_48bf6be162d8row35_col6 {\n",
       "            background-color:  #fdd4c2;\n",
       "            color:  #000000;\n",
       "        }</style><table id=\"T_c25aee30_b2c0_11ea_83c0_48bf6be162d8\" ><thead>    <tr>        <th class=\"blank level0\" ></th>        <th class=\"col_heading level0 col0\" >Date</th>        <th class=\"col_heading level0 col1\" >Time</th>        <th class=\"col_heading level0 col2\" >State/UnionTerritory</th>        <th class=\"col_heading level0 col3\" >Cured</th>        <th class=\"col_heading level0 col4\" >Deaths</th>        <th class=\"col_heading level0 col5\" >Confirmed</th>        <th class=\"col_heading level0 col6\" >Total_Active_Cases</th>    </tr></thead><tbody>\n",
       "                <tr>\n",
       "                        <th id=\"T_c25aee30_b2c0_11ea_83c0_48bf6be162d8level0_row0\" class=\"row_heading level0 row0\" >3171</th>\n",
       "                        <td id=\"T_c25aee30_b2c0_11ea_83c0_48bf6be162d8row0_col0\" class=\"data row0 col0\" >19/06/20</td>\n",
       "                        <td id=\"T_c25aee30_b2c0_11ea_83c0_48bf6be162d8row0_col1\" class=\"data row0 col1\" >8:00 AM</td>\n",
       "                        <td id=\"T_c25aee30_b2c0_11ea_83c0_48bf6be162d8row0_col2\" class=\"data row0 col2\" >Andaman and Nicobar Islands</td>\n",
       "                        <td id=\"T_c25aee30_b2c0_11ea_83c0_48bf6be162d8row0_col3\" class=\"data row0 col3\" >33</td>\n",
       "                        <td id=\"T_c25aee30_b2c0_11ea_83c0_48bf6be162d8row0_col4\" class=\"data row0 col4\" >0</td>\n",
       "                        <td id=\"T_c25aee30_b2c0_11ea_83c0_48bf6be162d8row0_col5\" class=\"data row0 col5\" >44</td>\n",
       "                        <td id=\"T_c25aee30_b2c0_11ea_83c0_48bf6be162d8row0_col6\" class=\"data row0 col6\" >11</td>\n",
       "            </tr>\n",
       "            <tr>\n",
       "                        <th id=\"T_c25aee30_b2c0_11ea_83c0_48bf6be162d8level0_row1\" class=\"row_heading level0 row1\" >3172</th>\n",
       "                        <td id=\"T_c25aee30_b2c0_11ea_83c0_48bf6be162d8row1_col0\" class=\"data row1 col0\" >19/06/20</td>\n",
       "                        <td id=\"T_c25aee30_b2c0_11ea_83c0_48bf6be162d8row1_col1\" class=\"data row1 col1\" >8:00 AM</td>\n",
       "                        <td id=\"T_c25aee30_b2c0_11ea_83c0_48bf6be162d8row1_col2\" class=\"data row1 col2\" >Andhra Pradesh</td>\n",
       "                        <td id=\"T_c25aee30_b2c0_11ea_83c0_48bf6be162d8row1_col3\" class=\"data row1 col3\" >3789</td>\n",
       "                        <td id=\"T_c25aee30_b2c0_11ea_83c0_48bf6be162d8row1_col4\" class=\"data row1 col4\" >92</td>\n",
       "                        <td id=\"T_c25aee30_b2c0_11ea_83c0_48bf6be162d8row1_col5\" class=\"data row1 col5\" >7518</td>\n",
       "                        <td id=\"T_c25aee30_b2c0_11ea_83c0_48bf6be162d8row1_col6\" class=\"data row1 col6\" >3637</td>\n",
       "            </tr>\n",
       "            <tr>\n",
       "                        <th id=\"T_c25aee30_b2c0_11ea_83c0_48bf6be162d8level0_row2\" class=\"row_heading level0 row2\" >3173</th>\n",
       "                        <td id=\"T_c25aee30_b2c0_11ea_83c0_48bf6be162d8row2_col0\" class=\"data row2 col0\" >19/06/20</td>\n",
       "                        <td id=\"T_c25aee30_b2c0_11ea_83c0_48bf6be162d8row2_col1\" class=\"data row2 col1\" >8:00 AM</td>\n",
       "                        <td id=\"T_c25aee30_b2c0_11ea_83c0_48bf6be162d8row2_col2\" class=\"data row2 col2\" >Arunachal Pradesh</td>\n",
       "                        <td id=\"T_c25aee30_b2c0_11ea_83c0_48bf6be162d8row2_col3\" class=\"data row2 col3\" >10</td>\n",
       "                        <td id=\"T_c25aee30_b2c0_11ea_83c0_48bf6be162d8row2_col4\" class=\"data row2 col4\" >0</td>\n",
       "                        <td id=\"T_c25aee30_b2c0_11ea_83c0_48bf6be162d8row2_col5\" class=\"data row2 col5\" >103</td>\n",
       "                        <td id=\"T_c25aee30_b2c0_11ea_83c0_48bf6be162d8row2_col6\" class=\"data row2 col6\" >93</td>\n",
       "            </tr>\n",
       "            <tr>\n",
       "                        <th id=\"T_c25aee30_b2c0_11ea_83c0_48bf6be162d8level0_row3\" class=\"row_heading level0 row3\" >3174</th>\n",
       "                        <td id=\"T_c25aee30_b2c0_11ea_83c0_48bf6be162d8row3_col0\" class=\"data row3 col0\" >19/06/20</td>\n",
       "                        <td id=\"T_c25aee30_b2c0_11ea_83c0_48bf6be162d8row3_col1\" class=\"data row3 col1\" >8:00 AM</td>\n",
       "                        <td id=\"T_c25aee30_b2c0_11ea_83c0_48bf6be162d8row3_col2\" class=\"data row3 col2\" >Assam</td>\n",
       "                        <td id=\"T_c25aee30_b2c0_11ea_83c0_48bf6be162d8row3_col3\" class=\"data row3 col3\" >2654</td>\n",
       "                        <td id=\"T_c25aee30_b2c0_11ea_83c0_48bf6be162d8row3_col4\" class=\"data row3 col4\" >9</td>\n",
       "                        <td id=\"T_c25aee30_b2c0_11ea_83c0_48bf6be162d8row3_col5\" class=\"data row3 col5\" >4777</td>\n",
       "                        <td id=\"T_c25aee30_b2c0_11ea_83c0_48bf6be162d8row3_col6\" class=\"data row3 col6\" >2114</td>\n",
       "            </tr>\n",
       "            <tr>\n",
       "                        <th id=\"T_c25aee30_b2c0_11ea_83c0_48bf6be162d8level0_row4\" class=\"row_heading level0 row4\" >3175</th>\n",
       "                        <td id=\"T_c25aee30_b2c0_11ea_83c0_48bf6be162d8row4_col0\" class=\"data row4 col0\" >19/06/20</td>\n",
       "                        <td id=\"T_c25aee30_b2c0_11ea_83c0_48bf6be162d8row4_col1\" class=\"data row4 col1\" >8:00 AM</td>\n",
       "                        <td id=\"T_c25aee30_b2c0_11ea_83c0_48bf6be162d8row4_col2\" class=\"data row4 col2\" >Bihar</td>\n",
       "                        <td id=\"T_c25aee30_b2c0_11ea_83c0_48bf6be162d8row4_col3\" class=\"data row4 col3\" >5056</td>\n",
       "                        <td id=\"T_c25aee30_b2c0_11ea_83c0_48bf6be162d8row4_col4\" class=\"data row4 col4\" >44</td>\n",
       "                        <td id=\"T_c25aee30_b2c0_11ea_83c0_48bf6be162d8row4_col5\" class=\"data row4 col5\" >7025</td>\n",
       "                        <td id=\"T_c25aee30_b2c0_11ea_83c0_48bf6be162d8row4_col6\" class=\"data row4 col6\" >1925</td>\n",
       "            </tr>\n",
       "            <tr>\n",
       "                        <th id=\"T_c25aee30_b2c0_11ea_83c0_48bf6be162d8level0_row5\" class=\"row_heading level0 row5\" >3176</th>\n",
       "                        <td id=\"T_c25aee30_b2c0_11ea_83c0_48bf6be162d8row5_col0\" class=\"data row5 col0\" >19/06/20</td>\n",
       "                        <td id=\"T_c25aee30_b2c0_11ea_83c0_48bf6be162d8row5_col1\" class=\"data row5 col1\" >8:00 AM</td>\n",
       "                        <td id=\"T_c25aee30_b2c0_11ea_83c0_48bf6be162d8row5_col2\" class=\"data row5 col2\" >Chandigarh</td>\n",
       "                        <td id=\"T_c25aee30_b2c0_11ea_83c0_48bf6be162d8row5_col3\" class=\"data row5 col3\" >306</td>\n",
       "                        <td id=\"T_c25aee30_b2c0_11ea_83c0_48bf6be162d8row5_col4\" class=\"data row5 col4\" >6</td>\n",
       "                        <td id=\"T_c25aee30_b2c0_11ea_83c0_48bf6be162d8row5_col5\" class=\"data row5 col5\" >374</td>\n",
       "                        <td id=\"T_c25aee30_b2c0_11ea_83c0_48bf6be162d8row5_col6\" class=\"data row5 col6\" >62</td>\n",
       "            </tr>\n",
       "            <tr>\n",
       "                        <th id=\"T_c25aee30_b2c0_11ea_83c0_48bf6be162d8level0_row6\" class=\"row_heading level0 row6\" >3177</th>\n",
       "                        <td id=\"T_c25aee30_b2c0_11ea_83c0_48bf6be162d8row6_col0\" class=\"data row6 col0\" >19/06/20</td>\n",
       "                        <td id=\"T_c25aee30_b2c0_11ea_83c0_48bf6be162d8row6_col1\" class=\"data row6 col1\" >8:00 AM</td>\n",
       "                        <td id=\"T_c25aee30_b2c0_11ea_83c0_48bf6be162d8row6_col2\" class=\"data row6 col2\" >Chhattisgarh</td>\n",
       "                        <td id=\"T_c25aee30_b2c0_11ea_83c0_48bf6be162d8row6_col3\" class=\"data row6 col3\" >1228</td>\n",
       "                        <td id=\"T_c25aee30_b2c0_11ea_83c0_48bf6be162d8row6_col4\" class=\"data row6 col4\" >10</td>\n",
       "                        <td id=\"T_c25aee30_b2c0_11ea_83c0_48bf6be162d8row6_col5\" class=\"data row6 col5\" >1946</td>\n",
       "                        <td id=\"T_c25aee30_b2c0_11ea_83c0_48bf6be162d8row6_col6\" class=\"data row6 col6\" >708</td>\n",
       "            </tr>\n",
       "            <tr>\n",
       "                        <th id=\"T_c25aee30_b2c0_11ea_83c0_48bf6be162d8level0_row7\" class=\"row_heading level0 row7\" >3178</th>\n",
       "                        <td id=\"T_c25aee30_b2c0_11ea_83c0_48bf6be162d8row7_col0\" class=\"data row7 col0\" >19/06/20</td>\n",
       "                        <td id=\"T_c25aee30_b2c0_11ea_83c0_48bf6be162d8row7_col1\" class=\"data row7 col1\" >8:00 AM</td>\n",
       "                        <td id=\"T_c25aee30_b2c0_11ea_83c0_48bf6be162d8row7_col2\" class=\"data row7 col2\" >Dadra and Nagar Haveli and Daman and Diu</td>\n",
       "                        <td id=\"T_c25aee30_b2c0_11ea_83c0_48bf6be162d8row7_col3\" class=\"data row7 col3\" >13</td>\n",
       "                        <td id=\"T_c25aee30_b2c0_11ea_83c0_48bf6be162d8row7_col4\" class=\"data row7 col4\" >0</td>\n",
       "                        <td id=\"T_c25aee30_b2c0_11ea_83c0_48bf6be162d8row7_col5\" class=\"data row7 col5\" >58</td>\n",
       "                        <td id=\"T_c25aee30_b2c0_11ea_83c0_48bf6be162d8row7_col6\" class=\"data row7 col6\" >45</td>\n",
       "            </tr>\n",
       "            <tr>\n",
       "                        <th id=\"T_c25aee30_b2c0_11ea_83c0_48bf6be162d8level0_row8\" class=\"row_heading level0 row8\" >3179</th>\n",
       "                        <td id=\"T_c25aee30_b2c0_11ea_83c0_48bf6be162d8row8_col0\" class=\"data row8 col0\" >19/06/20</td>\n",
       "                        <td id=\"T_c25aee30_b2c0_11ea_83c0_48bf6be162d8row8_col1\" class=\"data row8 col1\" >8:00 AM</td>\n",
       "                        <td id=\"T_c25aee30_b2c0_11ea_83c0_48bf6be162d8row8_col2\" class=\"data row8 col2\" >Delhi</td>\n",
       "                        <td id=\"T_c25aee30_b2c0_11ea_83c0_48bf6be162d8row8_col3\" class=\"data row8 col3\" >21341</td>\n",
       "                        <td id=\"T_c25aee30_b2c0_11ea_83c0_48bf6be162d8row8_col4\" class=\"data row8 col4\" >1969</td>\n",
       "                        <td id=\"T_c25aee30_b2c0_11ea_83c0_48bf6be162d8row8_col5\" class=\"data row8 col5\" >49979</td>\n",
       "                        <td id=\"T_c25aee30_b2c0_11ea_83c0_48bf6be162d8row8_col6\" class=\"data row8 col6\" >26669</td>\n",
       "            </tr>\n",
       "            <tr>\n",
       "                        <th id=\"T_c25aee30_b2c0_11ea_83c0_48bf6be162d8level0_row9\" class=\"row_heading level0 row9\" >3180</th>\n",
       "                        <td id=\"T_c25aee30_b2c0_11ea_83c0_48bf6be162d8row9_col0\" class=\"data row9 col0\" >19/06/20</td>\n",
       "                        <td id=\"T_c25aee30_b2c0_11ea_83c0_48bf6be162d8row9_col1\" class=\"data row9 col1\" >8:00 AM</td>\n",
       "                        <td id=\"T_c25aee30_b2c0_11ea_83c0_48bf6be162d8row9_col2\" class=\"data row9 col2\" >Goa</td>\n",
       "                        <td id=\"T_c25aee30_b2c0_11ea_83c0_48bf6be162d8row9_col3\" class=\"data row9 col3\" >109</td>\n",
       "                        <td id=\"T_c25aee30_b2c0_11ea_83c0_48bf6be162d8row9_col4\" class=\"data row9 col4\" >0</td>\n",
       "                        <td id=\"T_c25aee30_b2c0_11ea_83c0_48bf6be162d8row9_col5\" class=\"data row9 col5\" >705</td>\n",
       "                        <td id=\"T_c25aee30_b2c0_11ea_83c0_48bf6be162d8row9_col6\" class=\"data row9 col6\" >596</td>\n",
       "            </tr>\n",
       "            <tr>\n",
       "                        <th id=\"T_c25aee30_b2c0_11ea_83c0_48bf6be162d8level0_row10\" class=\"row_heading level0 row10\" >3181</th>\n",
       "                        <td id=\"T_c25aee30_b2c0_11ea_83c0_48bf6be162d8row10_col0\" class=\"data row10 col0\" >19/06/20</td>\n",
       "                        <td id=\"T_c25aee30_b2c0_11ea_83c0_48bf6be162d8row10_col1\" class=\"data row10 col1\" >8:00 AM</td>\n",
       "                        <td id=\"T_c25aee30_b2c0_11ea_83c0_48bf6be162d8row10_col2\" class=\"data row10 col2\" >Gujarat</td>\n",
       "                        <td id=\"T_c25aee30_b2c0_11ea_83c0_48bf6be162d8row10_col3\" class=\"data row10 col3\" >17819</td>\n",
       "                        <td id=\"T_c25aee30_b2c0_11ea_83c0_48bf6be162d8row10_col4\" class=\"data row10 col4\" >1591</td>\n",
       "                        <td id=\"T_c25aee30_b2c0_11ea_83c0_48bf6be162d8row10_col5\" class=\"data row10 col5\" >25601</td>\n",
       "                        <td id=\"T_c25aee30_b2c0_11ea_83c0_48bf6be162d8row10_col6\" class=\"data row10 col6\" >6191</td>\n",
       "            </tr>\n",
       "            <tr>\n",
       "                        <th id=\"T_c25aee30_b2c0_11ea_83c0_48bf6be162d8level0_row11\" class=\"row_heading level0 row11\" >3182</th>\n",
       "                        <td id=\"T_c25aee30_b2c0_11ea_83c0_48bf6be162d8row11_col0\" class=\"data row11 col0\" >19/06/20</td>\n",
       "                        <td id=\"T_c25aee30_b2c0_11ea_83c0_48bf6be162d8row11_col1\" class=\"data row11 col1\" >8:00 AM</td>\n",
       "                        <td id=\"T_c25aee30_b2c0_11ea_83c0_48bf6be162d8row11_col2\" class=\"data row11 col2\" >Haryana</td>\n",
       "                        <td id=\"T_c25aee30_b2c0_11ea_83c0_48bf6be162d8row11_col3\" class=\"data row11 col3\" >4556</td>\n",
       "                        <td id=\"T_c25aee30_b2c0_11ea_83c0_48bf6be162d8row11_col4\" class=\"data row11 col4\" >134</td>\n",
       "                        <td id=\"T_c25aee30_b2c0_11ea_83c0_48bf6be162d8row11_col5\" class=\"data row11 col5\" >9218</td>\n",
       "                        <td id=\"T_c25aee30_b2c0_11ea_83c0_48bf6be162d8row11_col6\" class=\"data row11 col6\" >4528</td>\n",
       "            </tr>\n",
       "            <tr>\n",
       "                        <th id=\"T_c25aee30_b2c0_11ea_83c0_48bf6be162d8level0_row12\" class=\"row_heading level0 row12\" >3183</th>\n",
       "                        <td id=\"T_c25aee30_b2c0_11ea_83c0_48bf6be162d8row12_col0\" class=\"data row12 col0\" >19/06/20</td>\n",
       "                        <td id=\"T_c25aee30_b2c0_11ea_83c0_48bf6be162d8row12_col1\" class=\"data row12 col1\" >8:00 AM</td>\n",
       "                        <td id=\"T_c25aee30_b2c0_11ea_83c0_48bf6be162d8row12_col2\" class=\"data row12 col2\" >Himachal Pradesh</td>\n",
       "                        <td id=\"T_c25aee30_b2c0_11ea_83c0_48bf6be162d8row12_col3\" class=\"data row12 col3\" >382</td>\n",
       "                        <td id=\"T_c25aee30_b2c0_11ea_83c0_48bf6be162d8row12_col4\" class=\"data row12 col4\" >8</td>\n",
       "                        <td id=\"T_c25aee30_b2c0_11ea_83c0_48bf6be162d8row12_col5\" class=\"data row12 col5\" >595</td>\n",
       "                        <td id=\"T_c25aee30_b2c0_11ea_83c0_48bf6be162d8row12_col6\" class=\"data row12 col6\" >205</td>\n",
       "            </tr>\n",
       "            <tr>\n",
       "                        <th id=\"T_c25aee30_b2c0_11ea_83c0_48bf6be162d8level0_row13\" class=\"row_heading level0 row13\" >3184</th>\n",
       "                        <td id=\"T_c25aee30_b2c0_11ea_83c0_48bf6be162d8row13_col0\" class=\"data row13 col0\" >19/06/20</td>\n",
       "                        <td id=\"T_c25aee30_b2c0_11ea_83c0_48bf6be162d8row13_col1\" class=\"data row13 col1\" >8:00 AM</td>\n",
       "                        <td id=\"T_c25aee30_b2c0_11ea_83c0_48bf6be162d8row13_col2\" class=\"data row13 col2\" >Jammu and Kashmir</td>\n",
       "                        <td id=\"T_c25aee30_b2c0_11ea_83c0_48bf6be162d8row13_col3\" class=\"data row13 col3\" >3144</td>\n",
       "                        <td id=\"T_c25aee30_b2c0_11ea_83c0_48bf6be162d8row13_col4\" class=\"data row13 col4\" >71</td>\n",
       "                        <td id=\"T_c25aee30_b2c0_11ea_83c0_48bf6be162d8row13_col5\" class=\"data row13 col5\" >5555</td>\n",
       "                        <td id=\"T_c25aee30_b2c0_11ea_83c0_48bf6be162d8row13_col6\" class=\"data row13 col6\" >2340</td>\n",
       "            </tr>\n",
       "            <tr>\n",
       "                        <th id=\"T_c25aee30_b2c0_11ea_83c0_48bf6be162d8level0_row14\" class=\"row_heading level0 row14\" >3185</th>\n",
       "                        <td id=\"T_c25aee30_b2c0_11ea_83c0_48bf6be162d8row14_col0\" class=\"data row14 col0\" >19/06/20</td>\n",
       "                        <td id=\"T_c25aee30_b2c0_11ea_83c0_48bf6be162d8row14_col1\" class=\"data row14 col1\" >8:00 AM</td>\n",
       "                        <td id=\"T_c25aee30_b2c0_11ea_83c0_48bf6be162d8row14_col2\" class=\"data row14 col2\" >Jharkhand</td>\n",
       "                        <td id=\"T_c25aee30_b2c0_11ea_83c0_48bf6be162d8row14_col3\" class=\"data row14 col3\" >1198</td>\n",
       "                        <td id=\"T_c25aee30_b2c0_11ea_83c0_48bf6be162d8row14_col4\" class=\"data row14 col4\" >11</td>\n",
       "                        <td id=\"T_c25aee30_b2c0_11ea_83c0_48bf6be162d8row14_col5\" class=\"data row14 col5\" >1920</td>\n",
       "                        <td id=\"T_c25aee30_b2c0_11ea_83c0_48bf6be162d8row14_col6\" class=\"data row14 col6\" >711</td>\n",
       "            </tr>\n",
       "            <tr>\n",
       "                        <th id=\"T_c25aee30_b2c0_11ea_83c0_48bf6be162d8level0_row15\" class=\"row_heading level0 row15\" >3186</th>\n",
       "                        <td id=\"T_c25aee30_b2c0_11ea_83c0_48bf6be162d8row15_col0\" class=\"data row15 col0\" >19/06/20</td>\n",
       "                        <td id=\"T_c25aee30_b2c0_11ea_83c0_48bf6be162d8row15_col1\" class=\"data row15 col1\" >8:00 AM</td>\n",
       "                        <td id=\"T_c25aee30_b2c0_11ea_83c0_48bf6be162d8row15_col2\" class=\"data row15 col2\" >Karnataka</td>\n",
       "                        <td id=\"T_c25aee30_b2c0_11ea_83c0_48bf6be162d8row15_col3\" class=\"data row15 col3\" >4983</td>\n",
       "                        <td id=\"T_c25aee30_b2c0_11ea_83c0_48bf6be162d8row15_col4\" class=\"data row15 col4\" >114</td>\n",
       "                        <td id=\"T_c25aee30_b2c0_11ea_83c0_48bf6be162d8row15_col5\" class=\"data row15 col5\" >7944</td>\n",
       "                        <td id=\"T_c25aee30_b2c0_11ea_83c0_48bf6be162d8row15_col6\" class=\"data row15 col6\" >2847</td>\n",
       "            </tr>\n",
       "            <tr>\n",
       "                        <th id=\"T_c25aee30_b2c0_11ea_83c0_48bf6be162d8level0_row16\" class=\"row_heading level0 row16\" >3187</th>\n",
       "                        <td id=\"T_c25aee30_b2c0_11ea_83c0_48bf6be162d8row16_col0\" class=\"data row16 col0\" >19/06/20</td>\n",
       "                        <td id=\"T_c25aee30_b2c0_11ea_83c0_48bf6be162d8row16_col1\" class=\"data row16 col1\" >8:00 AM</td>\n",
       "                        <td id=\"T_c25aee30_b2c0_11ea_83c0_48bf6be162d8row16_col2\" class=\"data row16 col2\" >Kerala</td>\n",
       "                        <td id=\"T_c25aee30_b2c0_11ea_83c0_48bf6be162d8row16_col3\" class=\"data row16 col3\" >1415</td>\n",
       "                        <td id=\"T_c25aee30_b2c0_11ea_83c0_48bf6be162d8row16_col4\" class=\"data row16 col4\" >21</td>\n",
       "                        <td id=\"T_c25aee30_b2c0_11ea_83c0_48bf6be162d8row16_col5\" class=\"data row16 col5\" >2794</td>\n",
       "                        <td id=\"T_c25aee30_b2c0_11ea_83c0_48bf6be162d8row16_col6\" class=\"data row16 col6\" >1358</td>\n",
       "            </tr>\n",
       "            <tr>\n",
       "                        <th id=\"T_c25aee30_b2c0_11ea_83c0_48bf6be162d8level0_row17\" class=\"row_heading level0 row17\" >3188</th>\n",
       "                        <td id=\"T_c25aee30_b2c0_11ea_83c0_48bf6be162d8row17_col0\" class=\"data row17 col0\" >19/06/20</td>\n",
       "                        <td id=\"T_c25aee30_b2c0_11ea_83c0_48bf6be162d8row17_col1\" class=\"data row17 col1\" >8:00 AM</td>\n",
       "                        <td id=\"T_c25aee30_b2c0_11ea_83c0_48bf6be162d8row17_col2\" class=\"data row17 col2\" >Ladakh</td>\n",
       "                        <td id=\"T_c25aee30_b2c0_11ea_83c0_48bf6be162d8row17_col3\" class=\"data row17 col3\" >95</td>\n",
       "                        <td id=\"T_c25aee30_b2c0_11ea_83c0_48bf6be162d8row17_col4\" class=\"data row17 col4\" >1</td>\n",
       "                        <td id=\"T_c25aee30_b2c0_11ea_83c0_48bf6be162d8row17_col5\" class=\"data row17 col5\" >687</td>\n",
       "                        <td id=\"T_c25aee30_b2c0_11ea_83c0_48bf6be162d8row17_col6\" class=\"data row17 col6\" >591</td>\n",
       "            </tr>\n",
       "            <tr>\n",
       "                        <th id=\"T_c25aee30_b2c0_11ea_83c0_48bf6be162d8level0_row18\" class=\"row_heading level0 row18\" >3189</th>\n",
       "                        <td id=\"T_c25aee30_b2c0_11ea_83c0_48bf6be162d8row18_col0\" class=\"data row18 col0\" >19/06/20</td>\n",
       "                        <td id=\"T_c25aee30_b2c0_11ea_83c0_48bf6be162d8row18_col1\" class=\"data row18 col1\" >8:00 AM</td>\n",
       "                        <td id=\"T_c25aee30_b2c0_11ea_83c0_48bf6be162d8row18_col2\" class=\"data row18 col2\" >Madhya Pradesh</td>\n",
       "                        <td id=\"T_c25aee30_b2c0_11ea_83c0_48bf6be162d8row18_col3\" class=\"data row18 col3\" >8632</td>\n",
       "                        <td id=\"T_c25aee30_b2c0_11ea_83c0_48bf6be162d8row18_col4\" class=\"data row18 col4\" >486</td>\n",
       "                        <td id=\"T_c25aee30_b2c0_11ea_83c0_48bf6be162d8row18_col5\" class=\"data row18 col5\" >11426</td>\n",
       "                        <td id=\"T_c25aee30_b2c0_11ea_83c0_48bf6be162d8row18_col6\" class=\"data row18 col6\" >2308</td>\n",
       "            </tr>\n",
       "            <tr>\n",
       "                        <th id=\"T_c25aee30_b2c0_11ea_83c0_48bf6be162d8level0_row19\" class=\"row_heading level0 row19\" >3190</th>\n",
       "                        <td id=\"T_c25aee30_b2c0_11ea_83c0_48bf6be162d8row19_col0\" class=\"data row19 col0\" >19/06/20</td>\n",
       "                        <td id=\"T_c25aee30_b2c0_11ea_83c0_48bf6be162d8row19_col1\" class=\"data row19 col1\" >8:00 AM</td>\n",
       "                        <td id=\"T_c25aee30_b2c0_11ea_83c0_48bf6be162d8row19_col2\" class=\"data row19 col2\" >Maharashtra</td>\n",
       "                        <td id=\"T_c25aee30_b2c0_11ea_83c0_48bf6be162d8row19_col3\" class=\"data row19 col3\" >60838</td>\n",
       "                        <td id=\"T_c25aee30_b2c0_11ea_83c0_48bf6be162d8row19_col4\" class=\"data row19 col4\" >5751</td>\n",
       "                        <td id=\"T_c25aee30_b2c0_11ea_83c0_48bf6be162d8row19_col5\" class=\"data row19 col5\" >120504</td>\n",
       "                        <td id=\"T_c25aee30_b2c0_11ea_83c0_48bf6be162d8row19_col6\" class=\"data row19 col6\" >53915</td>\n",
       "            </tr>\n",
       "            <tr>\n",
       "                        <th id=\"T_c25aee30_b2c0_11ea_83c0_48bf6be162d8level0_row20\" class=\"row_heading level0 row20\" >3191</th>\n",
       "                        <td id=\"T_c25aee30_b2c0_11ea_83c0_48bf6be162d8row20_col0\" class=\"data row20 col0\" >19/06/20</td>\n",
       "                        <td id=\"T_c25aee30_b2c0_11ea_83c0_48bf6be162d8row20_col1\" class=\"data row20 col1\" >8:00 AM</td>\n",
       "                        <td id=\"T_c25aee30_b2c0_11ea_83c0_48bf6be162d8row20_col2\" class=\"data row20 col2\" >Manipur</td>\n",
       "                        <td id=\"T_c25aee30_b2c0_11ea_83c0_48bf6be162d8row20_col3\" class=\"data row20 col3\" >199</td>\n",
       "                        <td id=\"T_c25aee30_b2c0_11ea_83c0_48bf6be162d8row20_col4\" class=\"data row20 col4\" >0</td>\n",
       "                        <td id=\"T_c25aee30_b2c0_11ea_83c0_48bf6be162d8row20_col5\" class=\"data row20 col5\" >606</td>\n",
       "                        <td id=\"T_c25aee30_b2c0_11ea_83c0_48bf6be162d8row20_col6\" class=\"data row20 col6\" >407</td>\n",
       "            </tr>\n",
       "            <tr>\n",
       "                        <th id=\"T_c25aee30_b2c0_11ea_83c0_48bf6be162d8level0_row21\" class=\"row_heading level0 row21\" >3192</th>\n",
       "                        <td id=\"T_c25aee30_b2c0_11ea_83c0_48bf6be162d8row21_col0\" class=\"data row21 col0\" >19/06/20</td>\n",
       "                        <td id=\"T_c25aee30_b2c0_11ea_83c0_48bf6be162d8row21_col1\" class=\"data row21 col1\" >8:00 AM</td>\n",
       "                        <td id=\"T_c25aee30_b2c0_11ea_83c0_48bf6be162d8row21_col2\" class=\"data row21 col2\" >Meghalaya</td>\n",
       "                        <td id=\"T_c25aee30_b2c0_11ea_83c0_48bf6be162d8row21_col3\" class=\"data row21 col3\" >30</td>\n",
       "                        <td id=\"T_c25aee30_b2c0_11ea_83c0_48bf6be162d8row21_col4\" class=\"data row21 col4\" >1</td>\n",
       "                        <td id=\"T_c25aee30_b2c0_11ea_83c0_48bf6be162d8row21_col5\" class=\"data row21 col5\" >44</td>\n",
       "                        <td id=\"T_c25aee30_b2c0_11ea_83c0_48bf6be162d8row21_col6\" class=\"data row21 col6\" >13</td>\n",
       "            </tr>\n",
       "            <tr>\n",
       "                        <th id=\"T_c25aee30_b2c0_11ea_83c0_48bf6be162d8level0_row22\" class=\"row_heading level0 row22\" >3193</th>\n",
       "                        <td id=\"T_c25aee30_b2c0_11ea_83c0_48bf6be162d8row22_col0\" class=\"data row22 col0\" >19/06/20</td>\n",
       "                        <td id=\"T_c25aee30_b2c0_11ea_83c0_48bf6be162d8row22_col1\" class=\"data row22 col1\" >8:00 AM</td>\n",
       "                        <td id=\"T_c25aee30_b2c0_11ea_83c0_48bf6be162d8row22_col2\" class=\"data row22 col2\" >Mizoram</td>\n",
       "                        <td id=\"T_c25aee30_b2c0_11ea_83c0_48bf6be162d8row22_col3\" class=\"data row22 col3\" >1</td>\n",
       "                        <td id=\"T_c25aee30_b2c0_11ea_83c0_48bf6be162d8row22_col4\" class=\"data row22 col4\" >0</td>\n",
       "                        <td id=\"T_c25aee30_b2c0_11ea_83c0_48bf6be162d8row22_col5\" class=\"data row22 col5\" >130</td>\n",
       "                        <td id=\"T_c25aee30_b2c0_11ea_83c0_48bf6be162d8row22_col6\" class=\"data row22 col6\" >129</td>\n",
       "            </tr>\n",
       "            <tr>\n",
       "                        <th id=\"T_c25aee30_b2c0_11ea_83c0_48bf6be162d8level0_row23\" class=\"row_heading level0 row23\" >3194</th>\n",
       "                        <td id=\"T_c25aee30_b2c0_11ea_83c0_48bf6be162d8row23_col0\" class=\"data row23 col0\" >19/06/20</td>\n",
       "                        <td id=\"T_c25aee30_b2c0_11ea_83c0_48bf6be162d8row23_col1\" class=\"data row23 col1\" >8:00 AM</td>\n",
       "                        <td id=\"T_c25aee30_b2c0_11ea_83c0_48bf6be162d8row23_col2\" class=\"data row23 col2\" >Nagaland</td>\n",
       "                        <td id=\"T_c25aee30_b2c0_11ea_83c0_48bf6be162d8row23_col3\" class=\"data row23 col3\" >103</td>\n",
       "                        <td id=\"T_c25aee30_b2c0_11ea_83c0_48bf6be162d8row23_col4\" class=\"data row23 col4\" >0</td>\n",
       "                        <td id=\"T_c25aee30_b2c0_11ea_83c0_48bf6be162d8row23_col5\" class=\"data row23 col5\" >193</td>\n",
       "                        <td id=\"T_c25aee30_b2c0_11ea_83c0_48bf6be162d8row23_col6\" class=\"data row23 col6\" >90</td>\n",
       "            </tr>\n",
       "            <tr>\n",
       "                        <th id=\"T_c25aee30_b2c0_11ea_83c0_48bf6be162d8level0_row24\" class=\"row_heading level0 row24\" >3195</th>\n",
       "                        <td id=\"T_c25aee30_b2c0_11ea_83c0_48bf6be162d8row24_col0\" class=\"data row24 col0\" >19/06/20</td>\n",
       "                        <td id=\"T_c25aee30_b2c0_11ea_83c0_48bf6be162d8row24_col1\" class=\"data row24 col1\" >8:00 AM</td>\n",
       "                        <td id=\"T_c25aee30_b2c0_11ea_83c0_48bf6be162d8row24_col2\" class=\"data row24 col2\" >Odisha</td>\n",
       "                        <td id=\"T_c25aee30_b2c0_11ea_83c0_48bf6be162d8row24_col3\" class=\"data row24 col3\" >3144</td>\n",
       "                        <td id=\"T_c25aee30_b2c0_11ea_83c0_48bf6be162d8row24_col4\" class=\"data row24 col4\" >11</td>\n",
       "                        <td id=\"T_c25aee30_b2c0_11ea_83c0_48bf6be162d8row24_col5\" class=\"data row24 col5\" >4512</td>\n",
       "                        <td id=\"T_c25aee30_b2c0_11ea_83c0_48bf6be162d8row24_col6\" class=\"data row24 col6\" >1357</td>\n",
       "            </tr>\n",
       "            <tr>\n",
       "                        <th id=\"T_c25aee30_b2c0_11ea_83c0_48bf6be162d8level0_row25\" class=\"row_heading level0 row25\" >3196</th>\n",
       "                        <td id=\"T_c25aee30_b2c0_11ea_83c0_48bf6be162d8row25_col0\" class=\"data row25 col0\" >19/06/20</td>\n",
       "                        <td id=\"T_c25aee30_b2c0_11ea_83c0_48bf6be162d8row25_col1\" class=\"data row25 col1\" >8:00 AM</td>\n",
       "                        <td id=\"T_c25aee30_b2c0_11ea_83c0_48bf6be162d8row25_col2\" class=\"data row25 col2\" >Puducherry</td>\n",
       "                        <td id=\"T_c25aee30_b2c0_11ea_83c0_48bf6be162d8row25_col3\" class=\"data row25 col3\" >109</td>\n",
       "                        <td id=\"T_c25aee30_b2c0_11ea_83c0_48bf6be162d8row25_col4\" class=\"data row25 col4\" >7</td>\n",
       "                        <td id=\"T_c25aee30_b2c0_11ea_83c0_48bf6be162d8row25_col5\" class=\"data row25 col5\" >271</td>\n",
       "                        <td id=\"T_c25aee30_b2c0_11ea_83c0_48bf6be162d8row25_col6\" class=\"data row25 col6\" >155</td>\n",
       "            </tr>\n",
       "            <tr>\n",
       "                        <th id=\"T_c25aee30_b2c0_11ea_83c0_48bf6be162d8level0_row26\" class=\"row_heading level0 row26\" >3197</th>\n",
       "                        <td id=\"T_c25aee30_b2c0_11ea_83c0_48bf6be162d8row26_col0\" class=\"data row26 col0\" >19/06/20</td>\n",
       "                        <td id=\"T_c25aee30_b2c0_11ea_83c0_48bf6be162d8row26_col1\" class=\"data row26 col1\" >8:00 AM</td>\n",
       "                        <td id=\"T_c25aee30_b2c0_11ea_83c0_48bf6be162d8row26_col2\" class=\"data row26 col2\" >Punjab</td>\n",
       "                        <td id=\"T_c25aee30_b2c0_11ea_83c0_48bf6be162d8row26_col3\" class=\"data row26 col3\" >2570</td>\n",
       "                        <td id=\"T_c25aee30_b2c0_11ea_83c0_48bf6be162d8row26_col4\" class=\"data row26 col4\" >83</td>\n",
       "                        <td id=\"T_c25aee30_b2c0_11ea_83c0_48bf6be162d8row26_col5\" class=\"data row26 col5\" >3615</td>\n",
       "                        <td id=\"T_c25aee30_b2c0_11ea_83c0_48bf6be162d8row26_col6\" class=\"data row26 col6\" >962</td>\n",
       "            </tr>\n",
       "            <tr>\n",
       "                        <th id=\"T_c25aee30_b2c0_11ea_83c0_48bf6be162d8level0_row27\" class=\"row_heading level0 row27\" >3198</th>\n",
       "                        <td id=\"T_c25aee30_b2c0_11ea_83c0_48bf6be162d8row27_col0\" class=\"data row27 col0\" >19/06/20</td>\n",
       "                        <td id=\"T_c25aee30_b2c0_11ea_83c0_48bf6be162d8row27_col1\" class=\"data row27 col1\" >8:00 AM</td>\n",
       "                        <td id=\"T_c25aee30_b2c0_11ea_83c0_48bf6be162d8row27_col2\" class=\"data row27 col2\" >Rajasthan</td>\n",
       "                        <td id=\"T_c25aee30_b2c0_11ea_83c0_48bf6be162d8row27_col3\" class=\"data row27 col3\" >10742</td>\n",
       "                        <td id=\"T_c25aee30_b2c0_11ea_83c0_48bf6be162d8row27_col4\" class=\"data row27 col4\" >323</td>\n",
       "                        <td id=\"T_c25aee30_b2c0_11ea_83c0_48bf6be162d8row27_col5\" class=\"data row27 col5\" >13857</td>\n",
       "                        <td id=\"T_c25aee30_b2c0_11ea_83c0_48bf6be162d8row27_col6\" class=\"data row27 col6\" >2792</td>\n",
       "            </tr>\n",
       "            <tr>\n",
       "                        <th id=\"T_c25aee30_b2c0_11ea_83c0_48bf6be162d8level0_row28\" class=\"row_heading level0 row28\" >3199</th>\n",
       "                        <td id=\"T_c25aee30_b2c0_11ea_83c0_48bf6be162d8row28_col0\" class=\"data row28 col0\" >19/06/20</td>\n",
       "                        <td id=\"T_c25aee30_b2c0_11ea_83c0_48bf6be162d8row28_col1\" class=\"data row28 col1\" >8:00 AM</td>\n",
       "                        <td id=\"T_c25aee30_b2c0_11ea_83c0_48bf6be162d8row28_col2\" class=\"data row28 col2\" >Sikkim</td>\n",
       "                        <td id=\"T_c25aee30_b2c0_11ea_83c0_48bf6be162d8row28_col3\" class=\"data row28 col3\" >5</td>\n",
       "                        <td id=\"T_c25aee30_b2c0_11ea_83c0_48bf6be162d8row28_col4\" class=\"data row28 col4\" >0</td>\n",
       "                        <td id=\"T_c25aee30_b2c0_11ea_83c0_48bf6be162d8row28_col5\" class=\"data row28 col5\" >70</td>\n",
       "                        <td id=\"T_c25aee30_b2c0_11ea_83c0_48bf6be162d8row28_col6\" class=\"data row28 col6\" >65</td>\n",
       "            </tr>\n",
       "            <tr>\n",
       "                        <th id=\"T_c25aee30_b2c0_11ea_83c0_48bf6be162d8level0_row29\" class=\"row_heading level0 row29\" >3200</th>\n",
       "                        <td id=\"T_c25aee30_b2c0_11ea_83c0_48bf6be162d8row29_col0\" class=\"data row29 col0\" >19/06/20</td>\n",
       "                        <td id=\"T_c25aee30_b2c0_11ea_83c0_48bf6be162d8row29_col1\" class=\"data row29 col1\" >8:00 AM</td>\n",
       "                        <td id=\"T_c25aee30_b2c0_11ea_83c0_48bf6be162d8row29_col2\" class=\"data row29 col2\" >Tamil Nadu</td>\n",
       "                        <td id=\"T_c25aee30_b2c0_11ea_83c0_48bf6be162d8row29_col3\" class=\"data row29 col3\" >28641</td>\n",
       "                        <td id=\"T_c25aee30_b2c0_11ea_83c0_48bf6be162d8row29_col4\" class=\"data row29 col4\" >625</td>\n",
       "                        <td id=\"T_c25aee30_b2c0_11ea_83c0_48bf6be162d8row29_col5\" class=\"data row29 col5\" >52334</td>\n",
       "                        <td id=\"T_c25aee30_b2c0_11ea_83c0_48bf6be162d8row29_col6\" class=\"data row29 col6\" >23068</td>\n",
       "            </tr>\n",
       "            <tr>\n",
       "                        <th id=\"T_c25aee30_b2c0_11ea_83c0_48bf6be162d8level0_row30\" class=\"row_heading level0 row30\" >3201</th>\n",
       "                        <td id=\"T_c25aee30_b2c0_11ea_83c0_48bf6be162d8row30_col0\" class=\"data row30 col0\" >19/06/20</td>\n",
       "                        <td id=\"T_c25aee30_b2c0_11ea_83c0_48bf6be162d8row30_col1\" class=\"data row30 col1\" >8:00 AM</td>\n",
       "                        <td id=\"T_c25aee30_b2c0_11ea_83c0_48bf6be162d8row30_col2\" class=\"data row30 col2\" >Telangana</td>\n",
       "                        <td id=\"T_c25aee30_b2c0_11ea_83c0_48bf6be162d8row30_col3\" class=\"data row30 col3\" >3301</td>\n",
       "                        <td id=\"T_c25aee30_b2c0_11ea_83c0_48bf6be162d8row30_col4\" class=\"data row30 col4\" >195</td>\n",
       "                        <td id=\"T_c25aee30_b2c0_11ea_83c0_48bf6be162d8row30_col5\" class=\"data row30 col5\" >6027</td>\n",
       "                        <td id=\"T_c25aee30_b2c0_11ea_83c0_48bf6be162d8row30_col6\" class=\"data row30 col6\" >2531</td>\n",
       "            </tr>\n",
       "            <tr>\n",
       "                        <th id=\"T_c25aee30_b2c0_11ea_83c0_48bf6be162d8level0_row31\" class=\"row_heading level0 row31\" >3202</th>\n",
       "                        <td id=\"T_c25aee30_b2c0_11ea_83c0_48bf6be162d8row31_col0\" class=\"data row31 col0\" >19/06/20</td>\n",
       "                        <td id=\"T_c25aee30_b2c0_11ea_83c0_48bf6be162d8row31_col1\" class=\"data row31 col1\" >8:00 AM</td>\n",
       "                        <td id=\"T_c25aee30_b2c0_11ea_83c0_48bf6be162d8row31_col2\" class=\"data row31 col2\" >Tripura</td>\n",
       "                        <td id=\"T_c25aee30_b2c0_11ea_83c0_48bf6be162d8row31_col3\" class=\"data row31 col3\" >639</td>\n",
       "                        <td id=\"T_c25aee30_b2c0_11ea_83c0_48bf6be162d8row31_col4\" class=\"data row31 col4\" >1</td>\n",
       "                        <td id=\"T_c25aee30_b2c0_11ea_83c0_48bf6be162d8row31_col5\" class=\"data row31 col5\" >1155</td>\n",
       "                        <td id=\"T_c25aee30_b2c0_11ea_83c0_48bf6be162d8row31_col6\" class=\"data row31 col6\" >515</td>\n",
       "            </tr>\n",
       "            <tr>\n",
       "                        <th id=\"T_c25aee30_b2c0_11ea_83c0_48bf6be162d8level0_row32\" class=\"row_heading level0 row32\" >3203</th>\n",
       "                        <td id=\"T_c25aee30_b2c0_11ea_83c0_48bf6be162d8row32_col0\" class=\"data row32 col0\" >19/06/20</td>\n",
       "                        <td id=\"T_c25aee30_b2c0_11ea_83c0_48bf6be162d8row32_col1\" class=\"data row32 col1\" >8:00 AM</td>\n",
       "                        <td id=\"T_c25aee30_b2c0_11ea_83c0_48bf6be162d8row32_col2\" class=\"data row32 col2\" >Uttarakhand</td>\n",
       "                        <td id=\"T_c25aee30_b2c0_11ea_83c0_48bf6be162d8row32_col3\" class=\"data row32 col3\" >1386</td>\n",
       "                        <td id=\"T_c25aee30_b2c0_11ea_83c0_48bf6be162d8row32_col4\" class=\"data row32 col4\" >26</td>\n",
       "                        <td id=\"T_c25aee30_b2c0_11ea_83c0_48bf6be162d8row32_col5\" class=\"data row32 col5\" >2102</td>\n",
       "                        <td id=\"T_c25aee30_b2c0_11ea_83c0_48bf6be162d8row32_col6\" class=\"data row32 col6\" >690</td>\n",
       "            </tr>\n",
       "            <tr>\n",
       "                        <th id=\"T_c25aee30_b2c0_11ea_83c0_48bf6be162d8level0_row33\" class=\"row_heading level0 row33\" >3204</th>\n",
       "                        <td id=\"T_c25aee30_b2c0_11ea_83c0_48bf6be162d8row33_col0\" class=\"data row33 col0\" >19/06/20</td>\n",
       "                        <td id=\"T_c25aee30_b2c0_11ea_83c0_48bf6be162d8row33_col1\" class=\"data row33 col1\" >8:00 AM</td>\n",
       "                        <td id=\"T_c25aee30_b2c0_11ea_83c0_48bf6be162d8row33_col2\" class=\"data row33 col2\" >Uttar Pradesh</td>\n",
       "                        <td id=\"T_c25aee30_b2c0_11ea_83c0_48bf6be162d8row33_col3\" class=\"data row33 col3\" >9239</td>\n",
       "                        <td id=\"T_c25aee30_b2c0_11ea_83c0_48bf6be162d8row33_col4\" class=\"data row33 col4\" >465</td>\n",
       "                        <td id=\"T_c25aee30_b2c0_11ea_83c0_48bf6be162d8row33_col5\" class=\"data row33 col5\" >15181</td>\n",
       "                        <td id=\"T_c25aee30_b2c0_11ea_83c0_48bf6be162d8row33_col6\" class=\"data row33 col6\" >5477</td>\n",
       "            </tr>\n",
       "            <tr>\n",
       "                        <th id=\"T_c25aee30_b2c0_11ea_83c0_48bf6be162d8level0_row34\" class=\"row_heading level0 row34\" >3205</th>\n",
       "                        <td id=\"T_c25aee30_b2c0_11ea_83c0_48bf6be162d8row34_col0\" class=\"data row34 col0\" >19/06/20</td>\n",
       "                        <td id=\"T_c25aee30_b2c0_11ea_83c0_48bf6be162d8row34_col1\" class=\"data row34 col1\" >8:00 AM</td>\n",
       "                        <td id=\"T_c25aee30_b2c0_11ea_83c0_48bf6be162d8row34_col2\" class=\"data row34 col2\" >West Bengal</td>\n",
       "                        <td id=\"T_c25aee30_b2c0_11ea_83c0_48bf6be162d8row34_col3\" class=\"data row34 col3\" >7001</td>\n",
       "                        <td id=\"T_c25aee30_b2c0_11ea_83c0_48bf6be162d8row34_col4\" class=\"data row34 col4\" >518</td>\n",
       "                        <td id=\"T_c25aee30_b2c0_11ea_83c0_48bf6be162d8row34_col5\" class=\"data row34 col5\" >12735</td>\n",
       "                        <td id=\"T_c25aee30_b2c0_11ea_83c0_48bf6be162d8row34_col6\" class=\"data row34 col6\" >5216</td>\n",
       "            </tr>\n",
       "            <tr>\n",
       "                        <th id=\"T_c25aee30_b2c0_11ea_83c0_48bf6be162d8level0_row35\" class=\"row_heading level0 row35\" >3206</th>\n",
       "                        <td id=\"T_c25aee30_b2c0_11ea_83c0_48bf6be162d8row35_col0\" class=\"data row35 col0\" >19/06/20</td>\n",
       "                        <td id=\"T_c25aee30_b2c0_11ea_83c0_48bf6be162d8row35_col1\" class=\"data row35 col1\" >8:00 AM</td>\n",
       "                        <td id=\"T_c25aee30_b2c0_11ea_83c0_48bf6be162d8row35_col2\" class=\"data row35 col2\" >Cases being reassigned to states</td>\n",
       "                        <td id=\"T_c25aee30_b2c0_11ea_83c0_48bf6be162d8row35_col3\" class=\"data row35 col3\" >0</td>\n",
       "                        <td id=\"T_c25aee30_b2c0_11ea_83c0_48bf6be162d8row35_col4\" class=\"data row35 col4\" >0</td>\n",
       "                        <td id=\"T_c25aee30_b2c0_11ea_83c0_48bf6be162d8row35_col5\" class=\"data row35 col5\" >8927</td>\n",
       "                        <td id=\"T_c25aee30_b2c0_11ea_83c0_48bf6be162d8row35_col6\" class=\"data row35 col6\" >8927</td>\n",
       "            </tr>\n",
       "    </tbody></table>"
      ],
      "text/plain": [
       "<pandas.io.formats.style.Styler at 0x111f8a978>"
      ]
     },
     "execution_count": 28,
     "metadata": {},
     "output_type": "execute_result"
    }
   ],
   "source": [
    "df_today.style.background_gradient(cmap='Reds')"
   ]
  },
  {
   "cell_type": "code",
   "execution_count": 29,
   "metadata": {},
   "outputs": [
    {
     "data": {
      "text/plain": [
       "<matplotlib.axes._subplots.AxesSubplot at 0x112d33b70>"
      ]
     },
     "execution_count": 29,
     "metadata": {},
     "output_type": "execute_result"
    },
    {
     "data": {
      "image/png": "[encoded data removed]",
      "text/plain": [
       "<Figure size 432x288 with 1 Axes>"
      ]
     },
     "metadata": {
      "needs_background": "light"
     },
     "output_type": "display_data"
    }
   ],
   "source": [
    "df_today.plot(kind='scatter', x='State/UnionTerritory', y='Total_Active_Cases')"
   ]
  },
  {
   "cell_type": "code",
   "execution_count": 30,
   "metadata": {},
   "outputs": [
    {
     "data": {
      "text/plain": [
       "<matplotlib.axes._subplots.AxesSubplot at 0x118e03c50>"
      ]
     },
     "execution_count": 30,
     "metadata": {},
     "output_type": "execute_result"
    },
    {
     "data": {
      "image/png": "[encoded data removed]",
      "text/plain": [
       "<Figure size 432x288 with 1 Axes>"
      ]
     },
     "metadata": {
      "needs_background": "light"
     },
     "output_type": "display_data"
    }
   ],
   "source": [
    "df_today['Total_Active_Cases'].plot(kind='barh')"
   ]
  },
  {
   "cell_type": "code",
   "execution_count": 31,
   "metadata": {},
   "outputs": [],
   "source": [
    "state_medical_beds = pd.read_csv('/Users/mdsajidhussain/Documents/Online Sessions/Python & Tableau/Dataset/COVID-19 India/HospitalBedsIndia.csv')"
   ]
  },
  {
   "cell_type": "code",
   "execution_count": 32,
   "metadata": {},
   "outputs": [
    {
     "data": {
      "text/html": [
       "<div>\n",
       "<style scoped>\n",
       "    .dataframe tbody tr th:only-of-type {\n",
       "        vertical-align: middle;\n",
       "    }\n",
       "\n",
       "    .dataframe tbody tr th {\n",
       "        vertical-align: top;\n",
       "    }\n",
       "\n",
       "    .dataframe thead th {\n",
       "        text-align: right;\n",
       "    }\n",
       "</style>\n",
       "<table border=\"1\" class=\"dataframe\">\n",
       "  <thead>\n",
       "    <tr style=\"text-align: right;\">\n",
       "      <th></th>\n",
       "      <th>Sno</th>\n",
       "      <th>State/UT</th>\n",
       "      <th>NumPrimaryHealthCenters_HMIS</th>\n",
       "      <th>NumCommunityHealthCenters_HMIS</th>\n",
       "      <th>NumSubDistrictHospitals_HMIS</th>\n",
       "      <th>NumDistrictHospitals_HMIS</th>\n",
       "      <th>TotalPublicHealthFacilities_HMIS</th>\n",
       "      <th>NumPublicBeds_HMIS</th>\n",
       "      <th>NumRuralHospitals_NHP18</th>\n",
       "      <th>NumRuralBeds_NHP18</th>\n",
       "      <th>NumUrbanHospitals_NHP18</th>\n",
       "      <th>NumUrbanBeds_NHP18</th>\n",
       "    </tr>\n",
       "  </thead>\n",
       "  <tbody>\n",
       "    <tr>\n",
       "      <th>0</th>\n",
       "      <td>1</td>\n",
       "      <td>Andaman &amp; Nicobar Islands</td>\n",
       "      <td>27</td>\n",
       "      <td>4</td>\n",
       "      <td>NaN</td>\n",
       "      <td>3</td>\n",
       "      <td>34</td>\n",
       "      <td>1246</td>\n",
       "      <td>27</td>\n",
       "      <td>575</td>\n",
       "      <td>3</td>\n",
       "      <td>500</td>\n",
       "    </tr>\n",
       "    <tr>\n",
       "      <th>1</th>\n",
       "      <td>2</td>\n",
       "      <td>Andhra Pradesh</td>\n",
       "      <td>1417</td>\n",
       "      <td>198</td>\n",
       "      <td>31.0</td>\n",
       "      <td>20</td>\n",
       "      <td>1666</td>\n",
       "      <td>60799</td>\n",
       "      <td>193</td>\n",
       "      <td>6480</td>\n",
       "      <td>65</td>\n",
       "      <td>16658</td>\n",
       "    </tr>\n",
       "    <tr>\n",
       "      <th>2</th>\n",
       "      <td>3</td>\n",
       "      <td>Arunachal Pradesh</td>\n",
       "      <td>122</td>\n",
       "      <td>62</td>\n",
       "      <td>NaN</td>\n",
       "      <td>15</td>\n",
       "      <td>199</td>\n",
       "      <td>2320</td>\n",
       "      <td>208</td>\n",
       "      <td>2136</td>\n",
       "      <td>10</td>\n",
       "      <td>268</td>\n",
       "    </tr>\n",
       "    <tr>\n",
       "      <th>3</th>\n",
       "      <td>4</td>\n",
       "      <td>Assam</td>\n",
       "      <td>1007</td>\n",
       "      <td>166</td>\n",
       "      <td>14.0</td>\n",
       "      <td>33</td>\n",
       "      <td>1220</td>\n",
       "      <td>19115</td>\n",
       "      <td>1176</td>\n",
       "      <td>10944</td>\n",
       "      <td>50</td>\n",
       "      <td>6198</td>\n",
       "    </tr>\n",
       "    <tr>\n",
       "      <th>4</th>\n",
       "      <td>5</td>\n",
       "      <td>Bihar</td>\n",
       "      <td>2007</td>\n",
       "      <td>63</td>\n",
       "      <td>33.0</td>\n",
       "      <td>43</td>\n",
       "      <td>2146</td>\n",
       "      <td>17796</td>\n",
       "      <td>930</td>\n",
       "      <td>6083</td>\n",
       "      <td>103</td>\n",
       "      <td>5936</td>\n",
       "    </tr>\n",
       "  </tbody>\n",
       "</table>\n",
       "</div>"
      ],
      "text/plain": [
       "   Sno                   State/UT NumPrimaryHealthCenters_HMIS  \\\n",
       "0    1  Andaman & Nicobar Islands                           27   \n",
       "1    2             Andhra Pradesh                         1417   \n",
       "2    3          Arunachal Pradesh                          122   \n",
       "3    4                      Assam                         1007   \n",
       "4    5                      Bihar                         2007   \n",
       "\n",
       "   NumCommunityHealthCenters_HMIS  NumSubDistrictHospitals_HMIS  \\\n",
       "0                               4                           NaN   \n",
       "1                             198                          31.0   \n",
       "2                              62                           NaN   \n",
       "3                             166                          14.0   \n",
       "4                              63                          33.0   \n",
       "\n",
       "   NumDistrictHospitals_HMIS  TotalPublicHealthFacilities_HMIS  \\\n",
       "0                          3                                34   \n",
       "1                         20                              1666   \n",
       "2                         15                               199   \n",
       "3                         33                              1220   \n",
       "4                         43                              2146   \n",
       "\n",
       "   NumPublicBeds_HMIS  NumRuralHospitals_NHP18  NumRuralBeds_NHP18  \\\n",
       "0                1246                       27                 575   \n",
       "1               60799                      193                6480   \n",
       "2                2320                      208                2136   \n",
       "3               19115                     1176               10944   \n",
       "4               17796                      930                6083   \n",
       "\n",
       "   NumUrbanHospitals_NHP18  NumUrbanBeds_NHP18  \n",
       "0                        3                 500  \n",
       "1                       65               16658  \n",
       "2                       10                 268  \n",
       "3                       50                6198  \n",
       "4                      103                5936  "
      ]
     },
     "execution_count": 32,
     "metadata": {},
     "output_type": "execute_result"
    }
   ],
   "source": [
    "state_medical_beds.head()"
   ]
  },
  {
   "cell_type": "code",
   "execution_count": 33,
   "metadata": {},
   "outputs": [],
   "source": [
    "state_medical_beds.drop(['Sno'], axis=1, inplace=True)"
   ]
  },
  {
   "cell_type": "code",
   "execution_count": 34,
   "metadata": {},
   "outputs": [],
   "source": [
    "state_medical_beds['Total'] = state_medical_beds.sum(axis=1, skipna=True)"
   ]
  },
  {
   "cell_type": "code",
   "execution_count": 35,
   "metadata": {},
   "outputs": [],
   "source": [
    "state_total_beds = state_medical_beds[['State/UT', 'Total']]"
   ]
  },
  {
   "cell_type": "code",
   "execution_count": 36,
   "metadata": {},
   "outputs": [
    {
     "data": {
      "text/html": [
       "<div>\n",
       "<style scoped>\n",
       "    .dataframe tbody tr th:only-of-type {\n",
       "        vertical-align: middle;\n",
       "    }\n",
       "\n",
       "    .dataframe tbody tr th {\n",
       "        vertical-align: top;\n",
       "    }\n",
       "\n",
       "    .dataframe thead th {\n",
       "        text-align: right;\n",
       "    }\n",
       "</style>\n",
       "<table border=\"1\" class=\"dataframe\">\n",
       "  <thead>\n",
       "    <tr style=\"text-align: right;\">\n",
       "      <th></th>\n",
       "      <th>State/UT</th>\n",
       "      <th>Total</th>\n",
       "    </tr>\n",
       "  </thead>\n",
       "  <tbody>\n",
       "    <tr>\n",
       "      <th>0</th>\n",
       "      <td>Andaman &amp; Nicobar Islands</td>\n",
       "      <td>2392.0</td>\n",
       "    </tr>\n",
       "    <tr>\n",
       "      <th>1</th>\n",
       "      <td>Andhra Pradesh</td>\n",
       "      <td>86110.0</td>\n",
       "    </tr>\n",
       "    <tr>\n",
       "      <th>2</th>\n",
       "      <td>Arunachal Pradesh</td>\n",
       "      <td>5218.0</td>\n",
       "    </tr>\n",
       "    <tr>\n",
       "      <th>3</th>\n",
       "      <td>Assam</td>\n",
       "      <td>38916.0</td>\n",
       "    </tr>\n",
       "    <tr>\n",
       "      <th>4</th>\n",
       "      <td>Bihar</td>\n",
       "      <td>33133.0</td>\n",
       "    </tr>\n",
       "    <tr>\n",
       "      <th>5</th>\n",
       "      <td>Chandigarh</td>\n",
       "      <td>4592.0</td>\n",
       "    </tr>\n",
       "    <tr>\n",
       "      <th>6</th>\n",
       "      <td>Chhattisgarh</td>\n",
       "      <td>25213.0</td>\n",
       "    </tr>\n",
       "    <tr>\n",
       "      <th>7</th>\n",
       "      <td>Dadra &amp; Nagar Haveli</td>\n",
       "      <td>1185.0</td>\n",
       "    </tr>\n",
       "    <tr>\n",
       "      <th>8</th>\n",
       "      <td>Daman &amp; Diu</td>\n",
       "      <td>555.0</td>\n",
       "    </tr>\n",
       "    <tr>\n",
       "      <th>9</th>\n",
       "      <td>Delhi</td>\n",
       "      <td>45760.0</td>\n",
       "    </tr>\n",
       "    <tr>\n",
       "      <th>10</th>\n",
       "      <td>Goa</td>\n",
       "      <td>5770.0</td>\n",
       "    </tr>\n",
       "    <tr>\n",
       "      <th>11</th>\n",
       "      <td>Gujarat</td>\n",
       "      <td>76597.0</td>\n",
       "    </tr>\n",
       "    <tr>\n",
       "      <th>12</th>\n",
       "      <td>Haryana</td>\n",
       "      <td>26615.0</td>\n",
       "    </tr>\n",
       "    <tr>\n",
       "      <th>13</th>\n",
       "      <td>Himachal Pradesh</td>\n",
       "      <td>22732.0</td>\n",
       "    </tr>\n",
       "    <tr>\n",
       "      <th>14</th>\n",
       "      <td>Jammu &amp; Kashmir</td>\n",
       "      <td>24059.0</td>\n",
       "    </tr>\n",
       "    <tr>\n",
       "      <th>15</th>\n",
       "      <td>Jharkhand</td>\n",
       "      <td>19516.0</td>\n",
       "    </tr>\n",
       "    <tr>\n",
       "      <th>16</th>\n",
       "      <td>Karnataka</td>\n",
       "      <td>132682.0</td>\n",
       "    </tr>\n",
       "    <tr>\n",
       "      <th>17</th>\n",
       "      <td>Kerala</td>\n",
       "      <td>80456.0</td>\n",
       "    </tr>\n",
       "    <tr>\n",
       "      <th>18</th>\n",
       "      <td>Lakshadweep</td>\n",
       "      <td>575.0</td>\n",
       "    </tr>\n",
       "    <tr>\n",
       "      <th>19</th>\n",
       "      <td>Madhya Pradesh</td>\n",
       "      <td>69744.0</td>\n",
       "    </tr>\n",
       "    <tr>\n",
       "      <th>20</th>\n",
       "      <td>Maharashtra</td>\n",
       "      <td>124995.0</td>\n",
       "    </tr>\n",
       "    <tr>\n",
       "      <th>21</th>\n",
       "      <td>Manipur</td>\n",
       "      <td>4160.0</td>\n",
       "    </tr>\n",
       "    <tr>\n",
       "      <th>22</th>\n",
       "      <td>Meghalaya</td>\n",
       "      <td>9421.0</td>\n",
       "    </tr>\n",
       "    <tr>\n",
       "      <th>23</th>\n",
       "      <td>Mizoram</td>\n",
       "      <td>4508.0</td>\n",
       "    </tr>\n",
       "    <tr>\n",
       "      <th>24</th>\n",
       "      <td>Nagaland</td>\n",
       "      <td>4058.0</td>\n",
       "    </tr>\n",
       "    <tr>\n",
       "      <th>25</th>\n",
       "      <td>Odisha</td>\n",
       "      <td>39058.0</td>\n",
       "    </tr>\n",
       "    <tr>\n",
       "      <th>26</th>\n",
       "      <td>Puducherry</td>\n",
       "      <td>8111.0</td>\n",
       "    </tr>\n",
       "    <tr>\n",
       "      <th>27</th>\n",
       "      <td>Punjab</td>\n",
       "      <td>33105.0</td>\n",
       "    </tr>\n",
       "    <tr>\n",
       "      <th>28</th>\n",
       "      <td>Rajasthan</td>\n",
       "      <td>88259.0</td>\n",
       "    </tr>\n",
       "    <tr>\n",
       "      <th>29</th>\n",
       "      <td>Sikkim</td>\n",
       "      <td>2777.0</td>\n",
       "    </tr>\n",
       "    <tr>\n",
       "      <th>30</th>\n",
       "      <td>Tamil Nadu</td>\n",
       "      <td>154673.0</td>\n",
       "    </tr>\n",
       "    <tr>\n",
       "      <th>31</th>\n",
       "      <td>Telangana</td>\n",
       "      <td>40280.0</td>\n",
       "    </tr>\n",
       "    <tr>\n",
       "      <th>32</th>\n",
       "      <td>Tripura</td>\n",
       "      <td>9667.0</td>\n",
       "    </tr>\n",
       "    <tr>\n",
       "      <th>33</th>\n",
       "      <td>Uttar Pradesh</td>\n",
       "      <td>144172.0</td>\n",
       "    </tr>\n",
       "    <tr>\n",
       "      <th>34</th>\n",
       "      <td>Uttarakhand</td>\n",
       "      <td>16123.0</td>\n",
       "    </tr>\n",
       "    <tr>\n",
       "      <th>35</th>\n",
       "      <td>West Bengal</td>\n",
       "      <td>133731.0</td>\n",
       "    </tr>\n",
       "    <tr>\n",
       "      <th>36</th>\n",
       "      <td>All India</td>\n",
       "      <td>1518918.0</td>\n",
       "    </tr>\n",
       "  </tbody>\n",
       "</table>\n",
       "</div>"
      ],
      "text/plain": [
       "                     State/UT      Total\n",
       "0   Andaman & Nicobar Islands     2392.0\n",
       "1              Andhra Pradesh    86110.0\n",
       "2           Arunachal Pradesh     5218.0\n",
       "3                       Assam    38916.0\n",
       "4                       Bihar    33133.0\n",
       "5                  Chandigarh     4592.0\n",
       "6                Chhattisgarh    25213.0\n",
       "7        Dadra & Nagar Haveli     1185.0\n",
       "8                 Daman & Diu      555.0\n",
       "9                       Delhi    45760.0\n",
       "10                        Goa     5770.0\n",
       "11                    Gujarat    76597.0\n",
       "12                    Haryana    26615.0\n",
       "13           Himachal Pradesh    22732.0\n",
       "14            Jammu & Kashmir    24059.0\n",
       "15                  Jharkhand    19516.0\n",
       "16                  Karnataka   132682.0\n",
       "17                     Kerala    80456.0\n",
       "18                Lakshadweep      575.0\n",
       "19             Madhya Pradesh    69744.0\n",
       "20                Maharashtra   124995.0\n",
       "21                    Manipur     4160.0\n",
       "22                  Meghalaya     9421.0\n",
       "23                    Mizoram     4508.0\n",
       "24                   Nagaland     4058.0\n",
       "25                     Odisha    39058.0\n",
       "26                 Puducherry     8111.0\n",
       "27                     Punjab    33105.0\n",
       "28                  Rajasthan    88259.0\n",
       "29                     Sikkim     2777.0\n",
       "30                 Tamil Nadu   154673.0\n",
       "31                  Telangana    40280.0\n",
       "32                    Tripura     9667.0\n",
       "33              Uttar Pradesh   144172.0\n",
       "34                Uttarakhand    16123.0\n",
       "35                West Bengal   133731.0\n",
       "36                  All India  1518918.0"
      ]
     },
     "execution_count": 36,
     "metadata": {},
     "output_type": "execute_result"
    }
   ],
   "source": [
    "state_total_beds"
   ]
  },
  {
   "cell_type": "code",
   "execution_count": null,
   "metadata": {},
   "outputs": [],
   "source": [
    "# changing column names\n",
    "'State/UnionTerritory'\n",
    "\n",
    "'State/UT'\n"
   ]
  },
  {
   "cell_type": "code",
   "execution_count": 37,
   "metadata": {},
   "outputs": [],
   "source": [
    "state_total_beds = state_total_beds.rename(columns={'State/UT': 'State/UnionTerritory'}, errors=\"raise\")"
   ]
  },
  {
   "cell_type": "code",
   "execution_count": 38,
   "metadata": {
    "scrolled": false
   },
   "outputs": [
    {
     "data": {
      "text/html": [
       "<style  type=\"text/css\" >\n",
       "    #T_cef40e74_b2c0_11ea_a13c_48bf6be162d8row0_col1 {\n",
       "            background-color:  #fff5f0;\n",
       "            color:  #000000;\n",
       "        }    #T_cef40e74_b2c0_11ea_a13c_48bf6be162d8row1_col1 {\n",
       "            background-color:  #ffece3;\n",
       "            color:  #000000;\n",
       "        }    #T_cef40e74_b2c0_11ea_a13c_48bf6be162d8row2_col1 {\n",
       "            background-color:  #fff5f0;\n",
       "            color:  #000000;\n",
       "        }    #T_cef40e74_b2c0_11ea_a13c_48bf6be162d8row3_col1 {\n",
       "            background-color:  #fff1ea;\n",
       "            color:  #000000;\n",
       "        }    #T_cef40e74_b2c0_11ea_a13c_48bf6be162d8row4_col1 {\n",
       "            background-color:  #fff2eb;\n",
       "            color:  #000000;\n",
       "        }    #T_cef40e74_b2c0_11ea_a13c_48bf6be162d8row5_col1 {\n",
       "            background-color:  #fff5f0;\n",
       "            color:  #000000;\n",
       "        }    #T_cef40e74_b2c0_11ea_a13c_48bf6be162d8row6_col1 {\n",
       "            background-color:  #fff2ec;\n",
       "            color:  #000000;\n",
       "        }    #T_cef40e74_b2c0_11ea_a13c_48bf6be162d8row7_col1 {\n",
       "            background-color:  #fff5f0;\n",
       "            color:  #000000;\n",
       "        }    #T_cef40e74_b2c0_11ea_a13c_48bf6be162d8row8_col1 {\n",
       "            background-color:  #fff5f0;\n",
       "            color:  #000000;\n",
       "        }    #T_cef40e74_b2c0_11ea_a13c_48bf6be162d8row9_col1 {\n",
       "            background-color:  #fff0e9;\n",
       "            color:  #000000;\n",
       "        }    #T_cef40e74_b2c0_11ea_a13c_48bf6be162d8row10_col1 {\n",
       "            background-color:  #fff5f0;\n",
       "            color:  #000000;\n",
       "        }    #T_cef40e74_b2c0_11ea_a13c_48bf6be162d8row11_col1 {\n",
       "            background-color:  #ffede5;\n",
       "            color:  #000000;\n",
       "        }    #T_cef40e74_b2c0_11ea_a13c_48bf6be162d8row12_col1 {\n",
       "            background-color:  #fff2ec;\n",
       "            color:  #000000;\n",
       "        }    #T_cef40e74_b2c0_11ea_a13c_48bf6be162d8row13_col1 {\n",
       "            background-color:  #fff3ed;\n",
       "            color:  #000000;\n",
       "        }    #T_cef40e74_b2c0_11ea_a13c_48bf6be162d8row14_col1 {\n",
       "            background-color:  #fff3ed;\n",
       "            color:  #000000;\n",
       "        }    #T_cef40e74_b2c0_11ea_a13c_48bf6be162d8row15_col1 {\n",
       "            background-color:  #fff3ed;\n",
       "            color:  #000000;\n",
       "        }    #T_cef40e74_b2c0_11ea_a13c_48bf6be162d8row16_col1 {\n",
       "            background-color:  #fee7db;\n",
       "            color:  #000000;\n",
       "        }    #T_cef40e74_b2c0_11ea_a13c_48bf6be162d8row17_col1 {\n",
       "            background-color:  #ffece4;\n",
       "            color:  #000000;\n",
       "        }    #T_cef40e74_b2c0_11ea_a13c_48bf6be162d8row18_col1 {\n",
       "            background-color:  #fff5f0;\n",
       "            color:  #000000;\n",
       "        }    #T_cef40e74_b2c0_11ea_a13c_48bf6be162d8row19_col1 {\n",
       "            background-color:  #ffeee6;\n",
       "            color:  #000000;\n",
       "        }    #T_cef40e74_b2c0_11ea_a13c_48bf6be162d8row20_col1 {\n",
       "            background-color:  #fee8dd;\n",
       "            color:  #000000;\n",
       "        }    #T_cef40e74_b2c0_11ea_a13c_48bf6be162d8row21_col1 {\n",
       "            background-color:  #fff5f0;\n",
       "            color:  #000000;\n",
       "        }    #T_cef40e74_b2c0_11ea_a13c_48bf6be162d8row22_col1 {\n",
       "            background-color:  #fff4ef;\n",
       "            color:  #000000;\n",
       "        }    #T_cef40e74_b2c0_11ea_a13c_48bf6be162d8row23_col1 {\n",
       "            background-color:  #fff5f0;\n",
       "            color:  #000000;\n",
       "        }    #T_cef40e74_b2c0_11ea_a13c_48bf6be162d8row24_col1 {\n",
       "            background-color:  #fff5f0;\n",
       "            color:  #000000;\n",
       "        }    #T_cef40e74_b2c0_11ea_a13c_48bf6be162d8row25_col1 {\n",
       "            background-color:  #fff1ea;\n",
       "            color:  #000000;\n",
       "        }    #T_cef40e74_b2c0_11ea_a13c_48bf6be162d8row26_col1 {\n",
       "            background-color:  #fff4ef;\n",
       "            color:  #000000;\n",
       "        }    #T_cef40e74_b2c0_11ea_a13c_48bf6be162d8row27_col1 {\n",
       "            background-color:  #fff2eb;\n",
       "            color:  #000000;\n",
       "        }    #T_cef40e74_b2c0_11ea_a13c_48bf6be162d8row28_col1 {\n",
       "            background-color:  #ffece3;\n",
       "            color:  #000000;\n",
       "        }    #T_cef40e74_b2c0_11ea_a13c_48bf6be162d8row29_col1 {\n",
       "            background-color:  #fff5f0;\n",
       "            color:  #000000;\n",
       "        }    #T_cef40e74_b2c0_11ea_a13c_48bf6be162d8row30_col1 {\n",
       "            background-color:  #fee5d8;\n",
       "            color:  #000000;\n",
       "        }    #T_cef40e74_b2c0_11ea_a13c_48bf6be162d8row31_col1 {\n",
       "            background-color:  #fff1ea;\n",
       "            color:  #000000;\n",
       "        }    #T_cef40e74_b2c0_11ea_a13c_48bf6be162d8row32_col1 {\n",
       "            background-color:  #fff4ef;\n",
       "            color:  #000000;\n",
       "        }    #T_cef40e74_b2c0_11ea_a13c_48bf6be162d8row33_col1 {\n",
       "            background-color:  #fee5d9;\n",
       "            color:  #000000;\n",
       "        }    #T_cef40e74_b2c0_11ea_a13c_48bf6be162d8row34_col1 {\n",
       "            background-color:  #fff4ee;\n",
       "            color:  #000000;\n",
       "        }    #T_cef40e74_b2c0_11ea_a13c_48bf6be162d8row35_col1 {\n",
       "            background-color:  #fee7db;\n",
       "            color:  #000000;\n",
       "        }    #T_cef40e74_b2c0_11ea_a13c_48bf6be162d8row36_col1 {\n",
       "            background-color:  #67000d;\n",
       "            color:  #f1f1f1;\n",
       "        }</style><table id=\"T_cef40e74_b2c0_11ea_a13c_48bf6be162d8\" ><thead>    <tr>        <th class=\"blank level0\" ></th>        <th class=\"col_heading level0 col0\" >State/UnionTerritory</th>        <th class=\"col_heading level0 col1\" >Total</th>    </tr></thead><tbody>\n",
       "                <tr>\n",
       "                        <th id=\"T_cef40e74_b2c0_11ea_a13c_48bf6be162d8level0_row0\" class=\"row_heading level0 row0\" >0</th>\n",
       "                        <td id=\"T_cef40e74_b2c0_11ea_a13c_48bf6be162d8row0_col0\" class=\"data row0 col0\" >Andaman & Nicobar Islands</td>\n",
       "                        <td id=\"T_cef40e74_b2c0_11ea_a13c_48bf6be162d8row0_col1\" class=\"data row0 col1\" >2392.000000</td>\n",
       "            </tr>\n",
       "            <tr>\n",
       "                        <th id=\"T_cef40e74_b2c0_11ea_a13c_48bf6be162d8level0_row1\" class=\"row_heading level0 row1\" >1</th>\n",
       "                        <td id=\"T_cef40e74_b2c0_11ea_a13c_48bf6be162d8row1_col0\" class=\"data row1 col0\" >Andhra Pradesh</td>\n",
       "                        <td id=\"T_cef40e74_b2c0_11ea_a13c_48bf6be162d8row1_col1\" class=\"data row1 col1\" >86110.000000</td>\n",
       "            </tr>\n",
       "            <tr>\n",
       "                        <th id=\"T_cef40e74_b2c0_11ea_a13c_48bf6be162d8level0_row2\" class=\"row_heading level0 row2\" >2</th>\n",
       "                        <td id=\"T_cef40e74_b2c0_11ea_a13c_48bf6be162d8row2_col0\" class=\"data row2 col0\" >Arunachal Pradesh</td>\n",
       "                        <td id=\"T_cef40e74_b2c0_11ea_a13c_48bf6be162d8row2_col1\" class=\"data row2 col1\" >5218.000000</td>\n",
       "            </tr>\n",
       "            <tr>\n",
       "                        <th id=\"T_cef40e74_b2c0_11ea_a13c_48bf6be162d8level0_row3\" class=\"row_heading level0 row3\" >3</th>\n",
       "                        <td id=\"T_cef40e74_b2c0_11ea_a13c_48bf6be162d8row3_col0\" class=\"data row3 col0\" >Assam</td>\n",
       "                        <td id=\"T_cef40e74_b2c0_11ea_a13c_48bf6be162d8row3_col1\" class=\"data row3 col1\" >38916.000000</td>\n",
       "            </tr>\n",
       "            <tr>\n",
       "                        <th id=\"T_cef40e74_b2c0_11ea_a13c_48bf6be162d8level0_row4\" class=\"row_heading level0 row4\" >4</th>\n",
       "                        <td id=\"T_cef40e74_b2c0_11ea_a13c_48bf6be162d8row4_col0\" class=\"data row4 col0\" >Bihar</td>\n",
       "                        <td id=\"T_cef40e74_b2c0_11ea_a13c_48bf6be162d8row4_col1\" class=\"data row4 col1\" >33133.000000</td>\n",
       "            </tr>\n",
       "            <tr>\n",
       "                        <th id=\"T_cef40e74_b2c0_11ea_a13c_48bf6be162d8level0_row5\" class=\"row_heading level0 row5\" >5</th>\n",
       "                        <td id=\"T_cef40e74_b2c0_11ea_a13c_48bf6be162d8row5_col0\" class=\"data row5 col0\" >Chandigarh</td>\n",
       "                        <td id=\"T_cef40e74_b2c0_11ea_a13c_48bf6be162d8row5_col1\" class=\"data row5 col1\" >4592.000000</td>\n",
       "            </tr>\n",
       "            <tr>\n",
       "                        <th id=\"T_cef40e74_b2c0_11ea_a13c_48bf6be162d8level0_row6\" class=\"row_heading level0 row6\" >6</th>\n",
       "                        <td id=\"T_cef40e74_b2c0_11ea_a13c_48bf6be162d8row6_col0\" class=\"data row6 col0\" >Chhattisgarh</td>\n",
       "                        <td id=\"T_cef40e74_b2c0_11ea_a13c_48bf6be162d8row6_col1\" class=\"data row6 col1\" >25213.000000</td>\n",
       "            </tr>\n",
       "            <tr>\n",
       "                        <th id=\"T_cef40e74_b2c0_11ea_a13c_48bf6be162d8level0_row7\" class=\"row_heading level0 row7\" >7</th>\n",
       "                        <td id=\"T_cef40e74_b2c0_11ea_a13c_48bf6be162d8row7_col0\" class=\"data row7 col0\" >Dadra & Nagar Haveli</td>\n",
       "                        <td id=\"T_cef40e74_b2c0_11ea_a13c_48bf6be162d8row7_col1\" class=\"data row7 col1\" >1185.000000</td>\n",
       "            </tr>\n",
       "            <tr>\n",
       "                        <th id=\"T_cef40e74_b2c0_11ea_a13c_48bf6be162d8level0_row8\" class=\"row_heading level0 row8\" >8</th>\n",
       "                        <td id=\"T_cef40e74_b2c0_11ea_a13c_48bf6be162d8row8_col0\" class=\"data row8 col0\" >Daman & Diu</td>\n",
       "                        <td id=\"T_cef40e74_b2c0_11ea_a13c_48bf6be162d8row8_col1\" class=\"data row8 col1\" >555.000000</td>\n",
       "            </tr>\n",
       "            <tr>\n",
       "                        <th id=\"T_cef40e74_b2c0_11ea_a13c_48bf6be162d8level0_row9\" class=\"row_heading level0 row9\" >9</th>\n",
       "                        <td id=\"T_cef40e74_b2c0_11ea_a13c_48bf6be162d8row9_col0\" class=\"data row9 col0\" >Delhi</td>\n",
       "                        <td id=\"T_cef40e74_b2c0_11ea_a13c_48bf6be162d8row9_col1\" class=\"data row9 col1\" >45760.000000</td>\n",
       "            </tr>\n",
       "            <tr>\n",
       "                        <th id=\"T_cef40e74_b2c0_11ea_a13c_48bf6be162d8level0_row10\" class=\"row_heading level0 row10\" >10</th>\n",
       "                        <td id=\"T_cef40e74_b2c0_11ea_a13c_48bf6be162d8row10_col0\" class=\"data row10 col0\" >Goa</td>\n",
       "                        <td id=\"T_cef40e74_b2c0_11ea_a13c_48bf6be162d8row10_col1\" class=\"data row10 col1\" >5770.000000</td>\n",
       "            </tr>\n",
       "            <tr>\n",
       "                        <th id=\"T_cef40e74_b2c0_11ea_a13c_48bf6be162d8level0_row11\" class=\"row_heading level0 row11\" >11</th>\n",
       "                        <td id=\"T_cef40e74_b2c0_11ea_a13c_48bf6be162d8row11_col0\" class=\"data row11 col0\" >Gujarat</td>\n",
       "                        <td id=\"T_cef40e74_b2c0_11ea_a13c_48bf6be162d8row11_col1\" class=\"data row11 col1\" >76597.000000</td>\n",
       "            </tr>\n",
       "            <tr>\n",
       "                        <th id=\"T_cef40e74_b2c0_11ea_a13c_48bf6be162d8level0_row12\" class=\"row_heading level0 row12\" >12</th>\n",
       "                        <td id=\"T_cef40e74_b2c0_11ea_a13c_48bf6be162d8row12_col0\" class=\"data row12 col0\" >Haryana</td>\n",
       "                        <td id=\"T_cef40e74_b2c0_11ea_a13c_48bf6be162d8row12_col1\" class=\"data row12 col1\" >26615.000000</td>\n",
       "            </tr>\n",
       "            <tr>\n",
       "                        <th id=\"T_cef40e74_b2c0_11ea_a13c_48bf6be162d8level0_row13\" class=\"row_heading level0 row13\" >13</th>\n",
       "                        <td id=\"T_cef40e74_b2c0_11ea_a13c_48bf6be162d8row13_col0\" class=\"data row13 col0\" >Himachal Pradesh</td>\n",
       "                        <td id=\"T_cef40e74_b2c0_11ea_a13c_48bf6be162d8row13_col1\" class=\"data row13 col1\" >22732.000000</td>\n",
       "            </tr>\n",
       "            <tr>\n",
       "                        <th id=\"T_cef40e74_b2c0_11ea_a13c_48bf6be162d8level0_row14\" class=\"row_heading level0 row14\" >14</th>\n",
       "                        <td id=\"T_cef40e74_b2c0_11ea_a13c_48bf6be162d8row14_col0\" class=\"data row14 col0\" >Jammu & Kashmir</td>\n",
       "                        <td id=\"T_cef40e74_b2c0_11ea_a13c_48bf6be162d8row14_col1\" class=\"data row14 col1\" >24059.000000</td>\n",
       "            </tr>\n",
       "            <tr>\n",
       "                        <th id=\"T_cef40e74_b2c0_11ea_a13c_48bf6be162d8level0_row15\" class=\"row_heading level0 row15\" >15</th>\n",
       "                        <td id=\"T_cef40e74_b2c0_11ea_a13c_48bf6be162d8row15_col0\" class=\"data row15 col0\" >Jharkhand</td>\n",
       "                        <td id=\"T_cef40e74_b2c0_11ea_a13c_48bf6be162d8row15_col1\" class=\"data row15 col1\" >19516.000000</td>\n",
       "            </tr>\n",
       "            <tr>\n",
       "                        <th id=\"T_cef40e74_b2c0_11ea_a13c_48bf6be162d8level0_row16\" class=\"row_heading level0 row16\" >16</th>\n",
       "                        <td id=\"T_cef40e74_b2c0_11ea_a13c_48bf6be162d8row16_col0\" class=\"data row16 col0\" >Karnataka</td>\n",
       "                        <td id=\"T_cef40e74_b2c0_11ea_a13c_48bf6be162d8row16_col1\" class=\"data row16 col1\" >132682.000000</td>\n",
       "            </tr>\n",
       "            <tr>\n",
       "                        <th id=\"T_cef40e74_b2c0_11ea_a13c_48bf6be162d8level0_row17\" class=\"row_heading level0 row17\" >17</th>\n",
       "                        <td id=\"T_cef40e74_b2c0_11ea_a13c_48bf6be162d8row17_col0\" class=\"data row17 col0\" >Kerala</td>\n",
       "                        <td id=\"T_cef40e74_b2c0_11ea_a13c_48bf6be162d8row17_col1\" class=\"data row17 col1\" >80456.000000</td>\n",
       "            </tr>\n",
       "            <tr>\n",
       "                        <th id=\"T_cef40e74_b2c0_11ea_a13c_48bf6be162d8level0_row18\" class=\"row_heading level0 row18\" >18</th>\n",
       "                        <td id=\"T_cef40e74_b2c0_11ea_a13c_48bf6be162d8row18_col0\" class=\"data row18 col0\" >Lakshadweep</td>\n",
       "                        <td id=\"T_cef40e74_b2c0_11ea_a13c_48bf6be162d8row18_col1\" class=\"data row18 col1\" >575.000000</td>\n",
       "            </tr>\n",
       "            <tr>\n",
       "                        <th id=\"T_cef40e74_b2c0_11ea_a13c_48bf6be162d8level0_row19\" class=\"row_heading level0 row19\" >19</th>\n",
       "                        <td id=\"T_cef40e74_b2c0_11ea_a13c_48bf6be162d8row19_col0\" class=\"data row19 col0\" >Madhya Pradesh</td>\n",
       "                        <td id=\"T_cef40e74_b2c0_11ea_a13c_48bf6be162d8row19_col1\" class=\"data row19 col1\" >69744.000000</td>\n",
       "            </tr>\n",
       "            <tr>\n",
       "                        <th id=\"T_cef40e74_b2c0_11ea_a13c_48bf6be162d8level0_row20\" class=\"row_heading level0 row20\" >20</th>\n",
       "                        <td id=\"T_cef40e74_b2c0_11ea_a13c_48bf6be162d8row20_col0\" class=\"data row20 col0\" >Maharashtra</td>\n",
       "                        <td id=\"T_cef40e74_b2c0_11ea_a13c_48bf6be162d8row20_col1\" class=\"data row20 col1\" >124995.000000</td>\n",
       "            </tr>\n",
       "            <tr>\n",
       "                        <th id=\"T_cef40e74_b2c0_11ea_a13c_48bf6be162d8level0_row21\" class=\"row_heading level0 row21\" >21</th>\n",
       "                        <td id=\"T_cef40e74_b2c0_11ea_a13c_48bf6be162d8row21_col0\" class=\"data row21 col0\" >Manipur</td>\n",
       "                        <td id=\"T_cef40e74_b2c0_11ea_a13c_48bf6be162d8row21_col1\" class=\"data row21 col1\" >4160.000000</td>\n",
       "            </tr>\n",
       "            <tr>\n",
       "                        <th id=\"T_cef40e74_b2c0_11ea_a13c_48bf6be162d8level0_row22\" class=\"row_heading level0 row22\" >22</th>\n",
       "                        <td id=\"T_cef40e74_b2c0_11ea_a13c_48bf6be162d8row22_col0\" class=\"data row22 col0\" >Meghalaya</td>\n",
       "                        <td id=\"T_cef40e74_b2c0_11ea_a13c_48bf6be162d8row22_col1\" class=\"data row22 col1\" >9421.000000</td>\n",
       "            </tr>\n",
       "            <tr>\n",
       "                        <th id=\"T_cef40e74_b2c0_11ea_a13c_48bf6be162d8level0_row23\" class=\"row_heading level0 row23\" >23</th>\n",
       "                        <td id=\"T_cef40e74_b2c0_11ea_a13c_48bf6be162d8row23_col0\" class=\"data row23 col0\" >Mizoram</td>\n",
       "                        <td id=\"T_cef40e74_b2c0_11ea_a13c_48bf6be162d8row23_col1\" class=\"data row23 col1\" >4508.000000</td>\n",
       "            </tr>\n",
       "            <tr>\n",
       "                        <th id=\"T_cef40e74_b2c0_11ea_a13c_48bf6be162d8level0_row24\" class=\"row_heading level0 row24\" >24</th>\n",
       "                        <td id=\"T_cef40e74_b2c0_11ea_a13c_48bf6be162d8row24_col0\" class=\"data row24 col0\" >Nagaland</td>\n",
       "                        <td id=\"T_cef40e74_b2c0_11ea_a13c_48bf6be162d8row24_col1\" class=\"data row24 col1\" >4058.000000</td>\n",
       "            </tr>\n",
       "            <tr>\n",
       "                        <th id=\"T_cef40e74_b2c0_11ea_a13c_48bf6be162d8level0_row25\" class=\"row_heading level0 row25\" >25</th>\n",
       "                        <td id=\"T_cef40e74_b2c0_11ea_a13c_48bf6be162d8row25_col0\" class=\"data row25 col0\" >Odisha</td>\n",
       "                        <td id=\"T_cef40e74_b2c0_11ea_a13c_48bf6be162d8row25_col1\" class=\"data row25 col1\" >39058.000000</td>\n",
       "            </tr>\n",
       "            <tr>\n",
       "                        <th id=\"T_cef40e74_b2c0_11ea_a13c_48bf6be162d8level0_row26\" class=\"row_heading level0 row26\" >26</th>\n",
       "                        <td id=\"T_cef40e74_b2c0_11ea_a13c_48bf6be162d8row26_col0\" class=\"data row26 col0\" >Puducherry</td>\n",
       "                        <td id=\"T_cef40e74_b2c0_11ea_a13c_48bf6be162d8row26_col1\" class=\"data row26 col1\" >8111.000000</td>\n",
       "            </tr>\n",
       "            <tr>\n",
       "                        <th id=\"T_cef40e74_b2c0_11ea_a13c_48bf6be162d8level0_row27\" class=\"row_heading level0 row27\" >27</th>\n",
       "                        <td id=\"T_cef40e74_b2c0_11ea_a13c_48bf6be162d8row27_col0\" class=\"data row27 col0\" >Punjab</td>\n",
       "                        <td id=\"T_cef40e74_b2c0_11ea_a13c_48bf6be162d8row27_col1\" class=\"data row27 col1\" >33105.000000</td>\n",
       "            </tr>\n",
       "            <tr>\n",
       "                        <th id=\"T_cef40e74_b2c0_11ea_a13c_48bf6be162d8level0_row28\" class=\"row_heading level0 row28\" >28</th>\n",
       "                        <td id=\"T_cef40e74_b2c0_11ea_a13c_48bf6be162d8row28_col0\" class=\"data row28 col0\" >Rajasthan</td>\n",
       "                        <td id=\"T_cef40e74_b2c0_11ea_a13c_48bf6be162d8row28_col1\" class=\"data row28 col1\" >88259.000000</td>\n",
       "            </tr>\n",
       "            <tr>\n",
       "                        <th id=\"T_cef40e74_b2c0_11ea_a13c_48bf6be162d8level0_row29\" class=\"row_heading level0 row29\" >29</th>\n",
       "                        <td id=\"T_cef40e74_b2c0_11ea_a13c_48bf6be162d8row29_col0\" class=\"data row29 col0\" >Sikkim</td>\n",
       "                        <td id=\"T_cef40e74_b2c0_11ea_a13c_48bf6be162d8row29_col1\" class=\"data row29 col1\" >2777.000000</td>\n",
       "            </tr>\n",
       "            <tr>\n",
       "                        <th id=\"T_cef40e74_b2c0_11ea_a13c_48bf6be162d8level0_row30\" class=\"row_heading level0 row30\" >30</th>\n",
       "                        <td id=\"T_cef40e74_b2c0_11ea_a13c_48bf6be162d8row30_col0\" class=\"data row30 col0\" >Tamil Nadu</td>\n",
       "                        <td id=\"T_cef40e74_b2c0_11ea_a13c_48bf6be162d8row30_col1\" class=\"data row30 col1\" >154673.000000</td>\n",
       "            </tr>\n",
       "            <tr>\n",
       "                        <th id=\"T_cef40e74_b2c0_11ea_a13c_48bf6be162d8level0_row31\" class=\"row_heading level0 row31\" >31</th>\n",
       "                        <td id=\"T_cef40e74_b2c0_11ea_a13c_48bf6be162d8row31_col0\" class=\"data row31 col0\" >Telangana</td>\n",
       "                        <td id=\"T_cef40e74_b2c0_11ea_a13c_48bf6be162d8row31_col1\" class=\"data row31 col1\" >40280.000000</td>\n",
       "            </tr>\n",
       "            <tr>\n",
       "                        <th id=\"T_cef40e74_b2c0_11ea_a13c_48bf6be162d8level0_row32\" class=\"row_heading level0 row32\" >32</th>\n",
       "                        <td id=\"T_cef40e74_b2c0_11ea_a13c_48bf6be162d8row32_col0\" class=\"data row32 col0\" >Tripura</td>\n",
       "                        <td id=\"T_cef40e74_b2c0_11ea_a13c_48bf6be162d8row32_col1\" class=\"data row32 col1\" >9667.000000</td>\n",
       "            </tr>\n",
       "            <tr>\n",
       "                        <th id=\"T_cef40e74_b2c0_11ea_a13c_48bf6be162d8level0_row33\" class=\"row_heading level0 row33\" >33</th>\n",
       "                        <td id=\"T_cef40e74_b2c0_11ea_a13c_48bf6be162d8row33_col0\" class=\"data row33 col0\" >Uttar Pradesh</td>\n",
       "                        <td id=\"T_cef40e74_b2c0_11ea_a13c_48bf6be162d8row33_col1\" class=\"data row33 col1\" >144172.000000</td>\n",
       "            </tr>\n",
       "            <tr>\n",
       "                        <th id=\"T_cef40e74_b2c0_11ea_a13c_48bf6be162d8level0_row34\" class=\"row_heading level0 row34\" >34</th>\n",
       "                        <td id=\"T_cef40e74_b2c0_11ea_a13c_48bf6be162d8row34_col0\" class=\"data row34 col0\" >Uttarakhand</td>\n",
       "                        <td id=\"T_cef40e74_b2c0_11ea_a13c_48bf6be162d8row34_col1\" class=\"data row34 col1\" >16123.000000</td>\n",
       "            </tr>\n",
       "            <tr>\n",
       "                        <th id=\"T_cef40e74_b2c0_11ea_a13c_48bf6be162d8level0_row35\" class=\"row_heading level0 row35\" >35</th>\n",
       "                        <td id=\"T_cef40e74_b2c0_11ea_a13c_48bf6be162d8row35_col0\" class=\"data row35 col0\" >West Bengal</td>\n",
       "                        <td id=\"T_cef40e74_b2c0_11ea_a13c_48bf6be162d8row35_col1\" class=\"data row35 col1\" >133731.000000</td>\n",
       "            </tr>\n",
       "            <tr>\n",
       "                        <th id=\"T_cef40e74_b2c0_11ea_a13c_48bf6be162d8level0_row36\" class=\"row_heading level0 row36\" >36</th>\n",
       "                        <td id=\"T_cef40e74_b2c0_11ea_a13c_48bf6be162d8row36_col0\" class=\"data row36 col0\" >All India</td>\n",
       "                        <td id=\"T_cef40e74_b2c0_11ea_a13c_48bf6be162d8row36_col1\" class=\"data row36 col1\" >1518918.000000</td>\n",
       "            </tr>\n",
       "    </tbody></table>"
      ],
      "text/plain": [
       "<pandas.io.formats.style.Styler at 0x118f2e860>"
      ]
     },
     "execution_count": 38,
     "metadata": {},
     "output_type": "execute_result"
    }
   ],
   "source": [
    "state_total_beds.style.background_gradient(cmap= \"Reds\")"
   ]
  },
  {
   "cell_type": "code",
   "execution_count": 39,
   "metadata": {},
   "outputs": [],
   "source": [
    "state_total_beds = state_total_beds.drop([36])"
   ]
  },
  {
   "cell_type": "code",
   "execution_count": 40,
   "metadata": {},
   "outputs": [
    {
     "data": {
      "text/html": [
       "<style  type=\"text/css\" >\n",
       "    #T_d5416934_b2c0_11ea_b0cd_48bf6be162d8row0_col1 {\n",
       "            background-color:  #fff3ed;\n",
       "            color:  #000000;\n",
       "        }    #T_d5416934_b2c0_11ea_b0cd_48bf6be162d8row1_col1 {\n",
       "            background-color:  #f6553c;\n",
       "            color:  #000000;\n",
       "        }    #T_d5416934_b2c0_11ea_b0cd_48bf6be162d8row2_col1 {\n",
       "            background-color:  #fff0e9;\n",
       "            color:  #000000;\n",
       "        }    #T_d5416934_b2c0_11ea_b0cd_48bf6be162d8row3_col1 {\n",
       "            background-color:  #fcbca2;\n",
       "            color:  #000000;\n",
       "        }    #T_d5416934_b2c0_11ea_b0cd_48bf6be162d8row4_col1 {\n",
       "            background-color:  #fdc6b0;\n",
       "            color:  #000000;\n",
       "        }    #T_d5416934_b2c0_11ea_b0cd_48bf6be162d8row5_col1 {\n",
       "            background-color:  #fff1ea;\n",
       "            color:  #000000;\n",
       "        }    #T_d5416934_b2c0_11ea_b0cd_48bf6be162d8row6_col1 {\n",
       "            background-color:  #fdd7c6;\n",
       "            color:  #000000;\n",
       "        }    #T_d5416934_b2c0_11ea_b0cd_48bf6be162d8row7_col1 {\n",
       "            background-color:  #fff4ef;\n",
       "            color:  #000000;\n",
       "        }    #T_d5416934_b2c0_11ea_b0cd_48bf6be162d8row8_col1 {\n",
       "            background-color:  #fff5f0;\n",
       "            color:  #000000;\n",
       "        }    #T_d5416934_b2c0_11ea_b0cd_48bf6be162d8row9_col1 {\n",
       "            background-color:  #fcad90;\n",
       "            color:  #000000;\n",
       "        }    #T_d5416934_b2c0_11ea_b0cd_48bf6be162d8row10_col1 {\n",
       "            background-color:  #fff0e8;\n",
       "            color:  #000000;\n",
       "        }    #T_d5416934_b2c0_11ea_b0cd_48bf6be162d8row11_col1 {\n",
       "            background-color:  #fb6c4c;\n",
       "            color:  #000000;\n",
       "        }    #T_d5416934_b2c0_11ea_b0cd_48bf6be162d8row12_col1 {\n",
       "            background-color:  #fdd3c1;\n",
       "            color:  #000000;\n",
       "        }    #T_d5416934_b2c0_11ea_b0cd_48bf6be162d8row13_col1 {\n",
       "            background-color:  #fedbcc;\n",
       "            color:  #000000;\n",
       "        }    #T_d5416934_b2c0_11ea_b0cd_48bf6be162d8row14_col1 {\n",
       "            background-color:  #fed8c7;\n",
       "            color:  #000000;\n",
       "        }    #T_d5416934_b2c0_11ea_b0cd_48bf6be162d8row15_col1 {\n",
       "            background-color:  #fee1d3;\n",
       "            color:  #000000;\n",
       "        }    #T_d5416934_b2c0_11ea_b0cd_48bf6be162d8row16_col1 {\n",
       "            background-color:  #aa1016;\n",
       "            color:  #f1f1f1;\n",
       "        }    #T_d5416934_b2c0_11ea_b0cd_48bf6be162d8row17_col1 {\n",
       "            background-color:  #f96346;\n",
       "            color:  #000000;\n",
       "        }    #T_d5416934_b2c0_11ea_b0cd_48bf6be162d8row18_col1 {\n",
       "            background-color:  #fff5f0;\n",
       "            color:  #000000;\n",
       "        }    #T_d5416934_b2c0_11ea_b0cd_48bf6be162d8row19_col1 {\n",
       "            background-color:  #fb7b5b;\n",
       "            color:  #000000;\n",
       "        }    #T_d5416934_b2c0_11ea_b0cd_48bf6be162d8row20_col1 {\n",
       "            background-color:  #b91419;\n",
       "            color:  #f1f1f1;\n",
       "        }    #T_d5416934_b2c0_11ea_b0cd_48bf6be162d8row21_col1 {\n",
       "            background-color:  #fff2eb;\n",
       "            color:  #000000;\n",
       "        }    #T_d5416934_b2c0_11ea_b0cd_48bf6be162d8row22_col1 {\n",
       "            background-color:  #ffece3;\n",
       "            color:  #000000;\n",
       "        }    #T_d5416934_b2c0_11ea_b0cd_48bf6be162d8row23_col1 {\n",
       "            background-color:  #fff1ea;\n",
       "            color:  #000000;\n",
       "        }    #T_d5416934_b2c0_11ea_b0cd_48bf6be162d8row24_col1 {\n",
       "            background-color:  #fff2eb;\n",
       "            color:  #000000;\n",
       "        }    #T_d5416934_b2c0_11ea_b0cd_48bf6be162d8row25_col1 {\n",
       "            background-color:  #fcbca2;\n",
       "            color:  #000000;\n",
       "        }    #T_d5416934_b2c0_11ea_b0cd_48bf6be162d8row26_col1 {\n",
       "            background-color:  #ffede5;\n",
       "            color:  #000000;\n",
       "        }    #T_d5416934_b2c0_11ea_b0cd_48bf6be162d8row27_col1 {\n",
       "            background-color:  #fdc6b0;\n",
       "            color:  #000000;\n",
       "        }    #T_d5416934_b2c0_11ea_b0cd_48bf6be162d8row28_col1 {\n",
       "            background-color:  #f4503a;\n",
       "            color:  #000000;\n",
       "        }    #T_d5416934_b2c0_11ea_b0cd_48bf6be162d8row29_col1 {\n",
       "            background-color:  #fff3ed;\n",
       "            color:  #000000;\n",
       "        }    #T_d5416934_b2c0_11ea_b0cd_48bf6be162d8row30_col1 {\n",
       "            background-color:  #67000d;\n",
       "            color:  #f1f1f1;\n",
       "        }    #T_d5416934_b2c0_11ea_b0cd_48bf6be162d8row31_col1 {\n",
       "            background-color:  #fcb99f;\n",
       "            color:  #000000;\n",
       "        }    #T_d5416934_b2c0_11ea_b0cd_48bf6be162d8row32_col1 {\n",
       "            background-color:  #ffebe2;\n",
       "            color:  #000000;\n",
       "        }    #T_d5416934_b2c0_11ea_b0cd_48bf6be162d8row33_col1 {\n",
       "            background-color:  #880811;\n",
       "            color:  #f1f1f1;\n",
       "        }    #T_d5416934_b2c0_11ea_b0cd_48bf6be162d8row34_col1 {\n",
       "            background-color:  #fee5d8;\n",
       "            color:  #000000;\n",
       "        }    #T_d5416934_b2c0_11ea_b0cd_48bf6be162d8row35_col1 {\n",
       "            background-color:  #a81016;\n",
       "            color:  #f1f1f1;\n",
       "        }</style><table id=\"T_d5416934_b2c0_11ea_b0cd_48bf6be162d8\" ><thead>    <tr>        <th class=\"blank level0\" ></th>        <th class=\"col_heading level0 col0\" >State/UnionTerritory</th>        <th class=\"col_heading level0 col1\" >Total</th>    </tr></thead><tbody>\n",
       "                <tr>\n",
       "                        <th id=\"T_d5416934_b2c0_11ea_b0cd_48bf6be162d8level0_row0\" class=\"row_heading level0 row0\" >0</th>\n",
       "                        <td id=\"T_d5416934_b2c0_11ea_b0cd_48bf6be162d8row0_col0\" class=\"data row0 col0\" >Andaman & Nicobar Islands</td>\n",
       "                        <td id=\"T_d5416934_b2c0_11ea_b0cd_48bf6be162d8row0_col1\" class=\"data row0 col1\" >2392.000000</td>\n",
       "            </tr>\n",
       "            <tr>\n",
       "                        <th id=\"T_d5416934_b2c0_11ea_b0cd_48bf6be162d8level0_row1\" class=\"row_heading level0 row1\" >1</th>\n",
       "                        <td id=\"T_d5416934_b2c0_11ea_b0cd_48bf6be162d8row1_col0\" class=\"data row1 col0\" >Andhra Pradesh</td>\n",
       "                        <td id=\"T_d5416934_b2c0_11ea_b0cd_48bf6be162d8row1_col1\" class=\"data row1 col1\" >86110.000000</td>\n",
       "            </tr>\n",
       "            <tr>\n",
       "                        <th id=\"T_d5416934_b2c0_11ea_b0cd_48bf6be162d8level0_row2\" class=\"row_heading level0 row2\" >2</th>\n",
       "                        <td id=\"T_d5416934_b2c0_11ea_b0cd_48bf6be162d8row2_col0\" class=\"data row2 col0\" >Arunachal Pradesh</td>\n",
       "                        <td id=\"T_d5416934_b2c0_11ea_b0cd_48bf6be162d8row2_col1\" class=\"data row2 col1\" >5218.000000</td>\n",
       "            </tr>\n",
       "            <tr>\n",
       "                        <th id=\"T_d5416934_b2c0_11ea_b0cd_48bf6be162d8level0_row3\" class=\"row_heading level0 row3\" >3</th>\n",
       "                        <td id=\"T_d5416934_b2c0_11ea_b0cd_48bf6be162d8row3_col0\" class=\"data row3 col0\" >Assam</td>\n",
       "                        <td id=\"T_d5416934_b2c0_11ea_b0cd_48bf6be162d8row3_col1\" class=\"data row3 col1\" >38916.000000</td>\n",
       "            </tr>\n",
       "            <tr>\n",
       "                        <th id=\"T_d5416934_b2c0_11ea_b0cd_48bf6be162d8level0_row4\" class=\"row_heading level0 row4\" >4</th>\n",
       "                        <td id=\"T_d5416934_b2c0_11ea_b0cd_48bf6be162d8row4_col0\" class=\"data row4 col0\" >Bihar</td>\n",
       "                        <td id=\"T_d5416934_b2c0_11ea_b0cd_48bf6be162d8row4_col1\" class=\"data row4 col1\" >33133.000000</td>\n",
       "            </tr>\n",
       "            <tr>\n",
       "                        <th id=\"T_d5416934_b2c0_11ea_b0cd_48bf6be162d8level0_row5\" class=\"row_heading level0 row5\" >5</th>\n",
       "                        <td id=\"T_d5416934_b2c0_11ea_b0cd_48bf6be162d8row5_col0\" class=\"data row5 col0\" >Chandigarh</td>\n",
       "                        <td id=\"T_d5416934_b2c0_11ea_b0cd_48bf6be162d8row5_col1\" class=\"data row5 col1\" >4592.000000</td>\n",
       "            </tr>\n",
       "            <tr>\n",
       "                        <th id=\"T_d5416934_b2c0_11ea_b0cd_48bf6be162d8level0_row6\" class=\"row_heading level0 row6\" >6</th>\n",
       "                        <td id=\"T_d5416934_b2c0_11ea_b0cd_48bf6be162d8row6_col0\" class=\"data row6 col0\" >Chhattisgarh</td>\n",
       "                        <td id=\"T_d5416934_b2c0_11ea_b0cd_48bf6be162d8row6_col1\" class=\"data row6 col1\" >25213.000000</td>\n",
       "            </tr>\n",
       "            <tr>\n",
       "                        <th id=\"T_d5416934_b2c0_11ea_b0cd_48bf6be162d8level0_row7\" class=\"row_heading level0 row7\" >7</th>\n",
       "                        <td id=\"T_d5416934_b2c0_11ea_b0cd_48bf6be162d8row7_col0\" class=\"data row7 col0\" >Dadra & Nagar Haveli</td>\n",
       "                        <td id=\"T_d5416934_b2c0_11ea_b0cd_48bf6be162d8row7_col1\" class=\"data row7 col1\" >1185.000000</td>\n",
       "            </tr>\n",
       "            <tr>\n",
       "                        <th id=\"T_d5416934_b2c0_11ea_b0cd_48bf6be162d8level0_row8\" class=\"row_heading level0 row8\" >8</th>\n",
       "                        <td id=\"T_d5416934_b2c0_11ea_b0cd_48bf6be162d8row8_col0\" class=\"data row8 col0\" >Daman & Diu</td>\n",
       "                        <td id=\"T_d5416934_b2c0_11ea_b0cd_48bf6be162d8row8_col1\" class=\"data row8 col1\" >555.000000</td>\n",
       "            </tr>\n",
       "            <tr>\n",
       "                        <th id=\"T_d5416934_b2c0_11ea_b0cd_48bf6be162d8level0_row9\" class=\"row_heading level0 row9\" >9</th>\n",
       "                        <td id=\"T_d5416934_b2c0_11ea_b0cd_48bf6be162d8row9_col0\" class=\"data row9 col0\" >Delhi</td>\n",
       "                        <td id=\"T_d5416934_b2c0_11ea_b0cd_48bf6be162d8row9_col1\" class=\"data row9 col1\" >45760.000000</td>\n",
       "            </tr>\n",
       "            <tr>\n",
       "                        <th id=\"T_d5416934_b2c0_11ea_b0cd_48bf6be162d8level0_row10\" class=\"row_heading level0 row10\" >10</th>\n",
       "                        <td id=\"T_d5416934_b2c0_11ea_b0cd_48bf6be162d8row10_col0\" class=\"data row10 col0\" >Goa</td>\n",
       "                        <td id=\"T_d5416934_b2c0_11ea_b0cd_48bf6be162d8row10_col1\" class=\"data row10 col1\" >5770.000000</td>\n",
       "            </tr>\n",
       "            <tr>\n",
       "                        <th id=\"T_d5416934_b2c0_11ea_b0cd_48bf6be162d8level0_row11\" class=\"row_heading level0 row11\" >11</th>\n",
       "                        <td id=\"T_d5416934_b2c0_11ea_b0cd_48bf6be162d8row11_col0\" class=\"data row11 col0\" >Gujarat</td>\n",
       "                        <td id=\"T_d5416934_b2c0_11ea_b0cd_48bf6be162d8row11_col1\" class=\"data row11 col1\" >76597.000000</td>\n",
       "            </tr>\n",
       "            <tr>\n",
       "                        <th id=\"T_d5416934_b2c0_11ea_b0cd_48bf6be162d8level0_row12\" class=\"row_heading level0 row12\" >12</th>\n",
       "                        <td id=\"T_d5416934_b2c0_11ea_b0cd_48bf6be162d8row12_col0\" class=\"data row12 col0\" >Haryana</td>\n",
       "                        <td id=\"T_d5416934_b2c0_11ea_b0cd_48bf6be162d8row12_col1\" class=\"data row12 col1\" >26615.000000</td>\n",
       "            </tr>\n",
       "            <tr>\n",
       "                        <th id=\"T_d5416934_b2c0_11ea_b0cd_48bf6be162d8level0_row13\" class=\"row_heading level0 row13\" >13</th>\n",
       "                        <td id=\"T_d5416934_b2c0_11ea_b0cd_48bf6be162d8row13_col0\" class=\"data row13 col0\" >Himachal Pradesh</td>\n",
       "                        <td id=\"T_d5416934_b2c0_11ea_b0cd_48bf6be162d8row13_col1\" class=\"data row13 col1\" >22732.000000</td>\n",
       "            </tr>\n",
       "            <tr>\n",
       "                        <th id=\"T_d5416934_b2c0_11ea_b0cd_48bf6be162d8level0_row14\" class=\"row_heading level0 row14\" >14</th>\n",
       "                        <td id=\"T_d5416934_b2c0_11ea_b0cd_48bf6be162d8row14_col0\" class=\"data row14 col0\" >Jammu & Kashmir</td>\n",
       "                        <td id=\"T_d5416934_b2c0_11ea_b0cd_48bf6be162d8row14_col1\" class=\"data row14 col1\" >24059.000000</td>\n",
       "            </tr>\n",
       "            <tr>\n",
       "                        <th id=\"T_d5416934_b2c0_11ea_b0cd_48bf6be162d8level0_row15\" class=\"row_heading level0 row15\" >15</th>\n",
       "                        <td id=\"T_d5416934_b2c0_11ea_b0cd_48bf6be162d8row15_col0\" class=\"data row15 col0\" >Jharkhand</td>\n",
       "                        <td id=\"T_d5416934_b2c0_11ea_b0cd_48bf6be162d8row15_col1\" class=\"data row15 col1\" >19516.000000</td>\n",
       "            </tr>\n",
       "            <tr>\n",
       "                        <th id=\"T_d5416934_b2c0_11ea_b0cd_48bf6be162d8level0_row16\" class=\"row_heading level0 row16\" >16</th>\n",
       "                        <td id=\"T_d5416934_b2c0_11ea_b0cd_48bf6be162d8row16_col0\" class=\"data row16 col0\" >Karnataka</td>\n",
       "                        <td id=\"T_d5416934_b2c0_11ea_b0cd_48bf6be162d8row16_col1\" class=\"data row16 col1\" >132682.000000</td>\n",
       "            </tr>\n",
       "            <tr>\n",
       "                        <th id=\"T_d5416934_b2c0_11ea_b0cd_48bf6be162d8level0_row17\" class=\"row_heading level0 row17\" >17</th>\n",
       "                        <td id=\"T_d5416934_b2c0_11ea_b0cd_48bf6be162d8row17_col0\" class=\"data row17 col0\" >Kerala</td>\n",
       "                        <td id=\"T_d5416934_b2c0_11ea_b0cd_48bf6be162d8row17_col1\" class=\"data row17 col1\" >80456.000000</td>\n",
       "            </tr>\n",
       "            <tr>\n",
       "                        <th id=\"T_d5416934_b2c0_11ea_b0cd_48bf6be162d8level0_row18\" class=\"row_heading level0 row18\" >18</th>\n",
       "                        <td id=\"T_d5416934_b2c0_11ea_b0cd_48bf6be162d8row18_col0\" class=\"data row18 col0\" >Lakshadweep</td>\n",
       "                        <td id=\"T_d5416934_b2c0_11ea_b0cd_48bf6be162d8row18_col1\" class=\"data row18 col1\" >575.000000</td>\n",
       "            </tr>\n",
       "            <tr>\n",
       "                        <th id=\"T_d5416934_b2c0_11ea_b0cd_48bf6be162d8level0_row19\" class=\"row_heading level0 row19\" >19</th>\n",
       "                        <td id=\"T_d5416934_b2c0_11ea_b0cd_48bf6be162d8row19_col0\" class=\"data row19 col0\" >Madhya Pradesh</td>\n",
       "                        <td id=\"T_d5416934_b2c0_11ea_b0cd_48bf6be162d8row19_col1\" class=\"data row19 col1\" >69744.000000</td>\n",
       "            </tr>\n",
       "            <tr>\n",
       "                        <th id=\"T_d5416934_b2c0_11ea_b0cd_48bf6be162d8level0_row20\" class=\"row_heading level0 row20\" >20</th>\n",
       "                        <td id=\"T_d5416934_b2c0_11ea_b0cd_48bf6be162d8row20_col0\" class=\"data row20 col0\" >Maharashtra</td>\n",
       "                        <td id=\"T_d5416934_b2c0_11ea_b0cd_48bf6be162d8row20_col1\" class=\"data row20 col1\" >124995.000000</td>\n",
       "            </tr>\n",
       "            <tr>\n",
       "                        <th id=\"T_d5416934_b2c0_11ea_b0cd_48bf6be162d8level0_row21\" class=\"row_heading level0 row21\" >21</th>\n",
       "                        <td id=\"T_d5416934_b2c0_11ea_b0cd_48bf6be162d8row21_col0\" class=\"data row21 col0\" >Manipur</td>\n",
       "                        <td id=\"T_d5416934_b2c0_11ea_b0cd_48bf6be162d8row21_col1\" class=\"data row21 col1\" >4160.000000</td>\n",
       "            </tr>\n",
       "            <tr>\n",
       "                        <th id=\"T_d5416934_b2c0_11ea_b0cd_48bf6be162d8level0_row22\" class=\"row_heading level0 row22\" >22</th>\n",
       "                        <td id=\"T_d5416934_b2c0_11ea_b0cd_48bf6be162d8row22_col0\" class=\"data row22 col0\" >Meghalaya</td>\n",
       "                        <td id=\"T_d5416934_b2c0_11ea_b0cd_48bf6be162d8row22_col1\" class=\"data row22 col1\" >9421.000000</td>\n",
       "            </tr>\n",
       "            <tr>\n",
       "                        <th id=\"T_d5416934_b2c0_11ea_b0cd_48bf6be162d8level0_row23\" class=\"row_heading level0 row23\" >23</th>\n",
       "                        <td id=\"T_d5416934_b2c0_11ea_b0cd_48bf6be162d8row23_col0\" class=\"data row23 col0\" >Mizoram</td>\n",
       "                        <td id=\"T_d5416934_b2c0_11ea_b0cd_48bf6be162d8row23_col1\" class=\"data row23 col1\" >4508.000000</td>\n",
       "            </tr>\n",
       "            <tr>\n",
       "                        <th id=\"T_d5416934_b2c0_11ea_b0cd_48bf6be162d8level0_row24\" class=\"row_heading level0 row24\" >24</th>\n",
       "                        <td id=\"T_d5416934_b2c0_11ea_b0cd_48bf6be162d8row24_col0\" class=\"data row24 col0\" >Nagaland</td>\n",
       "                        <td id=\"T_d5416934_b2c0_11ea_b0cd_48bf6be162d8row24_col1\" class=\"data row24 col1\" >4058.000000</td>\n",
       "            </tr>\n",
       "            <tr>\n",
       "                        <th id=\"T_d5416934_b2c0_11ea_b0cd_48bf6be162d8level0_row25\" class=\"row_heading level0 row25\" >25</th>\n",
       "                        <td id=\"T_d5416934_b2c0_11ea_b0cd_48bf6be162d8row25_col0\" class=\"data row25 col0\" >Odisha</td>\n",
       "                        <td id=\"T_d5416934_b2c0_11ea_b0cd_48bf6be162d8row25_col1\" class=\"data row25 col1\" >39058.000000</td>\n",
       "            </tr>\n",
       "            <tr>\n",
       "                        <th id=\"T_d5416934_b2c0_11ea_b0cd_48bf6be162d8level0_row26\" class=\"row_heading level0 row26\" >26</th>\n",
       "                        <td id=\"T_d5416934_b2c0_11ea_b0cd_48bf6be162d8row26_col0\" class=\"data row26 col0\" >Puducherry</td>\n",
       "                        <td id=\"T_d5416934_b2c0_11ea_b0cd_48bf6be162d8row26_col1\" class=\"data row26 col1\" >8111.000000</td>\n",
       "            </tr>\n",
       "            <tr>\n",
       "                        <th id=\"T_d5416934_b2c0_11ea_b0cd_48bf6be162d8level0_row27\" class=\"row_heading level0 row27\" >27</th>\n",
       "                        <td id=\"T_d5416934_b2c0_11ea_b0cd_48bf6be162d8row27_col0\" class=\"data row27 col0\" >Punjab</td>\n",
       "                        <td id=\"T_d5416934_b2c0_11ea_b0cd_48bf6be162d8row27_col1\" class=\"data row27 col1\" >33105.000000</td>\n",
       "            </tr>\n",
       "            <tr>\n",
       "                        <th id=\"T_d5416934_b2c0_11ea_b0cd_48bf6be162d8level0_row28\" class=\"row_heading level0 row28\" >28</th>\n",
       "                        <td id=\"T_d5416934_b2c0_11ea_b0cd_48bf6be162d8row28_col0\" class=\"data row28 col0\" >Rajasthan</td>\n",
       "                        <td id=\"T_d5416934_b2c0_11ea_b0cd_48bf6be162d8row28_col1\" class=\"data row28 col1\" >88259.000000</td>\n",
       "            </tr>\n",
       "            <tr>\n",
       "                        <th id=\"T_d5416934_b2c0_11ea_b0cd_48bf6be162d8level0_row29\" class=\"row_heading level0 row29\" >29</th>\n",
       "                        <td id=\"T_d5416934_b2c0_11ea_b0cd_48bf6be162d8row29_col0\" class=\"data row29 col0\" >Sikkim</td>\n",
       "                        <td id=\"T_d5416934_b2c0_11ea_b0cd_48bf6be162d8row29_col1\" class=\"data row29 col1\" >2777.000000</td>\n",
       "            </tr>\n",
       "            <tr>\n",
       "                        <th id=\"T_d5416934_b2c0_11ea_b0cd_48bf6be162d8level0_row30\" class=\"row_heading level0 row30\" >30</th>\n",
       "                        <td id=\"T_d5416934_b2c0_11ea_b0cd_48bf6be162d8row30_col0\" class=\"data row30 col0\" >Tamil Nadu</td>\n",
       "                        <td id=\"T_d5416934_b2c0_11ea_b0cd_48bf6be162d8row30_col1\" class=\"data row30 col1\" >154673.000000</td>\n",
       "            </tr>\n",
       "            <tr>\n",
       "                        <th id=\"T_d5416934_b2c0_11ea_b0cd_48bf6be162d8level0_row31\" class=\"row_heading level0 row31\" >31</th>\n",
       "                        <td id=\"T_d5416934_b2c0_11ea_b0cd_48bf6be162d8row31_col0\" class=\"data row31 col0\" >Telangana</td>\n",
       "                        <td id=\"T_d5416934_b2c0_11ea_b0cd_48bf6be162d8row31_col1\" class=\"data row31 col1\" >40280.000000</td>\n",
       "            </tr>\n",
       "            <tr>\n",
       "                        <th id=\"T_d5416934_b2c0_11ea_b0cd_48bf6be162d8level0_row32\" class=\"row_heading level0 row32\" >32</th>\n",
       "                        <td id=\"T_d5416934_b2c0_11ea_b0cd_48bf6be162d8row32_col0\" class=\"data row32 col0\" >Tripura</td>\n",
       "                        <td id=\"T_d5416934_b2c0_11ea_b0cd_48bf6be162d8row32_col1\" class=\"data row32 col1\" >9667.000000</td>\n",
       "            </tr>\n",
       "            <tr>\n",
       "                        <th id=\"T_d5416934_b2c0_11ea_b0cd_48bf6be162d8level0_row33\" class=\"row_heading level0 row33\" >33</th>\n",
       "                        <td id=\"T_d5416934_b2c0_11ea_b0cd_48bf6be162d8row33_col0\" class=\"data row33 col0\" >Uttar Pradesh</td>\n",
       "                        <td id=\"T_d5416934_b2c0_11ea_b0cd_48bf6be162d8row33_col1\" class=\"data row33 col1\" >144172.000000</td>\n",
       "            </tr>\n",
       "            <tr>\n",
       "                        <th id=\"T_d5416934_b2c0_11ea_b0cd_48bf6be162d8level0_row34\" class=\"row_heading level0 row34\" >34</th>\n",
       "                        <td id=\"T_d5416934_b2c0_11ea_b0cd_48bf6be162d8row34_col0\" class=\"data row34 col0\" >Uttarakhand</td>\n",
       "                        <td id=\"T_d5416934_b2c0_11ea_b0cd_48bf6be162d8row34_col1\" class=\"data row34 col1\" >16123.000000</td>\n",
       "            </tr>\n",
       "            <tr>\n",
       "                        <th id=\"T_d5416934_b2c0_11ea_b0cd_48bf6be162d8level0_row35\" class=\"row_heading level0 row35\" >35</th>\n",
       "                        <td id=\"T_d5416934_b2c0_11ea_b0cd_48bf6be162d8row35_col0\" class=\"data row35 col0\" >West Bengal</td>\n",
       "                        <td id=\"T_d5416934_b2c0_11ea_b0cd_48bf6be162d8row35_col1\" class=\"data row35 col1\" >133731.000000</td>\n",
       "            </tr>\n",
       "    </tbody></table>"
      ],
      "text/plain": [
       "<pandas.io.formats.style.Styler at 0x118f2eba8>"
      ]
     },
     "execution_count": 40,
     "metadata": {},
     "output_type": "execute_result"
    }
   ],
   "source": [
    "# how to round up the total??\n",
    "state_total_beds.style.background_gradient(cmap= \"Reds\")"
   ]
  },
  {
   "cell_type": "code",
   "execution_count": 41,
   "metadata": {},
   "outputs": [
    {
     "data": {
      "text/plain": [
       "<BarContainer object of 36 artists>"
      ]
     },
     "execution_count": 41,
     "metadata": {},
     "output_type": "execute_result"
    },
    {
     "data": {
      "image/png": "[encoded data removed]",
      "text/plain": [
       "<Figure size 2160x1080 with 1 Axes>"
      ]
     },
     "metadata": {
      "needs_background": "light"
     },
     "output_type": "display_data"
    }
   ],
   "source": [
    "# state_total_beds.plot(kind = 'barh')\n",
    "\n",
    "plt.figure(figsize=(30,15))\n",
    "plt.barh(state_total_beds['State/UnionTerritory'], state_total_beds['Total'])"
   ]
  },
  {
   "cell_type": "code",
   "execution_count": 42,
   "metadata": {},
   "outputs": [
    {
     "name": "stdout",
     "output_type": "stream",
     "text": [
      "<class 'pandas.core.frame.DataFrame'>\n",
      "RangeIndex: 3207 entries, 0 to 3206\n",
      "Data columns (total 6 columns):\n",
      " #   Column                Non-Null Count  Dtype \n",
      "---  ------                --------------  ----- \n",
      " 0   Date                  3207 non-null   object\n",
      " 1   Time                  3207 non-null   object\n",
      " 2   State/UnionTerritory  3207 non-null   object\n",
      " 3   Cured                 3207 non-null   int64 \n",
      " 4   Deaths                3207 non-null   int64 \n",
      " 5   Confirmed             3207 non-null   int64 \n",
      "dtypes: int64(3), object(3)\n",
      "memory usage: 150.5+ KB\n"
     ]
    }
   ],
   "source": [
    "df.info()"
   ]
  },
  {
   "cell_type": "code",
   "execution_count": 43,
   "metadata": {},
   "outputs": [
    {
     "data": {
      "text/html": [
       "<div>\n",
       "<style scoped>\n",
       "    .dataframe tbody tr th:only-of-type {\n",
       "        vertical-align: middle;\n",
       "    }\n",
       "\n",
       "    .dataframe tbody tr th {\n",
       "        vertical-align: top;\n",
       "    }\n",
       "\n",
       "    .dataframe thead th {\n",
       "        text-align: right;\n",
       "    }\n",
       "</style>\n",
       "<table border=\"1\" class=\"dataframe\">\n",
       "  <thead>\n",
       "    <tr style=\"text-align: right;\">\n",
       "      <th></th>\n",
       "      <th>Cured</th>\n",
       "      <th>Deaths</th>\n",
       "      <th>Confirmed</th>\n",
       "    </tr>\n",
       "  </thead>\n",
       "  <tbody>\n",
       "    <tr>\n",
       "      <th>count</th>\n",
       "      <td>3207.000000</td>\n",
       "      <td>3207.000000</td>\n",
       "      <td>3207.000000</td>\n",
       "    </tr>\n",
       "    <tr>\n",
       "      <th>mean</th>\n",
       "      <td>1207.797630</td>\n",
       "      <td>80.843467</td>\n",
       "      <td>2708.188338</td>\n",
       "    </tr>\n",
       "    <tr>\n",
       "      <th>std</th>\n",
       "      <td>4329.478775</td>\n",
       "      <td>344.717198</td>\n",
       "      <td>9214.799767</td>\n",
       "    </tr>\n",
       "    <tr>\n",
       "      <th>min</th>\n",
       "      <td>0.000000</td>\n",
       "      <td>0.000000</td>\n",
       "      <td>0.000000</td>\n",
       "    </tr>\n",
       "    <tr>\n",
       "      <th>25%</th>\n",
       "      <td>1.000000</td>\n",
       "      <td>0.000000</td>\n",
       "      <td>14.000000</td>\n",
       "    </tr>\n",
       "    <tr>\n",
       "      <th>50%</th>\n",
       "      <td>32.000000</td>\n",
       "      <td>1.000000</td>\n",
       "      <td>125.000000</td>\n",
       "    </tr>\n",
       "    <tr>\n",
       "      <th>75%</th>\n",
       "      <td>486.500000</td>\n",
       "      <td>20.500000</td>\n",
       "      <td>1590.000000</td>\n",
       "    </tr>\n",
       "    <tr>\n",
       "      <th>max</th>\n",
       "      <td>60838.000000</td>\n",
       "      <td>5751.000000</td>\n",
       "      <td>120504.000000</td>\n",
       "    </tr>\n",
       "  </tbody>\n",
       "</table>\n",
       "</div>"
      ],
      "text/plain": [
       "              Cured       Deaths      Confirmed\n",
       "count   3207.000000  3207.000000    3207.000000\n",
       "mean    1207.797630    80.843467    2708.188338\n",
       "std     4329.478775   344.717198    9214.799767\n",
       "min        0.000000     0.000000       0.000000\n",
       "25%        1.000000     0.000000      14.000000\n",
       "50%       32.000000     1.000000     125.000000\n",
       "75%      486.500000    20.500000    1590.000000\n",
       "max    60838.000000  5751.000000  120504.000000"
      ]
     },
     "execution_count": 43,
     "metadata": {},
     "output_type": "execute_result"
    }
   ],
   "source": [
    "df.describe()"
   ]
  },
  {
   "cell_type": "code",
   "execution_count": 44,
   "metadata": {},
   "outputs": [
    {
     "name": "stdout",
     "output_type": "stream",
     "text": [
      "<class 'pandas.core.frame.DataFrame'>\n",
      "RangeIndex: 3207 entries, 0 to 3206\n",
      "Data columns (total 6 columns):\n",
      " #   Column                Non-Null Count  Dtype \n",
      "---  ------                --------------  ----- \n",
      " 0   Date                  3207 non-null   object\n",
      " 1   Time                  3207 non-null   object\n",
      " 2   State/UnionTerritory  3207 non-null   object\n",
      " 3   Cured                 3207 non-null   int64 \n",
      " 4   Deaths                3207 non-null   int64 \n",
      " 5   Confirmed             3207 non-null   int64 \n",
      "dtypes: int64(3), object(3)\n",
      "memory usage: 150.5+ KB\n",
      "None\n"
     ]
    }
   ],
   "source": [
    "print(df.info());"
   ]
  },
  {
   "cell_type": "code",
   "execution_count": null,
   "metadata": {},
   "outputs": [],
   "source": []
  },
  {
   "cell_type": "code",
   "execution_count": null,
   "metadata": {},
   "outputs": [],
   "source": []
  },
  {
   "cell_type": "code",
   "execution_count": null,
   "metadata": {},
   "outputs": [],
   "source": [
    "print(df[['Age', 'Height', 'Weight']].head())\n",
    "print(df.loc['Avery Bradley']);\n",
    "print(df.iloc[0:3, 0:5])\n",
    "\n",
    "df.loc[(df['Position'] == 'C') & (df['Age'] > 35)]\n",
    "df.loc[df['College'].isin(college_list)].head()\n",
    "df = df.dropna(how='all')\n"
   ]
  },
  {
   "cell_type": "code",
   "execution_count": null,
   "metadata": {},
   "outputs": [],
   "source": [
    "# filtering using query\n",
    "## query(), filter query should be given in string\n",
    "df.query('Age >=35 and Position ==\"SG\" and College==\"Duke\"')"
   ]
  },
  {
   "cell_type": "code",
   "execution_count": null,
   "metadata": {},
   "outputs": [],
   "source": [
    "df.groupby('Team')['Salary'].mean()\n",
    "df.groupby('Position')['Salary'].mean()"
   ]
  },
  {
   "cell_type": "code",
   "execution_count": 2,
   "metadata": {},
   "outputs": [],
   "source": [
    "import pandas as pd"
   ]
  },
  {
   "cell_type": "markdown",
   "metadata": {},
   "source": [
    "### Merge in Python"
   ]
  },
  {
   "cell_type": "code",
   "execution_count": 77,
   "metadata": {},
   "outputs": [],
   "source": [
    "# Merge\n",
    "t1 = pd.DataFrame({'A' : [1,5,7,9], 'B' : [2,4,6,8]}, index=['K0', 'K1', 'K2', 'K3'])\n",
    "\n",
    "t2 = pd.DataFrame({'C': [5,9,11,13], 'D': [2,6,10,12]}, index = ['K0', 'K1', 'K2', 'K3'])"
   ]
  },
  {
   "cell_type": "code",
   "execution_count": 78,
   "metadata": {},
   "outputs": [
    {
     "data": {
      "text/html": [
       "<div>\n",
       "<style scoped>\n",
       "    .dataframe tbody tr th:only-of-type {\n",
       "        vertical-align: middle;\n",
       "    }\n",
       "\n",
       "    .dataframe tbody tr th {\n",
       "        vertical-align: top;\n",
       "    }\n",
       "\n",
       "    .dataframe thead th {\n",
       "        text-align: right;\n",
       "    }\n",
       "</style>\n",
       "<table border=\"1\" class=\"dataframe\">\n",
       "  <thead>\n",
       "    <tr style=\"text-align: right;\">\n",
       "      <th></th>\n",
       "      <th>A</th>\n",
       "      <th>B</th>\n",
       "    </tr>\n",
       "  </thead>\n",
       "  <tbody>\n",
       "    <tr>\n",
       "      <th>K0</th>\n",
       "      <td>1</td>\n",
       "      <td>2</td>\n",
       "    </tr>\n",
       "    <tr>\n",
       "      <th>K1</th>\n",
       "      <td>5</td>\n",
       "      <td>4</td>\n",
       "    </tr>\n",
       "    <tr>\n",
       "      <th>K2</th>\n",
       "      <td>7</td>\n",
       "      <td>6</td>\n",
       "    </tr>\n",
       "    <tr>\n",
       "      <th>K3</th>\n",
       "      <td>9</td>\n",
       "      <td>8</td>\n",
       "    </tr>\n",
       "  </tbody>\n",
       "</table>\n",
       "</div>"
      ],
      "text/plain": [
       "    A  B\n",
       "K0  1  2\n",
       "K1  5  4\n",
       "K2  7  6\n",
       "K3  9  8"
      ]
     },
     "execution_count": 78,
     "metadata": {},
     "output_type": "execute_result"
    }
   ],
   "source": [
    "state_wise_cases\n",
    "\n",
    "state_wise_med\n",
    "\n",
    "\n",
    "state_wise_cases and medical\n",
    "\n",
    "state. total_case medical"
   ]
  },
  {
   "cell_type": "code",
   "execution_count": 81,
   "metadata": {},
   "outputs": [
    {
     "data": {
      "text/html": [
       "<div>\n",
       "<style scoped>\n",
       "    .dataframe tbody tr th:only-of-type {\n",
       "        vertical-align: middle;\n",
       "    }\n",
       "\n",
       "    .dataframe tbody tr th {\n",
       "        vertical-align: top;\n",
       "    }\n",
       "\n",
       "    .dataframe thead th {\n",
       "        text-align: right;\n",
       "    }\n",
       "</style>\n",
       "<table border=\"1\" class=\"dataframe\">\n",
       "  <thead>\n",
       "    <tr style=\"text-align: right;\">\n",
       "      <th></th>\n",
       "      <th>A</th>\n",
       "      <th>B</th>\n",
       "    </tr>\n",
       "  </thead>\n",
       "  <tbody>\n",
       "    <tr>\n",
       "      <th>K0</th>\n",
       "      <td>1</td>\n",
       "      <td>2</td>\n",
       "    </tr>\n",
       "    <tr>\n",
       "      <th>K1</th>\n",
       "      <td>5</td>\n",
       "      <td>4</td>\n",
       "    </tr>\n",
       "    <tr>\n",
       "      <th>K2</th>\n",
       "      <td>7</td>\n",
       "      <td>6</td>\n",
       "    </tr>\n",
       "    <tr>\n",
       "      <th>K3</th>\n",
       "      <td>9</td>\n",
       "      <td>8</td>\n",
       "    </tr>\n",
       "  </tbody>\n",
       "</table>\n",
       "</div>"
      ],
      "text/plain": [
       "    A  B\n",
       "K0  1  2\n",
       "K1  5  4\n",
       "K2  7  6\n",
       "K3  9  8"
      ]
     },
     "execution_count": 81,
     "metadata": {},
     "output_type": "execute_result"
    }
   ],
   "source": [
    "t1"
   ]
  },
  {
   "cell_type": "code",
   "execution_count": 80,
   "metadata": {},
   "outputs": [
    {
     "data": {
      "text/html": [
       "<div>\n",
       "<style scoped>\n",
       "    .dataframe tbody tr th:only-of-type {\n",
       "        vertical-align: middle;\n",
       "    }\n",
       "\n",
       "    .dataframe tbody tr th {\n",
       "        vertical-align: top;\n",
       "    }\n",
       "\n",
       "    .dataframe thead th {\n",
       "        text-align: right;\n",
       "    }\n",
       "</style>\n",
       "<table border=\"1\" class=\"dataframe\">\n",
       "  <thead>\n",
       "    <tr style=\"text-align: right;\">\n",
       "      <th></th>\n",
       "      <th>C</th>\n",
       "      <th>D</th>\n",
       "    </tr>\n",
       "  </thead>\n",
       "  <tbody>\n",
       "    <tr>\n",
       "      <th>K0</th>\n",
       "      <td>5</td>\n",
       "      <td>2</td>\n",
       "    </tr>\n",
       "    <tr>\n",
       "      <th>K1</th>\n",
       "      <td>9</td>\n",
       "      <td>6</td>\n",
       "    </tr>\n",
       "    <tr>\n",
       "      <th>K2</th>\n",
       "      <td>11</td>\n",
       "      <td>10</td>\n",
       "    </tr>\n",
       "    <tr>\n",
       "      <th>K3</th>\n",
       "      <td>13</td>\n",
       "      <td>12</td>\n",
       "    </tr>\n",
       "  </tbody>\n",
       "</table>\n",
       "</div>"
      ],
      "text/plain": [
       "     C   D\n",
       "K0   5   2\n",
       "K1   9   6\n",
       "K2  11  10\n",
       "K3  13  12"
      ]
     },
     "execution_count": 80,
     "metadata": {},
     "output_type": "execute_result"
    }
   ],
   "source": [
    "t2"
   ]
  },
  {
   "cell_type": "code",
   "execution_count": 45,
   "metadata": {},
   "outputs": [],
   "source": [
    "df_cases_beds_map = pd.merge(left = df_today, right= state_total_beds, how='left', left_on = ['State/UnionTerritory'], right_on=['State/UnionTerritory'])"
   ]
  },
  {
   "cell_type": "code",
   "execution_count": 50,
   "metadata": {},
   "outputs": [
    {
     "data": {
      "text/plain": [
       "380532"
      ]
     },
     "execution_count": 50,
     "metadata": {},
     "output_type": "execute_result"
    }
   ],
   "source": [
    "df_today['Confirmed'].sum()"
   ]
  },
  {
   "cell_type": "code",
   "execution_count": 59,
   "metadata": {},
   "outputs": [
    {
     "data": {
      "image/png": "[encoded data removed]",
      "text/plain": [
       "<Figure size 2000x1000 with 1 Axes>"
      ]
     },
     "metadata": {
      "needs_background": "light"
     },
     "output_type": "display_data"
    }
   ],
   "source": [
    "fig = plt.figure(figsize=(10,5), dpi=200)\n",
    "\n",
    "axes = fig.add_axes([0.1, 0.1, 0.8, 0.8])\n",
    "\n",
    "axes.bar(df_Maha['Date'], df_Maha['Confirmed'])\n",
    "\n",
    "plt.show()"
   ]
  },
  {
   "cell_type": "code",
   "execution_count": 58,
   "metadata": {},
   "outputs": [
    {
     "data": {
      "text/plain": [
       "<module 'plotly.express' from '/Users/mdsajidhussain/anaconda/envs/py36/lib/python3.6/site-packages/plotly/express/__init__.py'>"
      ]
     },
     "execution_count": 58,
     "metadata": {},
     "output_type": "execute_result"
    }
   ],
   "source": [
    "px"
   ]
  },
  {
   "cell_type": "code",
   "execution_count": 61,
   "metadata": {},
   "outputs": [
    {
     "data": {
      "application/vnd.plotly.v1+json": {
       "config": {
        "plotlyServerURL": "https://plot.ly"
       },
       "data": [
        {
         "hoverlabel": {
          "namelength": 0
         },
         "hovertemplate": "Date=%{x}<br>Confirmed=%{marker.color}",
         "legendgroup": "",
         "marker": {
          "color": [
           2,
           5,
           2,
           11,
           14,
           14,
           32,
           32,
           39,
           42,
           47,
           52,
           63,
           67,
           74,
           89,
           128,
           124,
           130,
           180,
           186,
           198,
           216,
           302,
           335,
           335,
           490,
           490,
           748,
           868,
           1018,
           1135,
           1364,
           1574,
           1761,
           1985,
           2337,
           2687,
           2919,
           3205,
           3323,
           3651,
           4203,
           4669,
           5221,
           5652,
           6430,
           6817,
           7628,
           8068,
           8590,
           9318,
           9915,
           10498,
           11506,
           12296,
           12974,
           14541,
           15525,
           16758,
           17974,
           19063,
           20228,
           22171,
           23401,
           24427,
           25922,
           27524,
           29100,
           30706,
           33053,
           35058,
           37136,
           39297,
           41642,
           44582,
           47190,
           50231,
           52667,
           54758,
           56948,
           59546,
           62228,
           65168,
           67655,
           70013,
           72300,
           74860,
           77793,
           80229,
           82968,
           85975,
           88528,
           90787,
           94041,
           97648,
           101141,
           104568,
           107958,
           110744,
           113445,
           116752,
           120504
          ],
          "coloraxis": "coloraxis",
          "symbol": "circle"
         },
         "mode": "markers",
         "name": "",
         "showlegend": false,
         "type": "scatter",
         "x": [
          "09/03/20",
          "10/03/20",
          "11/03/20",
          "12/03/20",
          "13/03/20",
          "14/03/20",
          "15/03/20",
          "16/03/20",
          "17/03/20",
          "18/03/20",
          "19/03/20",
          "20/03/20",
          "21/03/20",
          "22/03/20",
          "23/03/20",
          "24/03/20",
          "25/03/20",
          "26/03/20",
          "27/03/20",
          "28/03/20",
          "29/03/20",
          "30/03/20",
          "31/03/20",
          "01/04/20",
          "02/04/20",
          "03/04/20",
          "04/04/20",
          "05/04/20",
          "06/04/20",
          "07/04/20",
          "08/04/20",
          "09/04/20",
          "10/04/20",
          "11/04/20",
          "12/04/20",
          "13/04/20",
          "14/04/20",
          "15/04/20",
          "16/04/20",
          "17/04/20",
          "18/04/20",
          "19/04/20",
          "20/04/20",
          "21/04/20",
          "22/04/20",
          "23/04/20",
          "24/04/20",
          "25/04/20",
          "26/04/20",
          "27/04/20",
          "28/04/20",
          "29/04/20",
          "30/04/20",
          "01/05/20",
          "02/05/20",
          "03/05/20",
          "04/05/20",
          "05/05/20",
          "06/05/20",
          "07/05/20",
          "08/05/20",
          "09/05/20",
          "10/05/20",
          "11/05/20",
          "12/05/20",
          "13/05/20",
          "14/05/20",
          "15/05/20",
          "16/05/20",
          "17/05/20",
          "18/05/20",
          "19/05/20",
          "20/05/20",
          "21/05/20",
          "22/05/20",
          "23/05/20",
          "24/05/20",
          "25/05/20",
          "26/05/20",
          "27/05/20",
          "28/05/20",
          "29/05/20",
          "30/05/20",
          "31/05/20",
          "01/06/20",
          "02/06/20",
          "03/06/20",
          "04/06/20",
          "05/06/20",
          "06/06/20",
          "07/06/20",
          "08/06/20",
          "09/06/20",
          "10/06/20",
          "11/06/20",
          "12/06/20",
          "13/06/20",
          "14/06/20",
          "15/06/20",
          "16/06/20",
          "17/06/20",
          "18/06/20",
          "19/06/20"
         ],
         "xaxis": "x",
         "y": [
          2,
          5,
          2,
          11,
          14,
          14,
          32,
          32,
          39,
          42,
          47,
          52,
          63,
          67,
          74,
          89,
          128,
          124,
          130,
          180,
          186,
          198,
          216,
          302,
          335,
          335,
          490,
          490,
          748,
          868,
          1018,
          1135,
          1364,
          1574,
          1761,
          1985,
          2337,
          2687,
          2919,
          3205,
          3323,
          3651,
          4203,
          4669,
          5221,
          5652,
          6430,
          6817,
          7628,
          8068,
          8590,
          9318,
          9915,
          10498,
          11506,
          12296,
          12974,
          14541,
          15525,
          16758,
          17974,
          19063,
          20228,
          22171,
          23401,
          24427,
          25922,
          27524,
          29100,
          30706,
          33053,
          35058,
          37136,
          39297,
          41642,
          44582,
          47190,
          50231,
          52667,
          54758,
          56948,
          59546,
          62228,
          65168,
          67655,
          70013,
          72300,
          74860,
          77793,
          80229,
          82968,
          85975,
          88528,
          90787,
          94041,
          97648,
          101141,
          104568,
          107958,
          110744,
          113445,
          116752,
          120504
         ],
         "yaxis": "y"
        }
       ],
       "layout": {
        "coloraxis": {
         "colorbar": {
          "title": {
           "text": "Confirmed"
          }
         },
         "colorscale": [
          [
           0,
           "#0d0887"
          ],
          [
           0.1111111111111111,
           "#46039f"
          ],
          [
           0.2222222222222222,
           "#7201a8"
          ],
          [
           0.3333333333333333,
           "#9c179e"
          ],
          [
           0.4444444444444444,
           "#bd3786"
          ],
          [
           0.5555555555555556,
           "#d8576b"
          ],
          [
           0.6666666666666666,
           "#ed7953"
          ],
          [
           0.7777777777777778,
           "#fb9f3a"
          ],
          [
           0.8888888888888888,
           "#fdca26"
          ],
          [
           1,
           "#f0f921"
          ]
         ]
        },
        "legend": {
         "tracegroupgap": 0
        },
        "template": {
         "data": {
          "bar": [
           {
            "error_x": {
             "color": "#2a3f5f"
            },
            "error_y": {
             "color": "#2a3f5f"
            },
            "marker": {
             "line": {
              "color": "#E5ECF6",
              "width": 0.5
             }
            },
            "type": "bar"
           }
          ],
          "barpolar": [
           {
            "marker": {
             "line": {
              "color": "#E5ECF6",
              "width": 0.5
             }
            },
            "type": "barpolar"
           }
          ],
          "carpet": [
           {
            "aaxis": {
             "endlinecolor": "#2a3f5f",
             "gridcolor": "white",
             "linecolor": "white",
             "minorgridcolor": "white",
             "startlinecolor": "#2a3f5f"
            },
            "baxis": {
             "endlinecolor": "#2a3f5f",
             "gridcolor": "white",
             "linecolor": "white",
             "minorgridcolor": "white",
             "startlinecolor": "#2a3f5f"
            },
            "type": "carpet"
           }
          ],
          "choropleth": [
           {
            "colorbar": {
             "outlinewidth": 0,
             "ticks": ""
            },
            "type": "choropleth"
           }
          ],
          "contour": [
           {
            "colorbar": {
             "outlinewidth": 0,
             "ticks": ""
            },
            "colorscale": [
             [
              0,
              "#0d0887"
             ],
             [
              0.1111111111111111,
              "#46039f"
             ],
             [
              0.2222222222222222,
              "#7201a8"
             ],
             [
              0.3333333333333333,
              "#9c179e"
             ],
             [
              0.4444444444444444,
              "#bd3786"
             ],
             [
              0.5555555555555556,
              "#d8576b"
             ],
             [
              0.6666666666666666,
              "#ed7953"
             ],
             [
              0.7777777777777778,
              "#fb9f3a"
             ],
             [
              0.8888888888888888,
              "#fdca26"
             ],
             [
              1,
              "#f0f921"
             ]
            ],
            "type": "contour"
           }
          ],
          "contourcarpet": [
           {
            "colorbar": {
             "outlinewidth": 0,
             "ticks": ""
            },
            "type": "contourcarpet"
           }
          ],
          "heatmap": [
           {
            "colorbar": {
             "outlinewidth": 0,
             "ticks": ""
            },
            "colorscale": [
             [
              0,
              "#0d0887"
             ],
             [
              0.1111111111111111,
              "#46039f"
             ],
             [
              0.2222222222222222,
              "#7201a8"
             ],
             [
              0.3333333333333333,
              "#9c179e"
             ],
             [
              0.4444444444444444,
              "#bd3786"
             ],
             [
              0.5555555555555556,
              "#d8576b"
             ],
             [
              0.6666666666666666,
              "#ed7953"
             ],
             [
              0.7777777777777778,
              "#fb9f3a"
             ],
             [
              0.8888888888888888,
              "#fdca26"
             ],
             [
              1,
              "#f0f921"
             ]
            ],
            "type": "heatmap"
           }
          ],
          "heatmapgl": [
           {
            "colorbar": {
             "outlinewidth": 0,
             "ticks": ""
            },
            "colorscale": [
             [
              0,
              "#0d0887"
             ],
             [
              0.1111111111111111,
              "#46039f"
             ],
             [
              0.2222222222222222,
              "#7201a8"
             ],
             [
              0.3333333333333333,
              "#9c179e"
             ],
             [
              0.4444444444444444,
              "#bd3786"
             ],
             [
              0.5555555555555556,
              "#d8576b"
             ],
             [
              0.6666666666666666,
              "#ed7953"
             ],
             [
              0.7777777777777778,
              "#fb9f3a"
             ],
             [
              0.8888888888888888,
              "#fdca26"
             ],
             [
              1,
              "#f0f921"
             ]
            ],
            "type": "heatmapgl"
           }
          ],
          "histogram": [
           {
            "marker": {
             "colorbar": {
              "outlinewidth": 0,
              "ticks": ""
             }
            },
            "type": "histogram"
           }
          ],
          "histogram2d": [
           {
            "colorbar": {
             "outlinewidth": 0,
             "ticks": ""
            },
            "colorscale": [
             [
              0,
              "#0d0887"
             ],
             [
              0.1111111111111111,
              "#46039f"
             ],
             [
              0.2222222222222222,
              "#7201a8"
             ],
             [
              0.3333333333333333,
              "#9c179e"
             ],
             [
              0.4444444444444444,
              "#bd3786"
             ],
             [
              0.5555555555555556,
              "#d8576b"
             ],
             [
              0.6666666666666666,
              "#ed7953"
             ],
             [
              0.7777777777777778,
              "#fb9f3a"
             ],
             [
              0.8888888888888888,
              "#fdca26"
             ],
             [
              1,
              "#f0f921"
             ]
            ],
            "type": "histogram2d"
           }
          ],
          "histogram2dcontour": [
           {
            "colorbar": {
             "outlinewidth": 0,
             "ticks": ""
            },
            "colorscale": [
             [
              0,
              "#0d0887"
             ],
             [
              0.1111111111111111,
              "#46039f"
             ],
             [
              0.2222222222222222,
              "#7201a8"
             ],
             [
              0.3333333333333333,
              "#9c179e"
             ],
             [
              0.4444444444444444,
              "#bd3786"
             ],
             [
              0.5555555555555556,
              "#d8576b"
             ],
             [
              0.6666666666666666,
              "#ed7953"
             ],
             [
              0.7777777777777778,
              "#fb9f3a"
             ],
             [
              0.8888888888888888,
              "#fdca26"
             ],
             [
              1,
              "#f0f921"
             ]
            ],
            "type": "histogram2dcontour"
           }
          ],
          "mesh3d": [
           {
            "colorbar": {
             "outlinewidth": 0,
             "ticks": ""
            },
            "type": "mesh3d"
           }
          ],
          "parcoords": [
           {
            "line": {
             "colorbar": {
              "outlinewidth": 0,
              "ticks": ""
             }
            },
            "type": "parcoords"
           }
          ],
          "pie": [
           {
            "automargin": true,
            "type": "pie"
           }
          ],
          "scatter": [
           {
            "marker": {
             "colorbar": {
              "outlinewidth": 0,
              "ticks": ""
             }
            },
            "type": "scatter"
           }
          ],
          "scatter3d": [
           {
            "line": {
             "colorbar": {
              "outlinewidth": 0,
              "ticks": ""
             }
            },
            "marker": {
             "colorbar": {
              "outlinewidth": 0,
              "ticks": ""
             }
            },
            "type": "scatter3d"
           }
          ],
          "scattercarpet": [
           {
            "marker": {
             "colorbar": {
              "outlinewidth": 0,
              "ticks": ""
             }
            },
            "type": "scattercarpet"
           }
          ],
          "scattergeo": [
           {
            "marker": {
             "colorbar": {
              "outlinewidth": 0,
              "ticks": ""
             }
            },
            "type": "scattergeo"
           }
          ],
          "scattergl": [
           {
            "marker": {
             "colorbar": {
              "outlinewidth": 0,
              "ticks": ""
             }
            },
            "type": "scattergl"
           }
          ],
          "scattermapbox": [
           {
            "marker": {
             "colorbar": {
              "outlinewidth": 0,
              "ticks": ""
             }
            },
            "type": "scattermapbox"
           }
          ],
          "scatterpolar": [
           {
            "marker": {
             "colorbar": {
              "outlinewidth": 0,
              "ticks": ""
             }
            },
            "type": "scatterpolar"
           }
          ],
          "scatterpolargl": [
           {
            "marker": {
             "colorbar": {
              "outlinewidth": 0,
              "ticks": ""
             }
            },
            "type": "scatterpolargl"
           }
          ],
          "scatterternary": [
           {
            "marker": {
             "colorbar": {
              "outlinewidth": 0,
              "ticks": ""
             }
            },
            "type": "scatterternary"
           }
          ],
          "surface": [
           {
            "colorbar": {
             "outlinewidth": 0,
             "ticks": ""
            },
            "colorscale": [
             [
              0,
              "#0d0887"
             ],
             [
              0.1111111111111111,
              "#46039f"
             ],
             [
              0.2222222222222222,
              "#7201a8"
             ],
             [
              0.3333333333333333,
              "#9c179e"
             ],
             [
              0.4444444444444444,
              "#bd3786"
             ],
             [
              0.5555555555555556,
              "#d8576b"
             ],
             [
              0.6666666666666666,
              "#ed7953"
             ],
             [
              0.7777777777777778,
              "#fb9f3a"
             ],
             [
              0.8888888888888888,
              "#fdca26"
             ],
             [
              1,
              "#f0f921"
             ]
            ],
            "type": "surface"
           }
          ],
          "table": [
           {
            "cells": {
             "fill": {
              "color": "#EBF0F8"
             },
             "line": {
              "color": "white"
             }
            },
            "header": {
             "fill": {
              "color": "#C8D4E3"
             },
             "line": {
              "color": "white"
             }
            },
            "type": "table"
           }
          ]
         },
         "layout": {
          "annotationdefaults": {
           "arrowcolor": "#2a3f5f",
           "arrowhead": 0,
           "arrowwidth": 1
          },
          "coloraxis": {
           "colorbar": {
            "outlinewidth": 0,
            "ticks": ""
           }
          },
          "colorscale": {
           "diverging": [
            [
             0,
             "#8e0152"
            ],
            [
             0.1,
             "#c51b7d"
            ],
            [
             0.2,
             "#de77ae"
            ],
            [
             0.3,
             "#f1b6da"
            ],
            [
             0.4,
             "#fde0ef"
            ],
            [
             0.5,
             "#f7f7f7"
            ],
            [
             0.6,
             "#e6f5d0"
            ],
            [
             0.7,
             "#b8e186"
            ],
            [
             0.8,
             "#7fbc41"
            ],
            [
             0.9,
             "#4d9221"
            ],
            [
             1,
             "#276419"
            ]
           ],
           "sequential": [
            [
             0,
             "#0d0887"
            ],
            [
             0.1111111111111111,
             "#46039f"
            ],
            [
             0.2222222222222222,
             "#7201a8"
            ],
            [
             0.3333333333333333,
             "#9c179e"
            ],
            [
             0.4444444444444444,
             "#bd3786"
            ],
            [
             0.5555555555555556,
             "#d8576b"
            ],
            [
             0.6666666666666666,
             "#ed7953"
            ],
            [
             0.7777777777777778,
             "#fb9f3a"
            ],
            [
             0.8888888888888888,
             "#fdca26"
            ],
            [
             1,
             "#f0f921"
            ]
           ],
           "sequentialminus": [
            [
             0,
             "#0d0887"
            ],
            [
             0.1111111111111111,
             "#46039f"
            ],
            [
             0.2222222222222222,
             "#7201a8"
            ],
            [
             0.3333333333333333,
             "#9c179e"
            ],
            [
             0.4444444444444444,
             "#bd3786"
            ],
            [
             0.5555555555555556,
             "#d8576b"
            ],
            [
             0.6666666666666666,
             "#ed7953"
            ],
            [
             0.7777777777777778,
             "#fb9f3a"
            ],
            [
             0.8888888888888888,
             "#fdca26"
            ],
            [
             1,
             "#f0f921"
            ]
           ]
          },
          "colorway": [
           "#636efa",
           "#EF553B",
           "#00cc96",
           "#ab63fa",
           "#FFA15A",
           "#19d3f3",
           "#FF6692",
           "#B6E880",
           "#FF97FF",
           "#FECB52"
          ],
          "font": {
           "color": "#2a3f5f"
          },
          "geo": {
           "bgcolor": "white",
           "lakecolor": "white",
           "landcolor": "#E5ECF6",
           "showlakes": true,
           "showland": true,
           "subunitcolor": "white"
          },
          "hoverlabel": {
           "align": "left"
          },
          "hovermode": "closest",
          "mapbox": {
           "style": "light"
          },
          "paper_bgcolor": "white",
          "plot_bgcolor": "#E5ECF6",
          "polar": {
           "angularaxis": {
            "gridcolor": "white",
            "linecolor": "white",
            "ticks": ""
           },
           "bgcolor": "#E5ECF6",
           "radialaxis": {
            "gridcolor": "white",
            "linecolor": "white",
            "ticks": ""
           }
          },
          "scene": {
           "xaxis": {
            "backgroundcolor": "#E5ECF6",
            "gridcolor": "white",
            "gridwidth": 2,
            "linecolor": "white",
            "showbackground": true,
            "ticks": "",
            "zerolinecolor": "white"
           },
           "yaxis": {
            "backgroundcolor": "#E5ECF6",
            "gridcolor": "white",
            "gridwidth": 2,
            "linecolor": "white",
            "showbackground": true,
            "ticks": "",
            "zerolinecolor": "white"
           },
           "zaxis": {
            "backgroundcolor": "#E5ECF6",
            "gridcolor": "white",
            "gridwidth": 2,
            "linecolor": "white",
            "showbackground": true,
            "ticks": "",
            "zerolinecolor": "white"
           }
          },
          "shapedefaults": {
           "line": {
            "color": "#2a3f5f"
           }
          },
          "ternary": {
           "aaxis": {
            "gridcolor": "white",
            "linecolor": "white",
            "ticks": ""
           },
           "baxis": {
            "gridcolor": "white",
            "linecolor": "white",
            "ticks": ""
           },
           "bgcolor": "#E5ECF6",
           "caxis": {
            "gridcolor": "white",
            "linecolor": "white",
            "ticks": ""
           }
          },
          "title": {
           "x": 0.05
          },
          "xaxis": {
           "automargin": true,
           "gridcolor": "white",
           "linecolor": "white",
           "ticks": "",
           "title": {
            "standoff": 15
           },
           "zerolinecolor": "white",
           "zerolinewidth": 2
          },
          "yaxis": {
           "automargin": true,
           "gridcolor": "white",
           "linecolor": "white",
           "ticks": "",
           "title": {
            "standoff": 15
           },
           "zerolinecolor": "white",
           "zerolinewidth": 2
          }
         }
        },
        "title": {
         "text": "Confirmed Cases in Maha"
        },
        "xaxis": {
         "anchor": "y",
         "domain": [
          0,
          1
         ],
         "title": {
          "text": "Date"
         }
        },
        "yaxis": {
         "anchor": "x",
         "domain": [
          0,
          1
         ],
         "title": {
          "text": "Confirmed"
         }
        }
       }
      },
      "text/html": [
       "<div>\n",
       "        \n",
       "        \n",
       "            <div id=\"07f07fe4-95f8-40a0-87d8-21fa7db14b61\" class=\"plotly-graph-div\" style=\"height:525px; width:100%;\"></div>\n",
       "            <script type=\"text/javascript\">\n",
       "                require([\"plotly\"], function(Plotly) {\n",
       "                    window.PLOTLYENV=window.PLOTLYENV || {};\n",
       "                    \n",
       "                if (document.getElementById(\"07f07fe4-95f8-40a0-87d8-21fa7db14b61\")) {\n",
       "                    Plotly.newPlot(\n",
       "                        '07f07fe4-95f8-40a0-87d8-21fa7db14b61',\n",
       "                        [{\"hoverlabel\": {\"namelength\": 0}, \"hovertemplate\": \"Date=%{x}<br>Confirmed=%{marker.color}\", \"legendgroup\": \"\", \"marker\": {\"color\": [2, 5, 2, 11, 14, 14, 32, 32, 39, 42, 47, 52, 63, 67, 74, 89, 128, 124, 130, 180, 186, 198, 216, 302, 335, 335, 490, 490, 748, 868, 1018, 1135, 1364, 1574, 1761, 1985, 2337, 2687, 2919, 3205, 3323, 3651, 4203, 4669, 5221, 5652, 6430, 6817, 7628, 8068, 8590, 9318, 9915, 10498, 11506, 12296, 12974, 14541, 15525, 16758, 17974, 19063, 20228, 22171, 23401, 24427, 25922, 27524, 29100, 30706, 33053, 35058, 37136, 39297, 41642, 44582, 47190, 50231, 52667, 54758, 56948, 59546, 62228, 65168, 67655, 70013, 72300, 74860, 77793, 80229, 82968, 85975, 88528, 90787, 94041, 97648, 101141, 104568, 107958, 110744, 113445, 116752, 120504], \"coloraxis\": \"coloraxis\", \"symbol\": \"circle\"}, \"mode\": \"markers\", \"name\": \"\", \"showlegend\": false, \"type\": \"scatter\", \"x\": [\"09/03/20\", \"10/03/20\", \"11/03/20\", \"12/03/20\", \"13/03/20\", \"14/03/20\", \"15/03/20\", \"16/03/20\", \"17/03/20\", \"18/03/20\", \"19/03/20\", \"20/03/20\", \"21/03/20\", \"22/03/20\", \"23/03/20\", \"24/03/20\", \"25/03/20\", \"26/03/20\", \"27/03/20\", \"28/03/20\", \"29/03/20\", \"30/03/20\", \"31/03/20\", \"01/04/20\", \"02/04/20\", \"03/04/20\", \"04/04/20\", \"05/04/20\", \"06/04/20\", \"07/04/20\", \"08/04/20\", \"09/04/20\", \"10/04/20\", \"11/04/20\", \"12/04/20\", \"13/04/20\", \"14/04/20\", \"15/04/20\", \"16/04/20\", \"17/04/20\", \"18/04/20\", \"19/04/20\", \"20/04/20\", \"21/04/20\", \"22/04/20\", \"23/04/20\", \"24/04/20\", \"25/04/20\", \"26/04/20\", \"27/04/20\", \"28/04/20\", \"29/04/20\", \"30/04/20\", \"01/05/20\", \"02/05/20\", \"03/05/20\", \"04/05/20\", \"05/05/20\", \"06/05/20\", \"07/05/20\", \"08/05/20\", \"09/05/20\", \"10/05/20\", \"11/05/20\", \"12/05/20\", \"13/05/20\", \"14/05/20\", \"15/05/20\", \"16/05/20\", \"17/05/20\", \"18/05/20\", \"19/05/20\", \"20/05/20\", \"21/05/20\", \"22/05/20\", \"23/05/20\", \"24/05/20\", \"25/05/20\", \"26/05/20\", \"27/05/20\", \"28/05/20\", \"29/05/20\", \"30/05/20\", \"31/05/20\", \"01/06/20\", \"02/06/20\", \"03/06/20\", \"04/06/20\", \"05/06/20\", \"06/06/20\", \"07/06/20\", \"08/06/20\", \"09/06/20\", \"10/06/20\", \"11/06/20\", \"12/06/20\", \"13/06/20\", \"14/06/20\", \"15/06/20\", \"16/06/20\", \"17/06/20\", \"18/06/20\", \"19/06/20\"], \"xaxis\": \"x\", \"y\": [2, 5, 2, 11, 14, 14, 32, 32, 39, 42, 47, 52, 63, 67, 74, 89, 128, 124, 130, 180, 186, 198, 216, 302, 335, 335, 490, 490, 748, 868, 1018, 1135, 1364, 1574, 1761, 1985, 2337, 2687, 2919, 3205, 3323, 3651, 4203, 4669, 5221, 5652, 6430, 6817, 7628, 8068, 8590, 9318, 9915, 10498, 11506, 12296, 12974, 14541, 15525, 16758, 17974, 19063, 20228, 22171, 23401, 24427, 25922, 27524, 29100, 30706, 33053, 35058, 37136, 39297, 41642, 44582, 47190, 50231, 52667, 54758, 56948, 59546, 62228, 65168, 67655, 70013, 72300, 74860, 77793, 80229, 82968, 85975, 88528, 90787, 94041, 97648, 101141, 104568, 107958, 110744, 113445, 116752, 120504], \"yaxis\": \"y\"}],\n",
       "                        {\"coloraxis\": {\"colorbar\": {\"title\": {\"text\": \"Confirmed\"}}, \"colorscale\": [[0.0, \"#0d0887\"], [0.1111111111111111, \"#46039f\"], [0.2222222222222222, \"#7201a8\"], [0.3333333333333333, \"#9c179e\"], [0.4444444444444444, \"#bd3786\"], [0.5555555555555556, \"#d8576b\"], [0.6666666666666666, \"#ed7953\"], [0.7777777777777778, \"#fb9f3a\"], [0.8888888888888888, \"#fdca26\"], [1.0, \"#f0f921\"]]}, \"legend\": {\"tracegroupgap\": 0}, \"template\": {\"data\": {\"bar\": [{\"error_x\": {\"color\": \"#2a3f5f\"}, \"error_y\": {\"color\": \"#2a3f5f\"}, \"marker\": {\"line\": {\"color\": \"#E5ECF6\", \"width\": 0.5}}, \"type\": \"bar\"}], \"barpolar\": [{\"marker\": {\"line\": {\"color\": \"#E5ECF6\", \"width\": 0.5}}, \"type\": \"barpolar\"}], \"carpet\": [{\"aaxis\": {\"endlinecolor\": \"#2a3f5f\", \"gridcolor\": \"white\", \"linecolor\": \"white\", \"minorgridcolor\": \"white\", \"startlinecolor\": \"#2a3f5f\"}, \"baxis\": {\"endlinecolor\": \"#2a3f5f\", \"gridcolor\": \"white\", \"linecolor\": \"white\", \"minorgridcolor\": \"white\", \"startlinecolor\": \"#2a3f5f\"}, \"type\": \"carpet\"}], \"choropleth\": [{\"colorbar\": {\"outlinewidth\": 0, \"ticks\": \"\"}, \"type\": \"choropleth\"}], \"contour\": [{\"colorbar\": {\"outlinewidth\": 0, \"ticks\": \"\"}, \"colorscale\": [[0.0, \"#0d0887\"], [0.1111111111111111, \"#46039f\"], [0.2222222222222222, \"#7201a8\"], [0.3333333333333333, \"#9c179e\"], [0.4444444444444444, \"#bd3786\"], [0.5555555555555556, \"#d8576b\"], [0.6666666666666666, \"#ed7953\"], [0.7777777777777778, \"#fb9f3a\"], [0.8888888888888888, \"#fdca26\"], [1.0, \"#f0f921\"]], \"type\": \"contour\"}], \"contourcarpet\": [{\"colorbar\": {\"outlinewidth\": 0, \"ticks\": \"\"}, \"type\": \"contourcarpet\"}], \"heatmap\": [{\"colorbar\": {\"outlinewidth\": 0, \"ticks\": \"\"}, \"colorscale\": [[0.0, \"#0d0887\"], [0.1111111111111111, \"#46039f\"], [0.2222222222222222, \"#7201a8\"], [0.3333333333333333, \"#9c179e\"], [0.4444444444444444, \"#bd3786\"], [0.5555555555555556, \"#d8576b\"], [0.6666666666666666, \"#ed7953\"], [0.7777777777777778, \"#fb9f3a\"], [0.8888888888888888, \"#fdca26\"], [1.0, \"#f0f921\"]], \"type\": \"heatmap\"}], \"heatmapgl\": [{\"colorbar\": {\"outlinewidth\": 0, \"ticks\": \"\"}, \"colorscale\": [[0.0, \"#0d0887\"], [0.1111111111111111, \"#46039f\"], [0.2222222222222222, \"#7201a8\"], [0.3333333333333333, \"#9c179e\"], [0.4444444444444444, \"#bd3786\"], [0.5555555555555556, \"#d8576b\"], [0.6666666666666666, \"#ed7953\"], [0.7777777777777778, \"#fb9f3a\"], [0.8888888888888888, \"#fdca26\"], [1.0, \"#f0f921\"]], \"type\": \"heatmapgl\"}], \"histogram\": [{\"marker\": {\"colorbar\": {\"outlinewidth\": 0, \"ticks\": \"\"}}, \"type\": \"histogram\"}], \"histogram2d\": [{\"colorbar\": {\"outlinewidth\": 0, \"ticks\": \"\"}, \"colorscale\": [[0.0, \"#0d0887\"], [0.1111111111111111, \"#46039f\"], [0.2222222222222222, \"#7201a8\"], [0.3333333333333333, \"#9c179e\"], [0.4444444444444444, \"#bd3786\"], [0.5555555555555556, \"#d8576b\"], [0.6666666666666666, \"#ed7953\"], [0.7777777777777778, \"#fb9f3a\"], [0.8888888888888888, \"#fdca26\"], [1.0, \"#f0f921\"]], \"type\": \"histogram2d\"}], \"histogram2dcontour\": [{\"colorbar\": {\"outlinewidth\": 0, \"ticks\": \"\"}, \"colorscale\": [[0.0, \"#0d0887\"], [0.1111111111111111, \"#46039f\"], [0.2222222222222222, \"#7201a8\"], [0.3333333333333333, \"#9c179e\"], [0.4444444444444444, \"#bd3786\"], [0.5555555555555556, \"#d8576b\"], [0.6666666666666666, \"#ed7953\"], [0.7777777777777778, \"#fb9f3a\"], [0.8888888888888888, \"#fdca26\"], [1.0, \"#f0f921\"]], \"type\": \"histogram2dcontour\"}], \"mesh3d\": [{\"colorbar\": {\"outlinewidth\": 0, \"ticks\": \"\"}, \"type\": \"mesh3d\"}], \"parcoords\": [{\"line\": {\"colorbar\": {\"outlinewidth\": 0, \"ticks\": \"\"}}, \"type\": \"parcoords\"}], \"pie\": [{\"automargin\": true, \"type\": \"pie\"}], \"scatter\": [{\"marker\": {\"colorbar\": {\"outlinewidth\": 0, \"ticks\": \"\"}}, \"type\": \"scatter\"}], \"scatter3d\": [{\"line\": {\"colorbar\": {\"outlinewidth\": 0, \"ticks\": \"\"}}, \"marker\": {\"colorbar\": {\"outlinewidth\": 0, \"ticks\": \"\"}}, \"type\": \"scatter3d\"}], \"scattercarpet\": [{\"marker\": {\"colorbar\": {\"outlinewidth\": 0, \"ticks\": \"\"}}, \"type\": \"scattercarpet\"}], \"scattergeo\": [{\"marker\": {\"colorbar\": {\"outlinewidth\": 0, \"ticks\": \"\"}}, \"type\": \"scattergeo\"}], \"scattergl\": [{\"marker\": {\"colorbar\": {\"outlinewidth\": 0, \"ticks\": \"\"}}, \"type\": \"scattergl\"}], \"scattermapbox\": [{\"marker\": {\"colorbar\": {\"outlinewidth\": 0, \"ticks\": \"\"}}, \"type\": \"scattermapbox\"}], \"scatterpolar\": [{\"marker\": {\"colorbar\": {\"outlinewidth\": 0, \"ticks\": \"\"}}, \"type\": \"scatterpolar\"}], \"scatterpolargl\": [{\"marker\": {\"colorbar\": {\"outlinewidth\": 0, \"ticks\": \"\"}}, \"type\": \"scatterpolargl\"}], \"scatterternary\": [{\"marker\": {\"colorbar\": {\"outlinewidth\": 0, \"ticks\": \"\"}}, \"type\": \"scatterternary\"}], \"surface\": [{\"colorbar\": {\"outlinewidth\": 0, \"ticks\": \"\"}, \"colorscale\": [[0.0, \"#0d0887\"], [0.1111111111111111, \"#46039f\"], [0.2222222222222222, \"#7201a8\"], [0.3333333333333333, \"#9c179e\"], [0.4444444444444444, \"#bd3786\"], [0.5555555555555556, \"#d8576b\"], [0.6666666666666666, \"#ed7953\"], [0.7777777777777778, \"#fb9f3a\"], [0.8888888888888888, \"#fdca26\"], [1.0, \"#f0f921\"]], \"type\": \"surface\"}], \"table\": [{\"cells\": {\"fill\": {\"color\": \"#EBF0F8\"}, \"line\": {\"color\": \"white\"}}, \"header\": {\"fill\": {\"color\": \"#C8D4E3\"}, \"line\": {\"color\": \"white\"}}, \"type\": \"table\"}]}, \"layout\": {\"annotationdefaults\": {\"arrowcolor\": \"#2a3f5f\", \"arrowhead\": 0, \"arrowwidth\": 1}, \"coloraxis\": {\"colorbar\": {\"outlinewidth\": 0, \"ticks\": \"\"}}, \"colorscale\": {\"diverging\": [[0, \"#8e0152\"], [0.1, \"#c51b7d\"], [0.2, \"#de77ae\"], [0.3, \"#f1b6da\"], [0.4, \"#fde0ef\"], [0.5, \"#f7f7f7\"], [0.6, \"#e6f5d0\"], [0.7, \"#b8e186\"], [0.8, \"#7fbc41\"], [0.9, \"#4d9221\"], [1, \"#276419\"]], \"sequential\": [[0.0, \"#0d0887\"], [0.1111111111111111, \"#46039f\"], [0.2222222222222222, \"#7201a8\"], [0.3333333333333333, \"#9c179e\"], [0.4444444444444444, \"#bd3786\"], [0.5555555555555556, \"#d8576b\"], [0.6666666666666666, \"#ed7953\"], [0.7777777777777778, \"#fb9f3a\"], [0.8888888888888888, \"#fdca26\"], [1.0, \"#f0f921\"]], \"sequentialminus\": [[0.0, \"#0d0887\"], [0.1111111111111111, \"#46039f\"], [0.2222222222222222, \"#7201a8\"], [0.3333333333333333, \"#9c179e\"], [0.4444444444444444, \"#bd3786\"], [0.5555555555555556, \"#d8576b\"], [0.6666666666666666, \"#ed7953\"], [0.7777777777777778, \"#fb9f3a\"], [0.8888888888888888, \"#fdca26\"], [1.0, \"#f0f921\"]]}, \"colorway\": [\"#636efa\", \"#EF553B\", \"#00cc96\", \"#ab63fa\", \"#FFA15A\", \"#19d3f3\", \"#FF6692\", \"#B6E880\", \"#FF97FF\", \"#FECB52\"], \"font\": {\"color\": \"#2a3f5f\"}, \"geo\": {\"bgcolor\": \"white\", \"lakecolor\": \"white\", \"landcolor\": \"#E5ECF6\", \"showlakes\": true, \"showland\": true, \"subunitcolor\": \"white\"}, \"hoverlabel\": {\"align\": \"left\"}, \"hovermode\": \"closest\", \"mapbox\": {\"style\": \"light\"}, \"paper_bgcolor\": \"white\", \"plot_bgcolor\": \"#E5ECF6\", \"polar\": {\"angularaxis\": {\"gridcolor\": \"white\", \"linecolor\": \"white\", \"ticks\": \"\"}, \"bgcolor\": \"#E5ECF6\", \"radialaxis\": {\"gridcolor\": \"white\", \"linecolor\": \"white\", \"ticks\": \"\"}}, \"scene\": {\"xaxis\": {\"backgroundcolor\": \"#E5ECF6\", \"gridcolor\": \"white\", \"gridwidth\": 2, \"linecolor\": \"white\", \"showbackground\": true, \"ticks\": \"\", \"zerolinecolor\": \"white\"}, \"yaxis\": {\"backgroundcolor\": \"#E5ECF6\", \"gridcolor\": \"white\", \"gridwidth\": 2, \"linecolor\": \"white\", \"showbackground\": true, \"ticks\": \"\", \"zerolinecolor\": \"white\"}, \"zaxis\": {\"backgroundcolor\": \"#E5ECF6\", \"gridcolor\": \"white\", \"gridwidth\": 2, \"linecolor\": \"white\", \"showbackground\": true, \"ticks\": \"\", \"zerolinecolor\": \"white\"}}, \"shapedefaults\": {\"line\": {\"color\": \"#2a3f5f\"}}, \"ternary\": {\"aaxis\": {\"gridcolor\": \"white\", \"linecolor\": \"white\", \"ticks\": \"\"}, \"baxis\": {\"gridcolor\": \"white\", \"linecolor\": \"white\", \"ticks\": \"\"}, \"bgcolor\": \"#E5ECF6\", \"caxis\": {\"gridcolor\": \"white\", \"linecolor\": \"white\", \"ticks\": \"\"}}, \"title\": {\"x\": 0.05}, \"xaxis\": {\"automargin\": true, \"gridcolor\": \"white\", \"linecolor\": \"white\", \"ticks\": \"\", \"title\": {\"standoff\": 15}, \"zerolinecolor\": \"white\", \"zerolinewidth\": 2}, \"yaxis\": {\"automargin\": true, \"gridcolor\": \"white\", \"linecolor\": \"white\", \"ticks\": \"\", \"title\": {\"standoff\": 15}, \"zerolinecolor\": \"white\", \"zerolinewidth\": 2}}}, \"title\": {\"text\": \"Confirmed Cases in Maha\"}, \"xaxis\": {\"anchor\": \"y\", \"domain\": [0.0, 1.0], \"title\": {\"text\": \"Date\"}}, \"yaxis\": {\"anchor\": \"x\", \"domain\": [0.0, 1.0], \"title\": {\"text\": \"Confirmed\"}}},\n",
       "                        {\"responsive\": true}\n",
       "                    ).then(function(){\n",
       "                            \n",
       "var gd = document.getElementById('07f07fe4-95f8-40a0-87d8-21fa7db14b61');\n",
       "var x = new MutationObserver(function (mutations, observer) {{\n",
       "        var display = window.getComputedStyle(gd).display;\n",
       "        if (!display || display === 'none') {{\n",
       "            console.log([gd, 'removed!']);\n",
       "            Plotly.purge(gd);\n",
       "            observer.disconnect();\n",
       "        }}\n",
       "}});\n",
       "\n",
       "// Listen for the removal of the full notebook cells\n",
       "var notebookContainer = gd.closest('#notebook-container');\n",
       "if (notebookContainer) {{\n",
       "    x.observe(notebookContainer, {childList: true});\n",
       "}}\n",
       "\n",
       "// Listen for the clearing of the current output cell\n",
       "var outputEl = gd.closest('.output');\n",
       "if (outputEl) {{\n",
       "    x.observe(outputEl, {childList: true});\n",
       "}}\n",
       "\n",
       "                        })\n",
       "                };\n",
       "                });\n",
       "            </script>\n",
       "        </div>"
      ]
     },
     "metadata": {},
     "output_type": "display_data"
    }
   ],
   "source": [
    "fig = px.scatter(df_Maha, x = 'Date', y = 'Confirmed', color= 'Confirmed', title='Confirmed Cases in Maha')\n",
    "fig.show()"
   ]
  },
  {
   "cell_type": "code",
   "execution_count": 53,
   "metadata": {},
   "outputs": [],
   "source": [
    "df_Maha = df[df['State/UnionTerritory'] == 'Maharashtra']"
   ]
  },
  {
   "cell_type": "code",
   "execution_count": 54,
   "metadata": {},
   "outputs": [
    {
     "data": {
      "text/html": [
       "<div>\n",
       "<style scoped>\n",
       "    .dataframe tbody tr th:only-of-type {\n",
       "        vertical-align: middle;\n",
       "    }\n",
       "\n",
       "    .dataframe tbody tr th {\n",
       "        vertical-align: top;\n",
       "    }\n",
       "\n",
       "    .dataframe thead th {\n",
       "        text-align: right;\n",
       "    }\n",
       "</style>\n",
       "<table border=\"1\" class=\"dataframe\">\n",
       "  <thead>\n",
       "    <tr style=\"text-align: right;\">\n",
       "      <th></th>\n",
       "      <th>Date</th>\n",
       "      <th>Time</th>\n",
       "      <th>State/UnionTerritory</th>\n",
       "      <th>Cured</th>\n",
       "      <th>Deaths</th>\n",
       "      <th>Confirmed</th>\n",
       "    </tr>\n",
       "  </thead>\n",
       "  <tbody>\n",
       "    <tr>\n",
       "      <th>76</th>\n",
       "      <td>09/03/20</td>\n",
       "      <td>6:00 PM</td>\n",
       "      <td>Maharashtra</td>\n",
       "      <td>0</td>\n",
       "      <td>0</td>\n",
       "      <td>2</td>\n",
       "    </tr>\n",
       "    <tr>\n",
       "      <th>91</th>\n",
       "      <td>10/03/20</td>\n",
       "      <td>6:00 PM</td>\n",
       "      <td>Maharashtra</td>\n",
       "      <td>0</td>\n",
       "      <td>0</td>\n",
       "      <td>5</td>\n",
       "    </tr>\n",
       "    <tr>\n",
       "      <th>97</th>\n",
       "      <td>11/03/20</td>\n",
       "      <td>6:00 PM</td>\n",
       "      <td>Maharashtra</td>\n",
       "      <td>0</td>\n",
       "      <td>0</td>\n",
       "      <td>2</td>\n",
       "    </tr>\n",
       "    <tr>\n",
       "      <th>120</th>\n",
       "      <td>12/03/20</td>\n",
       "      <td>6:00 PM</td>\n",
       "      <td>Maharashtra</td>\n",
       "      <td>0</td>\n",
       "      <td>0</td>\n",
       "      <td>11</td>\n",
       "    </tr>\n",
       "    <tr>\n",
       "      <th>133</th>\n",
       "      <td>13/03/20</td>\n",
       "      <td>6:00 PM</td>\n",
       "      <td>Maharashtra</td>\n",
       "      <td>0</td>\n",
       "      <td>0</td>\n",
       "      <td>14</td>\n",
       "    </tr>\n",
       "  </tbody>\n",
       "</table>\n",
       "</div>"
      ],
      "text/plain": [
       "         Date     Time State/UnionTerritory  Cured  Deaths  Confirmed\n",
       "76   09/03/20  6:00 PM          Maharashtra      0       0          2\n",
       "91   10/03/20  6:00 PM          Maharashtra      0       0          5\n",
       "97   11/03/20  6:00 PM          Maharashtra      0       0          2\n",
       "120  12/03/20  6:00 PM          Maharashtra      0       0         11\n",
       "133  13/03/20  6:00 PM          Maharashtra      0       0         14"
      ]
     },
     "execution_count": 54,
     "metadata": {},
     "output_type": "execute_result"
    }
   ],
   "source": [
    "df_Maha.head()"
   ]
  },
  {
   "cell_type": "code",
   "execution_count": null,
   "metadata": {},
   "outputs": [],
   "source": []
  },
  {
   "cell_type": "code",
   "execution_count": 48,
   "metadata": {},
   "outputs": [
    {
     "data": {
      "text/html": [
       "<div>\n",
       "<style scoped>\n",
       "    .dataframe tbody tr th:only-of-type {\n",
       "        vertical-align: middle;\n",
       "    }\n",
       "\n",
       "    .dataframe tbody tr th {\n",
       "        vertical-align: top;\n",
       "    }\n",
       "\n",
       "    .dataframe thead th {\n",
       "        text-align: right;\n",
       "    }\n",
       "</style>\n",
       "<table border=\"1\" class=\"dataframe\">\n",
       "  <thead>\n",
       "    <tr style=\"text-align: right;\">\n",
       "      <th></th>\n",
       "      <th>Date</th>\n",
       "      <th>Time</th>\n",
       "      <th>State/UnionTerritory</th>\n",
       "      <th>Cured</th>\n",
       "      <th>Deaths</th>\n",
       "      <th>Confirmed</th>\n",
       "    </tr>\n",
       "  </thead>\n",
       "  <tbody>\n",
       "    <tr>\n",
       "      <th>0</th>\n",
       "      <td>30/01/20</td>\n",
       "      <td>6:00 PM</td>\n",
       "      <td>Kerala</td>\n",
       "      <td>0</td>\n",
       "      <td>0</td>\n",
       "      <td>1</td>\n",
       "    </tr>\n",
       "    <tr>\n",
       "      <th>1</th>\n",
       "      <td>31/01/20</td>\n",
       "      <td>6:00 PM</td>\n",
       "      <td>Kerala</td>\n",
       "      <td>0</td>\n",
       "      <td>0</td>\n",
       "      <td>1</td>\n",
       "    </tr>\n",
       "    <tr>\n",
       "      <th>2</th>\n",
       "      <td>01/02/20</td>\n",
       "      <td>6:00 PM</td>\n",
       "      <td>Kerala</td>\n",
       "      <td>0</td>\n",
       "      <td>0</td>\n",
       "      <td>2</td>\n",
       "    </tr>\n",
       "    <tr>\n",
       "      <th>3</th>\n",
       "      <td>02/02/20</td>\n",
       "      <td>6:00 PM</td>\n",
       "      <td>Kerala</td>\n",
       "      <td>0</td>\n",
       "      <td>0</td>\n",
       "      <td>3</td>\n",
       "    </tr>\n",
       "    <tr>\n",
       "      <th>4</th>\n",
       "      <td>03/02/20</td>\n",
       "      <td>6:00 PM</td>\n",
       "      <td>Kerala</td>\n",
       "      <td>0</td>\n",
       "      <td>0</td>\n",
       "      <td>3</td>\n",
       "    </tr>\n",
       "    <tr>\n",
       "      <th>5</th>\n",
       "      <td>04/02/20</td>\n",
       "      <td>6:00 PM</td>\n",
       "      <td>Kerala</td>\n",
       "      <td>0</td>\n",
       "      <td>0</td>\n",
       "      <td>3</td>\n",
       "    </tr>\n",
       "    <tr>\n",
       "      <th>6</th>\n",
       "      <td>05/02/20</td>\n",
       "      <td>6:00 PM</td>\n",
       "      <td>Kerala</td>\n",
       "      <td>0</td>\n",
       "      <td>0</td>\n",
       "      <td>3</td>\n",
       "    </tr>\n",
       "    <tr>\n",
       "      <th>7</th>\n",
       "      <td>06/02/20</td>\n",
       "      <td>6:00 PM</td>\n",
       "      <td>Kerala</td>\n",
       "      <td>0</td>\n",
       "      <td>0</td>\n",
       "      <td>3</td>\n",
       "    </tr>\n",
       "    <tr>\n",
       "      <th>8</th>\n",
       "      <td>07/02/20</td>\n",
       "      <td>6:00 PM</td>\n",
       "      <td>Kerala</td>\n",
       "      <td>0</td>\n",
       "      <td>0</td>\n",
       "      <td>3</td>\n",
       "    </tr>\n",
       "    <tr>\n",
       "      <th>9</th>\n",
       "      <td>08/02/20</td>\n",
       "      <td>6:00 PM</td>\n",
       "      <td>Kerala</td>\n",
       "      <td>0</td>\n",
       "      <td>0</td>\n",
       "      <td>3</td>\n",
       "    </tr>\n",
       "    <tr>\n",
       "      <th>10</th>\n",
       "      <td>09/02/20</td>\n",
       "      <td>6:00 PM</td>\n",
       "      <td>Kerala</td>\n",
       "      <td>0</td>\n",
       "      <td>0</td>\n",
       "      <td>3</td>\n",
       "    </tr>\n",
       "    <tr>\n",
       "      <th>11</th>\n",
       "      <td>10/02/20</td>\n",
       "      <td>6:00 PM</td>\n",
       "      <td>Kerala</td>\n",
       "      <td>0</td>\n",
       "      <td>0</td>\n",
       "      <td>3</td>\n",
       "    </tr>\n",
       "    <tr>\n",
       "      <th>12</th>\n",
       "      <td>11/02/20</td>\n",
       "      <td>6:00 PM</td>\n",
       "      <td>Kerala</td>\n",
       "      <td>0</td>\n",
       "      <td>0</td>\n",
       "      <td>3</td>\n",
       "    </tr>\n",
       "    <tr>\n",
       "      <th>13</th>\n",
       "      <td>12/02/20</td>\n",
       "      <td>6:00 PM</td>\n",
       "      <td>Kerala</td>\n",
       "      <td>0</td>\n",
       "      <td>0</td>\n",
       "      <td>3</td>\n",
       "    </tr>\n",
       "    <tr>\n",
       "      <th>14</th>\n",
       "      <td>13/02/20</td>\n",
       "      <td>6:00 PM</td>\n",
       "      <td>Kerala</td>\n",
       "      <td>0</td>\n",
       "      <td>0</td>\n",
       "      <td>3</td>\n",
       "    </tr>\n",
       "    <tr>\n",
       "      <th>15</th>\n",
       "      <td>14/02/20</td>\n",
       "      <td>6:00 PM</td>\n",
       "      <td>Kerala</td>\n",
       "      <td>0</td>\n",
       "      <td>0</td>\n",
       "      <td>3</td>\n",
       "    </tr>\n",
       "    <tr>\n",
       "      <th>16</th>\n",
       "      <td>15/02/20</td>\n",
       "      <td>6:00 PM</td>\n",
       "      <td>Kerala</td>\n",
       "      <td>0</td>\n",
       "      <td>0</td>\n",
       "      <td>3</td>\n",
       "    </tr>\n",
       "    <tr>\n",
       "      <th>17</th>\n",
       "      <td>16/02/20</td>\n",
       "      <td>6:00 PM</td>\n",
       "      <td>Kerala</td>\n",
       "      <td>0</td>\n",
       "      <td>0</td>\n",
       "      <td>3</td>\n",
       "    </tr>\n",
       "    <tr>\n",
       "      <th>18</th>\n",
       "      <td>17/02/20</td>\n",
       "      <td>6:00 PM</td>\n",
       "      <td>Kerala</td>\n",
       "      <td>0</td>\n",
       "      <td>0</td>\n",
       "      <td>3</td>\n",
       "    </tr>\n",
       "    <tr>\n",
       "      <th>19</th>\n",
       "      <td>18/02/20</td>\n",
       "      <td>6:00 PM</td>\n",
       "      <td>Kerala</td>\n",
       "      <td>0</td>\n",
       "      <td>0</td>\n",
       "      <td>3</td>\n",
       "    </tr>\n",
       "  </tbody>\n",
       "</table>\n",
       "</div>"
      ],
      "text/plain": [
       "        Date     Time State/UnionTerritory  Cured  Deaths  Confirmed\n",
       "0   30/01/20  6:00 PM               Kerala      0       0          1\n",
       "1   31/01/20  6:00 PM               Kerala      0       0          1\n",
       "2   01/02/20  6:00 PM               Kerala      0       0          2\n",
       "3   02/02/20  6:00 PM               Kerala      0       0          3\n",
       "4   03/02/20  6:00 PM               Kerala      0       0          3\n",
       "5   04/02/20  6:00 PM               Kerala      0       0          3\n",
       "6   05/02/20  6:00 PM               Kerala      0       0          3\n",
       "7   06/02/20  6:00 PM               Kerala      0       0          3\n",
       "8   07/02/20  6:00 PM               Kerala      0       0          3\n",
       "9   08/02/20  6:00 PM               Kerala      0       0          3\n",
       "10  09/02/20  6:00 PM               Kerala      0       0          3\n",
       "11  10/02/20  6:00 PM               Kerala      0       0          3\n",
       "12  11/02/20  6:00 PM               Kerala      0       0          3\n",
       "13  12/02/20  6:00 PM               Kerala      0       0          3\n",
       "14  13/02/20  6:00 PM               Kerala      0       0          3\n",
       "15  14/02/20  6:00 PM               Kerala      0       0          3\n",
       "16  15/02/20  6:00 PM               Kerala      0       0          3\n",
       "17  16/02/20  6:00 PM               Kerala      0       0          3\n",
       "18  17/02/20  6:00 PM               Kerala      0       0          3\n",
       "19  18/02/20  6:00 PM               Kerala      0       0          3"
      ]
     },
     "execution_count": 48,
     "metadata": {},
     "output_type": "execute_result"
    }
   ],
   "source": [
    "df_Maha <- "
   ]
  },
  {
   "cell_type": "code",
   "execution_count": 62,
   "metadata": {},
   "outputs": [
    {
     "data": {
      "text/html": [
       "<div>\n",
       "<style scoped>\n",
       "    .dataframe tbody tr th:only-of-type {\n",
       "        vertical-align: middle;\n",
       "    }\n",
       "\n",
       "    .dataframe tbody tr th {\n",
       "        vertical-align: top;\n",
       "    }\n",
       "\n",
       "    .dataframe thead th {\n",
       "        text-align: right;\n",
       "    }\n",
       "</style>\n",
       "<table border=\"1\" class=\"dataframe\">\n",
       "  <thead>\n",
       "    <tr style=\"text-align: right;\">\n",
       "      <th></th>\n",
       "      <th>Date</th>\n",
       "      <th>Time</th>\n",
       "      <th>State/UnionTerritory</th>\n",
       "      <th>Cured</th>\n",
       "      <th>Deaths</th>\n",
       "      <th>Confirmed</th>\n",
       "      <th>Total_Active_Cases</th>\n",
       "      <th>Total</th>\n",
       "    </tr>\n",
       "  </thead>\n",
       "  <tbody>\n",
       "    <tr>\n",
       "      <th>0</th>\n",
       "      <td>19/06/20</td>\n",
       "      <td>8:00 AM</td>\n",
       "      <td>Andaman and Nicobar Islands</td>\n",
       "      <td>33</td>\n",
       "      <td>0</td>\n",
       "      <td>44</td>\n",
       "      <td>11</td>\n",
       "      <td>NaN</td>\n",
       "    </tr>\n",
       "    <tr>\n",
       "      <th>1</th>\n",
       "      <td>19/06/20</td>\n",
       "      <td>8:00 AM</td>\n",
       "      <td>Andhra Pradesh</td>\n",
       "      <td>3789</td>\n",
       "      <td>92</td>\n",
       "      <td>7518</td>\n",
       "      <td>3637</td>\n",
       "      <td>86110.0</td>\n",
       "    </tr>\n",
       "    <tr>\n",
       "      <th>2</th>\n",
       "      <td>19/06/20</td>\n",
       "      <td>8:00 AM</td>\n",
       "      <td>Arunachal Pradesh</td>\n",
       "      <td>10</td>\n",
       "      <td>0</td>\n",
       "      <td>103</td>\n",
       "      <td>93</td>\n",
       "      <td>5218.0</td>\n",
       "    </tr>\n",
       "    <tr>\n",
       "      <th>3</th>\n",
       "      <td>19/06/20</td>\n",
       "      <td>8:00 AM</td>\n",
       "      <td>Assam</td>\n",
       "      <td>2654</td>\n",
       "      <td>9</td>\n",
       "      <td>4777</td>\n",
       "      <td>2114</td>\n",
       "      <td>38916.0</td>\n",
       "    </tr>\n",
       "    <tr>\n",
       "      <th>4</th>\n",
       "      <td>19/06/20</td>\n",
       "      <td>8:00 AM</td>\n",
       "      <td>Bihar</td>\n",
       "      <td>5056</td>\n",
       "      <td>44</td>\n",
       "      <td>7025</td>\n",
       "      <td>1925</td>\n",
       "      <td>33133.0</td>\n",
       "    </tr>\n",
       "  </tbody>\n",
       "</table>\n",
       "</div>"
      ],
      "text/plain": [
       "       Date     Time         State/UnionTerritory  Cured  Deaths  Confirmed  \\\n",
       "0  19/06/20  8:00 AM  Andaman and Nicobar Islands     33       0         44   \n",
       "1  19/06/20  8:00 AM               Andhra Pradesh   3789      92       7518   \n",
       "2  19/06/20  8:00 AM            Arunachal Pradesh     10       0        103   \n",
       "3  19/06/20  8:00 AM                        Assam   2654       9       4777   \n",
       "4  19/06/20  8:00 AM                        Bihar   5056      44       7025   \n",
       "\n",
       "   Total_Active_Cases    Total  \n",
       "0                  11      NaN  \n",
       "1                3637  86110.0  \n",
       "2                  93   5218.0  \n",
       "3                2114  38916.0  \n",
       "4                1925  33133.0  "
      ]
     },
     "execution_count": 62,
     "metadata": {},
     "output_type": "execute_result"
    }
   ],
   "source": [
    "df_cases_beds_map.head()"
   ]
  },
  {
   "cell_type": "code",
   "execution_count": null,
   "metadata": {},
   "outputs": [],
   "source": [
    "df_cases_beds_map['Cured']"
   ]
  },
  {
   "cell_type": "markdown",
   "metadata": {},
   "source": [
    "### Mortality Rate Calculation"
   ]
  },
  {
   "cell_type": "code",
   "execution_count": 68,
   "metadata": {},
   "outputs": [
    {
     "data": {
      "text/html": [
       "<div>\n",
       "<style scoped>\n",
       "    .dataframe tbody tr th:only-of-type {\n",
       "        vertical-align: middle;\n",
       "    }\n",
       "\n",
       "    .dataframe tbody tr th {\n",
       "        vertical-align: top;\n",
       "    }\n",
       "\n",
       "    .dataframe thead th {\n",
       "        text-align: right;\n",
       "    }\n",
       "</style>\n",
       "<table border=\"1\" class=\"dataframe\">\n",
       "  <thead>\n",
       "    <tr style=\"text-align: right;\">\n",
       "      <th></th>\n",
       "      <th>Date</th>\n",
       "      <th>Time</th>\n",
       "      <th>State/UnionTerritory</th>\n",
       "      <th>Cured</th>\n",
       "      <th>Deaths</th>\n",
       "      <th>Confirmed</th>\n",
       "      <th>Total_Active_Cases</th>\n",
       "      <th>Total</th>\n",
       "      <th>Mortality_Rate</th>\n",
       "    </tr>\n",
       "  </thead>\n",
       "  <tbody>\n",
       "    <tr>\n",
       "      <th>0</th>\n",
       "      <td>19/06/20</td>\n",
       "      <td>8:00 AM</td>\n",
       "      <td>Andaman and Nicobar Islands</td>\n",
       "      <td>33</td>\n",
       "      <td>0</td>\n",
       "      <td>44</td>\n",
       "      <td>11</td>\n",
       "      <td>NaN</td>\n",
       "      <td>0.000000</td>\n",
       "    </tr>\n",
       "    <tr>\n",
       "      <th>1</th>\n",
       "      <td>19/06/20</td>\n",
       "      <td>8:00 AM</td>\n",
       "      <td>Andhra Pradesh</td>\n",
       "      <td>3789</td>\n",
       "      <td>92</td>\n",
       "      <td>7518</td>\n",
       "      <td>3637</td>\n",
       "      <td>86110.0</td>\n",
       "      <td>1.223730</td>\n",
       "    </tr>\n",
       "    <tr>\n",
       "      <th>2</th>\n",
       "      <td>19/06/20</td>\n",
       "      <td>8:00 AM</td>\n",
       "      <td>Arunachal Pradesh</td>\n",
       "      <td>10</td>\n",
       "      <td>0</td>\n",
       "      <td>103</td>\n",
       "      <td>93</td>\n",
       "      <td>5218.0</td>\n",
       "      <td>0.000000</td>\n",
       "    </tr>\n",
       "    <tr>\n",
       "      <th>3</th>\n",
       "      <td>19/06/20</td>\n",
       "      <td>8:00 AM</td>\n",
       "      <td>Assam</td>\n",
       "      <td>2654</td>\n",
       "      <td>9</td>\n",
       "      <td>4777</td>\n",
       "      <td>2114</td>\n",
       "      <td>38916.0</td>\n",
       "      <td>0.188403</td>\n",
       "    </tr>\n",
       "    <tr>\n",
       "      <th>4</th>\n",
       "      <td>19/06/20</td>\n",
       "      <td>8:00 AM</td>\n",
       "      <td>Bihar</td>\n",
       "      <td>5056</td>\n",
       "      <td>44</td>\n",
       "      <td>7025</td>\n",
       "      <td>1925</td>\n",
       "      <td>33133.0</td>\n",
       "      <td>0.626335</td>\n",
       "    </tr>\n",
       "    <tr>\n",
       "      <th>5</th>\n",
       "      <td>19/06/20</td>\n",
       "      <td>8:00 AM</td>\n",
       "      <td>Chandigarh</td>\n",
       "      <td>306</td>\n",
       "      <td>6</td>\n",
       "      <td>374</td>\n",
       "      <td>62</td>\n",
       "      <td>4592.0</td>\n",
       "      <td>1.604278</td>\n",
       "    </tr>\n",
       "    <tr>\n",
       "      <th>6</th>\n",
       "      <td>19/06/20</td>\n",
       "      <td>8:00 AM</td>\n",
       "      <td>Chhattisgarh</td>\n",
       "      <td>1228</td>\n",
       "      <td>10</td>\n",
       "      <td>1946</td>\n",
       "      <td>708</td>\n",
       "      <td>25213.0</td>\n",
       "      <td>0.513875</td>\n",
       "    </tr>\n",
       "    <tr>\n",
       "      <th>7</th>\n",
       "      <td>19/06/20</td>\n",
       "      <td>8:00 AM</td>\n",
       "      <td>Dadra and Nagar Haveli and Daman and Diu</td>\n",
       "      <td>13</td>\n",
       "      <td>0</td>\n",
       "      <td>58</td>\n",
       "      <td>45</td>\n",
       "      <td>NaN</td>\n",
       "      <td>0.000000</td>\n",
       "    </tr>\n",
       "    <tr>\n",
       "      <th>8</th>\n",
       "      <td>19/06/20</td>\n",
       "      <td>8:00 AM</td>\n",
       "      <td>Delhi</td>\n",
       "      <td>21341</td>\n",
       "      <td>1969</td>\n",
       "      <td>49979</td>\n",
       "      <td>26669</td>\n",
       "      <td>45760.0</td>\n",
       "      <td>3.939655</td>\n",
       "    </tr>\n",
       "    <tr>\n",
       "      <th>9</th>\n",
       "      <td>19/06/20</td>\n",
       "      <td>8:00 AM</td>\n",
       "      <td>Goa</td>\n",
       "      <td>109</td>\n",
       "      <td>0</td>\n",
       "      <td>705</td>\n",
       "      <td>596</td>\n",
       "      <td>5770.0</td>\n",
       "      <td>0.000000</td>\n",
       "    </tr>\n",
       "    <tr>\n",
       "      <th>10</th>\n",
       "      <td>19/06/20</td>\n",
       "      <td>8:00 AM</td>\n",
       "      <td>Gujarat</td>\n",
       "      <td>17819</td>\n",
       "      <td>1591</td>\n",
       "      <td>25601</td>\n",
       "      <td>6191</td>\n",
       "      <td>76597.0</td>\n",
       "      <td>6.214601</td>\n",
       "    </tr>\n",
       "    <tr>\n",
       "      <th>11</th>\n",
       "      <td>19/06/20</td>\n",
       "      <td>8:00 AM</td>\n",
       "      <td>Haryana</td>\n",
       "      <td>4556</td>\n",
       "      <td>134</td>\n",
       "      <td>9218</td>\n",
       "      <td>4528</td>\n",
       "      <td>26615.0</td>\n",
       "      <td>1.453678</td>\n",
       "    </tr>\n",
       "    <tr>\n",
       "      <th>12</th>\n",
       "      <td>19/06/20</td>\n",
       "      <td>8:00 AM</td>\n",
       "      <td>Himachal Pradesh</td>\n",
       "      <td>382</td>\n",
       "      <td>8</td>\n",
       "      <td>595</td>\n",
       "      <td>205</td>\n",
       "      <td>22732.0</td>\n",
       "      <td>1.344538</td>\n",
       "    </tr>\n",
       "    <tr>\n",
       "      <th>13</th>\n",
       "      <td>19/06/20</td>\n",
       "      <td>8:00 AM</td>\n",
       "      <td>Jammu and Kashmir</td>\n",
       "      <td>3144</td>\n",
       "      <td>71</td>\n",
       "      <td>5555</td>\n",
       "      <td>2340</td>\n",
       "      <td>NaN</td>\n",
       "      <td>1.278128</td>\n",
       "    </tr>\n",
       "    <tr>\n",
       "      <th>14</th>\n",
       "      <td>19/06/20</td>\n",
       "      <td>8:00 AM</td>\n",
       "      <td>Jharkhand</td>\n",
       "      <td>1198</td>\n",
       "      <td>11</td>\n",
       "      <td>1920</td>\n",
       "      <td>711</td>\n",
       "      <td>19516.0</td>\n",
       "      <td>0.572917</td>\n",
       "    </tr>\n",
       "    <tr>\n",
       "      <th>15</th>\n",
       "      <td>19/06/20</td>\n",
       "      <td>8:00 AM</td>\n",
       "      <td>Karnataka</td>\n",
       "      <td>4983</td>\n",
       "      <td>114</td>\n",
       "      <td>7944</td>\n",
       "      <td>2847</td>\n",
       "      <td>132682.0</td>\n",
       "      <td>1.435045</td>\n",
       "    </tr>\n",
       "    <tr>\n",
       "      <th>16</th>\n",
       "      <td>19/06/20</td>\n",
       "      <td>8:00 AM</td>\n",
       "      <td>Kerala</td>\n",
       "      <td>1415</td>\n",
       "      <td>21</td>\n",
       "      <td>2794</td>\n",
       "      <td>1358</td>\n",
       "      <td>80456.0</td>\n",
       "      <td>0.751611</td>\n",
       "    </tr>\n",
       "    <tr>\n",
       "      <th>17</th>\n",
       "      <td>19/06/20</td>\n",
       "      <td>8:00 AM</td>\n",
       "      <td>Ladakh</td>\n",
       "      <td>95</td>\n",
       "      <td>1</td>\n",
       "      <td>687</td>\n",
       "      <td>591</td>\n",
       "      <td>NaN</td>\n",
       "      <td>0.145560</td>\n",
       "    </tr>\n",
       "    <tr>\n",
       "      <th>18</th>\n",
       "      <td>19/06/20</td>\n",
       "      <td>8:00 AM</td>\n",
       "      <td>Madhya Pradesh</td>\n",
       "      <td>8632</td>\n",
       "      <td>486</td>\n",
       "      <td>11426</td>\n",
       "      <td>2308</td>\n",
       "      <td>69744.0</td>\n",
       "      <td>4.253457</td>\n",
       "    </tr>\n",
       "    <tr>\n",
       "      <th>19</th>\n",
       "      <td>19/06/20</td>\n",
       "      <td>8:00 AM</td>\n",
       "      <td>Maharashtra</td>\n",
       "      <td>60838</td>\n",
       "      <td>5751</td>\n",
       "      <td>120504</td>\n",
       "      <td>53915</td>\n",
       "      <td>124995.0</td>\n",
       "      <td>4.772456</td>\n",
       "    </tr>\n",
       "  </tbody>\n",
       "</table>\n",
       "</div>"
      ],
      "text/plain": [
       "        Date     Time                      State/UnionTerritory  Cured  \\\n",
       "0   19/06/20  8:00 AM               Andaman and Nicobar Islands     33   \n",
       "1   19/06/20  8:00 AM                            Andhra Pradesh   3789   \n",
       "2   19/06/20  8:00 AM                         Arunachal Pradesh     10   \n",
       "3   19/06/20  8:00 AM                                     Assam   2654   \n",
       "4   19/06/20  8:00 AM                                     Bihar   5056   \n",
       "5   19/06/20  8:00 AM                                Chandigarh    306   \n",
       "6   19/06/20  8:00 AM                              Chhattisgarh   1228   \n",
       "7   19/06/20  8:00 AM  Dadra and Nagar Haveli and Daman and Diu     13   \n",
       "8   19/06/20  8:00 AM                                     Delhi  21341   \n",
       "9   19/06/20  8:00 AM                                       Goa    109   \n",
       "10  19/06/20  8:00 AM                                   Gujarat  17819   \n",
       "11  19/06/20  8:00 AM                                   Haryana   4556   \n",
       "12  19/06/20  8:00 AM                          Himachal Pradesh    382   \n",
       "13  19/06/20  8:00 AM                         Jammu and Kashmir   3144   \n",
       "14  19/06/20  8:00 AM                                 Jharkhand   1198   \n",
       "15  19/06/20  8:00 AM                                 Karnataka   4983   \n",
       "16  19/06/20  8:00 AM                                    Kerala   1415   \n",
       "17  19/06/20  8:00 AM                                    Ladakh     95   \n",
       "18  19/06/20  8:00 AM                            Madhya Pradesh   8632   \n",
       "19  19/06/20  8:00 AM                               Maharashtra  60838   \n",
       "\n",
       "    Deaths  Confirmed  Total_Active_Cases     Total  Mortality_Rate  \n",
       "0        0         44                  11       NaN        0.000000  \n",
       "1       92       7518                3637   86110.0        1.223730  \n",
       "2        0        103                  93    5218.0        0.000000  \n",
       "3        9       4777                2114   38916.0        0.188403  \n",
       "4       44       7025                1925   33133.0        0.626335  \n",
       "5        6        374                  62    4592.0        1.604278  \n",
       "6       10       1946                 708   25213.0        0.513875  \n",
       "7        0         58                  45       NaN        0.000000  \n",
       "8     1969      49979               26669   45760.0        3.939655  \n",
       "9        0        705                 596    5770.0        0.000000  \n",
       "10    1591      25601                6191   76597.0        6.214601  \n",
       "11     134       9218                4528   26615.0        1.453678  \n",
       "12       8        595                 205   22732.0        1.344538  \n",
       "13      71       5555                2340       NaN        1.278128  \n",
       "14      11       1920                 711   19516.0        0.572917  \n",
       "15     114       7944                2847  132682.0        1.435045  \n",
       "16      21       2794                1358   80456.0        0.751611  \n",
       "17       1        687                 591       NaN        0.145560  \n",
       "18     486      11426                2308   69744.0        4.253457  \n",
       "19    5751     120504               53915  124995.0        4.772456  "
      ]
     },
     "execution_count": 68,
     "metadata": {},
     "output_type": "execute_result"
    }
   ],
   "source": [
    "df_cases_beds_map['Mortality_Rate'] = (df_cases_beds_map['Deaths']/df_cases_beds_map['Confirmed'])*100\n",
    "df_cases_beds_map.head(20)\n"
   ]
  },
  {
   "cell_type": "code",
   "execution_count": null,
   "metadata": {},
   "outputs": [],
   "source": [
    "df_state_testing"
   ]
  },
  {
   "cell_type": "code",
   "execution_count": 71,
   "metadata": {},
   "outputs": [
    {
     "data": {
      "application/vnd.plotly.v1+json": {
       "config": {
        "plotlyServerURL": "https://plot.ly"
       },
       "data": [
        {
         "hoverlabel": {
          "namelength": 0
         },
         "hovertemplate": "<b>%{hovertext}</b><br><br>Total=%{x}<br>Mortality_Rate=%{marker.color}",
         "hovertext": [
          "Andaman and Nicobar Islands",
          "Andhra Pradesh",
          "Arunachal Pradesh",
          "Assam",
          "Bihar",
          "Chandigarh",
          "Chhattisgarh",
          "Dadra and Nagar Haveli and Daman and Diu",
          "Delhi",
          "Goa",
          "Gujarat",
          "Haryana",
          "Himachal Pradesh",
          "Jammu and Kashmir",
          "Jharkhand",
          "Karnataka",
          "Kerala",
          "Ladakh",
          "Madhya Pradesh",
          "Maharashtra",
          "Manipur",
          "Meghalaya",
          "Mizoram",
          "Nagaland",
          "Odisha",
          "Puducherry",
          "Punjab",
          "Rajasthan",
          "Sikkim",
          "Tamil Nadu",
          "Telangana",
          "Tripura",
          "Uttarakhand",
          "Uttar Pradesh",
          "West Bengal",
          "Cases being reassigned to states"
         ],
         "legendgroup": "",
         "marker": {
          "color": [
           0,
           1.223729715349827,
           0,
           0.18840276324052752,
           0.6263345195729537,
           1.6042780748663104,
           0.513874614594039,
           0,
           3.9396546549550813,
           0,
           6.214600992148744,
           1.4536775873291388,
           1.3445378151260505,
           1.278127812781278,
           0.5729166666666666,
           1.4350453172205437,
           0.7516105941302791,
           0.1455604075691412,
           4.253457027831263,
           4.7724556861183025,
           0,
           2.272727272727273,
           0,
           0,
           0.24379432624113476,
           2.5830258302583027,
           2.2959889349930847,
           2.3309518654831494,
           0,
           1.1942523025184393,
           3.2354405176704826,
           0.08658008658008658,
           1.236917221693625,
           3.06303932547263,
           4.067530427954456,
           0
          ],
          "coloraxis": "coloraxis",
          "symbol": "circle"
         },
         "mode": "markers",
         "name": "",
         "showlegend": false,
         "type": "scatter",
         "x": [
          null,
          86110,
          5218,
          38916,
          33133,
          4592,
          25213,
          null,
          45760,
          5770,
          76597,
          26615,
          22732,
          null,
          19516,
          132682,
          80456,
          null,
          69744,
          124995,
          4160,
          9421,
          4508,
          4058,
          39058,
          8111,
          33105,
          88259,
          2777,
          154673,
          40280,
          9667,
          16123,
          144172,
          133731,
          null
         ],
         "xaxis": "x",
         "y": [
          0,
          1.223729715349827,
          0,
          0.18840276324052752,
          0.6263345195729537,
          1.6042780748663104,
          0.513874614594039,
          0,
          3.9396546549550813,
          0,
          6.214600992148744,
          1.4536775873291388,
          1.3445378151260505,
          1.278127812781278,
          0.5729166666666666,
          1.4350453172205437,
          0.7516105941302791,
          0.1455604075691412,
          4.253457027831263,
          4.7724556861183025,
          0,
          2.272727272727273,
          0,
          0,
          0.24379432624113476,
          2.5830258302583027,
          2.2959889349930847,
          2.3309518654831494,
          0,
          1.1942523025184393,
          3.2354405176704826,
          0.08658008658008658,
          1.236917221693625,
          3.06303932547263,
          4.067530427954456,
          0
         ],
         "yaxis": "y"
        }
       ],
       "layout": {
        "coloraxis": {
         "colorbar": {
          "title": {
           "text": "Mortality_Rate"
          }
         },
         "colorscale": [
          [
           0,
           "#0d0887"
          ],
          [
           0.1111111111111111,
           "#46039f"
          ],
          [
           0.2222222222222222,
           "#7201a8"
          ],
          [
           0.3333333333333333,
           "#9c179e"
          ],
          [
           0.4444444444444444,
           "#bd3786"
          ],
          [
           0.5555555555555556,
           "#d8576b"
          ],
          [
           0.6666666666666666,
           "#ed7953"
          ],
          [
           0.7777777777777778,
           "#fb9f3a"
          ],
          [
           0.8888888888888888,
           "#fdca26"
          ],
          [
           1,
           "#f0f921"
          ]
         ]
        },
        "legend": {
         "tracegroupgap": 0
        },
        "template": {
         "data": {
          "bar": [
           {
            "error_x": {
             "color": "#2a3f5f"
            },
            "error_y": {
             "color": "#2a3f5f"
            },
            "marker": {
             "line": {
              "color": "#E5ECF6",
              "width": 0.5
             }
            },
            "type": "bar"
           }
          ],
          "barpolar": [
           {
            "marker": {
             "line": {
              "color": "#E5ECF6",
              "width": 0.5
             }
            },
            "type": "barpolar"
           }
          ],
          "carpet": [
           {
            "aaxis": {
             "endlinecolor": "#2a3f5f",
             "gridcolor": "white",
             "linecolor": "white",
             "minorgridcolor": "white",
             "startlinecolor": "#2a3f5f"
            },
            "baxis": {
             "endlinecolor": "#2a3f5f",
             "gridcolor": "white",
             "linecolor": "white",
             "minorgridcolor": "white",
             "startlinecolor": "#2a3f5f"
            },
            "type": "carpet"
           }
          ],
          "choropleth": [
           {
            "colorbar": {
             "outlinewidth": 0,
             "ticks": ""
            },
            "type": "choropleth"
           }
          ],
          "contour": [
           {
            "colorbar": {
             "outlinewidth": 0,
             "ticks": ""
            },
            "colorscale": [
             [
              0,
              "#0d0887"
             ],
             [
              0.1111111111111111,
              "#46039f"
             ],
             [
              0.2222222222222222,
              "#7201a8"
             ],
             [
              0.3333333333333333,
              "#9c179e"
             ],
             [
              0.4444444444444444,
              "#bd3786"
             ],
             [
              0.5555555555555556,
              "#d8576b"
             ],
             [
              0.6666666666666666,
              "#ed7953"
             ],
             [
              0.7777777777777778,
              "#fb9f3a"
             ],
             [
              0.8888888888888888,
              "#fdca26"
             ],
             [
              1,
              "#f0f921"
             ]
            ],
            "type": "contour"
           }
          ],
          "contourcarpet": [
           {
            "colorbar": {
             "outlinewidth": 0,
             "ticks": ""
            },
            "type": "contourcarpet"
           }
          ],
          "heatmap": [
           {
            "colorbar": {
             "outlinewidth": 0,
             "ticks": ""
            },
            "colorscale": [
             [
              0,
              "#0d0887"
             ],
             [
              0.1111111111111111,
              "#46039f"
             ],
             [
              0.2222222222222222,
              "#7201a8"
             ],
             [
              0.3333333333333333,
              "#9c179e"
             ],
             [
              0.4444444444444444,
              "#bd3786"
             ],
             [
              0.5555555555555556,
              "#d8576b"
             ],
             [
              0.6666666666666666,
              "#ed7953"
             ],
             [
              0.7777777777777778,
              "#fb9f3a"
             ],
             [
              0.8888888888888888,
              "#fdca26"
             ],
             [
              1,
              "#f0f921"
             ]
            ],
            "type": "heatmap"
           }
          ],
          "heatmapgl": [
           {
            "colorbar": {
             "outlinewidth": 0,
             "ticks": ""
            },
            "colorscale": [
             [
              0,
              "#0d0887"
             ],
             [
              0.1111111111111111,
              "#46039f"
             ],
             [
              0.2222222222222222,
              "#7201a8"
             ],
             [
              0.3333333333333333,
              "#9c179e"
             ],
             [
              0.4444444444444444,
              "#bd3786"
             ],
             [
              0.5555555555555556,
              "#d8576b"
             ],
             [
              0.6666666666666666,
              "#ed7953"
             ],
             [
              0.7777777777777778,
              "#fb9f3a"
             ],
             [
              0.8888888888888888,
              "#fdca26"
             ],
             [
              1,
              "#f0f921"
             ]
            ],
            "type": "heatmapgl"
           }
          ],
          "histogram": [
           {
            "marker": {
             "colorbar": {
              "outlinewidth": 0,
              "ticks": ""
             }
            },
            "type": "histogram"
           }
          ],
          "histogram2d": [
           {
            "colorbar": {
             "outlinewidth": 0,
             "ticks": ""
            },
            "colorscale": [
             [
              0,
              "#0d0887"
             ],
             [
              0.1111111111111111,
              "#46039f"
             ],
             [
              0.2222222222222222,
              "#7201a8"
             ],
             [
              0.3333333333333333,
              "#9c179e"
             ],
             [
              0.4444444444444444,
              "#bd3786"
             ],
             [
              0.5555555555555556,
              "#d8576b"
             ],
             [
              0.6666666666666666,
              "#ed7953"
             ],
             [
              0.7777777777777778,
              "#fb9f3a"
             ],
             [
              0.8888888888888888,
              "#fdca26"
             ],
             [
              1,
              "#f0f921"
             ]
            ],
            "type": "histogram2d"
           }
          ],
          "histogram2dcontour": [
           {
            "colorbar": {
             "outlinewidth": 0,
             "ticks": ""
            },
            "colorscale": [
             [
              0,
              "#0d0887"
             ],
             [
              0.1111111111111111,
              "#46039f"
             ],
             [
              0.2222222222222222,
              "#7201a8"
             ],
             [
              0.3333333333333333,
              "#9c179e"
             ],
             [
              0.4444444444444444,
              "#bd3786"
             ],
             [
              0.5555555555555556,
              "#d8576b"
             ],
             [
              0.6666666666666666,
              "#ed7953"
             ],
             [
              0.7777777777777778,
              "#fb9f3a"
             ],
             [
              0.8888888888888888,
              "#fdca26"
             ],
             [
              1,
              "#f0f921"
             ]
            ],
            "type": "histogram2dcontour"
           }
          ],
          "mesh3d": [
           {
            "colorbar": {
             "outlinewidth": 0,
             "ticks": ""
            },
            "type": "mesh3d"
           }
          ],
          "parcoords": [
           {
            "line": {
             "colorbar": {
              "outlinewidth": 0,
              "ticks": ""
             }
            },
            "type": "parcoords"
           }
          ],
          "pie": [
           {
            "automargin": true,
            "type": "pie"
           }
          ],
          "scatter": [
           {
            "marker": {
             "colorbar": {
              "outlinewidth": 0,
              "ticks": ""
             }
            },
            "type": "scatter"
           }
          ],
          "scatter3d": [
           {
            "line": {
             "colorbar": {
              "outlinewidth": 0,
              "ticks": ""
             }
            },
            "marker": {
             "colorbar": {
              "outlinewidth": 0,
              "ticks": ""
             }
            },
            "type": "scatter3d"
           }
          ],
          "scattercarpet": [
           {
            "marker": {
             "colorbar": {
              "outlinewidth": 0,
              "ticks": ""
             }
            },
            "type": "scattercarpet"
           }
          ],
          "scattergeo": [
           {
            "marker": {
             "colorbar": {
              "outlinewidth": 0,
              "ticks": ""
             }
            },
            "type": "scattergeo"
           }
          ],
          "scattergl": [
           {
            "marker": {
             "colorbar": {
              "outlinewidth": 0,
              "ticks": ""
             }
            },
            "type": "scattergl"
           }
          ],
          "scattermapbox": [
           {
            "marker": {
             "colorbar": {
              "outlinewidth": 0,
              "ticks": ""
             }
            },
            "type": "scattermapbox"
           }
          ],
          "scatterpolar": [
           {
            "marker": {
             "colorbar": {
              "outlinewidth": 0,
              "ticks": ""
             }
            },
            "type": "scatterpolar"
           }
          ],
          "scatterpolargl": [
           {
            "marker": {
             "colorbar": {
              "outlinewidth": 0,
              "ticks": ""
             }
            },
            "type": "scatterpolargl"
           }
          ],
          "scatterternary": [
           {
            "marker": {
             "colorbar": {
              "outlinewidth": 0,
              "ticks": ""
             }
            },
            "type": "scatterternary"
           }
          ],
          "surface": [
           {
            "colorbar": {
             "outlinewidth": 0,
             "ticks": ""
            },
            "colorscale": [
             [
              0,
              "#0d0887"
             ],
             [
              0.1111111111111111,
              "#46039f"
             ],
             [
              0.2222222222222222,
              "#7201a8"
             ],
             [
              0.3333333333333333,
              "#9c179e"
             ],
             [
              0.4444444444444444,
              "#bd3786"
             ],
             [
              0.5555555555555556,
              "#d8576b"
             ],
             [
              0.6666666666666666,
              "#ed7953"
             ],
             [
              0.7777777777777778,
              "#fb9f3a"
             ],
             [
              0.8888888888888888,
              "#fdca26"
             ],
             [
              1,
              "#f0f921"
             ]
            ],
            "type": "surface"
           }
          ],
          "table": [
           {
            "cells": {
             "fill": {
              "color": "#EBF0F8"
             },
             "line": {
              "color": "white"
             }
            },
            "header": {
             "fill": {
              "color": "#C8D4E3"
             },
             "line": {
              "color": "white"
             }
            },
            "type": "table"
           }
          ]
         },
         "layout": {
          "annotationdefaults": {
           "arrowcolor": "#2a3f5f",
           "arrowhead": 0,
           "arrowwidth": 1
          },
          "coloraxis": {
           "colorbar": {
            "outlinewidth": 0,
            "ticks": ""
           }
          },
          "colorscale": {
           "diverging": [
            [
             0,
             "#8e0152"
            ],
            [
             0.1,
             "#c51b7d"
            ],
            [
             0.2,
             "#de77ae"
            ],
            [
             0.3,
             "#f1b6da"
            ],
            [
             0.4,
             "#fde0ef"
            ],
            [
             0.5,
             "#f7f7f7"
            ],
            [
             0.6,
             "#e6f5d0"
            ],
            [
             0.7,
             "#b8e186"
            ],
            [
             0.8,
             "#7fbc41"
            ],
            [
             0.9,
             "#4d9221"
            ],
            [
             1,
             "#276419"
            ]
           ],
           "sequential": [
            [
             0,
             "#0d0887"
            ],
            [
             0.1111111111111111,
             "#46039f"
            ],
            [
             0.2222222222222222,
             "#7201a8"
            ],
            [
             0.3333333333333333,
             "#9c179e"
            ],
            [
             0.4444444444444444,
             "#bd3786"
            ],
            [
             0.5555555555555556,
             "#d8576b"
            ],
            [
             0.6666666666666666,
             "#ed7953"
            ],
            [
             0.7777777777777778,
             "#fb9f3a"
            ],
            [
             0.8888888888888888,
             "#fdca26"
            ],
            [
             1,
             "#f0f921"
            ]
           ],
           "sequentialminus": [
            [
             0,
             "#0d0887"
            ],
            [
             0.1111111111111111,
             "#46039f"
            ],
            [
             0.2222222222222222,
             "#7201a8"
            ],
            [
             0.3333333333333333,
             "#9c179e"
            ],
            [
             0.4444444444444444,
             "#bd3786"
            ],
            [
             0.5555555555555556,
             "#d8576b"
            ],
            [
             0.6666666666666666,
             "#ed7953"
            ],
            [
             0.7777777777777778,
             "#fb9f3a"
            ],
            [
             0.8888888888888888,
             "#fdca26"
            ],
            [
             1,
             "#f0f921"
            ]
           ]
          },
          "colorway": [
           "#636efa",
           "#EF553B",
           "#00cc96",
           "#ab63fa",
           "#FFA15A",
           "#19d3f3",
           "#FF6692",
           "#B6E880",
           "#FF97FF",
           "#FECB52"
          ],
          "font": {
           "color": "#2a3f5f"
          },
          "geo": {
           "bgcolor": "white",
           "lakecolor": "white",
           "landcolor": "#E5ECF6",
           "showlakes": true,
           "showland": true,
           "subunitcolor": "white"
          },
          "hoverlabel": {
           "align": "left"
          },
          "hovermode": "closest",
          "mapbox": {
           "style": "light"
          },
          "paper_bgcolor": "white",
          "plot_bgcolor": "#E5ECF6",
          "polar": {
           "angularaxis": {
            "gridcolor": "white",
            "linecolor": "white",
            "ticks": ""
           },
           "bgcolor": "#E5ECF6",
           "radialaxis": {
            "gridcolor": "white",
            "linecolor": "white",
            "ticks": ""
           }
          },
          "scene": {
           "xaxis": {
            "backgroundcolor": "#E5ECF6",
            "gridcolor": "white",
            "gridwidth": 2,
            "linecolor": "white",
            "showbackground": true,
            "ticks": "",
            "zerolinecolor": "white"
           },
           "yaxis": {
            "backgroundcolor": "#E5ECF6",
            "gridcolor": "white",
            "gridwidth": 2,
            "linecolor": "white",
            "showbackground": true,
            "ticks": "",
            "zerolinecolor": "white"
           },
           "zaxis": {
            "backgroundcolor": "#E5ECF6",
            "gridcolor": "white",
            "gridwidth": 2,
            "linecolor": "white",
            "showbackground": true,
            "ticks": "",
            "zerolinecolor": "white"
           }
          },
          "shapedefaults": {
           "line": {
            "color": "#2a3f5f"
           }
          },
          "ternary": {
           "aaxis": {
            "gridcolor": "white",
            "linecolor": "white",
            "ticks": ""
           },
           "baxis": {
            "gridcolor": "white",
            "linecolor": "white",
            "ticks": ""
           },
           "bgcolor": "#E5ECF6",
           "caxis": {
            "gridcolor": "white",
            "linecolor": "white",
            "ticks": ""
           }
          },
          "title": {
           "x": 0.05
          },
          "xaxis": {
           "automargin": true,
           "gridcolor": "white",
           "linecolor": "white",
           "ticks": "",
           "title": {
            "standoff": 15
           },
           "zerolinecolor": "white",
           "zerolinewidth": 2
          },
          "yaxis": {
           "automargin": true,
           "gridcolor": "white",
           "linecolor": "white",
           "ticks": "",
           "title": {
            "standoff": 15
           },
           "zerolinecolor": "white",
           "zerolinewidth": 2
          }
         }
        },
        "title": {
         "text": "State wise mortality rate and number of beds"
        },
        "xaxis": {
         "anchor": "y",
         "domain": [
          0,
          1
         ],
         "title": {
          "text": "Total"
         }
        },
        "yaxis": {
         "anchor": "x",
         "domain": [
          0,
          1
         ],
         "title": {
          "text": "Mortality_Rate"
         }
        }
       }
      },
      "text/html": [
       "<div>\n",
       "        \n",
       "        \n",
       "            <div id=\"38971ccc-1b9d-4d24-8e4a-3fba46e1c1f4\" class=\"plotly-graph-div\" style=\"height:525px; width:100%;\"></div>\n",
       "            <script type=\"text/javascript\">\n",
       "                require([\"plotly\"], function(Plotly) {\n",
       "                    window.PLOTLYENV=window.PLOTLYENV || {};\n",
       "                    \n",
       "                if (document.getElementById(\"38971ccc-1b9d-4d24-8e4a-3fba46e1c1f4\")) {\n",
       "                    Plotly.newPlot(\n",
       "                        '38971ccc-1b9d-4d24-8e4a-3fba46e1c1f4',\n",
       "                        [{\"hoverlabel\": {\"namelength\": 0}, \"hovertemplate\": \"<b>%{hovertext}</b><br><br>Total=%{x}<br>Mortality_Rate=%{marker.color}\", \"hovertext\": [\"Andaman and Nicobar Islands\", \"Andhra Pradesh\", \"Arunachal Pradesh\", \"Assam\", \"Bihar\", \"Chandigarh\", \"Chhattisgarh\", \"Dadra and Nagar Haveli and Daman and Diu\", \"Delhi\", \"Goa\", \"Gujarat\", \"Haryana\", \"Himachal Pradesh\", \"Jammu and Kashmir\", \"Jharkhand\", \"Karnataka\", \"Kerala\", \"Ladakh\", \"Madhya Pradesh\", \"Maharashtra\", \"Manipur\", \"Meghalaya\", \"Mizoram\", \"Nagaland\", \"Odisha\", \"Puducherry\", \"Punjab\", \"Rajasthan\", \"Sikkim\", \"Tamil Nadu\", \"Telangana\", \"Tripura\", \"Uttarakhand\", \"Uttar Pradesh\", \"West Bengal\", \"Cases being reassigned to states\"], \"legendgroup\": \"\", \"marker\": {\"color\": [0.0, 1.223729715349827, 0.0, 0.18840276324052752, 0.6263345195729537, 1.6042780748663104, 0.513874614594039, 0.0, 3.9396546549550813, 0.0, 6.214600992148744, 1.4536775873291388, 1.3445378151260505, 1.278127812781278, 0.5729166666666666, 1.4350453172205437, 0.7516105941302791, 0.1455604075691412, 4.253457027831263, 4.7724556861183025, 0.0, 2.272727272727273, 0.0, 0.0, 0.24379432624113476, 2.5830258302583027, 2.2959889349930847, 2.3309518654831494, 0.0, 1.1942523025184393, 3.2354405176704826, 0.08658008658008658, 1.236917221693625, 3.06303932547263, 4.067530427954456, 0.0], \"coloraxis\": \"coloraxis\", \"symbol\": \"circle\"}, \"mode\": \"markers\", \"name\": \"\", \"showlegend\": false, \"type\": \"scatter\", \"x\": [null, 86110.0, 5218.0, 38916.0, 33133.0, 4592.0, 25213.0, null, 45760.0, 5770.0, 76597.0, 26615.0, 22732.0, null, 19516.0, 132682.0, 80456.0, null, 69744.0, 124995.0, 4160.0, 9421.0, 4508.0, 4058.0, 39058.0, 8111.0, 33105.0, 88259.0, 2777.0, 154673.0, 40280.0, 9667.0, 16123.0, 144172.0, 133731.0, null], \"xaxis\": \"x\", \"y\": [0.0, 1.223729715349827, 0.0, 0.18840276324052752, 0.6263345195729537, 1.6042780748663104, 0.513874614594039, 0.0, 3.9396546549550813, 0.0, 6.214600992148744, 1.4536775873291388, 1.3445378151260505, 1.278127812781278, 0.5729166666666666, 1.4350453172205437, 0.7516105941302791, 0.1455604075691412, 4.253457027831263, 4.7724556861183025, 0.0, 2.272727272727273, 0.0, 0.0, 0.24379432624113476, 2.5830258302583027, 2.2959889349930847, 2.3309518654831494, 0.0, 1.1942523025184393, 3.2354405176704826, 0.08658008658008658, 1.236917221693625, 3.06303932547263, 4.067530427954456, 0.0], \"yaxis\": \"y\"}],\n",
       "                        {\"coloraxis\": {\"colorbar\": {\"title\": {\"text\": \"Mortality_Rate\"}}, \"colorscale\": [[0.0, \"#0d0887\"], [0.1111111111111111, \"#46039f\"], [0.2222222222222222, \"#7201a8\"], [0.3333333333333333, \"#9c179e\"], [0.4444444444444444, \"#bd3786\"], [0.5555555555555556, \"#d8576b\"], [0.6666666666666666, \"#ed7953\"], [0.7777777777777778, \"#fb9f3a\"], [0.8888888888888888, \"#fdca26\"], [1.0, \"#f0f921\"]]}, \"legend\": {\"tracegroupgap\": 0}, \"template\": {\"data\": {\"bar\": [{\"error_x\": {\"color\": \"#2a3f5f\"}, \"error_y\": {\"color\": \"#2a3f5f\"}, \"marker\": {\"line\": {\"color\": \"#E5ECF6\", \"width\": 0.5}}, \"type\": \"bar\"}], \"barpolar\": [{\"marker\": {\"line\": {\"color\": \"#E5ECF6\", \"width\": 0.5}}, \"type\": \"barpolar\"}], \"carpet\": [{\"aaxis\": {\"endlinecolor\": \"#2a3f5f\", \"gridcolor\": \"white\", \"linecolor\": \"white\", \"minorgridcolor\": \"white\", \"startlinecolor\": \"#2a3f5f\"}, \"baxis\": {\"endlinecolor\": \"#2a3f5f\", \"gridcolor\": \"white\", \"linecolor\": \"white\", \"minorgridcolor\": \"white\", \"startlinecolor\": \"#2a3f5f\"}, \"type\": \"carpet\"}], \"choropleth\": [{\"colorbar\": {\"outlinewidth\": 0, \"ticks\": \"\"}, \"type\": \"choropleth\"}], \"contour\": [{\"colorbar\": {\"outlinewidth\": 0, \"ticks\": \"\"}, \"colorscale\": [[0.0, \"#0d0887\"], [0.1111111111111111, \"#46039f\"], [0.2222222222222222, \"#7201a8\"], [0.3333333333333333, \"#9c179e\"], [0.4444444444444444, \"#bd3786\"], [0.5555555555555556, \"#d8576b\"], [0.6666666666666666, \"#ed7953\"], [0.7777777777777778, \"#fb9f3a\"], [0.8888888888888888, \"#fdca26\"], [1.0, \"#f0f921\"]], \"type\": \"contour\"}], \"contourcarpet\": [{\"colorbar\": {\"outlinewidth\": 0, \"ticks\": \"\"}, \"type\": \"contourcarpet\"}], \"heatmap\": [{\"colorbar\": {\"outlinewidth\": 0, \"ticks\": \"\"}, \"colorscale\": [[0.0, \"#0d0887\"], [0.1111111111111111, \"#46039f\"], [0.2222222222222222, \"#7201a8\"], [0.3333333333333333, \"#9c179e\"], [0.4444444444444444, \"#bd3786\"], [0.5555555555555556, \"#d8576b\"], [0.6666666666666666, \"#ed7953\"], [0.7777777777777778, \"#fb9f3a\"], [0.8888888888888888, \"#fdca26\"], [1.0, \"#f0f921\"]], \"type\": \"heatmap\"}], \"heatmapgl\": [{\"colorbar\": {\"outlinewidth\": 0, \"ticks\": \"\"}, \"colorscale\": [[0.0, \"#0d0887\"], [0.1111111111111111, \"#46039f\"], [0.2222222222222222, \"#7201a8\"], [0.3333333333333333, \"#9c179e\"], [0.4444444444444444, \"#bd3786\"], [0.5555555555555556, \"#d8576b\"], [0.6666666666666666, \"#ed7953\"], [0.7777777777777778, \"#fb9f3a\"], [0.8888888888888888, \"#fdca26\"], [1.0, \"#f0f921\"]], \"type\": \"heatmapgl\"}], \"histogram\": [{\"marker\": {\"colorbar\": {\"outlinewidth\": 0, \"ticks\": \"\"}}, \"type\": \"histogram\"}], \"histogram2d\": [{\"colorbar\": {\"outlinewidth\": 0, \"ticks\": \"\"}, \"colorscale\": [[0.0, \"#0d0887\"], [0.1111111111111111, \"#46039f\"], [0.2222222222222222, \"#7201a8\"], [0.3333333333333333, \"#9c179e\"], [0.4444444444444444, \"#bd3786\"], [0.5555555555555556, \"#d8576b\"], [0.6666666666666666, \"#ed7953\"], [0.7777777777777778, \"#fb9f3a\"], [0.8888888888888888, \"#fdca26\"], [1.0, \"#f0f921\"]], \"type\": \"histogram2d\"}], \"histogram2dcontour\": [{\"colorbar\": {\"outlinewidth\": 0, \"ticks\": \"\"}, \"colorscale\": [[0.0, \"#0d0887\"], [0.1111111111111111, \"#46039f\"], [0.2222222222222222, \"#7201a8\"], [0.3333333333333333, \"#9c179e\"], [0.4444444444444444, \"#bd3786\"], [0.5555555555555556, \"#d8576b\"], [0.6666666666666666, \"#ed7953\"], [0.7777777777777778, \"#fb9f3a\"], [0.8888888888888888, \"#fdca26\"], [1.0, \"#f0f921\"]], \"type\": \"histogram2dcontour\"}], \"mesh3d\": [{\"colorbar\": {\"outlinewidth\": 0, \"ticks\": \"\"}, \"type\": \"mesh3d\"}], \"parcoords\": [{\"line\": {\"colorbar\": {\"outlinewidth\": 0, \"ticks\": \"\"}}, \"type\": \"parcoords\"}], \"pie\": [{\"automargin\": true, \"type\": \"pie\"}], \"scatter\": [{\"marker\": {\"colorbar\": {\"outlinewidth\": 0, \"ticks\": \"\"}}, \"type\": \"scatter\"}], \"scatter3d\": [{\"line\": {\"colorbar\": {\"outlinewidth\": 0, \"ticks\": \"\"}}, \"marker\": {\"colorbar\": {\"outlinewidth\": 0, \"ticks\": \"\"}}, \"type\": \"scatter3d\"}], \"scattercarpet\": [{\"marker\": {\"colorbar\": {\"outlinewidth\": 0, \"ticks\": \"\"}}, \"type\": \"scattercarpet\"}], \"scattergeo\": [{\"marker\": {\"colorbar\": {\"outlinewidth\": 0, \"ticks\": \"\"}}, \"type\": \"scattergeo\"}], \"scattergl\": [{\"marker\": {\"colorbar\": {\"outlinewidth\": 0, \"ticks\": \"\"}}, \"type\": \"scattergl\"}], \"scattermapbox\": [{\"marker\": {\"colorbar\": {\"outlinewidth\": 0, \"ticks\": \"\"}}, \"type\": \"scattermapbox\"}], \"scatterpolar\": [{\"marker\": {\"colorbar\": {\"outlinewidth\": 0, \"ticks\": \"\"}}, \"type\": \"scatterpolar\"}], \"scatterpolargl\": [{\"marker\": {\"colorbar\": {\"outlinewidth\": 0, \"ticks\": \"\"}}, \"type\": \"scatterpolargl\"}], \"scatterternary\": [{\"marker\": {\"colorbar\": {\"outlinewidth\": 0, \"ticks\": \"\"}}, \"type\": \"scatterternary\"}], \"surface\": [{\"colorbar\": {\"outlinewidth\": 0, \"ticks\": \"\"}, \"colorscale\": [[0.0, \"#0d0887\"], [0.1111111111111111, \"#46039f\"], [0.2222222222222222, \"#7201a8\"], [0.3333333333333333, \"#9c179e\"], [0.4444444444444444, \"#bd3786\"], [0.5555555555555556, \"#d8576b\"], [0.6666666666666666, \"#ed7953\"], [0.7777777777777778, \"#fb9f3a\"], [0.8888888888888888, \"#fdca26\"], [1.0, \"#f0f921\"]], \"type\": \"surface\"}], \"table\": [{\"cells\": {\"fill\": {\"color\": \"#EBF0F8\"}, \"line\": {\"color\": \"white\"}}, \"header\": {\"fill\": {\"color\": \"#C8D4E3\"}, \"line\": {\"color\": \"white\"}}, \"type\": \"table\"}]}, \"layout\": {\"annotationdefaults\": {\"arrowcolor\": \"#2a3f5f\", \"arrowhead\": 0, \"arrowwidth\": 1}, \"coloraxis\": {\"colorbar\": {\"outlinewidth\": 0, \"ticks\": \"\"}}, \"colorscale\": {\"diverging\": [[0, \"#8e0152\"], [0.1, \"#c51b7d\"], [0.2, \"#de77ae\"], [0.3, \"#f1b6da\"], [0.4, \"#fde0ef\"], [0.5, \"#f7f7f7\"], [0.6, \"#e6f5d0\"], [0.7, \"#b8e186\"], [0.8, \"#7fbc41\"], [0.9, \"#4d9221\"], [1, \"#276419\"]], \"sequential\": [[0.0, \"#0d0887\"], [0.1111111111111111, \"#46039f\"], [0.2222222222222222, \"#7201a8\"], [0.3333333333333333, \"#9c179e\"], [0.4444444444444444, \"#bd3786\"], [0.5555555555555556, \"#d8576b\"], [0.6666666666666666, \"#ed7953\"], [0.7777777777777778, \"#fb9f3a\"], [0.8888888888888888, \"#fdca26\"], [1.0, \"#f0f921\"]], \"sequentialminus\": [[0.0, \"#0d0887\"], [0.1111111111111111, \"#46039f\"], [0.2222222222222222, \"#7201a8\"], [0.3333333333333333, \"#9c179e\"], [0.4444444444444444, \"#bd3786\"], [0.5555555555555556, \"#d8576b\"], [0.6666666666666666, \"#ed7953\"], [0.7777777777777778, \"#fb9f3a\"], [0.8888888888888888, \"#fdca26\"], [1.0, \"#f0f921\"]]}, \"colorway\": [\"#636efa\", \"#EF553B\", \"#00cc96\", \"#ab63fa\", \"#FFA15A\", \"#19d3f3\", \"#FF6692\", \"#B6E880\", \"#FF97FF\", \"#FECB52\"], \"font\": {\"color\": \"#2a3f5f\"}, \"geo\": {\"bgcolor\": \"white\", \"lakecolor\": \"white\", \"landcolor\": \"#E5ECF6\", \"showlakes\": true, \"showland\": true, \"subunitcolor\": \"white\"}, \"hoverlabel\": {\"align\": \"left\"}, \"hovermode\": \"closest\", \"mapbox\": {\"style\": \"light\"}, \"paper_bgcolor\": \"white\", \"plot_bgcolor\": \"#E5ECF6\", \"polar\": {\"angularaxis\": {\"gridcolor\": \"white\", \"linecolor\": \"white\", \"ticks\": \"\"}, \"bgcolor\": \"#E5ECF6\", \"radialaxis\": {\"gridcolor\": \"white\", \"linecolor\": \"white\", \"ticks\": \"\"}}, \"scene\": {\"xaxis\": {\"backgroundcolor\": \"#E5ECF6\", \"gridcolor\": \"white\", \"gridwidth\": 2, \"linecolor\": \"white\", \"showbackground\": true, \"ticks\": \"\", \"zerolinecolor\": \"white\"}, \"yaxis\": {\"backgroundcolor\": \"#E5ECF6\", \"gridcolor\": \"white\", \"gridwidth\": 2, \"linecolor\": \"white\", \"showbackground\": true, \"ticks\": \"\", \"zerolinecolor\": \"white\"}, \"zaxis\": {\"backgroundcolor\": \"#E5ECF6\", \"gridcolor\": \"white\", \"gridwidth\": 2, \"linecolor\": \"white\", \"showbackground\": true, \"ticks\": \"\", \"zerolinecolor\": \"white\"}}, \"shapedefaults\": {\"line\": {\"color\": \"#2a3f5f\"}}, \"ternary\": {\"aaxis\": {\"gridcolor\": \"white\", \"linecolor\": \"white\", \"ticks\": \"\"}, \"baxis\": {\"gridcolor\": \"white\", \"linecolor\": \"white\", \"ticks\": \"\"}, \"bgcolor\": \"#E5ECF6\", \"caxis\": {\"gridcolor\": \"white\", \"linecolor\": \"white\", \"ticks\": \"\"}}, \"title\": {\"x\": 0.05}, \"xaxis\": {\"automargin\": true, \"gridcolor\": \"white\", \"linecolor\": \"white\", \"ticks\": \"\", \"title\": {\"standoff\": 15}, \"zerolinecolor\": \"white\", \"zerolinewidth\": 2}, \"yaxis\": {\"automargin\": true, \"gridcolor\": \"white\", \"linecolor\": \"white\", \"ticks\": \"\", \"title\": {\"standoff\": 15}, \"zerolinecolor\": \"white\", \"zerolinewidth\": 2}}}, \"title\": {\"text\": \"State wise mortality rate and number of beds\"}, \"xaxis\": {\"anchor\": \"y\", \"domain\": [0.0, 1.0], \"title\": {\"text\": \"Total\"}}, \"yaxis\": {\"anchor\": \"x\", \"domain\": [0.0, 1.0], \"title\": {\"text\": \"Mortality_Rate\"}}},\n",
       "                        {\"responsive\": true}\n",
       "                    ).then(function(){\n",
       "                            \n",
       "var gd = document.getElementById('38971ccc-1b9d-4d24-8e4a-3fba46e1c1f4');\n",
       "var x = new MutationObserver(function (mutations, observer) {{\n",
       "        var display = window.getComputedStyle(gd).display;\n",
       "        if (!display || display === 'none') {{\n",
       "            console.log([gd, 'removed!']);\n",
       "            Plotly.purge(gd);\n",
       "            observer.disconnect();\n",
       "        }}\n",
       "}});\n",
       "\n",
       "// Listen for the removal of the full notebook cells\n",
       "var notebookContainer = gd.closest('#notebook-container');\n",
       "if (notebookContainer) {{\n",
       "    x.observe(notebookContainer, {childList: true});\n",
       "}}\n",
       "\n",
       "// Listen for the clearing of the current output cell\n",
       "var outputEl = gd.closest('.output');\n",
       "if (outputEl) {{\n",
       "    x.observe(outputEl, {childList: true});\n",
       "}}\n",
       "\n",
       "                        })\n",
       "                };\n",
       "                });\n",
       "            </script>\n",
       "        </div>"
      ]
     },
     "metadata": {},
     "output_type": "display_data"
    }
   ],
   "source": [
    "fig = px.scatter(df_cases_beds_map, x = 'Total', y = 'Mortality_Rate', hover_name= 'State/UnionTerritory',color= 'Mortality_Rate', title='State wise mortality rate and number of beds')\n",
    "fig.show()"
   ]
  },
  {
   "cell_type": "code",
   "execution_count": 73,
   "metadata": {},
   "outputs": [],
   "source": [
    "StatewiseTestingDetails = pd.read_csv('/Users/mdsajidhussain/Desktop/StatewiseTestingDetails.csv')"
   ]
  },
  {
   "cell_type": "code",
   "execution_count": 74,
   "metadata": {},
   "outputs": [
    {
     "data": {
      "text/html": [
       "<div>\n",
       "<style scoped>\n",
       "    .dataframe tbody tr th:only-of-type {\n",
       "        vertical-align: middle;\n",
       "    }\n",
       "\n",
       "    .dataframe tbody tr th {\n",
       "        vertical-align: top;\n",
       "    }\n",
       "\n",
       "    .dataframe thead th {\n",
       "        text-align: right;\n",
       "    }\n",
       "</style>\n",
       "<table border=\"1\" class=\"dataframe\">\n",
       "  <thead>\n",
       "    <tr style=\"text-align: right;\">\n",
       "      <th></th>\n",
       "      <th>Date</th>\n",
       "      <th>State</th>\n",
       "      <th>TotalSamples</th>\n",
       "      <th>Negative</th>\n",
       "      <th>Positive</th>\n",
       "    </tr>\n",
       "  </thead>\n",
       "  <tbody>\n",
       "    <tr>\n",
       "      <th>0</th>\n",
       "      <td>2020-04-17</td>\n",
       "      <td>Andaman and Nicobar Islands</td>\n",
       "      <td>1403.0</td>\n",
       "      <td>1210.0</td>\n",
       "      <td>12.0</td>\n",
       "    </tr>\n",
       "    <tr>\n",
       "      <th>1</th>\n",
       "      <td>2020-04-24</td>\n",
       "      <td>Andaman and Nicobar Islands</td>\n",
       "      <td>2679.0</td>\n",
       "      <td>NaN</td>\n",
       "      <td>27.0</td>\n",
       "    </tr>\n",
       "    <tr>\n",
       "      <th>2</th>\n",
       "      <td>2020-04-27</td>\n",
       "      <td>Andaman and Nicobar Islands</td>\n",
       "      <td>2848.0</td>\n",
       "      <td>NaN</td>\n",
       "      <td>33.0</td>\n",
       "    </tr>\n",
       "    <tr>\n",
       "      <th>3</th>\n",
       "      <td>2020-05-01</td>\n",
       "      <td>Andaman and Nicobar Islands</td>\n",
       "      <td>3754.0</td>\n",
       "      <td>NaN</td>\n",
       "      <td>33.0</td>\n",
       "    </tr>\n",
       "    <tr>\n",
       "      <th>4</th>\n",
       "      <td>2020-05-16</td>\n",
       "      <td>Andaman and Nicobar Islands</td>\n",
       "      <td>6677.0</td>\n",
       "      <td>NaN</td>\n",
       "      <td>33.0</td>\n",
       "    </tr>\n",
       "  </tbody>\n",
       "</table>\n",
       "</div>"
      ],
      "text/plain": [
       "         Date                        State  TotalSamples  Negative  Positive\n",
       "0  2020-04-17  Andaman and Nicobar Islands        1403.0    1210.0      12.0\n",
       "1  2020-04-24  Andaman and Nicobar Islands        2679.0       NaN      27.0\n",
       "2  2020-04-27  Andaman and Nicobar Islands        2848.0       NaN      33.0\n",
       "3  2020-05-01  Andaman and Nicobar Islands        3754.0       NaN      33.0\n",
       "4  2020-05-16  Andaman and Nicobar Islands        6677.0       NaN      33.0"
      ]
     },
     "execution_count": 74,
     "metadata": {},
     "output_type": "execute_result"
    }
   ],
   "source": [
    "StatewiseTestingDetails.head()"
   ]
  },
  {
   "cell_type": "code",
   "execution_count": 84,
   "metadata": {},
   "outputs": [
    {
     "data": {
      "text/html": [
       "<div>\n",
       "<style scoped>\n",
       "    .dataframe tbody tr th:only-of-type {\n",
       "        vertical-align: middle;\n",
       "    }\n",
       "\n",
       "    .dataframe tbody tr th {\n",
       "        vertical-align: top;\n",
       "    }\n",
       "\n",
       "    .dataframe thead th {\n",
       "        text-align: right;\n",
       "    }\n",
       "</style>\n",
       "<table border=\"1\" class=\"dataframe\">\n",
       "  <thead>\n",
       "    <tr style=\"text-align: right;\">\n",
       "      <th></th>\n",
       "      <th>Date</th>\n",
       "      <th>State</th>\n",
       "      <th>TotalSamples</th>\n",
       "      <th>Negative</th>\n",
       "      <th>Positive</th>\n",
       "    </tr>\n",
       "  </thead>\n",
       "  <tbody>\n",
       "    <tr>\n",
       "      <th>102</th>\n",
       "      <td>2020-06-18</td>\n",
       "      <td>Andhra Pradesh</td>\n",
       "      <td>612397.0</td>\n",
       "      <td>604901.0</td>\n",
       "      <td>5854.0</td>\n",
       "    </tr>\n",
       "    <tr>\n",
       "      <th>213</th>\n",
       "      <td>2020-06-18</td>\n",
       "      <td>Assam</td>\n",
       "      <td>246590.0</td>\n",
       "      <td>NaN</td>\n",
       "      <td>4861.0</td>\n",
       "    </tr>\n",
       "    <tr>\n",
       "      <th>284</th>\n",
       "      <td>2020-06-18</td>\n",
       "      <td>Bihar</td>\n",
       "      <td>139584.0</td>\n",
       "      <td>NaN</td>\n",
       "      <td>6993.0</td>\n",
       "    </tr>\n",
       "    <tr>\n",
       "      <th>354</th>\n",
       "      <td>2020-06-18</td>\n",
       "      <td>Chandigarh</td>\n",
       "      <td>6315.0</td>\n",
       "      <td>5912.0</td>\n",
       "      <td>373.0</td>\n",
       "    </tr>\n",
       "    <tr>\n",
       "      <th>418</th>\n",
       "      <td>2020-06-18</td>\n",
       "      <td>Chhattisgarh</td>\n",
       "      <td>116329.0</td>\n",
       "      <td>NaN</td>\n",
       "      <td>1946.0</td>\n",
       "    </tr>\n",
       "    <tr>\n",
       "      <th>539</th>\n",
       "      <td>2020-06-18</td>\n",
       "      <td>Delhi</td>\n",
       "      <td>321302.0</td>\n",
       "      <td>NaN</td>\n",
       "      <td>49979.0</td>\n",
       "    </tr>\n",
       "    <tr>\n",
       "      <th>604</th>\n",
       "      <td>2020-06-18</td>\n",
       "      <td>Goa</td>\n",
       "      <td>46996.0</td>\n",
       "      <td>NaN</td>\n",
       "      <td>705.0</td>\n",
       "    </tr>\n",
       "    <tr>\n",
       "      <th>748</th>\n",
       "      <td>2020-06-18</td>\n",
       "      <td>Haryana</td>\n",
       "      <td>202808.0</td>\n",
       "      <td>187303.0</td>\n",
       "      <td>9218.0</td>\n",
       "    </tr>\n",
       "    <tr>\n",
       "      <th>818</th>\n",
       "      <td>2020-06-18</td>\n",
       "      <td>Himachal Pradesh</td>\n",
       "      <td>59214.0</td>\n",
       "      <td>58063.0</td>\n",
       "      <td>595.0</td>\n",
       "    </tr>\n",
       "    <tr>\n",
       "      <th>889</th>\n",
       "      <td>2020-06-18</td>\n",
       "      <td>Jammu and Kashmir</td>\n",
       "      <td>289027.0</td>\n",
       "      <td>283472.0</td>\n",
       "      <td>5555.0</td>\n",
       "    </tr>\n",
       "    <tr>\n",
       "      <th>956</th>\n",
       "      <td>2020-06-18</td>\n",
       "      <td>Jharkhand</td>\n",
       "      <td>115186.0</td>\n",
       "      <td>113267.0</td>\n",
       "      <td>1919.0</td>\n",
       "    </tr>\n",
       "    <tr>\n",
       "      <th>1030</th>\n",
       "      <td>2020-06-18</td>\n",
       "      <td>Karnataka</td>\n",
       "      <td>473507.0</td>\n",
       "      <td>454476.0</td>\n",
       "      <td>7944.0</td>\n",
       "    </tr>\n",
       "    <tr>\n",
       "      <th>1109</th>\n",
       "      <td>2020-06-18</td>\n",
       "      <td>Kerala</td>\n",
       "      <td>169035.0</td>\n",
       "      <td>NaN</td>\n",
       "      <td>2795.0</td>\n",
       "    </tr>\n",
       "    <tr>\n",
       "      <th>1145</th>\n",
       "      <td>2020-06-18</td>\n",
       "      <td>Ladakh</td>\n",
       "      <td>12082.0</td>\n",
       "      <td>9901.0</td>\n",
       "      <td>687.0</td>\n",
       "    </tr>\n",
       "    <tr>\n",
       "      <th>1219</th>\n",
       "      <td>2020-06-18</td>\n",
       "      <td>Madhya Pradesh</td>\n",
       "      <td>277451.0</td>\n",
       "      <td>260395.0</td>\n",
       "      <td>11426.0</td>\n",
       "    </tr>\n",
       "    <tr>\n",
       "      <th>1292</th>\n",
       "      <td>2020-06-18</td>\n",
       "      <td>Maharashtra</td>\n",
       "      <td>719637.0</td>\n",
       "      <td>595843.0</td>\n",
       "      <td>123794.0</td>\n",
       "    </tr>\n",
       "    <tr>\n",
       "      <th>1328</th>\n",
       "      <td>2020-06-18</td>\n",
       "      <td>Manipur</td>\n",
       "      <td>30476.0</td>\n",
       "      <td>NaN</td>\n",
       "      <td>606.0</td>\n",
       "    </tr>\n",
       "    <tr>\n",
       "      <th>1374</th>\n",
       "      <td>2020-06-18</td>\n",
       "      <td>Meghalaya</td>\n",
       "      <td>14647.0</td>\n",
       "      <td>NaN</td>\n",
       "      <td>43.0</td>\n",
       "    </tr>\n",
       "    <tr>\n",
       "      <th>1581</th>\n",
       "      <td>2020-06-18</td>\n",
       "      <td>Odisha</td>\n",
       "      <td>212224.0</td>\n",
       "      <td>NaN</td>\n",
       "      <td>4512.0</td>\n",
       "    </tr>\n",
       "    <tr>\n",
       "      <th>1642</th>\n",
       "      <td>2020-06-18</td>\n",
       "      <td>Puducherry</td>\n",
       "      <td>11679.0</td>\n",
       "      <td>11230.0</td>\n",
       "      <td>285.0</td>\n",
       "    </tr>\n",
       "    <tr>\n",
       "      <th>1715</th>\n",
       "      <td>2020-06-18</td>\n",
       "      <td>Punjab</td>\n",
       "      <td>219528.0</td>\n",
       "      <td>NaN</td>\n",
       "      <td>3615.0</td>\n",
       "    </tr>\n",
       "    <tr>\n",
       "      <th>1789</th>\n",
       "      <td>2020-06-18</td>\n",
       "      <td>Rajasthan</td>\n",
       "      <td>654816.0</td>\n",
       "      <td>636216.0</td>\n",
       "      <td>13857.0</td>\n",
       "    </tr>\n",
       "    <tr>\n",
       "      <th>1905</th>\n",
       "      <td>2020-06-18</td>\n",
       "      <td>Tamil Nadu</td>\n",
       "      <td>800443.0</td>\n",
       "      <td>747428.0</td>\n",
       "      <td>52334.0</td>\n",
       "    </tr>\n",
       "    <tr>\n",
       "      <th>1965</th>\n",
       "      <td>2020-06-18</td>\n",
       "      <td>Tripura</td>\n",
       "      <td>51495.0</td>\n",
       "      <td>50341.0</td>\n",
       "      <td>1154.0</td>\n",
       "    </tr>\n",
       "    <tr>\n",
       "      <th>2038</th>\n",
       "      <td>2020-06-18</td>\n",
       "      <td>Uttar Pradesh</td>\n",
       "      <td>515280.0</td>\n",
       "      <td>NaN</td>\n",
       "      <td>15785.0</td>\n",
       "    </tr>\n",
       "    <tr>\n",
       "      <th>2111</th>\n",
       "      <td>2020-06-18</td>\n",
       "      <td>Uttarakhand</td>\n",
       "      <td>50796.0</td>\n",
       "      <td>42008.0</td>\n",
       "      <td>2079.0</td>\n",
       "    </tr>\n",
       "    <tr>\n",
       "      <th>2186</th>\n",
       "      <td>2020-06-18</td>\n",
       "      <td>West Bengal</td>\n",
       "      <td>370291.0</td>\n",
       "      <td>NaN</td>\n",
       "      <td>12735.0</td>\n",
       "    </tr>\n",
       "  </tbody>\n",
       "</table>\n",
       "</div>"
      ],
      "text/plain": [
       "            Date              State  TotalSamples  Negative  Positive\n",
       "102   2020-06-18     Andhra Pradesh      612397.0  604901.0    5854.0\n",
       "213   2020-06-18              Assam      246590.0       NaN    4861.0\n",
       "284   2020-06-18              Bihar      139584.0       NaN    6993.0\n",
       "354   2020-06-18         Chandigarh        6315.0    5912.0     373.0\n",
       "418   2020-06-18       Chhattisgarh      116329.0       NaN    1946.0\n",
       "539   2020-06-18              Delhi      321302.0       NaN   49979.0\n",
       "604   2020-06-18                Goa       46996.0       NaN     705.0\n",
       "748   2020-06-18            Haryana      202808.0  187303.0    9218.0\n",
       "818   2020-06-18   Himachal Pradesh       59214.0   58063.0     595.0\n",
       "889   2020-06-18  Jammu and Kashmir      289027.0  283472.0    5555.0\n",
       "956   2020-06-18          Jharkhand      115186.0  113267.0    1919.0\n",
       "1030  2020-06-18          Karnataka      473507.0  454476.0    7944.0\n",
       "1109  2020-06-18             Kerala      169035.0       NaN    2795.0\n",
       "1145  2020-06-18             Ladakh       12082.0    9901.0     687.0\n",
       "1219  2020-06-18     Madhya Pradesh      277451.0  260395.0   11426.0\n",
       "1292  2020-06-18        Maharashtra      719637.0  595843.0  123794.0\n",
       "1328  2020-06-18            Manipur       30476.0       NaN     606.0\n",
       "1374  2020-06-18          Meghalaya       14647.0       NaN      43.0\n",
       "1581  2020-06-18             Odisha      212224.0       NaN    4512.0\n",
       "1642  2020-06-18         Puducherry       11679.0   11230.0     285.0\n",
       "1715  2020-06-18             Punjab      219528.0       NaN    3615.0\n",
       "1789  2020-06-18          Rajasthan      654816.0  636216.0   13857.0\n",
       "1905  2020-06-18         Tamil Nadu      800443.0  747428.0   52334.0\n",
       "1965  2020-06-18            Tripura       51495.0   50341.0    1154.0\n",
       "2038  2020-06-18      Uttar Pradesh      515280.0       NaN   15785.0\n",
       "2111  2020-06-18        Uttarakhand       50796.0   42008.0    2079.0\n",
       "2186  2020-06-18        West Bengal      370291.0       NaN   12735.0"
      ]
     },
     "execution_count": 84,
     "metadata": {},
     "output_type": "execute_result"
    }
   ],
   "source": [
    "latest_test"
   ]
  },
  {
   "cell_type": "code",
   "execution_count": 81,
   "metadata": {},
   "outputs": [
    {
     "data": {
      "text/plain": [
       "270717.06666666665"
      ]
     },
     "execution_count": 81,
     "metadata": {},
     "output_type": "execute_result"
    }
   ],
   "source": [
    "latest_test['Negative'].mean()"
   ]
  },
  {
   "cell_type": "code",
   "execution_count": null,
   "metadata": {},
   "outputs": [],
   "source": [
    "20,291,167"
   ]
  },
  {
   "cell_type": "code",
   "execution_count": null,
   "metadata": {},
   "outputs": [],
   "source": [
    "df_cases_beds_map = pd.merge(left = df_today, right= state_total_beds, how='left', left_on = ['State/UnionTerritory'], right_on=['State/UnionTerritory'])\n",
    "\n"
   ]
  },
  {
   "cell_type": "code",
   "execution_count": 85,
   "metadata": {},
   "outputs": [],
   "source": [
    "df_state_testing = StatewiseTestingDetails.groupby('State').agg({'TotalSamples': 'sum', 'Negative': 'sum', 'Positive': 'sum'})\n",
    "\n"
   ]
  },
  {
   "cell_type": "code",
   "execution_count": 87,
   "metadata": {},
   "outputs": [
    {
     "data": {
      "text/html": [
       "<div>\n",
       "<style scoped>\n",
       "    .dataframe tbody tr th:only-of-type {\n",
       "        vertical-align: middle;\n",
       "    }\n",
       "\n",
       "    .dataframe tbody tr th {\n",
       "        vertical-align: top;\n",
       "    }\n",
       "\n",
       "    .dataframe thead th {\n",
       "        text-align: right;\n",
       "    }\n",
       "</style>\n",
       "<table border=\"1\" class=\"dataframe\">\n",
       "  <thead>\n",
       "    <tr style=\"text-align: right;\">\n",
       "      <th></th>\n",
       "      <th>Date</th>\n",
       "      <th>Time</th>\n",
       "      <th>State/UnionTerritory</th>\n",
       "      <th>Cured</th>\n",
       "      <th>Deaths</th>\n",
       "      <th>Confirmed</th>\n",
       "      <th>Total_Active_Cases</th>\n",
       "      <th>Total</th>\n",
       "      <th>Mortality_Rate</th>\n",
       "    </tr>\n",
       "  </thead>\n",
       "  <tbody>\n",
       "    <tr>\n",
       "      <th>0</th>\n",
       "      <td>19/06/20</td>\n",
       "      <td>8:00 AM</td>\n",
       "      <td>Andaman and Nicobar Islands</td>\n",
       "      <td>33</td>\n",
       "      <td>0</td>\n",
       "      <td>44</td>\n",
       "      <td>11</td>\n",
       "      <td>NaN</td>\n",
       "      <td>0.000000</td>\n",
       "    </tr>\n",
       "    <tr>\n",
       "      <th>1</th>\n",
       "      <td>19/06/20</td>\n",
       "      <td>8:00 AM</td>\n",
       "      <td>Andhra Pradesh</td>\n",
       "      <td>3789</td>\n",
       "      <td>92</td>\n",
       "      <td>7518</td>\n",
       "      <td>3637</td>\n",
       "      <td>86110.0</td>\n",
       "      <td>1.223730</td>\n",
       "    </tr>\n",
       "    <tr>\n",
       "      <th>2</th>\n",
       "      <td>19/06/20</td>\n",
       "      <td>8:00 AM</td>\n",
       "      <td>Arunachal Pradesh</td>\n",
       "      <td>10</td>\n",
       "      <td>0</td>\n",
       "      <td>103</td>\n",
       "      <td>93</td>\n",
       "      <td>5218.0</td>\n",
       "      <td>0.000000</td>\n",
       "    </tr>\n",
       "    <tr>\n",
       "      <th>3</th>\n",
       "      <td>19/06/20</td>\n",
       "      <td>8:00 AM</td>\n",
       "      <td>Assam</td>\n",
       "      <td>2654</td>\n",
       "      <td>9</td>\n",
       "      <td>4777</td>\n",
       "      <td>2114</td>\n",
       "      <td>38916.0</td>\n",
       "      <td>0.188403</td>\n",
       "    </tr>\n",
       "    <tr>\n",
       "      <th>4</th>\n",
       "      <td>19/06/20</td>\n",
       "      <td>8:00 AM</td>\n",
       "      <td>Bihar</td>\n",
       "      <td>5056</td>\n",
       "      <td>44</td>\n",
       "      <td>7025</td>\n",
       "      <td>1925</td>\n",
       "      <td>33133.0</td>\n",
       "      <td>0.626335</td>\n",
       "    </tr>\n",
       "  </tbody>\n",
       "</table>\n",
       "</div>"
      ],
      "text/plain": [
       "       Date     Time         State/UnionTerritory  Cured  Deaths  Confirmed  \\\n",
       "0  19/06/20  8:00 AM  Andaman and Nicobar Islands     33       0         44   \n",
       "1  19/06/20  8:00 AM               Andhra Pradesh   3789      92       7518   \n",
       "2  19/06/20  8:00 AM            Arunachal Pradesh     10       0        103   \n",
       "3  19/06/20  8:00 AM                        Assam   2654       9       4777   \n",
       "4  19/06/20  8:00 AM                        Bihar   5056      44       7025   \n",
       "\n",
       "   Total_Active_Cases    Total  Mortality_Rate  \n",
       "0                  11      NaN        0.000000  \n",
       "1                3637  86110.0        1.223730  \n",
       "2                  93   5218.0        0.000000  \n",
       "3                2114  38916.0        0.188403  \n",
       "4                1925  33133.0        0.626335  "
      ]
     },
     "execution_count": 87,
     "metadata": {},
     "output_type": "execute_result"
    }
   ],
   "source": [
    "df_cases_beds_map.head()"
   ]
  },
  {
   "cell_type": "code",
   "execution_count": 86,
   "metadata": {},
   "outputs": [
    {
     "data": {
      "text/html": [
       "<div>\n",
       "<style scoped>\n",
       "    .dataframe tbody tr th:only-of-type {\n",
       "        vertical-align: middle;\n",
       "    }\n",
       "\n",
       "    .dataframe tbody tr th {\n",
       "        vertical-align: top;\n",
       "    }\n",
       "\n",
       "    .dataframe thead th {\n",
       "        text-align: right;\n",
       "    }\n",
       "</style>\n",
       "<table border=\"1\" class=\"dataframe\">\n",
       "  <thead>\n",
       "    <tr style=\"text-align: right;\">\n",
       "      <th></th>\n",
       "      <th>TotalSamples</th>\n",
       "      <th>Negative</th>\n",
       "      <th>Positive</th>\n",
       "    </tr>\n",
       "    <tr>\n",
       "      <th>State</th>\n",
       "      <th></th>\n",
       "      <th></th>\n",
       "      <th></th>\n",
       "    </tr>\n",
       "  </thead>\n",
       "  <tbody>\n",
       "    <tr>\n",
       "      <th>Andaman and Nicobar Islands</th>\n",
       "      <td>256695.0</td>\n",
       "      <td>1210.0</td>\n",
       "      <td>1092.0</td>\n",
       "    </tr>\n",
       "    <tr>\n",
       "      <th>Andhra Pradesh</th>\n",
       "      <td>16610128.0</td>\n",
       "      <td>16406933.0</td>\n",
       "      <td>159128.0</td>\n",
       "    </tr>\n",
       "    <tr>\n",
       "      <th>Arunachal Pradesh</th>\n",
       "      <td>315527.0</td>\n",
       "      <td>270302.0</td>\n",
       "      <td>1077.0</td>\n",
       "    </tr>\n",
       "    <tr>\n",
       "      <th>Assam</th>\n",
       "      <td>3268652.0</td>\n",
       "      <td>2163110.0</td>\n",
       "      <td>45324.0</td>\n",
       "    </tr>\n",
       "    <tr>\n",
       "      <th>Bihar</th>\n",
       "      <td>3538060.0</td>\n",
       "      <td>2299.0</td>\n",
       "      <td>144007.0</td>\n",
       "    </tr>\n",
       "  </tbody>\n",
       "</table>\n",
       "</div>"
      ],
      "text/plain": [
       "                             TotalSamples    Negative  Positive\n",
       "State                                                          \n",
       "Andaman and Nicobar Islands      256695.0      1210.0    1092.0\n",
       "Andhra Pradesh                 16610128.0  16406933.0  159128.0\n",
       "Arunachal Pradesh                315527.0    270302.0    1077.0\n",
       "Assam                           3268652.0   2163110.0   45324.0\n",
       "Bihar                           3538060.0      2299.0  144007.0"
      ]
     },
     "execution_count": 86,
     "metadata": {},
     "output_type": "execute_result"
    }
   ],
   "source": [
    "df_state_testing.head()"
   ]
  },
  {
   "cell_type": "code",
   "execution_count": 88,
   "metadata": {},
   "outputs": [],
   "source": [
    "df_full = pd.merge(left = df_cases_beds_map, right= df_state_testing, how='left', left_on = ['State/UnionTerritory'], right_on=['State'])\n"
   ]
  },
  {
   "cell_type": "code",
   "execution_count": 89,
   "metadata": {},
   "outputs": [
    {
     "data": {
      "text/html": [
       "<div>\n",
       "<style scoped>\n",
       "    .dataframe tbody tr th:only-of-type {\n",
       "        vertical-align: middle;\n",
       "    }\n",
       "\n",
       "    .dataframe tbody tr th {\n",
       "        vertical-align: top;\n",
       "    }\n",
       "\n",
       "    .dataframe thead th {\n",
       "        text-align: right;\n",
       "    }\n",
       "</style>\n",
       "<table border=\"1\" class=\"dataframe\">\n",
       "  <thead>\n",
       "    <tr style=\"text-align: right;\">\n",
       "      <th></th>\n",
       "      <th>Date</th>\n",
       "      <th>Time</th>\n",
       "      <th>State/UnionTerritory</th>\n",
       "      <th>Cured</th>\n",
       "      <th>Deaths</th>\n",
       "      <th>Confirmed</th>\n",
       "      <th>Total_Active_Cases</th>\n",
       "      <th>Total</th>\n",
       "      <th>Mortality_Rate</th>\n",
       "      <th>TotalSamples</th>\n",
       "      <th>Negative</th>\n",
       "      <th>Positive</th>\n",
       "    </tr>\n",
       "  </thead>\n",
       "  <tbody>\n",
       "    <tr>\n",
       "      <th>0</th>\n",
       "      <td>19/06/20</td>\n",
       "      <td>8:00 AM</td>\n",
       "      <td>Andaman and Nicobar Islands</td>\n",
       "      <td>33</td>\n",
       "      <td>0</td>\n",
       "      <td>44</td>\n",
       "      <td>11</td>\n",
       "      <td>NaN</td>\n",
       "      <td>0.000000</td>\n",
       "      <td>256695.0</td>\n",
       "      <td>1210.0</td>\n",
       "      <td>1092.0</td>\n",
       "    </tr>\n",
       "    <tr>\n",
       "      <th>1</th>\n",
       "      <td>19/06/20</td>\n",
       "      <td>8:00 AM</td>\n",
       "      <td>Andhra Pradesh</td>\n",
       "      <td>3789</td>\n",
       "      <td>92</td>\n",
       "      <td>7518</td>\n",
       "      <td>3637</td>\n",
       "      <td>86110.0</td>\n",
       "      <td>1.223730</td>\n",
       "      <td>16610128.0</td>\n",
       "      <td>16406933.0</td>\n",
       "      <td>159128.0</td>\n",
       "    </tr>\n",
       "    <tr>\n",
       "      <th>2</th>\n",
       "      <td>19/06/20</td>\n",
       "      <td>8:00 AM</td>\n",
       "      <td>Arunachal Pradesh</td>\n",
       "      <td>10</td>\n",
       "      <td>0</td>\n",
       "      <td>103</td>\n",
       "      <td>93</td>\n",
       "      <td>5218.0</td>\n",
       "      <td>0.000000</td>\n",
       "      <td>315527.0</td>\n",
       "      <td>270302.0</td>\n",
       "      <td>1077.0</td>\n",
       "    </tr>\n",
       "    <tr>\n",
       "      <th>3</th>\n",
       "      <td>19/06/20</td>\n",
       "      <td>8:00 AM</td>\n",
       "      <td>Assam</td>\n",
       "      <td>2654</td>\n",
       "      <td>9</td>\n",
       "      <td>4777</td>\n",
       "      <td>2114</td>\n",
       "      <td>38916.0</td>\n",
       "      <td>0.188403</td>\n",
       "      <td>3268652.0</td>\n",
       "      <td>2163110.0</td>\n",
       "      <td>45324.0</td>\n",
       "    </tr>\n",
       "    <tr>\n",
       "      <th>4</th>\n",
       "      <td>19/06/20</td>\n",
       "      <td>8:00 AM</td>\n",
       "      <td>Bihar</td>\n",
       "      <td>5056</td>\n",
       "      <td>44</td>\n",
       "      <td>7025</td>\n",
       "      <td>1925</td>\n",
       "      <td>33133.0</td>\n",
       "      <td>0.626335</td>\n",
       "      <td>3538060.0</td>\n",
       "      <td>2299.0</td>\n",
       "      <td>144007.0</td>\n",
       "    </tr>\n",
       "  </tbody>\n",
       "</table>\n",
       "</div>"
      ],
      "text/plain": [
       "       Date     Time         State/UnionTerritory  Cured  Deaths  Confirmed  \\\n",
       "0  19/06/20  8:00 AM  Andaman and Nicobar Islands     33       0         44   \n",
       "1  19/06/20  8:00 AM               Andhra Pradesh   3789      92       7518   \n",
       "2  19/06/20  8:00 AM            Arunachal Pradesh     10       0        103   \n",
       "3  19/06/20  8:00 AM                        Assam   2654       9       4777   \n",
       "4  19/06/20  8:00 AM                        Bihar   5056      44       7025   \n",
       "\n",
       "   Total_Active_Cases    Total  Mortality_Rate  TotalSamples    Negative  \\\n",
       "0                  11      NaN        0.000000      256695.0      1210.0   \n",
       "1                3637  86110.0        1.223730    16610128.0  16406933.0   \n",
       "2                  93   5218.0        0.000000      315527.0    270302.0   \n",
       "3                2114  38916.0        0.188403     3268652.0   2163110.0   \n",
       "4                1925  33133.0        0.626335     3538060.0      2299.0   \n",
       "\n",
       "   Positive  \n",
       "0    1092.0  \n",
       "1  159128.0  \n",
       "2    1077.0  \n",
       "3   45324.0  \n",
       "4  144007.0  "
      ]
     },
     "execution_count": 89,
     "metadata": {},
     "output_type": "execute_result"
    }
   ],
   "source": [
    "df_full.head()"
   ]
  },
  {
   "cell_type": "code",
   "execution_count": null,
   "metadata": {},
   "outputs": [],
   "source": [
    "# \n",
    "\n",
    "Andhra Pradesh = 92/(3789+92+7518)\n",
    "\n",
    "Total_Case = Cured + Deaths + Confirmed"
   ]
  },
  {
   "cell_type": "code",
   "execution_count": null,
   "metadata": {},
   "outputs": [],
   "source": [
    "#fig=plt.figure(figsize=(10,5),dpi=200)\n",
    "fig=px.scatter(df_cases_beds_map,x=\"Cured\",y=\"Total\",color='Cured',title='Confirmed cases in India', hover_name='State/UnionTerritory')\n",
    "fig.show()"
   ]
  },
  {
   "cell_type": "code",
   "execution_count": 105,
   "metadata": {},
   "outputs": [
    {
     "data": {
      "application/vnd.plotly.v1+json": {
       "config": {
        "plotlyServerURL": "https://plot.ly"
       },
       "data": [
        {
         "alignmentgroup": "True",
         "hoverlabel": {
          "namelength": 0
         },
         "hovertemplate": "<b>%{hovertext}</b><br><br>State/UnionTerritory=%{x}<br>Total=%{y}",
         "hovertext": [
          5,
          2495,
          63,
          1953,
          2480,
          43,
          873,
          28,
          22212,
          394,
          5619,
          3789,
          183,
          2591,
          937,
          2997,
          1303,
          176,
          2802,
          49628,
          308,
          21,
          103,
          107,
          1014,
          88,
          641,
          2898,
          61,
          18284,
          2032,
          682,
          756,
          4642,
          5587,
          7984
         ],
         "legendgroup": "",
         "marker": {
          "color": "#636efa"
         },
         "name": "",
         "offsetgroup": "",
         "orientation": "v",
         "showlegend": false,
         "textposition": "auto",
         "type": "bar",
         "x": [
          "Andaman and Nicobar Islands",
          "Andhra Pradesh",
          "Arunachal Pradesh",
          "Assam",
          "Bihar",
          "Chandigarh",
          "Chhattisgarh",
          "Dadra and Nagar Haveli and Daman and Diu",
          "Delhi",
          "Goa",
          "Gujarat",
          "Haryana",
          "Himachal Pradesh",
          "Jammu and Kashmir",
          "Jharkhand",
          "Karnataka",
          "Kerala",
          "Ladakh",
          "Madhya Pradesh",
          "Maharashtra",
          "Manipur",
          "Meghalaya",
          "Mizoram",
          "Nagaland",
          "Odisha",
          "Puducherry",
          "Punjab",
          "Rajasthan",
          "Sikkim",
          "Tamil Nadu",
          "Telangana",
          "Tripura",
          "Uttarakhand",
          "Uttar Pradesh",
          "West Bengal",
          "Cases being reassigned to states"
         ],
         "xaxis": "x",
         "y": [
          null,
          86110,
          5218,
          38916,
          33133,
          4592,
          25213,
          null,
          45760,
          5770,
          76597,
          26615,
          22732,
          null,
          19516,
          132682,
          80456,
          null,
          69744,
          124995,
          4160,
          9421,
          4508,
          4058,
          39058,
          8111,
          33105,
          88259,
          2777,
          154673,
          40280,
          9667,
          16123,
          144172,
          133731,
          null
         ],
         "yaxis": "y"
        }
       ],
       "layout": {
        "barmode": "relative",
        "legend": {
         "tracegroupgap": 0
        },
        "margin": {
         "t": 60
        },
        "template": {
         "data": {
          "bar": [
           {
            "error_x": {
             "color": "#2a3f5f"
            },
            "error_y": {
             "color": "#2a3f5f"
            },
            "marker": {
             "line": {
              "color": "#E5ECF6",
              "width": 0.5
             }
            },
            "type": "bar"
           }
          ],
          "barpolar": [
           {
            "marker": {
             "line": {
              "color": "#E5ECF6",
              "width": 0.5
             }
            },
            "type": "barpolar"
           }
          ],
          "carpet": [
           {
            "aaxis": {
             "endlinecolor": "#2a3f5f",
             "gridcolor": "white",
             "linecolor": "white",
             "minorgridcolor": "white",
             "startlinecolor": "#2a3f5f"
            },
            "baxis": {
             "endlinecolor": "#2a3f5f",
             "gridcolor": "white",
             "linecolor": "white",
             "minorgridcolor": "white",
             "startlinecolor": "#2a3f5f"
            },
            "type": "carpet"
           }
          ],
          "choropleth": [
           {
            "colorbar": {
             "outlinewidth": 0,
             "ticks": ""
            },
            "type": "choropleth"
           }
          ],
          "contour": [
           {
            "colorbar": {
             "outlinewidth": 0,
             "ticks": ""
            },
            "colorscale": [
             [
              0,
              "#0d0887"
             ],
             [
              0.1111111111111111,
              "#46039f"
             ],
             [
              0.2222222222222222,
              "#7201a8"
             ],
             [
              0.3333333333333333,
              "#9c179e"
             ],
             [
              0.4444444444444444,
              "#bd3786"
             ],
             [
              0.5555555555555556,
              "#d8576b"
             ],
             [
              0.6666666666666666,
              "#ed7953"
             ],
             [
              0.7777777777777778,
              "#fb9f3a"
             ],
             [
              0.8888888888888888,
              "#fdca26"
             ],
             [
              1,
              "#f0f921"
             ]
            ],
            "type": "contour"
           }
          ],
          "contourcarpet": [
           {
            "colorbar": {
             "outlinewidth": 0,
             "ticks": ""
            },
            "type": "contourcarpet"
           }
          ],
          "heatmap": [
           {
            "colorbar": {
             "outlinewidth": 0,
             "ticks": ""
            },
            "colorscale": [
             [
              0,
              "#0d0887"
             ],
             [
              0.1111111111111111,
              "#46039f"
             ],
             [
              0.2222222222222222,
              "#7201a8"
             ],
             [
              0.3333333333333333,
              "#9c179e"
             ],
             [
              0.4444444444444444,
              "#bd3786"
             ],
             [
              0.5555555555555556,
              "#d8576b"
             ],
             [
              0.6666666666666666,
              "#ed7953"
             ],
             [
              0.7777777777777778,
              "#fb9f3a"
             ],
             [
              0.8888888888888888,
              "#fdca26"
             ],
             [
              1,
              "#f0f921"
             ]
            ],
            "type": "heatmap"
           }
          ],
          "heatmapgl": [
           {
            "colorbar": {
             "outlinewidth": 0,
             "ticks": ""
            },
            "colorscale": [
             [
              0,
              "#0d0887"
             ],
             [
              0.1111111111111111,
              "#46039f"
             ],
             [
              0.2222222222222222,
              "#7201a8"
             ],
             [
              0.3333333333333333,
              "#9c179e"
             ],
             [
              0.4444444444444444,
              "#bd3786"
             ],
             [
              0.5555555555555556,
              "#d8576b"
             ],
             [
              0.6666666666666666,
              "#ed7953"
             ],
             [
              0.7777777777777778,
              "#fb9f3a"
             ],
             [
              0.8888888888888888,
              "#fdca26"
             ],
             [
              1,
              "#f0f921"
             ]
            ],
            "type": "heatmapgl"
           }
          ],
          "histogram": [
           {
            "marker": {
             "colorbar": {
              "outlinewidth": 0,
              "ticks": ""
             }
            },
            "type": "histogram"
           }
          ],
          "histogram2d": [
           {
            "colorbar": {
             "outlinewidth": 0,
             "ticks": ""
            },
            "colorscale": [
             [
              0,
              "#0d0887"
             ],
             [
              0.1111111111111111,
              "#46039f"
             ],
             [
              0.2222222222222222,
              "#7201a8"
             ],
             [
              0.3333333333333333,
              "#9c179e"
             ],
             [
              0.4444444444444444,
              "#bd3786"
             ],
             [
              0.5555555555555556,
              "#d8576b"
             ],
             [
              0.6666666666666666,
              "#ed7953"
             ],
             [
              0.7777777777777778,
              "#fb9f3a"
             ],
             [
              0.8888888888888888,
              "#fdca26"
             ],
             [
              1,
              "#f0f921"
             ]
            ],
            "type": "histogram2d"
           }
          ],
          "histogram2dcontour": [
           {
            "colorbar": {
             "outlinewidth": 0,
             "ticks": ""
            },
            "colorscale": [
             [
              0,
              "#0d0887"
             ],
             [
              0.1111111111111111,
              "#46039f"
             ],
             [
              0.2222222222222222,
              "#7201a8"
             ],
             [
              0.3333333333333333,
              "#9c179e"
             ],
             [
              0.4444444444444444,
              "#bd3786"
             ],
             [
              0.5555555555555556,
              "#d8576b"
             ],
             [
              0.6666666666666666,
              "#ed7953"
             ],
             [
              0.7777777777777778,
              "#fb9f3a"
             ],
             [
              0.8888888888888888,
              "#fdca26"
             ],
             [
              1,
              "#f0f921"
             ]
            ],
            "type": "histogram2dcontour"
           }
          ],
          "mesh3d": [
           {
            "colorbar": {
             "outlinewidth": 0,
             "ticks": ""
            },
            "type": "mesh3d"
           }
          ],
          "parcoords": [
           {
            "line": {
             "colorbar": {
              "outlinewidth": 0,
              "ticks": ""
             }
            },
            "type": "parcoords"
           }
          ],
          "pie": [
           {
            "automargin": true,
            "type": "pie"
           }
          ],
          "scatter": [
           {
            "marker": {
             "colorbar": {
              "outlinewidth": 0,
              "ticks": ""
             }
            },
            "type": "scatter"
           }
          ],
          "scatter3d": [
           {
            "line": {
             "colorbar": {
              "outlinewidth": 0,
              "ticks": ""
             }
            },
            "marker": {
             "colorbar": {
              "outlinewidth": 0,
              "ticks": ""
             }
            },
            "type": "scatter3d"
           }
          ],
          "scattercarpet": [
           {
            "marker": {
             "colorbar": {
              "outlinewidth": 0,
              "ticks": ""
             }
            },
            "type": "scattercarpet"
           }
          ],
          "scattergeo": [
           {
            "marker": {
             "colorbar": {
              "outlinewidth": 0,
              "ticks": ""
             }
            },
            "type": "scattergeo"
           }
          ],
          "scattergl": [
           {
            "marker": {
             "colorbar": {
              "outlinewidth": 0,
              "ticks": ""
             }
            },
            "type": "scattergl"
           }
          ],
          "scattermapbox": [
           {
            "marker": {
             "colorbar": {
              "outlinewidth": 0,
              "ticks": ""
             }
            },
            "type": "scattermapbox"
           }
          ],
          "scatterpolar": [
           {
            "marker": {
             "colorbar": {
              "outlinewidth": 0,
              "ticks": ""
             }
            },
            "type": "scatterpolar"
           }
          ],
          "scatterpolargl": [
           {
            "marker": {
             "colorbar": {
              "outlinewidth": 0,
              "ticks": ""
             }
            },
            "type": "scatterpolargl"
           }
          ],
          "scatterternary": [
           {
            "marker": {
             "colorbar": {
              "outlinewidth": 0,
              "ticks": ""
             }
            },
            "type": "scatterternary"
           }
          ],
          "surface": [
           {
            "colorbar": {
             "outlinewidth": 0,
             "ticks": ""
            },
            "colorscale": [
             [
              0,
              "#0d0887"
             ],
             [
              0.1111111111111111,
              "#46039f"
             ],
             [
              0.2222222222222222,
              "#7201a8"
             ],
             [
              0.3333333333333333,
              "#9c179e"
             ],
             [
              0.4444444444444444,
              "#bd3786"
             ],
             [
              0.5555555555555556,
              "#d8576b"
             ],
             [
              0.6666666666666666,
              "#ed7953"
             ],
             [
              0.7777777777777778,
              "#fb9f3a"
             ],
             [
              0.8888888888888888,
              "#fdca26"
             ],
             [
              1,
              "#f0f921"
             ]
            ],
            "type": "surface"
           }
          ],
          "table": [
           {
            "cells": {
             "fill": {
              "color": "#EBF0F8"
             },
             "line": {
              "color": "white"
             }
            },
            "header": {
             "fill": {
              "color": "#C8D4E3"
             },
             "line": {
              "color": "white"
             }
            },
            "type": "table"
           }
          ]
         },
         "layout": {
          "annotationdefaults": {
           "arrowcolor": "#2a3f5f",
           "arrowhead": 0,
           "arrowwidth": 1
          },
          "coloraxis": {
           "colorbar": {
            "outlinewidth": 0,
            "ticks": ""
           }
          },
          "colorscale": {
           "diverging": [
            [
             0,
             "#8e0152"
            ],
            [
             0.1,
             "#c51b7d"
            ],
            [
             0.2,
             "#de77ae"
            ],
            [
             0.3,
             "#f1b6da"
            ],
            [
             0.4,
             "#fde0ef"
            ],
            [
             0.5,
             "#f7f7f7"
            ],
            [
             0.6,
             "#e6f5d0"
            ],
            [
             0.7,
             "#b8e186"
            ],
            [
             0.8,
             "#7fbc41"
            ],
            [
             0.9,
             "#4d9221"
            ],
            [
             1,
             "#276419"
            ]
           ],
           "sequential": [
            [
             0,
             "#0d0887"
            ],
            [
             0.1111111111111111,
             "#46039f"
            ],
            [
             0.2222222222222222,
             "#7201a8"
            ],
            [
             0.3333333333333333,
             "#9c179e"
            ],
            [
             0.4444444444444444,
             "#bd3786"
            ],
            [
             0.5555555555555556,
             "#d8576b"
            ],
            [
             0.6666666666666666,
             "#ed7953"
            ],
            [
             0.7777777777777778,
             "#fb9f3a"
            ],
            [
             0.8888888888888888,
             "#fdca26"
            ],
            [
             1,
             "#f0f921"
            ]
           ],
           "sequentialminus": [
            [
             0,
             "#0d0887"
            ],
            [
             0.1111111111111111,
             "#46039f"
            ],
            [
             0.2222222222222222,
             "#7201a8"
            ],
            [
             0.3333333333333333,
             "#9c179e"
            ],
            [
             0.4444444444444444,
             "#bd3786"
            ],
            [
             0.5555555555555556,
             "#d8576b"
            ],
            [
             0.6666666666666666,
             "#ed7953"
            ],
            [
             0.7777777777777778,
             "#fb9f3a"
            ],
            [
             0.8888888888888888,
             "#fdca26"
            ],
            [
             1,
             "#f0f921"
            ]
           ]
          },
          "colorway": [
           "#636efa",
           "#EF553B",
           "#00cc96",
           "#ab63fa",
           "#FFA15A",
           "#19d3f3",
           "#FF6692",
           "#B6E880",
           "#FF97FF",
           "#FECB52"
          ],
          "font": {
           "color": "#2a3f5f"
          },
          "geo": {
           "bgcolor": "white",
           "lakecolor": "white",
           "landcolor": "#E5ECF6",
           "showlakes": true,
           "showland": true,
           "subunitcolor": "white"
          },
          "hoverlabel": {
           "align": "left"
          },
          "hovermode": "closest",
          "mapbox": {
           "style": "light"
          },
          "paper_bgcolor": "white",
          "plot_bgcolor": "#E5ECF6",
          "polar": {
           "angularaxis": {
            "gridcolor": "white",
            "linecolor": "white",
            "ticks": ""
           },
           "bgcolor": "#E5ECF6",
           "radialaxis": {
            "gridcolor": "white",
            "linecolor": "white",
            "ticks": ""
           }
          },
          "scene": {
           "xaxis": {
            "backgroundcolor": "#E5ECF6",
            "gridcolor": "white",
            "gridwidth": 2,
            "linecolor": "white",
            "showbackground": true,
            "ticks": "",
            "zerolinecolor": "white"
           },
           "yaxis": {
            "backgroundcolor": "#E5ECF6",
            "gridcolor": "white",
            "gridwidth": 2,
            "linecolor": "white",
            "showbackground": true,
            "ticks": "",
            "zerolinecolor": "white"
           },
           "zaxis": {
            "backgroundcolor": "#E5ECF6",
            "gridcolor": "white",
            "gridwidth": 2,
            "linecolor": "white",
            "showbackground": true,
            "ticks": "",
            "zerolinecolor": "white"
           }
          },
          "shapedefaults": {
           "line": {
            "color": "#2a3f5f"
           }
          },
          "ternary": {
           "aaxis": {
            "gridcolor": "white",
            "linecolor": "white",
            "ticks": ""
           },
           "baxis": {
            "gridcolor": "white",
            "linecolor": "white",
            "ticks": ""
           },
           "bgcolor": "#E5ECF6",
           "caxis": {
            "gridcolor": "white",
            "linecolor": "white",
            "ticks": ""
           }
          },
          "title": {
           "x": 0.05
          },
          "xaxis": {
           "automargin": true,
           "gridcolor": "white",
           "linecolor": "white",
           "ticks": "",
           "title": {
            "standoff": 15
           },
           "zerolinecolor": "white",
           "zerolinewidth": 2
          },
          "yaxis": {
           "automargin": true,
           "gridcolor": "white",
           "linecolor": "white",
           "ticks": "",
           "title": {
            "standoff": 15
           },
           "zerolinecolor": "white",
           "zerolinewidth": 2
          }
         }
        },
        "xaxis": {
         "anchor": "y",
         "domain": [
          0,
          1
         ],
         "title": {
          "text": "State/UnionTerritory"
         }
        },
        "yaxis": {
         "anchor": "x",
         "domain": [
          0,
          1
         ],
         "title": {
          "text": "Total"
         }
        }
       }
      },
      "text/html": [
       "<div>\n",
       "        \n",
       "        \n",
       "            <div id=\"bd2050f1-9318-42b0-96c8-d0a7999ce5ca\" class=\"plotly-graph-div\" style=\"height:525px; width:100%;\"></div>\n",
       "            <script type=\"text/javascript\">\n",
       "                require([\"plotly\"], function(Plotly) {\n",
       "                    window.PLOTLYENV=window.PLOTLYENV || {};\n",
       "                    \n",
       "                if (document.getElementById(\"bd2050f1-9318-42b0-96c8-d0a7999ce5ca\")) {\n",
       "                    Plotly.newPlot(\n",
       "                        'bd2050f1-9318-42b0-96c8-d0a7999ce5ca',\n",
       "                        [{\"alignmentgroup\": \"True\", \"hoverlabel\": {\"namelength\": 0}, \"hovertemplate\": \"<b>%{hovertext}</b><br><br>State/UnionTerritory=%{x}<br>Total=%{y}\", \"hovertext\": [5.0, 2495.0, 63.0, 1953.0, 2480.0, 43.0, 873.0, 28.0, 22212.0, 394.0, 5619.0, 3789.0, 183.0, 2591.0, 937.0, 2997.0, 1303.0, 176.0, 2802.0, 49628.0, 308.0, 21.0, 103.0, 107.0, 1014.0, 88.0, 641.0, 2898.0, 61.0, 18284.0, 2032.0, 682.0, 756.0, 4642.0, 5587.0, 7984.0], \"legendgroup\": \"\", \"marker\": {\"color\": \"#636efa\"}, \"name\": \"\", \"offsetgroup\": \"\", \"orientation\": \"v\", \"showlegend\": false, \"textposition\": \"auto\", \"type\": \"bar\", \"x\": [\"Andaman and Nicobar Islands\", \"Andhra Pradesh\", \"Arunachal Pradesh\", \"Assam\", \"Bihar\", \"Chandigarh\", \"Chhattisgarh\", \"Dadra and Nagar Haveli and Daman and Diu\", \"Delhi\", \"Goa\", \"Gujarat\", \"Haryana\", \"Himachal Pradesh\", \"Jammu and Kashmir\", \"Jharkhand\", \"Karnataka\", \"Kerala\", \"Ladakh\", \"Madhya Pradesh\", \"Maharashtra\", \"Manipur\", \"Meghalaya\", \"Mizoram\", \"Nagaland\", \"Odisha\", \"Puducherry\", \"Punjab\", \"Rajasthan\", \"Sikkim\", \"Tamil Nadu\", \"Telangana\", \"Tripura\", \"Uttarakhand\", \"Uttar Pradesh\", \"West Bengal\", \"Cases being reassigned to states\"], \"xaxis\": \"x\", \"y\": [null, 86110.0, 5218.0, 38916.0, 33133.0, 4592.0, 25213.0, null, 45760.0, 5770.0, 76597.0, 26615.0, 22732.0, null, 19516.0, 132682.0, 80456.0, null, 69744.0, 124995.0, 4160.0, 9421.0, 4508.0, 4058.0, 39058.0, 8111.0, 33105.0, 88259.0, 2777.0, 154673.0, 40280.0, 9667.0, 16123.0, 144172.0, 133731.0, null], \"yaxis\": \"y\"}],\n",
       "                        {\"barmode\": \"relative\", \"legend\": {\"tracegroupgap\": 0}, \"margin\": {\"t\": 60}, \"template\": {\"data\": {\"bar\": [{\"error_x\": {\"color\": \"#2a3f5f\"}, \"error_y\": {\"color\": \"#2a3f5f\"}, \"marker\": {\"line\": {\"color\": \"#E5ECF6\", \"width\": 0.5}}, \"type\": \"bar\"}], \"barpolar\": [{\"marker\": {\"line\": {\"color\": \"#E5ECF6\", \"width\": 0.5}}, \"type\": \"barpolar\"}], \"carpet\": [{\"aaxis\": {\"endlinecolor\": \"#2a3f5f\", \"gridcolor\": \"white\", \"linecolor\": \"white\", \"minorgridcolor\": \"white\", \"startlinecolor\": \"#2a3f5f\"}, \"baxis\": {\"endlinecolor\": \"#2a3f5f\", \"gridcolor\": \"white\", \"linecolor\": \"white\", \"minorgridcolor\": \"white\", \"startlinecolor\": \"#2a3f5f\"}, \"type\": \"carpet\"}], \"choropleth\": [{\"colorbar\": {\"outlinewidth\": 0, \"ticks\": \"\"}, \"type\": \"choropleth\"}], \"contour\": [{\"colorbar\": {\"outlinewidth\": 0, \"ticks\": \"\"}, \"colorscale\": [[0.0, \"#0d0887\"], [0.1111111111111111, \"#46039f\"], [0.2222222222222222, \"#7201a8\"], [0.3333333333333333, \"#9c179e\"], [0.4444444444444444, \"#bd3786\"], [0.5555555555555556, \"#d8576b\"], [0.6666666666666666, \"#ed7953\"], [0.7777777777777778, \"#fb9f3a\"], [0.8888888888888888, \"#fdca26\"], [1.0, \"#f0f921\"]], \"type\": \"contour\"}], \"contourcarpet\": [{\"colorbar\": {\"outlinewidth\": 0, \"ticks\": \"\"}, \"type\": \"contourcarpet\"}], \"heatmap\": [{\"colorbar\": {\"outlinewidth\": 0, \"ticks\": \"\"}, \"colorscale\": [[0.0, \"#0d0887\"], [0.1111111111111111, \"#46039f\"], [0.2222222222222222, \"#7201a8\"], [0.3333333333333333, \"#9c179e\"], [0.4444444444444444, \"#bd3786\"], [0.5555555555555556, \"#d8576b\"], [0.6666666666666666, \"#ed7953\"], [0.7777777777777778, \"#fb9f3a\"], [0.8888888888888888, \"#fdca26\"], [1.0, \"#f0f921\"]], \"type\": \"heatmap\"}], \"heatmapgl\": [{\"colorbar\": {\"outlinewidth\": 0, \"ticks\": \"\"}, \"colorscale\": [[0.0, \"#0d0887\"], [0.1111111111111111, \"#46039f\"], [0.2222222222222222, \"#7201a8\"], [0.3333333333333333, \"#9c179e\"], [0.4444444444444444, \"#bd3786\"], [0.5555555555555556, \"#d8576b\"], [0.6666666666666666, \"#ed7953\"], [0.7777777777777778, \"#fb9f3a\"], [0.8888888888888888, \"#fdca26\"], [1.0, \"#f0f921\"]], \"type\": \"heatmapgl\"}], \"histogram\": [{\"marker\": {\"colorbar\": {\"outlinewidth\": 0, \"ticks\": \"\"}}, \"type\": \"histogram\"}], \"histogram2d\": [{\"colorbar\": {\"outlinewidth\": 0, \"ticks\": \"\"}, \"colorscale\": [[0.0, \"#0d0887\"], [0.1111111111111111, \"#46039f\"], [0.2222222222222222, \"#7201a8\"], [0.3333333333333333, \"#9c179e\"], [0.4444444444444444, \"#bd3786\"], [0.5555555555555556, \"#d8576b\"], [0.6666666666666666, \"#ed7953\"], [0.7777777777777778, \"#fb9f3a\"], [0.8888888888888888, \"#fdca26\"], [1.0, \"#f0f921\"]], \"type\": \"histogram2d\"}], \"histogram2dcontour\": [{\"colorbar\": {\"outlinewidth\": 0, \"ticks\": \"\"}, \"colorscale\": [[0.0, \"#0d0887\"], [0.1111111111111111, \"#46039f\"], [0.2222222222222222, \"#7201a8\"], [0.3333333333333333, \"#9c179e\"], [0.4444444444444444, \"#bd3786\"], [0.5555555555555556, \"#d8576b\"], [0.6666666666666666, \"#ed7953\"], [0.7777777777777778, \"#fb9f3a\"], [0.8888888888888888, \"#fdca26\"], [1.0, \"#f0f921\"]], \"type\": \"histogram2dcontour\"}], \"mesh3d\": [{\"colorbar\": {\"outlinewidth\": 0, \"ticks\": \"\"}, \"type\": \"mesh3d\"}], \"parcoords\": [{\"line\": {\"colorbar\": {\"outlinewidth\": 0, \"ticks\": \"\"}}, \"type\": \"parcoords\"}], \"pie\": [{\"automargin\": true, \"type\": \"pie\"}], \"scatter\": [{\"marker\": {\"colorbar\": {\"outlinewidth\": 0, \"ticks\": \"\"}}, \"type\": \"scatter\"}], \"scatter3d\": [{\"line\": {\"colorbar\": {\"outlinewidth\": 0, \"ticks\": \"\"}}, \"marker\": {\"colorbar\": {\"outlinewidth\": 0, \"ticks\": \"\"}}, \"type\": \"scatter3d\"}], \"scattercarpet\": [{\"marker\": {\"colorbar\": {\"outlinewidth\": 0, \"ticks\": \"\"}}, \"type\": \"scattercarpet\"}], \"scattergeo\": [{\"marker\": {\"colorbar\": {\"outlinewidth\": 0, \"ticks\": \"\"}}, \"type\": \"scattergeo\"}], \"scattergl\": [{\"marker\": {\"colorbar\": {\"outlinewidth\": 0, \"ticks\": \"\"}}, \"type\": \"scattergl\"}], \"scattermapbox\": [{\"marker\": {\"colorbar\": {\"outlinewidth\": 0, \"ticks\": \"\"}}, \"type\": \"scattermapbox\"}], \"scatterpolar\": [{\"marker\": {\"colorbar\": {\"outlinewidth\": 0, \"ticks\": \"\"}}, \"type\": \"scatterpolar\"}], \"scatterpolargl\": [{\"marker\": {\"colorbar\": {\"outlinewidth\": 0, \"ticks\": \"\"}}, \"type\": \"scatterpolargl\"}], \"scatterternary\": [{\"marker\": {\"colorbar\": {\"outlinewidth\": 0, \"ticks\": \"\"}}, \"type\": \"scatterternary\"}], \"surface\": [{\"colorbar\": {\"outlinewidth\": 0, \"ticks\": \"\"}, \"colorscale\": [[0.0, \"#0d0887\"], [0.1111111111111111, \"#46039f\"], [0.2222222222222222, \"#7201a8\"], [0.3333333333333333, \"#9c179e\"], [0.4444444444444444, \"#bd3786\"], [0.5555555555555556, \"#d8576b\"], [0.6666666666666666, \"#ed7953\"], [0.7777777777777778, \"#fb9f3a\"], [0.8888888888888888, \"#fdca26\"], [1.0, \"#f0f921\"]], \"type\": \"surface\"}], \"table\": [{\"cells\": {\"fill\": {\"color\": \"#EBF0F8\"}, \"line\": {\"color\": \"white\"}}, \"header\": {\"fill\": {\"color\": \"#C8D4E3\"}, \"line\": {\"color\": \"white\"}}, \"type\": \"table\"}]}, \"layout\": {\"annotationdefaults\": {\"arrowcolor\": \"#2a3f5f\", \"arrowhead\": 0, \"arrowwidth\": 1}, \"coloraxis\": {\"colorbar\": {\"outlinewidth\": 0, \"ticks\": \"\"}}, \"colorscale\": {\"diverging\": [[0, \"#8e0152\"], [0.1, \"#c51b7d\"], [0.2, \"#de77ae\"], [0.3, \"#f1b6da\"], [0.4, \"#fde0ef\"], [0.5, \"#f7f7f7\"], [0.6, \"#e6f5d0\"], [0.7, \"#b8e186\"], [0.8, \"#7fbc41\"], [0.9, \"#4d9221\"], [1, \"#276419\"]], \"sequential\": [[0.0, \"#0d0887\"], [0.1111111111111111, \"#46039f\"], [0.2222222222222222, \"#7201a8\"], [0.3333333333333333, \"#9c179e\"], [0.4444444444444444, \"#bd3786\"], [0.5555555555555556, \"#d8576b\"], [0.6666666666666666, \"#ed7953\"], [0.7777777777777778, \"#fb9f3a\"], [0.8888888888888888, \"#fdca26\"], [1.0, \"#f0f921\"]], \"sequentialminus\": [[0.0, \"#0d0887\"], [0.1111111111111111, \"#46039f\"], [0.2222222222222222, \"#7201a8\"], [0.3333333333333333, \"#9c179e\"], [0.4444444444444444, \"#bd3786\"], [0.5555555555555556, \"#d8576b\"], [0.6666666666666666, \"#ed7953\"], [0.7777777777777778, \"#fb9f3a\"], [0.8888888888888888, \"#fdca26\"], [1.0, \"#f0f921\"]]}, \"colorway\": [\"#636efa\", \"#EF553B\", \"#00cc96\", \"#ab63fa\", \"#FFA15A\", \"#19d3f3\", \"#FF6692\", \"#B6E880\", \"#FF97FF\", \"#FECB52\"], \"font\": {\"color\": \"#2a3f5f\"}, \"geo\": {\"bgcolor\": \"white\", \"lakecolor\": \"white\", \"landcolor\": \"#E5ECF6\", \"showlakes\": true, \"showland\": true, \"subunitcolor\": \"white\"}, \"hoverlabel\": {\"align\": \"left\"}, \"hovermode\": \"closest\", \"mapbox\": {\"style\": \"light\"}, \"paper_bgcolor\": \"white\", \"plot_bgcolor\": \"#E5ECF6\", \"polar\": {\"angularaxis\": {\"gridcolor\": \"white\", \"linecolor\": \"white\", \"ticks\": \"\"}, \"bgcolor\": \"#E5ECF6\", \"radialaxis\": {\"gridcolor\": \"white\", \"linecolor\": \"white\", \"ticks\": \"\"}}, \"scene\": {\"xaxis\": {\"backgroundcolor\": \"#E5ECF6\", \"gridcolor\": \"white\", \"gridwidth\": 2, \"linecolor\": \"white\", \"showbackground\": true, \"ticks\": \"\", \"zerolinecolor\": \"white\"}, \"yaxis\": {\"backgroundcolor\": \"#E5ECF6\", \"gridcolor\": \"white\", \"gridwidth\": 2, \"linecolor\": \"white\", \"showbackground\": true, \"ticks\": \"\", \"zerolinecolor\": \"white\"}, \"zaxis\": {\"backgroundcolor\": \"#E5ECF6\", \"gridcolor\": \"white\", \"gridwidth\": 2, \"linecolor\": \"white\", \"showbackground\": true, \"ticks\": \"\", \"zerolinecolor\": \"white\"}}, \"shapedefaults\": {\"line\": {\"color\": \"#2a3f5f\"}}, \"ternary\": {\"aaxis\": {\"gridcolor\": \"white\", \"linecolor\": \"white\", \"ticks\": \"\"}, \"baxis\": {\"gridcolor\": \"white\", \"linecolor\": \"white\", \"ticks\": \"\"}, \"bgcolor\": \"#E5ECF6\", \"caxis\": {\"gridcolor\": \"white\", \"linecolor\": \"white\", \"ticks\": \"\"}}, \"title\": {\"x\": 0.05}, \"xaxis\": {\"automargin\": true, \"gridcolor\": \"white\", \"linecolor\": \"white\", \"ticks\": \"\", \"title\": {\"standoff\": 15}, \"zerolinecolor\": \"white\", \"zerolinewidth\": 2}, \"yaxis\": {\"automargin\": true, \"gridcolor\": \"white\", \"linecolor\": \"white\", \"ticks\": \"\", \"title\": {\"standoff\": 15}, \"zerolinecolor\": \"white\", \"zerolinewidth\": 2}}}, \"xaxis\": {\"anchor\": \"y\", \"domain\": [0.0, 1.0], \"title\": {\"text\": \"State/UnionTerritory\"}}, \"yaxis\": {\"anchor\": \"x\", \"domain\": [0.0, 1.0], \"title\": {\"text\": \"Total\"}}},\n",
       "                        {\"responsive\": true}\n",
       "                    ).then(function(){\n",
       "                            \n",
       "var gd = document.getElementById('bd2050f1-9318-42b0-96c8-d0a7999ce5ca');\n",
       "var x = new MutationObserver(function (mutations, observer) {{\n",
       "        var display = window.getComputedStyle(gd).display;\n",
       "        if (!display || display === 'none') {{\n",
       "            console.log([gd, 'removed!']);\n",
       "            Plotly.purge(gd);\n",
       "            observer.disconnect();\n",
       "        }}\n",
       "}});\n",
       "\n",
       "// Listen for the removal of the full notebook cells\n",
       "var notebookContainer = gd.closest('#notebook-container');\n",
       "if (notebookContainer) {{\n",
       "    x.observe(notebookContainer, {childList: true});\n",
       "}}\n",
       "\n",
       "// Listen for the clearing of the current output cell\n",
       "var outputEl = gd.closest('.output');\n",
       "if (outputEl) {{\n",
       "    x.observe(outputEl, {childList: true});\n",
       "}}\n",
       "\n",
       "                        })\n",
       "                };\n",
       "                });\n",
       "            </script>\n",
       "        </div>"
      ]
     },
     "metadata": {},
     "output_type": "display_data"
    }
   ],
   "source": [
    "px.bar(df_cases_beds_map, x='State/UnionTerritory', y='Total', hover_name = 'Total_Active_Cases')"
   ]
  },
  {
   "cell_type": "code",
   "execution_count": 106,
   "metadata": {},
   "outputs": [
    {
     "data": {
      "application/vnd.plotly.v1+json": {
       "config": {
        "plotlyServerURL": "https://plot.ly"
       },
       "data": [
        {
         "hoverlabel": {
          "namelength": 0
         },
         "hovertemplate": "State/UnionTerritory=%{x}<br>Total_Active_Cases=%{marker.color}",
         "legendgroup": "",
         "marker": {
          "color": [
           5,
           2495,
           63,
           1953,
           2480,
           43,
           873,
           28,
           22212,
           394,
           5619,
           3789,
           183,
           2591,
           937,
           2997,
           1303,
           176,
           2802,
           49628,
           308,
           21,
           103,
           107,
           1014,
           88,
           641,
           2898,
           61,
           18284,
           2032,
           682,
           756,
           4642,
           5587,
           7984
          ],
          "coloraxis": "coloraxis",
          "symbol": "circle"
         },
         "mode": "markers",
         "name": "",
         "showlegend": false,
         "type": "scatter",
         "x": [
          "Andaman and Nicobar Islands",
          "Andhra Pradesh",
          "Arunachal Pradesh",
          "Assam",
          "Bihar",
          "Chandigarh",
          "Chhattisgarh",
          "Dadra and Nagar Haveli and Daman and Diu",
          "Delhi",
          "Goa",
          "Gujarat",
          "Haryana",
          "Himachal Pradesh",
          "Jammu and Kashmir",
          "Jharkhand",
          "Karnataka",
          "Kerala",
          "Ladakh",
          "Madhya Pradesh",
          "Maharashtra",
          "Manipur",
          "Meghalaya",
          "Mizoram",
          "Nagaland",
          "Odisha",
          "Puducherry",
          "Punjab",
          "Rajasthan",
          "Sikkim",
          "Tamil Nadu",
          "Telangana",
          "Tripura",
          "Uttarakhand",
          "Uttar Pradesh",
          "West Bengal",
          "Cases being reassigned to states"
         ],
         "xaxis": "x",
         "y": [
          5,
          2495,
          63,
          1953,
          2480,
          43,
          873,
          28,
          22212,
          394,
          5619,
          3789,
          183,
          2591,
          937,
          2997,
          1303,
          176,
          2802,
          49628,
          308,
          21,
          103,
          107,
          1014,
          88,
          641,
          2898,
          61,
          18284,
          2032,
          682,
          756,
          4642,
          5587,
          7984
         ],
         "yaxis": "y"
        }
       ],
       "layout": {
        "coloraxis": {
         "colorbar": {
          "title": {
           "text": "Total_Active_Cases"
          }
         },
         "colorscale": [
          [
           0,
           "#0d0887"
          ],
          [
           0.1111111111111111,
           "#46039f"
          ],
          [
           0.2222222222222222,
           "#7201a8"
          ],
          [
           0.3333333333333333,
           "#9c179e"
          ],
          [
           0.4444444444444444,
           "#bd3786"
          ],
          [
           0.5555555555555556,
           "#d8576b"
          ],
          [
           0.6666666666666666,
           "#ed7953"
          ],
          [
           0.7777777777777778,
           "#fb9f3a"
          ],
          [
           0.8888888888888888,
           "#fdca26"
          ],
          [
           1,
           "#f0f921"
          ]
         ]
        },
        "legend": {
         "tracegroupgap": 0
        },
        "margin": {
         "t": 60
        },
        "template": {
         "data": {
          "bar": [
           {
            "error_x": {
             "color": "#2a3f5f"
            },
            "error_y": {
             "color": "#2a3f5f"
            },
            "marker": {
             "line": {
              "color": "#E5ECF6",
              "width": 0.5
             }
            },
            "type": "bar"
           }
          ],
          "barpolar": [
           {
            "marker": {
             "line": {
              "color": "#E5ECF6",
              "width": 0.5
             }
            },
            "type": "barpolar"
           }
          ],
          "carpet": [
           {
            "aaxis": {
             "endlinecolor": "#2a3f5f",
             "gridcolor": "white",
             "linecolor": "white",
             "minorgridcolor": "white",
             "startlinecolor": "#2a3f5f"
            },
            "baxis": {
             "endlinecolor": "#2a3f5f",
             "gridcolor": "white",
             "linecolor": "white",
             "minorgridcolor": "white",
             "startlinecolor": "#2a3f5f"
            },
            "type": "carpet"
           }
          ],
          "choropleth": [
           {
            "colorbar": {
             "outlinewidth": 0,
             "ticks": ""
            },
            "type": "choropleth"
           }
          ],
          "contour": [
           {
            "colorbar": {
             "outlinewidth": 0,
             "ticks": ""
            },
            "colorscale": [
             [
              0,
              "#0d0887"
             ],
             [
              0.1111111111111111,
              "#46039f"
             ],
             [
              0.2222222222222222,
              "#7201a8"
             ],
             [
              0.3333333333333333,
              "#9c179e"
             ],
             [
              0.4444444444444444,
              "#bd3786"
             ],
             [
              0.5555555555555556,
              "#d8576b"
             ],
             [
              0.6666666666666666,
              "#ed7953"
             ],
             [
              0.7777777777777778,
              "#fb9f3a"
             ],
             [
              0.8888888888888888,
              "#fdca26"
             ],
             [
              1,
              "#f0f921"
             ]
            ],
            "type": "contour"
           }
          ],
          "contourcarpet": [
           {
            "colorbar": {
             "outlinewidth": 0,
             "ticks": ""
            },
            "type": "contourcarpet"
           }
          ],
          "heatmap": [
           {
            "colorbar": {
             "outlinewidth": 0,
             "ticks": ""
            },
            "colorscale": [
             [
              0,
              "#0d0887"
             ],
             [
              0.1111111111111111,
              "#46039f"
             ],
             [
              0.2222222222222222,
              "#7201a8"
             ],
             [
              0.3333333333333333,
              "#9c179e"
             ],
             [
              0.4444444444444444,
              "#bd3786"
             ],
             [
              0.5555555555555556,
              "#d8576b"
             ],
             [
              0.6666666666666666,
              "#ed7953"
             ],
             [
              0.7777777777777778,
              "#fb9f3a"
             ],
             [
              0.8888888888888888,
              "#fdca26"
             ],
             [
              1,
              "#f0f921"
             ]
            ],
            "type": "heatmap"
           }
          ],
          "heatmapgl": [
           {
            "colorbar": {
             "outlinewidth": 0,
             "ticks": ""
            },
            "colorscale": [
             [
              0,
              "#0d0887"
             ],
             [
              0.1111111111111111,
              "#46039f"
             ],
             [
              0.2222222222222222,
              "#7201a8"
             ],
             [
              0.3333333333333333,
              "#9c179e"
             ],
             [
              0.4444444444444444,
              "#bd3786"
             ],
             [
              0.5555555555555556,
              "#d8576b"
             ],
             [
              0.6666666666666666,
              "#ed7953"
             ],
             [
              0.7777777777777778,
              "#fb9f3a"
             ],
             [
              0.8888888888888888,
              "#fdca26"
             ],
             [
              1,
              "#f0f921"
             ]
            ],
            "type": "heatmapgl"
           }
          ],
          "histogram": [
           {
            "marker": {
             "colorbar": {
              "outlinewidth": 0,
              "ticks": ""
             }
            },
            "type": "histogram"
           }
          ],
          "histogram2d": [
           {
            "colorbar": {
             "outlinewidth": 0,
             "ticks": ""
            },
            "colorscale": [
             [
              0,
              "#0d0887"
             ],
             [
              0.1111111111111111,
              "#46039f"
             ],
             [
              0.2222222222222222,
              "#7201a8"
             ],
             [
              0.3333333333333333,
              "#9c179e"
             ],
             [
              0.4444444444444444,
              "#bd3786"
             ],
             [
              0.5555555555555556,
              "#d8576b"
             ],
             [
              0.6666666666666666,
              "#ed7953"
             ],
             [
              0.7777777777777778,
              "#fb9f3a"
             ],
             [
              0.8888888888888888,
              "#fdca26"
             ],
             [
              1,
              "#f0f921"
             ]
            ],
            "type": "histogram2d"
           }
          ],
          "histogram2dcontour": [
           {
            "colorbar": {
             "outlinewidth": 0,
             "ticks": ""
            },
            "colorscale": [
             [
              0,
              "#0d0887"
             ],
             [
              0.1111111111111111,
              "#46039f"
             ],
             [
              0.2222222222222222,
              "#7201a8"
             ],
             [
              0.3333333333333333,
              "#9c179e"
             ],
             [
              0.4444444444444444,
              "#bd3786"
             ],
             [
              0.5555555555555556,
              "#d8576b"
             ],
             [
              0.6666666666666666,
              "#ed7953"
             ],
             [
              0.7777777777777778,
              "#fb9f3a"
             ],
             [
              0.8888888888888888,
              "#fdca26"
             ],
             [
              1,
              "#f0f921"
             ]
            ],
            "type": "histogram2dcontour"
           }
          ],
          "mesh3d": [
           {
            "colorbar": {
             "outlinewidth": 0,
             "ticks": ""
            },
            "type": "mesh3d"
           }
          ],
          "parcoords": [
           {
            "line": {
             "colorbar": {
              "outlinewidth": 0,
              "ticks": ""
             }
            },
            "type": "parcoords"
           }
          ],
          "pie": [
           {
            "automargin": true,
            "type": "pie"
           }
          ],
          "scatter": [
           {
            "marker": {
             "colorbar": {
              "outlinewidth": 0,
              "ticks": ""
             }
            },
            "type": "scatter"
           }
          ],
          "scatter3d": [
           {
            "line": {
             "colorbar": {
              "outlinewidth": 0,
              "ticks": ""
             }
            },
            "marker": {
             "colorbar": {
              "outlinewidth": 0,
              "ticks": ""
             }
            },
            "type": "scatter3d"
           }
          ],
          "scattercarpet": [
           {
            "marker": {
             "colorbar": {
              "outlinewidth": 0,
              "ticks": ""
             }
            },
            "type": "scattercarpet"
           }
          ],
          "scattergeo": [
           {
            "marker": {
             "colorbar": {
              "outlinewidth": 0,
              "ticks": ""
             }
            },
            "type": "scattergeo"
           }
          ],
          "scattergl": [
           {
            "marker": {
             "colorbar": {
              "outlinewidth": 0,
              "ticks": ""
             }
            },
            "type": "scattergl"
           }
          ],
          "scattermapbox": [
           {
            "marker": {
             "colorbar": {
              "outlinewidth": 0,
              "ticks": ""
             }
            },
            "type": "scattermapbox"
           }
          ],
          "scatterpolar": [
           {
            "marker": {
             "colorbar": {
              "outlinewidth": 0,
              "ticks": ""
             }
            },
            "type": "scatterpolar"
           }
          ],
          "scatterpolargl": [
           {
            "marker": {
             "colorbar": {
              "outlinewidth": 0,
              "ticks": ""
             }
            },
            "type": "scatterpolargl"
           }
          ],
          "scatterternary": [
           {
            "marker": {
             "colorbar": {
              "outlinewidth": 0,
              "ticks": ""
             }
            },
            "type": "scatterternary"
           }
          ],
          "surface": [
           {
            "colorbar": {
             "outlinewidth": 0,
             "ticks": ""
            },
            "colorscale": [
             [
              0,
              "#0d0887"
             ],
             [
              0.1111111111111111,
              "#46039f"
             ],
             [
              0.2222222222222222,
              "#7201a8"
             ],
             [
              0.3333333333333333,
              "#9c179e"
             ],
             [
              0.4444444444444444,
              "#bd3786"
             ],
             [
              0.5555555555555556,
              "#d8576b"
             ],
             [
              0.6666666666666666,
              "#ed7953"
             ],
             [
              0.7777777777777778,
              "#fb9f3a"
             ],
             [
              0.8888888888888888,
              "#fdca26"
             ],
             [
              1,
              "#f0f921"
             ]
            ],
            "type": "surface"
           }
          ],
          "table": [
           {
            "cells": {
             "fill": {
              "color": "#EBF0F8"
             },
             "line": {
              "color": "white"
             }
            },
            "header": {
             "fill": {
              "color": "#C8D4E3"
             },
             "line": {
              "color": "white"
             }
            },
            "type": "table"
           }
          ]
         },
         "layout": {
          "annotationdefaults": {
           "arrowcolor": "#2a3f5f",
           "arrowhead": 0,
           "arrowwidth": 1
          },
          "coloraxis": {
           "colorbar": {
            "outlinewidth": 0,
            "ticks": ""
           }
          },
          "colorscale": {
           "diverging": [
            [
             0,
             "#8e0152"
            ],
            [
             0.1,
             "#c51b7d"
            ],
            [
             0.2,
             "#de77ae"
            ],
            [
             0.3,
             "#f1b6da"
            ],
            [
             0.4,
             "#fde0ef"
            ],
            [
             0.5,
             "#f7f7f7"
            ],
            [
             0.6,
             "#e6f5d0"
            ],
            [
             0.7,
             "#b8e186"
            ],
            [
             0.8,
             "#7fbc41"
            ],
            [
             0.9,
             "#4d9221"
            ],
            [
             1,
             "#276419"
            ]
           ],
           "sequential": [
            [
             0,
             "#0d0887"
            ],
            [
             0.1111111111111111,
             "#46039f"
            ],
            [
             0.2222222222222222,
             "#7201a8"
            ],
            [
             0.3333333333333333,
             "#9c179e"
            ],
            [
             0.4444444444444444,
             "#bd3786"
            ],
            [
             0.5555555555555556,
             "#d8576b"
            ],
            [
             0.6666666666666666,
             "#ed7953"
            ],
            [
             0.7777777777777778,
             "#fb9f3a"
            ],
            [
             0.8888888888888888,
             "#fdca26"
            ],
            [
             1,
             "#f0f921"
            ]
           ],
           "sequentialminus": [
            [
             0,
             "#0d0887"
            ],
            [
             0.1111111111111111,
             "#46039f"
            ],
            [
             0.2222222222222222,
             "#7201a8"
            ],
            [
             0.3333333333333333,
             "#9c179e"
            ],
            [
             0.4444444444444444,
             "#bd3786"
            ],
            [
             0.5555555555555556,
             "#d8576b"
            ],
            [
             0.6666666666666666,
             "#ed7953"
            ],
            [
             0.7777777777777778,
             "#fb9f3a"
            ],
            [
             0.8888888888888888,
             "#fdca26"
            ],
            [
             1,
             "#f0f921"
            ]
           ]
          },
          "colorway": [
           "#636efa",
           "#EF553B",
           "#00cc96",
           "#ab63fa",
           "#FFA15A",
           "#19d3f3",
           "#FF6692",
           "#B6E880",
           "#FF97FF",
           "#FECB52"
          ],
          "font": {
           "color": "#2a3f5f"
          },
          "geo": {
           "bgcolor": "white",
           "lakecolor": "white",
           "landcolor": "#E5ECF6",
           "showlakes": true,
           "showland": true,
           "subunitcolor": "white"
          },
          "hoverlabel": {
           "align": "left"
          },
          "hovermode": "closest",
          "mapbox": {
           "style": "light"
          },
          "paper_bgcolor": "white",
          "plot_bgcolor": "#E5ECF6",
          "polar": {
           "angularaxis": {
            "gridcolor": "white",
            "linecolor": "white",
            "ticks": ""
           },
           "bgcolor": "#E5ECF6",
           "radialaxis": {
            "gridcolor": "white",
            "linecolor": "white",
            "ticks": ""
           }
          },
          "scene": {
           "xaxis": {
            "backgroundcolor": "#E5ECF6",
            "gridcolor": "white",
            "gridwidth": 2,
            "linecolor": "white",
            "showbackground": true,
            "ticks": "",
            "zerolinecolor": "white"
           },
           "yaxis": {
            "backgroundcolor": "#E5ECF6",
            "gridcolor": "white",
            "gridwidth": 2,
            "linecolor": "white",
            "showbackground": true,
            "ticks": "",
            "zerolinecolor": "white"
           },
           "zaxis": {
            "backgroundcolor": "#E5ECF6",
            "gridcolor": "white",
            "gridwidth": 2,
            "linecolor": "white",
            "showbackground": true,
            "ticks": "",
            "zerolinecolor": "white"
           }
          },
          "shapedefaults": {
           "line": {
            "color": "#2a3f5f"
           }
          },
          "ternary": {
           "aaxis": {
            "gridcolor": "white",
            "linecolor": "white",
            "ticks": ""
           },
           "baxis": {
            "gridcolor": "white",
            "linecolor": "white",
            "ticks": ""
           },
           "bgcolor": "#E5ECF6",
           "caxis": {
            "gridcolor": "white",
            "linecolor": "white",
            "ticks": ""
           }
          },
          "title": {
           "x": 0.05
          },
          "xaxis": {
           "automargin": true,
           "gridcolor": "white",
           "linecolor": "white",
           "ticks": "",
           "title": {
            "standoff": 15
           },
           "zerolinecolor": "white",
           "zerolinewidth": 2
          },
          "yaxis": {
           "automargin": true,
           "gridcolor": "white",
           "linecolor": "white",
           "ticks": "",
           "title": {
            "standoff": 15
           },
           "zerolinecolor": "white",
           "zerolinewidth": 2
          }
         }
        },
        "xaxis": {
         "anchor": "y",
         "domain": [
          0,
          1
         ],
         "title": {
          "text": "State/UnionTerritory"
         }
        },
        "yaxis": {
         "anchor": "x",
         "domain": [
          0,
          1
         ],
         "title": {
          "text": "Total_Active_Cases"
         }
        }
       }
      },
      "text/html": [
       "<div>\n",
       "        \n",
       "        \n",
       "            <div id=\"100557ee-cc74-4683-9920-c37941f7429b\" class=\"plotly-graph-div\" style=\"height:525px; width:100%;\"></div>\n",
       "            <script type=\"text/javascript\">\n",
       "                require([\"plotly\"], function(Plotly) {\n",
       "                    window.PLOTLYENV=window.PLOTLYENV || {};\n",
       "                    \n",
       "                if (document.getElementById(\"100557ee-cc74-4683-9920-c37941f7429b\")) {\n",
       "                    Plotly.newPlot(\n",
       "                        '100557ee-cc74-4683-9920-c37941f7429b',\n",
       "                        [{\"hoverlabel\": {\"namelength\": 0}, \"hovertemplate\": \"State/UnionTerritory=%{x}<br>Total_Active_Cases=%{marker.color}\", \"legendgroup\": \"\", \"marker\": {\"color\": [5, 2495, 63, 1953, 2480, 43, 873, 28, 22212, 394, 5619, 3789, 183, 2591, 937, 2997, 1303, 176, 2802, 49628, 308, 21, 103, 107, 1014, 88, 641, 2898, 61, 18284, 2032, 682, 756, 4642, 5587, 7984], \"coloraxis\": \"coloraxis\", \"symbol\": \"circle\"}, \"mode\": \"markers\", \"name\": \"\", \"showlegend\": false, \"type\": \"scatter\", \"x\": [\"Andaman and Nicobar Islands\", \"Andhra Pradesh\", \"Arunachal Pradesh\", \"Assam\", \"Bihar\", \"Chandigarh\", \"Chhattisgarh\", \"Dadra and Nagar Haveli and Daman and Diu\", \"Delhi\", \"Goa\", \"Gujarat\", \"Haryana\", \"Himachal Pradesh\", \"Jammu and Kashmir\", \"Jharkhand\", \"Karnataka\", \"Kerala\", \"Ladakh\", \"Madhya Pradesh\", \"Maharashtra\", \"Manipur\", \"Meghalaya\", \"Mizoram\", \"Nagaland\", \"Odisha\", \"Puducherry\", \"Punjab\", \"Rajasthan\", \"Sikkim\", \"Tamil Nadu\", \"Telangana\", \"Tripura\", \"Uttarakhand\", \"Uttar Pradesh\", \"West Bengal\", \"Cases being reassigned to states\"], \"xaxis\": \"x\", \"y\": [5, 2495, 63, 1953, 2480, 43, 873, 28, 22212, 394, 5619, 3789, 183, 2591, 937, 2997, 1303, 176, 2802, 49628, 308, 21, 103, 107, 1014, 88, 641, 2898, 61, 18284, 2032, 682, 756, 4642, 5587, 7984], \"yaxis\": \"y\"}],\n",
       "                        {\"coloraxis\": {\"colorbar\": {\"title\": {\"text\": \"Total_Active_Cases\"}}, \"colorscale\": [[0.0, \"#0d0887\"], [0.1111111111111111, \"#46039f\"], [0.2222222222222222, \"#7201a8\"], [0.3333333333333333, \"#9c179e\"], [0.4444444444444444, \"#bd3786\"], [0.5555555555555556, \"#d8576b\"], [0.6666666666666666, \"#ed7953\"], [0.7777777777777778, \"#fb9f3a\"], [0.8888888888888888, \"#fdca26\"], [1.0, \"#f0f921\"]]}, \"legend\": {\"tracegroupgap\": 0}, \"margin\": {\"t\": 60}, \"template\": {\"data\": {\"bar\": [{\"error_x\": {\"color\": \"#2a3f5f\"}, \"error_y\": {\"color\": \"#2a3f5f\"}, \"marker\": {\"line\": {\"color\": \"#E5ECF6\", \"width\": 0.5}}, \"type\": \"bar\"}], \"barpolar\": [{\"marker\": {\"line\": {\"color\": \"#E5ECF6\", \"width\": 0.5}}, \"type\": \"barpolar\"}], \"carpet\": [{\"aaxis\": {\"endlinecolor\": \"#2a3f5f\", \"gridcolor\": \"white\", \"linecolor\": \"white\", \"minorgridcolor\": \"white\", \"startlinecolor\": \"#2a3f5f\"}, \"baxis\": {\"endlinecolor\": \"#2a3f5f\", \"gridcolor\": \"white\", \"linecolor\": \"white\", \"minorgridcolor\": \"white\", \"startlinecolor\": \"#2a3f5f\"}, \"type\": \"carpet\"}], \"choropleth\": [{\"colorbar\": {\"outlinewidth\": 0, \"ticks\": \"\"}, \"type\": \"choropleth\"}], \"contour\": [{\"colorbar\": {\"outlinewidth\": 0, \"ticks\": \"\"}, \"colorscale\": [[0.0, \"#0d0887\"], [0.1111111111111111, \"#46039f\"], [0.2222222222222222, \"#7201a8\"], [0.3333333333333333, \"#9c179e\"], [0.4444444444444444, \"#bd3786\"], [0.5555555555555556, \"#d8576b\"], [0.6666666666666666, \"#ed7953\"], [0.7777777777777778, \"#fb9f3a\"], [0.8888888888888888, \"#fdca26\"], [1.0, \"#f0f921\"]], \"type\": \"contour\"}], \"contourcarpet\": [{\"colorbar\": {\"outlinewidth\": 0, \"ticks\": \"\"}, \"type\": \"contourcarpet\"}], \"heatmap\": [{\"colorbar\": {\"outlinewidth\": 0, \"ticks\": \"\"}, \"colorscale\": [[0.0, \"#0d0887\"], [0.1111111111111111, \"#46039f\"], [0.2222222222222222, \"#7201a8\"], [0.3333333333333333, \"#9c179e\"], [0.4444444444444444, \"#bd3786\"], [0.5555555555555556, \"#d8576b\"], [0.6666666666666666, \"#ed7953\"], [0.7777777777777778, \"#fb9f3a\"], [0.8888888888888888, \"#fdca26\"], [1.0, \"#f0f921\"]], \"type\": \"heatmap\"}], \"heatmapgl\": [{\"colorbar\": {\"outlinewidth\": 0, \"ticks\": \"\"}, \"colorscale\": [[0.0, \"#0d0887\"], [0.1111111111111111, \"#46039f\"], [0.2222222222222222, \"#7201a8\"], [0.3333333333333333, \"#9c179e\"], [0.4444444444444444, \"#bd3786\"], [0.5555555555555556, \"#d8576b\"], [0.6666666666666666, \"#ed7953\"], [0.7777777777777778, \"#fb9f3a\"], [0.8888888888888888, \"#fdca26\"], [1.0, \"#f0f921\"]], \"type\": \"heatmapgl\"}], \"histogram\": [{\"marker\": {\"colorbar\": {\"outlinewidth\": 0, \"ticks\": \"\"}}, \"type\": \"histogram\"}], \"histogram2d\": [{\"colorbar\": {\"outlinewidth\": 0, \"ticks\": \"\"}, \"colorscale\": [[0.0, \"#0d0887\"], [0.1111111111111111, \"#46039f\"], [0.2222222222222222, \"#7201a8\"], [0.3333333333333333, \"#9c179e\"], [0.4444444444444444, \"#bd3786\"], [0.5555555555555556, \"#d8576b\"], [0.6666666666666666, \"#ed7953\"], [0.7777777777777778, \"#fb9f3a\"], [0.8888888888888888, \"#fdca26\"], [1.0, \"#f0f921\"]], \"type\": \"histogram2d\"}], \"histogram2dcontour\": [{\"colorbar\": {\"outlinewidth\": 0, \"ticks\": \"\"}, \"colorscale\": [[0.0, \"#0d0887\"], [0.1111111111111111, \"#46039f\"], [0.2222222222222222, \"#7201a8\"], [0.3333333333333333, \"#9c179e\"], [0.4444444444444444, \"#bd3786\"], [0.5555555555555556, \"#d8576b\"], [0.6666666666666666, \"#ed7953\"], [0.7777777777777778, \"#fb9f3a\"], [0.8888888888888888, \"#fdca26\"], [1.0, \"#f0f921\"]], \"type\": \"histogram2dcontour\"}], \"mesh3d\": [{\"colorbar\": {\"outlinewidth\": 0, \"ticks\": \"\"}, \"type\": \"mesh3d\"}], \"parcoords\": [{\"line\": {\"colorbar\": {\"outlinewidth\": 0, \"ticks\": \"\"}}, \"type\": \"parcoords\"}], \"pie\": [{\"automargin\": true, \"type\": \"pie\"}], \"scatter\": [{\"marker\": {\"colorbar\": {\"outlinewidth\": 0, \"ticks\": \"\"}}, \"type\": \"scatter\"}], \"scatter3d\": [{\"line\": {\"colorbar\": {\"outlinewidth\": 0, \"ticks\": \"\"}}, \"marker\": {\"colorbar\": {\"outlinewidth\": 0, \"ticks\": \"\"}}, \"type\": \"scatter3d\"}], \"scattercarpet\": [{\"marker\": {\"colorbar\": {\"outlinewidth\": 0, \"ticks\": \"\"}}, \"type\": \"scattercarpet\"}], \"scattergeo\": [{\"marker\": {\"colorbar\": {\"outlinewidth\": 0, \"ticks\": \"\"}}, \"type\": \"scattergeo\"}], \"scattergl\": [{\"marker\": {\"colorbar\": {\"outlinewidth\": 0, \"ticks\": \"\"}}, \"type\": \"scattergl\"}], \"scattermapbox\": [{\"marker\": {\"colorbar\": {\"outlinewidth\": 0, \"ticks\": \"\"}}, \"type\": \"scattermapbox\"}], \"scatterpolar\": [{\"marker\": {\"colorbar\": {\"outlinewidth\": 0, \"ticks\": \"\"}}, \"type\": \"scatterpolar\"}], \"scatterpolargl\": [{\"marker\": {\"colorbar\": {\"outlinewidth\": 0, \"ticks\": \"\"}}, \"type\": \"scatterpolargl\"}], \"scatterternary\": [{\"marker\": {\"colorbar\": {\"outlinewidth\": 0, \"ticks\": \"\"}}, \"type\": \"scatterternary\"}], \"surface\": [{\"colorbar\": {\"outlinewidth\": 0, \"ticks\": \"\"}, \"colorscale\": [[0.0, \"#0d0887\"], [0.1111111111111111, \"#46039f\"], [0.2222222222222222, \"#7201a8\"], [0.3333333333333333, \"#9c179e\"], [0.4444444444444444, \"#bd3786\"], [0.5555555555555556, \"#d8576b\"], [0.6666666666666666, \"#ed7953\"], [0.7777777777777778, \"#fb9f3a\"], [0.8888888888888888, \"#fdca26\"], [1.0, \"#f0f921\"]], \"type\": \"surface\"}], \"table\": [{\"cells\": {\"fill\": {\"color\": \"#EBF0F8\"}, \"line\": {\"color\": \"white\"}}, \"header\": {\"fill\": {\"color\": \"#C8D4E3\"}, \"line\": {\"color\": \"white\"}}, \"type\": \"table\"}]}, \"layout\": {\"annotationdefaults\": {\"arrowcolor\": \"#2a3f5f\", \"arrowhead\": 0, \"arrowwidth\": 1}, \"coloraxis\": {\"colorbar\": {\"outlinewidth\": 0, \"ticks\": \"\"}}, \"colorscale\": {\"diverging\": [[0, \"#8e0152\"], [0.1, \"#c51b7d\"], [0.2, \"#de77ae\"], [0.3, \"#f1b6da\"], [0.4, \"#fde0ef\"], [0.5, \"#f7f7f7\"], [0.6, \"#e6f5d0\"], [0.7, \"#b8e186\"], [0.8, \"#7fbc41\"], [0.9, \"#4d9221\"], [1, \"#276419\"]], \"sequential\": [[0.0, \"#0d0887\"], [0.1111111111111111, \"#46039f\"], [0.2222222222222222, \"#7201a8\"], [0.3333333333333333, \"#9c179e\"], [0.4444444444444444, \"#bd3786\"], [0.5555555555555556, \"#d8576b\"], [0.6666666666666666, \"#ed7953\"], [0.7777777777777778, \"#fb9f3a\"], [0.8888888888888888, \"#fdca26\"], [1.0, \"#f0f921\"]], \"sequentialminus\": [[0.0, \"#0d0887\"], [0.1111111111111111, \"#46039f\"], [0.2222222222222222, \"#7201a8\"], [0.3333333333333333, \"#9c179e\"], [0.4444444444444444, \"#bd3786\"], [0.5555555555555556, \"#d8576b\"], [0.6666666666666666, \"#ed7953\"], [0.7777777777777778, \"#fb9f3a\"], [0.8888888888888888, \"#fdca26\"], [1.0, \"#f0f921\"]]}, \"colorway\": [\"#636efa\", \"#EF553B\", \"#00cc96\", \"#ab63fa\", \"#FFA15A\", \"#19d3f3\", \"#FF6692\", \"#B6E880\", \"#FF97FF\", \"#FECB52\"], \"font\": {\"color\": \"#2a3f5f\"}, \"geo\": {\"bgcolor\": \"white\", \"lakecolor\": \"white\", \"landcolor\": \"#E5ECF6\", \"showlakes\": true, \"showland\": true, \"subunitcolor\": \"white\"}, \"hoverlabel\": {\"align\": \"left\"}, \"hovermode\": \"closest\", \"mapbox\": {\"style\": \"light\"}, \"paper_bgcolor\": \"white\", \"plot_bgcolor\": \"#E5ECF6\", \"polar\": {\"angularaxis\": {\"gridcolor\": \"white\", \"linecolor\": \"white\", \"ticks\": \"\"}, \"bgcolor\": \"#E5ECF6\", \"radialaxis\": {\"gridcolor\": \"white\", \"linecolor\": \"white\", \"ticks\": \"\"}}, \"scene\": {\"xaxis\": {\"backgroundcolor\": \"#E5ECF6\", \"gridcolor\": \"white\", \"gridwidth\": 2, \"linecolor\": \"white\", \"showbackground\": true, \"ticks\": \"\", \"zerolinecolor\": \"white\"}, \"yaxis\": {\"backgroundcolor\": \"#E5ECF6\", \"gridcolor\": \"white\", \"gridwidth\": 2, \"linecolor\": \"white\", \"showbackground\": true, \"ticks\": \"\", \"zerolinecolor\": \"white\"}, \"zaxis\": {\"backgroundcolor\": \"#E5ECF6\", \"gridcolor\": \"white\", \"gridwidth\": 2, \"linecolor\": \"white\", \"showbackground\": true, \"ticks\": \"\", \"zerolinecolor\": \"white\"}}, \"shapedefaults\": {\"line\": {\"color\": \"#2a3f5f\"}}, \"ternary\": {\"aaxis\": {\"gridcolor\": \"white\", \"linecolor\": \"white\", \"ticks\": \"\"}, \"baxis\": {\"gridcolor\": \"white\", \"linecolor\": \"white\", \"ticks\": \"\"}, \"bgcolor\": \"#E5ECF6\", \"caxis\": {\"gridcolor\": \"white\", \"linecolor\": \"white\", \"ticks\": \"\"}}, \"title\": {\"x\": 0.05}, \"xaxis\": {\"automargin\": true, \"gridcolor\": \"white\", \"linecolor\": \"white\", \"ticks\": \"\", \"title\": {\"standoff\": 15}, \"zerolinecolor\": \"white\", \"zerolinewidth\": 2}, \"yaxis\": {\"automargin\": true, \"gridcolor\": \"white\", \"linecolor\": \"white\", \"ticks\": \"\", \"title\": {\"standoff\": 15}, \"zerolinecolor\": \"white\", \"zerolinewidth\": 2}}}, \"xaxis\": {\"anchor\": \"y\", \"domain\": [0.0, 1.0], \"title\": {\"text\": \"State/UnionTerritory\"}}, \"yaxis\": {\"anchor\": \"x\", \"domain\": [0.0, 1.0], \"title\": {\"text\": \"Total_Active_Cases\"}}},\n",
       "                        {\"responsive\": true}\n",
       "                    ).then(function(){\n",
       "                            \n",
       "var gd = document.getElementById('100557ee-cc74-4683-9920-c37941f7429b');\n",
       "var x = new MutationObserver(function (mutations, observer) {{\n",
       "        var display = window.getComputedStyle(gd).display;\n",
       "        if (!display || display === 'none') {{\n",
       "            console.log([gd, 'removed!']);\n",
       "            Plotly.purge(gd);\n",
       "            observer.disconnect();\n",
       "        }}\n",
       "}});\n",
       "\n",
       "// Listen for the removal of the full notebook cells\n",
       "var notebookContainer = gd.closest('#notebook-container');\n",
       "if (notebookContainer) {{\n",
       "    x.observe(notebookContainer, {childList: true});\n",
       "}}\n",
       "\n",
       "// Listen for the clearing of the current output cell\n",
       "var outputEl = gd.closest('.output');\n",
       "if (outputEl) {{\n",
       "    x.observe(outputEl, {childList: true});\n",
       "}}\n",
       "\n",
       "                        })\n",
       "                };\n",
       "                });\n",
       "            </script>\n",
       "        </div>"
      ]
     },
     "metadata": {},
     "output_type": "display_data"
    }
   ],
   "source": [
    "px.scatter(df_cases_beds_map, x='State/UnionTerritory', y='Total_Active_Cases', color='Total_Active_Cases')"
   ]
  },
  {
   "cell_type": "code",
   "execution_count": 82,
   "metadata": {},
   "outputs": [
    {
     "data": {
      "text/html": [
       "<div>\n",
       "<style scoped>\n",
       "    .dataframe tbody tr th:only-of-type {\n",
       "        vertical-align: middle;\n",
       "    }\n",
       "\n",
       "    .dataframe tbody tr th {\n",
       "        vertical-align: top;\n",
       "    }\n",
       "\n",
       "    .dataframe thead th {\n",
       "        text-align: right;\n",
       "    }\n",
       "</style>\n",
       "<table border=\"1\" class=\"dataframe\">\n",
       "  <thead>\n",
       "    <tr style=\"text-align: right;\">\n",
       "      <th></th>\n",
       "      <th>A</th>\n",
       "      <th>B</th>\n",
       "      <th>C</th>\n",
       "      <th>D</th>\n",
       "    </tr>\n",
       "  </thead>\n",
       "  <tbody>\n",
       "    <tr>\n",
       "      <th>0</th>\n",
       "      <td>1</td>\n",
       "      <td>2</td>\n",
       "      <td>NaN</td>\n",
       "      <td>NaN</td>\n",
       "    </tr>\n",
       "    <tr>\n",
       "      <th>1</th>\n",
       "      <td>5</td>\n",
       "      <td>4</td>\n",
       "      <td>5.0</td>\n",
       "      <td>2.0</td>\n",
       "    </tr>\n",
       "    <tr>\n",
       "      <th>2</th>\n",
       "      <td>7</td>\n",
       "      <td>6</td>\n",
       "      <td>NaN</td>\n",
       "      <td>NaN</td>\n",
       "    </tr>\n",
       "    <tr>\n",
       "      <th>3</th>\n",
       "      <td>9</td>\n",
       "      <td>8</td>\n",
       "      <td>9.0</td>\n",
       "      <td>6.0</td>\n",
       "    </tr>\n",
       "  </tbody>\n",
       "</table>\n",
       "</div>"
      ],
      "text/plain": [
       "   A  B    C    D\n",
       "0  1  2  NaN  NaN\n",
       "1  5  4  5.0  2.0\n",
       "2  7  6  NaN  NaN\n",
       "3  9  8  9.0  6.0"
      ]
     },
     "execution_count": 82,
     "metadata": {},
     "output_type": "execute_result"
    }
   ],
   "source": [
    "pd.merge(left=t1, right=t2, how='left', left_on = ['A'], right_on=['C'])"
   ]
  },
  {
   "cell_type": "code",
   "execution_count": 83,
   "metadata": {},
   "outputs": [
    {
     "data": {
      "text/html": [
       "<div>\n",
       "<style scoped>\n",
       "    .dataframe tbody tr th:only-of-type {\n",
       "        vertical-align: middle;\n",
       "    }\n",
       "\n",
       "    .dataframe tbody tr th {\n",
       "        vertical-align: top;\n",
       "    }\n",
       "\n",
       "    .dataframe thead th {\n",
       "        text-align: right;\n",
       "    }\n",
       "</style>\n",
       "<table border=\"1\" class=\"dataframe\">\n",
       "  <thead>\n",
       "    <tr style=\"text-align: right;\">\n",
       "      <th></th>\n",
       "      <th>A</th>\n",
       "      <th>B</th>\n",
       "      <th>C</th>\n",
       "      <th>D</th>\n",
       "    </tr>\n",
       "  </thead>\n",
       "  <tbody>\n",
       "    <tr>\n",
       "      <th>0</th>\n",
       "      <td>5.0</td>\n",
       "      <td>4.0</td>\n",
       "      <td>5</td>\n",
       "      <td>2</td>\n",
       "    </tr>\n",
       "    <tr>\n",
       "      <th>1</th>\n",
       "      <td>9.0</td>\n",
       "      <td>8.0</td>\n",
       "      <td>9</td>\n",
       "      <td>6</td>\n",
       "    </tr>\n",
       "    <tr>\n",
       "      <th>2</th>\n",
       "      <td>NaN</td>\n",
       "      <td>NaN</td>\n",
       "      <td>11</td>\n",
       "      <td>10</td>\n",
       "    </tr>\n",
       "    <tr>\n",
       "      <th>3</th>\n",
       "      <td>NaN</td>\n",
       "      <td>NaN</td>\n",
       "      <td>13</td>\n",
       "      <td>12</td>\n",
       "    </tr>\n",
       "  </tbody>\n",
       "</table>\n",
       "</div>"
      ],
      "text/plain": [
       "     A    B   C   D\n",
       "0  5.0  4.0   5   2\n",
       "1  9.0  8.0   9   6\n",
       "2  NaN  NaN  11  10\n",
       "3  NaN  NaN  13  12"
      ]
     },
     "execution_count": 83,
     "metadata": {},
     "output_type": "execute_result"
    }
   ],
   "source": [
    "pd.merge(left=t1, right=t2, how='right', left_on = ['A'], right_on=['C'])"
   ]
  },
  {
   "cell_type": "code",
   "execution_count": null,
   "metadata": {},
   "outputs": [],
   "source": [
    "pd.merge(left=t1, right=t2, how='inner', left_on=['A'], right_on=['C'])\n",
    "pd.merge(left=t1, right=t2, how='left', left_on=['A'], right_on=['C'])\n",
    "pd.merge(left=t1, right=t2, how='right', left_on=['A'], right_on=['C'])\n",
    "pd.merge(left=t1, right=t2, how='outer', left_on=['A'], right_on=['C'])"
   ]
  }
 ],
 "metadata": {
  "kernelspec": {
   "display_name": "Python 3",
   "language": "python",
   "name": "python3"
  },
  "language_info": {
   "codemirror_mode": {
    "name": "ipython",
    "version": 3
   },
   "file_extension": ".py",
   "mimetype": "text/x-python",
   "name": "python",
   "nbconvert_exporter": "python",
   "pygments_lexer": "ipython3",
   "version": "3.8.3"
  }
 },
 "nbformat": 4,
 "nbformat_minor": 2
}
